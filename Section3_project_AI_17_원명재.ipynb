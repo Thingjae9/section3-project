{
  "nbformat": 4,
  "nbformat_minor": 0,
  "metadata": {
    "colab": {
      "provenance": []
    },
    "kernelspec": {
      "name": "python3",
      "display_name": "Python 3"
    },
    "language_info": {
      "name": "python"
    },
    "gpuClass": "standard"
  },
  "cells": [
    {
      "cell_type": "code",
      "execution_count": 3,
      "metadata": {
        "id": "QCNjYRezONLF"
      },
      "outputs": [],
      "source": [
        "%matplotlib inline\n",
        "\n",
        "import pandas as pd\n",
        "import numpy as np\n",
        "import matplotlib.pyplot as plt\n",
        "import seaborn as sns\n",
        "\n",
        "import warnings\n",
        "warnings.filterwarnings('ignore')"
      ]
    },
    {
      "cell_type": "code",
      "source": [
        "import pickle\n",
        "import pandas as pd\n",
        "import numpy as np\n",
        "import matplotlib.pyplot as plt\n",
        "import re\n",
        "import urllib.request\n",
        "from tqdm import tqdm\n",
        "from tensorflow.keras.preprocessing.text import Tokenizer\n",
        "from tensorflow.keras.preprocessing.sequence import pad_sequences"
      ],
      "metadata": {
        "id": "s2IR7vg2UJ05"
      },
      "execution_count": 2,
      "outputs": []
    },
    {
      "cell_type": "code",
      "source": [
        "df = pd.read_excel('/content/data.xlsx')\n",
        "df.sample(20)"
      ],
      "metadata": {
        "colab": {
          "base_uri": "https://localhost:8080/",
          "height": 1000
        },
        "id": "7DOt_1CcOUis",
        "outputId": "bd5f3c5a-ff09-4eb0-aefa-b57358fb3e87"
      },
      "execution_count": 4,
      "outputs": [
        {
          "output_type": "execute_result",
          "data": {
            "text/plain": [
              "      Unnamed: 0           hotel  star  \\\n",
              "1264        1265  노보텔 앰배서더 서울 용산     5   \n",
              "1069        1070  노보텔 앰배서더 서울 용산     4   \n",
              "816          817  노보텔 앰배서더 서울 용산     5   \n",
              "285          285  노보텔 앰배서더 서울 용산     5   \n",
              "1323        1324  노보텔 앰배서더 서울 용산     5   \n",
              "990          991  노보텔 앰배서더 서울 용산     5   \n",
              "402          402  노보텔 앰배서더 서울 용산     5   \n",
              "1840        1842  노보텔 앰배서더 서울 용산     5   \n",
              "1109        1110  노보텔 앰배서더 서울 용산     5   \n",
              "1968        1970  노보텔 앰배서더 서울 용산     4   \n",
              "1127        1128  노보텔 앰배서더 서울 용산     5   \n",
              "1336        1337  노보텔 앰배서더 서울 용산     3   \n",
              "323          323  노보텔 앰배서더 서울 용산     5   \n",
              "1419        1420  노보텔 앰배서더 서울 용산     5   \n",
              "149          149  노보텔 앰배서더 서울 용산     5   \n",
              "1139        1140  노보텔 앰배서더 서울 용산     5   \n",
              "532          533  노보텔 앰배서더 서울 용산     5   \n",
              "502          503  노보텔 앰배서더 서울 용산     4   \n",
              "447          447  노보텔 앰배서더 서울 용산     5   \n",
              "1462        1463  노보텔 앰배서더 서울 용산     5   \n",
              "\n",
              "                                                 review          date  length  \n",
              "1264                   침대 컨디션이 굉장히 좋더라고요 간만에 꿀잠 자고 왔습니다  2020. 04. 27      32  \n",
              "1069                         전체적으로 만족 예약이외의 부분은 조금 비싸네요  2020. 06. 06      26  \n",
              "816               용산역에서 가까워서 좋구수영장도작지만 딱 좋았음룸컨디션도 괜찮은 편  2020. 07. 15      37  \n",
              "285                                           깨끗하고 좋았어요  2020. 10. 15       9  \n",
              "1323       저녁에 와인 바스킷이 필요해서 부탁드렸더니 얼음 넣어서 주시고 엄청 친절하셨어요  2020. 04. 14      44  \n",
              "990                                           럭셔리함 아주좋음  2020. 06. 17       9  \n",
              "402   들어가자마자 머리카락이있었지만 온수가잘나오고 편안합니다 코로나로인해 호텔말고는 이용...  2020. 09. 17     103  \n",
              "1840                                             잘쉬다갑니다  2019. 10. 29       6  \n",
              "1109                                        편안하게 잘쉬다갑니다  2020. 05. 30      11  \n",
              "1968                                                좋아요  2019. 07. 20       3  \n",
              "1127                                            모든것이 만족  2020. 05. 25       7  \n",
              "1336                                              조아요조아  2020. 04. 12       5  \n",
              "323   깨끗하고 좋았습니다 늦게 체크아웃 할수있는걸로 예약해서 서두르지않고 느긋하게 다음날...  2020. 10. 06      63  \n",
              "1419  5성급다웠어요 친절하고 깔끔하고 아쉬운걸 굳이 꼽자면 열수있는 창문이 없다는것 그래...  2020. 03. 22      65  \n",
              "149                                             너무 좋았어요  2020. 11. 13       7  \n",
              "1139                     룸 컨디션도 좋고 룸서비스 가격도 합리적이여서 좋았네요  2020. 05. 21      30  \n",
              "532   너무 좋았습니다 시셀도 깨끗하고 수영장 헬스장도 이용이 좋았습니다 그치만 수영장은 ...  2020. 08. 19      61  \n",
              "502   코로나때문에 조식뷔페를 먹을수 없어서 아쉬웠어요 5성급 치고 시설이 그닥 좋은거 같...  2020. 08. 24      51  \n",
              "447                                            깨끗하고 좋아요  2020. 09. 08       8  \n",
              "1462  작년에도 호캉스 이곳으로 갔는데 좋아서 갔어용 근데푸드익스체인지는 질적으로 떨어져서...  2020. 03. 14      56  "
            ],
            "text/html": [
              "\n",
              "  <div id=\"df-6b8aa933-8e3a-4816-b8cd-5107ad07a2f3\">\n",
              "    <div class=\"colab-df-container\">\n",
              "      <div>\n",
              "<style scoped>\n",
              "    .dataframe tbody tr th:only-of-type {\n",
              "        vertical-align: middle;\n",
              "    }\n",
              "\n",
              "    .dataframe tbody tr th {\n",
              "        vertical-align: top;\n",
              "    }\n",
              "\n",
              "    .dataframe thead th {\n",
              "        text-align: right;\n",
              "    }\n",
              "</style>\n",
              "<table border=\"1\" class=\"dataframe\">\n",
              "  <thead>\n",
              "    <tr style=\"text-align: right;\">\n",
              "      <th></th>\n",
              "      <th>Unnamed: 0</th>\n",
              "      <th>hotel</th>\n",
              "      <th>star</th>\n",
              "      <th>review</th>\n",
              "      <th>date</th>\n",
              "      <th>length</th>\n",
              "    </tr>\n",
              "  </thead>\n",
              "  <tbody>\n",
              "    <tr>\n",
              "      <th>1264</th>\n",
              "      <td>1265</td>\n",
              "      <td>노보텔 앰배서더 서울 용산</td>\n",
              "      <td>5</td>\n",
              "      <td>침대 컨디션이 굉장히 좋더라고요 간만에 꿀잠 자고 왔습니다</td>\n",
              "      <td>2020. 04. 27</td>\n",
              "      <td>32</td>\n",
              "    </tr>\n",
              "    <tr>\n",
              "      <th>1069</th>\n",
              "      <td>1070</td>\n",
              "      <td>노보텔 앰배서더 서울 용산</td>\n",
              "      <td>4</td>\n",
              "      <td>전체적으로 만족 예약이외의 부분은 조금 비싸네요</td>\n",
              "      <td>2020. 06. 06</td>\n",
              "      <td>26</td>\n",
              "    </tr>\n",
              "    <tr>\n",
              "      <th>816</th>\n",
              "      <td>817</td>\n",
              "      <td>노보텔 앰배서더 서울 용산</td>\n",
              "      <td>5</td>\n",
              "      <td>용산역에서 가까워서 좋구수영장도작지만 딱 좋았음룸컨디션도 괜찮은 편</td>\n",
              "      <td>2020. 07. 15</td>\n",
              "      <td>37</td>\n",
              "    </tr>\n",
              "    <tr>\n",
              "      <th>285</th>\n",
              "      <td>285</td>\n",
              "      <td>노보텔 앰배서더 서울 용산</td>\n",
              "      <td>5</td>\n",
              "      <td>깨끗하고 좋았어요</td>\n",
              "      <td>2020. 10. 15</td>\n",
              "      <td>9</td>\n",
              "    </tr>\n",
              "    <tr>\n",
              "      <th>1323</th>\n",
              "      <td>1324</td>\n",
              "      <td>노보텔 앰배서더 서울 용산</td>\n",
              "      <td>5</td>\n",
              "      <td>저녁에 와인 바스킷이 필요해서 부탁드렸더니 얼음 넣어서 주시고 엄청 친절하셨어요</td>\n",
              "      <td>2020. 04. 14</td>\n",
              "      <td>44</td>\n",
              "    </tr>\n",
              "    <tr>\n",
              "      <th>990</th>\n",
              "      <td>991</td>\n",
              "      <td>노보텔 앰배서더 서울 용산</td>\n",
              "      <td>5</td>\n",
              "      <td>럭셔리함 아주좋음</td>\n",
              "      <td>2020. 06. 17</td>\n",
              "      <td>9</td>\n",
              "    </tr>\n",
              "    <tr>\n",
              "      <th>402</th>\n",
              "      <td>402</td>\n",
              "      <td>노보텔 앰배서더 서울 용산</td>\n",
              "      <td>5</td>\n",
              "      <td>들어가자마자 머리카락이있었지만 온수가잘나오고 편안합니다 코로나로인해 호텔말고는 이용...</td>\n",
              "      <td>2020. 09. 17</td>\n",
              "      <td>103</td>\n",
              "    </tr>\n",
              "    <tr>\n",
              "      <th>1840</th>\n",
              "      <td>1842</td>\n",
              "      <td>노보텔 앰배서더 서울 용산</td>\n",
              "      <td>5</td>\n",
              "      <td>잘쉬다갑니다</td>\n",
              "      <td>2019. 10. 29</td>\n",
              "      <td>6</td>\n",
              "    </tr>\n",
              "    <tr>\n",
              "      <th>1109</th>\n",
              "      <td>1110</td>\n",
              "      <td>노보텔 앰배서더 서울 용산</td>\n",
              "      <td>5</td>\n",
              "      <td>편안하게 잘쉬다갑니다</td>\n",
              "      <td>2020. 05. 30</td>\n",
              "      <td>11</td>\n",
              "    </tr>\n",
              "    <tr>\n",
              "      <th>1968</th>\n",
              "      <td>1970</td>\n",
              "      <td>노보텔 앰배서더 서울 용산</td>\n",
              "      <td>4</td>\n",
              "      <td>좋아요</td>\n",
              "      <td>2019. 07. 20</td>\n",
              "      <td>3</td>\n",
              "    </tr>\n",
              "    <tr>\n",
              "      <th>1127</th>\n",
              "      <td>1128</td>\n",
              "      <td>노보텔 앰배서더 서울 용산</td>\n",
              "      <td>5</td>\n",
              "      <td>모든것이 만족</td>\n",
              "      <td>2020. 05. 25</td>\n",
              "      <td>7</td>\n",
              "    </tr>\n",
              "    <tr>\n",
              "      <th>1336</th>\n",
              "      <td>1337</td>\n",
              "      <td>노보텔 앰배서더 서울 용산</td>\n",
              "      <td>3</td>\n",
              "      <td>조아요조아</td>\n",
              "      <td>2020. 04. 12</td>\n",
              "      <td>5</td>\n",
              "    </tr>\n",
              "    <tr>\n",
              "      <th>323</th>\n",
              "      <td>323</td>\n",
              "      <td>노보텔 앰배서더 서울 용산</td>\n",
              "      <td>5</td>\n",
              "      <td>깨끗하고 좋았습니다 늦게 체크아웃 할수있는걸로 예약해서 서두르지않고 느긋하게 다음날...</td>\n",
              "      <td>2020. 10. 06</td>\n",
              "      <td>63</td>\n",
              "    </tr>\n",
              "    <tr>\n",
              "      <th>1419</th>\n",
              "      <td>1420</td>\n",
              "      <td>노보텔 앰배서더 서울 용산</td>\n",
              "      <td>5</td>\n",
              "      <td>5성급다웠어요 친절하고 깔끔하고 아쉬운걸 굳이 꼽자면 열수있는 창문이 없다는것 그래...</td>\n",
              "      <td>2020. 03. 22</td>\n",
              "      <td>65</td>\n",
              "    </tr>\n",
              "    <tr>\n",
              "      <th>149</th>\n",
              "      <td>149</td>\n",
              "      <td>노보텔 앰배서더 서울 용산</td>\n",
              "      <td>5</td>\n",
              "      <td>너무 좋았어요</td>\n",
              "      <td>2020. 11. 13</td>\n",
              "      <td>7</td>\n",
              "    </tr>\n",
              "    <tr>\n",
              "      <th>1139</th>\n",
              "      <td>1140</td>\n",
              "      <td>노보텔 앰배서더 서울 용산</td>\n",
              "      <td>5</td>\n",
              "      <td>룸 컨디션도 좋고 룸서비스 가격도 합리적이여서 좋았네요</td>\n",
              "      <td>2020. 05. 21</td>\n",
              "      <td>30</td>\n",
              "    </tr>\n",
              "    <tr>\n",
              "      <th>532</th>\n",
              "      <td>533</td>\n",
              "      <td>노보텔 앰배서더 서울 용산</td>\n",
              "      <td>5</td>\n",
              "      <td>너무 좋았습니다 시셀도 깨끗하고 수영장 헬스장도 이용이 좋았습니다 그치만 수영장은 ...</td>\n",
              "      <td>2020. 08. 19</td>\n",
              "      <td>61</td>\n",
              "    </tr>\n",
              "    <tr>\n",
              "      <th>502</th>\n",
              "      <td>503</td>\n",
              "      <td>노보텔 앰배서더 서울 용산</td>\n",
              "      <td>4</td>\n",
              "      <td>코로나때문에 조식뷔페를 먹을수 없어서 아쉬웠어요 5성급 치고 시설이 그닥 좋은거 같...</td>\n",
              "      <td>2020. 08. 24</td>\n",
              "      <td>51</td>\n",
              "    </tr>\n",
              "    <tr>\n",
              "      <th>447</th>\n",
              "      <td>447</td>\n",
              "      <td>노보텔 앰배서더 서울 용산</td>\n",
              "      <td>5</td>\n",
              "      <td>깨끗하고 좋아요</td>\n",
              "      <td>2020. 09. 08</td>\n",
              "      <td>8</td>\n",
              "    </tr>\n",
              "    <tr>\n",
              "      <th>1462</th>\n",
              "      <td>1463</td>\n",
              "      <td>노보텔 앰배서더 서울 용산</td>\n",
              "      <td>5</td>\n",
              "      <td>작년에도 호캉스 이곳으로 갔는데 좋아서 갔어용 근데푸드익스체인지는 질적으로 떨어져서...</td>\n",
              "      <td>2020. 03. 14</td>\n",
              "      <td>56</td>\n",
              "    </tr>\n",
              "  </tbody>\n",
              "</table>\n",
              "</div>\n",
              "      <button class=\"colab-df-convert\" onclick=\"convertToInteractive('df-6b8aa933-8e3a-4816-b8cd-5107ad07a2f3')\"\n",
              "              title=\"Convert this dataframe to an interactive table.\"\n",
              "              style=\"display:none;\">\n",
              "        \n",
              "  <svg xmlns=\"http://www.w3.org/2000/svg\" height=\"24px\"viewBox=\"0 0 24 24\"\n",
              "       width=\"24px\">\n",
              "    <path d=\"M0 0h24v24H0V0z\" fill=\"none\"/>\n",
              "    <path d=\"M18.56 5.44l.94 2.06.94-2.06 2.06-.94-2.06-.94-.94-2.06-.94 2.06-2.06.94zm-11 1L8.5 8.5l.94-2.06 2.06-.94-2.06-.94L8.5 2.5l-.94 2.06-2.06.94zm10 10l.94 2.06.94-2.06 2.06-.94-2.06-.94-.94-2.06-.94 2.06-2.06.94z\"/><path d=\"M17.41 7.96l-1.37-1.37c-.4-.4-.92-.59-1.43-.59-.52 0-1.04.2-1.43.59L10.3 9.45l-7.72 7.72c-.78.78-.78 2.05 0 2.83L4 21.41c.39.39.9.59 1.41.59.51 0 1.02-.2 1.41-.59l7.78-7.78 2.81-2.81c.8-.78.8-2.07 0-2.86zM5.41 20L4 18.59l7.72-7.72 1.47 1.35L5.41 20z\"/>\n",
              "  </svg>\n",
              "      </button>\n",
              "      \n",
              "  <style>\n",
              "    .colab-df-container {\n",
              "      display:flex;\n",
              "      flex-wrap:wrap;\n",
              "      gap: 12px;\n",
              "    }\n",
              "\n",
              "    .colab-df-convert {\n",
              "      background-color: #E8F0FE;\n",
              "      border: none;\n",
              "      border-radius: 50%;\n",
              "      cursor: pointer;\n",
              "      display: none;\n",
              "      fill: #1967D2;\n",
              "      height: 32px;\n",
              "      padding: 0 0 0 0;\n",
              "      width: 32px;\n",
              "    }\n",
              "\n",
              "    .colab-df-convert:hover {\n",
              "      background-color: #E2EBFA;\n",
              "      box-shadow: 0px 1px 2px rgba(60, 64, 67, 0.3), 0px 1px 3px 1px rgba(60, 64, 67, 0.15);\n",
              "      fill: #174EA6;\n",
              "    }\n",
              "\n",
              "    [theme=dark] .colab-df-convert {\n",
              "      background-color: #3B4455;\n",
              "      fill: #D2E3FC;\n",
              "    }\n",
              "\n",
              "    [theme=dark] .colab-df-convert:hover {\n",
              "      background-color: #434B5C;\n",
              "      box-shadow: 0px 1px 3px 1px rgba(0, 0, 0, 0.15);\n",
              "      filter: drop-shadow(0px 1px 2px rgba(0, 0, 0, 0.3));\n",
              "      fill: #FFFFFF;\n",
              "    }\n",
              "  </style>\n",
              "\n",
              "      <script>\n",
              "        const buttonEl =\n",
              "          document.querySelector('#df-6b8aa933-8e3a-4816-b8cd-5107ad07a2f3 button.colab-df-convert');\n",
              "        buttonEl.style.display =\n",
              "          google.colab.kernel.accessAllowed ? 'block' : 'none';\n",
              "\n",
              "        async function convertToInteractive(key) {\n",
              "          const element = document.querySelector('#df-6b8aa933-8e3a-4816-b8cd-5107ad07a2f3');\n",
              "          const dataTable =\n",
              "            await google.colab.kernel.invokeFunction('convertToInteractive',\n",
              "                                                     [key], {});\n",
              "          if (!dataTable) return;\n",
              "\n",
              "          const docLinkHtml = 'Like what you see? Visit the ' +\n",
              "            '<a target=\"_blank\" href=https://colab.research.google.com/notebooks/data_table.ipynb>data table notebook</a>'\n",
              "            + ' to learn more about interactive tables.';\n",
              "          element.innerHTML = '';\n",
              "          dataTable['output_type'] = 'display_data';\n",
              "          await google.colab.output.renderOutput(dataTable, element);\n",
              "          const docLink = document.createElement('div');\n",
              "          docLink.innerHTML = docLinkHtml;\n",
              "          element.appendChild(docLink);\n",
              "        }\n",
              "      </script>\n",
              "    </div>\n",
              "  </div>\n",
              "  "
            ]
          },
          "metadata": {},
          "execution_count": 4
        }
      ]
    },
    {
      "cell_type": "code",
      "source": [
        "df.info()"
      ],
      "metadata": {
        "colab": {
          "base_uri": "https://localhost:8080/"
        },
        "id": "4XUY1-SumTyn",
        "outputId": "f1426c18-d146-43cb-a8b0-e96a20b08ea4"
      },
      "execution_count": 5,
      "outputs": [
        {
          "output_type": "stream",
          "name": "stdout",
          "text": [
            "<class 'pandas.core.frame.DataFrame'>\n",
            "RangeIndex: 2240 entries, 0 to 2239\n",
            "Data columns (total 6 columns):\n",
            " #   Column      Non-Null Count  Dtype \n",
            "---  ------      --------------  ----- \n",
            " 0   Unnamed: 0  2240 non-null   int64 \n",
            " 1   hotel       2240 non-null   object\n",
            " 2   star        2240 non-null   int64 \n",
            " 3   review      2214 non-null   object\n",
            " 4   date        2240 non-null   object\n",
            " 5   length      2240 non-null   int64 \n",
            "dtypes: int64(3), object(3)\n",
            "memory usage: 105.1+ KB\n"
          ]
        }
      ]
    },
    {
      "cell_type": "code",
      "source": [
        "df.drop(['Unnamed: 0','date','hotel'], axis=1, inplace =True)"
      ],
      "metadata": {
        "id": "2vgMjaEgRtJO"
      },
      "execution_count": 6,
      "outputs": []
    },
    {
      "cell_type": "code",
      "source": [
        "df.head()"
      ],
      "metadata": {
        "colab": {
          "base_uri": "https://localhost:8080/",
          "height": 206
        },
        "id": "roF01Jd5R2Y2",
        "outputId": "633a2645-4518-4211-e0e3-6ee10667560d"
      },
      "execution_count": 7,
      "outputs": [
        {
          "output_type": "execute_result",
          "data": {
            "text/plain": [
              "   star                 review  length\n",
              "0     5  역시 시설도 깨끗하고 좋았어요친절했구요      21\n",
              "1     4                 되게좋앗어요       6\n",
              "2     5      방도 깨끗하고 위치도 좋았습니다      17\n",
              "3     4       가성비도 좋고 분위기가 좋아요      16\n",
              "4     3                  안녕하세요       5"
            ],
            "text/html": [
              "\n",
              "  <div id=\"df-ed1993c3-6d46-4303-84c4-ee6a0af950fb\">\n",
              "    <div class=\"colab-df-container\">\n",
              "      <div>\n",
              "<style scoped>\n",
              "    .dataframe tbody tr th:only-of-type {\n",
              "        vertical-align: middle;\n",
              "    }\n",
              "\n",
              "    .dataframe tbody tr th {\n",
              "        vertical-align: top;\n",
              "    }\n",
              "\n",
              "    .dataframe thead th {\n",
              "        text-align: right;\n",
              "    }\n",
              "</style>\n",
              "<table border=\"1\" class=\"dataframe\">\n",
              "  <thead>\n",
              "    <tr style=\"text-align: right;\">\n",
              "      <th></th>\n",
              "      <th>star</th>\n",
              "      <th>review</th>\n",
              "      <th>length</th>\n",
              "    </tr>\n",
              "  </thead>\n",
              "  <tbody>\n",
              "    <tr>\n",
              "      <th>0</th>\n",
              "      <td>5</td>\n",
              "      <td>역시 시설도 깨끗하고 좋았어요친절했구요</td>\n",
              "      <td>21</td>\n",
              "    </tr>\n",
              "    <tr>\n",
              "      <th>1</th>\n",
              "      <td>4</td>\n",
              "      <td>되게좋앗어요</td>\n",
              "      <td>6</td>\n",
              "    </tr>\n",
              "    <tr>\n",
              "      <th>2</th>\n",
              "      <td>5</td>\n",
              "      <td>방도 깨끗하고 위치도 좋았습니다</td>\n",
              "      <td>17</td>\n",
              "    </tr>\n",
              "    <tr>\n",
              "      <th>3</th>\n",
              "      <td>4</td>\n",
              "      <td>가성비도 좋고 분위기가 좋아요</td>\n",
              "      <td>16</td>\n",
              "    </tr>\n",
              "    <tr>\n",
              "      <th>4</th>\n",
              "      <td>3</td>\n",
              "      <td>안녕하세요</td>\n",
              "      <td>5</td>\n",
              "    </tr>\n",
              "  </tbody>\n",
              "</table>\n",
              "</div>\n",
              "      <button class=\"colab-df-convert\" onclick=\"convertToInteractive('df-ed1993c3-6d46-4303-84c4-ee6a0af950fb')\"\n",
              "              title=\"Convert this dataframe to an interactive table.\"\n",
              "              style=\"display:none;\">\n",
              "        \n",
              "  <svg xmlns=\"http://www.w3.org/2000/svg\" height=\"24px\"viewBox=\"0 0 24 24\"\n",
              "       width=\"24px\">\n",
              "    <path d=\"M0 0h24v24H0V0z\" fill=\"none\"/>\n",
              "    <path d=\"M18.56 5.44l.94 2.06.94-2.06 2.06-.94-2.06-.94-.94-2.06-.94 2.06-2.06.94zm-11 1L8.5 8.5l.94-2.06 2.06-.94-2.06-.94L8.5 2.5l-.94 2.06-2.06.94zm10 10l.94 2.06.94-2.06 2.06-.94-2.06-.94-.94-2.06-.94 2.06-2.06.94z\"/><path d=\"M17.41 7.96l-1.37-1.37c-.4-.4-.92-.59-1.43-.59-.52 0-1.04.2-1.43.59L10.3 9.45l-7.72 7.72c-.78.78-.78 2.05 0 2.83L4 21.41c.39.39.9.59 1.41.59.51 0 1.02-.2 1.41-.59l7.78-7.78 2.81-2.81c.8-.78.8-2.07 0-2.86zM5.41 20L4 18.59l7.72-7.72 1.47 1.35L5.41 20z\"/>\n",
              "  </svg>\n",
              "      </button>\n",
              "      \n",
              "  <style>\n",
              "    .colab-df-container {\n",
              "      display:flex;\n",
              "      flex-wrap:wrap;\n",
              "      gap: 12px;\n",
              "    }\n",
              "\n",
              "    .colab-df-convert {\n",
              "      background-color: #E8F0FE;\n",
              "      border: none;\n",
              "      border-radius: 50%;\n",
              "      cursor: pointer;\n",
              "      display: none;\n",
              "      fill: #1967D2;\n",
              "      height: 32px;\n",
              "      padding: 0 0 0 0;\n",
              "      width: 32px;\n",
              "    }\n",
              "\n",
              "    .colab-df-convert:hover {\n",
              "      background-color: #E2EBFA;\n",
              "      box-shadow: 0px 1px 2px rgba(60, 64, 67, 0.3), 0px 1px 3px 1px rgba(60, 64, 67, 0.15);\n",
              "      fill: #174EA6;\n",
              "    }\n",
              "\n",
              "    [theme=dark] .colab-df-convert {\n",
              "      background-color: #3B4455;\n",
              "      fill: #D2E3FC;\n",
              "    }\n",
              "\n",
              "    [theme=dark] .colab-df-convert:hover {\n",
              "      background-color: #434B5C;\n",
              "      box-shadow: 0px 1px 3px 1px rgba(0, 0, 0, 0.15);\n",
              "      filter: drop-shadow(0px 1px 2px rgba(0, 0, 0, 0.3));\n",
              "      fill: #FFFFFF;\n",
              "    }\n",
              "  </style>\n",
              "\n",
              "      <script>\n",
              "        const buttonEl =\n",
              "          document.querySelector('#df-ed1993c3-6d46-4303-84c4-ee6a0af950fb button.colab-df-convert');\n",
              "        buttonEl.style.display =\n",
              "          google.colab.kernel.accessAllowed ? 'block' : 'none';\n",
              "\n",
              "        async function convertToInteractive(key) {\n",
              "          const element = document.querySelector('#df-ed1993c3-6d46-4303-84c4-ee6a0af950fb');\n",
              "          const dataTable =\n",
              "            await google.colab.kernel.invokeFunction('convertToInteractive',\n",
              "                                                     [key], {});\n",
              "          if (!dataTable) return;\n",
              "\n",
              "          const docLinkHtml = 'Like what you see? Visit the ' +\n",
              "            '<a target=\"_blank\" href=https://colab.research.google.com/notebooks/data_table.ipynb>data table notebook</a>'\n",
              "            + ' to learn more about interactive tables.';\n",
              "          element.innerHTML = '';\n",
              "          dataTable['output_type'] = 'display_data';\n",
              "          await google.colab.output.renderOutput(dataTable, element);\n",
              "          const docLink = document.createElement('div');\n",
              "          docLink.innerHTML = docLinkHtml;\n",
              "          element.appendChild(docLink);\n",
              "        }\n",
              "      </script>\n",
              "    </div>\n",
              "  </div>\n",
              "  "
            ]
          },
          "metadata": {},
          "execution_count": 7
        }
      ]
    },
    {
      "cell_type": "code",
      "source": [
        "plt.title('STAR')\n",
        "df['star'].hist()"
      ],
      "metadata": {
        "colab": {
          "base_uri": "https://localhost:8080/",
          "height": 299
        },
        "id": "7UADZmL9R4mB",
        "outputId": "8a7fa74e-b99d-4631-9953-373199758e84"
      },
      "execution_count": 8,
      "outputs": [
        {
          "output_type": "execute_result",
          "data": {
            "text/plain": [
              "<AxesSubplot:title={'center':'STAR'}>"
            ]
          },
          "metadata": {},
          "execution_count": 8
        },
        {
          "output_type": "display_data",
          "data": {
            "text/plain": [
              "<Figure size 432x288 with 1 Axes>"
            ],
            "image/png": "[encoded data removed]"
          },
          "metadata": {
            "needs_background": "light"
          }
        }
      ]
    },
    {
      "cell_type": "code",
      "source": [
        "plt.hist(df['star'],bins = 5)\n",
        "plt.show()"
      ],
      "metadata": {
        "colab": {
          "base_uri": "https://localhost:8080/",
          "height": 265
        },
        "id": "PlJQlTY3otUY",
        "outputId": "b26b89e5-9715-46f4-cca2-dfd18ddce9eb"
      },
      "execution_count": 9,
      "outputs": [
        {
          "output_type": "display_data",
          "data": {
            "text/plain": [
              "<Figure size 432x288 with 1 Axes>"
            ],
            "image/png": "[encoded data removed]"
          },
          "metadata": {
            "needs_background": "light"
          }
        }
      ]
    },
    {
      "cell_type": "code",
      "source": [
        "def rating_to_label(rating):\n",
        "    if rating > 4:\n",
        "        return 1\n",
        "    else:\n",
        "        return 0\n",
        "    \n",
        "df['label'] = df['star'].apply(lambda x: rating_to_label(x))"
      ],
      "metadata": {
        "id": "Zh7cb4jJS_Zx"
      },
      "execution_count": 10,
      "outputs": []
    },
    {
      "cell_type": "code",
      "source": [
        "df.head()"
      ],
      "metadata": {
        "colab": {
          "base_uri": "https://localhost:8080/",
          "height": 206
        },
        "id": "Ej6G6vm2THk7",
        "outputId": "b76389ef-3e89-45af-9181-d943cfadeb0f"
      },
      "execution_count": 11,
      "outputs": [
        {
          "output_type": "execute_result",
          "data": {
            "text/plain": [
              "   star                 review  length  label\n",
              "0     5  역시 시설도 깨끗하고 좋았어요친절했구요      21      1\n",
              "1     4                 되게좋앗어요       6      0\n",
              "2     5      방도 깨끗하고 위치도 좋았습니다      17      1\n",
              "3     4       가성비도 좋고 분위기가 좋아요      16      0\n",
              "4     3                  안녕하세요       5      0"
            ],
            "text/html": [
              "\n",
              "  <div id=\"df-c1618b9b-ca2e-4063-9647-77c4ba03eea0\">\n",
              "    <div class=\"colab-df-container\">\n",
              "      <div>\n",
              "<style scoped>\n",
              "    .dataframe tbody tr th:only-of-type {\n",
              "        vertical-align: middle;\n",
              "    }\n",
              "\n",
              "    .dataframe tbody tr th {\n",
              "        vertical-align: top;\n",
              "    }\n",
              "\n",
              "    .dataframe thead th {\n",
              "        text-align: right;\n",
              "    }\n",
              "</style>\n",
              "<table border=\"1\" class=\"dataframe\">\n",
              "  <thead>\n",
              "    <tr style=\"text-align: right;\">\n",
              "      <th></th>\n",
              "      <th>star</th>\n",
              "      <th>review</th>\n",
              "      <th>length</th>\n",
              "      <th>label</th>\n",
              "    </tr>\n",
              "  </thead>\n",
              "  <tbody>\n",
              "    <tr>\n",
              "      <th>0</th>\n",
              "      <td>5</td>\n",
              "      <td>역시 시설도 깨끗하고 좋았어요친절했구요</td>\n",
              "      <td>21</td>\n",
              "      <td>1</td>\n",
              "    </tr>\n",
              "    <tr>\n",
              "      <th>1</th>\n",
              "      <td>4</td>\n",
              "      <td>되게좋앗어요</td>\n",
              "      <td>6</td>\n",
              "      <td>0</td>\n",
              "    </tr>\n",
              "    <tr>\n",
              "      <th>2</th>\n",
              "      <td>5</td>\n",
              "      <td>방도 깨끗하고 위치도 좋았습니다</td>\n",
              "      <td>17</td>\n",
              "      <td>1</td>\n",
              "    </tr>\n",
              "    <tr>\n",
              "      <th>3</th>\n",
              "      <td>4</td>\n",
              "      <td>가성비도 좋고 분위기가 좋아요</td>\n",
              "      <td>16</td>\n",
              "      <td>0</td>\n",
              "    </tr>\n",
              "    <tr>\n",
              "      <th>4</th>\n",
              "      <td>3</td>\n",
              "      <td>안녕하세요</td>\n",
              "      <td>5</td>\n",
              "      <td>0</td>\n",
              "    </tr>\n",
              "  </tbody>\n",
              "</table>\n",
              "</div>\n",
              "      <button class=\"colab-df-convert\" onclick=\"convertToInteractive('df-c1618b9b-ca2e-4063-9647-77c4ba03eea0')\"\n",
              "              title=\"Convert this dataframe to an interactive table.\"\n",
              "              style=\"display:none;\">\n",
              "        \n",
              "  <svg xmlns=\"http://www.w3.org/2000/svg\" height=\"24px\"viewBox=\"0 0 24 24\"\n",
              "       width=\"24px\">\n",
              "    <path d=\"M0 0h24v24H0V0z\" fill=\"none\"/>\n",
              "    <path d=\"M18.56 5.44l.94 2.06.94-2.06 2.06-.94-2.06-.94-.94-2.06-.94 2.06-2.06.94zm-11 1L8.5 8.5l.94-2.06 2.06-.94-2.06-.94L8.5 2.5l-.94 2.06-2.06.94zm10 10l.94 2.06.94-2.06 2.06-.94-2.06-.94-.94-2.06-.94 2.06-2.06.94z\"/><path d=\"M17.41 7.96l-1.37-1.37c-.4-.4-.92-.59-1.43-.59-.52 0-1.04.2-1.43.59L10.3 9.45l-7.72 7.72c-.78.78-.78 2.05 0 2.83L4 21.41c.39.39.9.59 1.41.59.51 0 1.02-.2 1.41-.59l7.78-7.78 2.81-2.81c.8-.78.8-2.07 0-2.86zM5.41 20L4 18.59l7.72-7.72 1.47 1.35L5.41 20z\"/>\n",
              "  </svg>\n",
              "      </button>\n",
              "      \n",
              "  <style>\n",
              "    .colab-df-container {\n",
              "      display:flex;\n",
              "      flex-wrap:wrap;\n",
              "      gap: 12px;\n",
              "    }\n",
              "\n",
              "    .colab-df-convert {\n",
              "      background-color: #E8F0FE;\n",
              "      border: none;\n",
              "      border-radius: 50%;\n",
              "      cursor: pointer;\n",
              "      display: none;\n",
              "      fill: #1967D2;\n",
              "      height: 32px;\n",
              "      padding: 0 0 0 0;\n",
              "      width: 32px;\n",
              "    }\n",
              "\n",
              "    .colab-df-convert:hover {\n",
              "      background-color: #E2EBFA;\n",
              "      box-shadow: 0px 1px 2px rgba(60, 64, 67, 0.3), 0px 1px 3px 1px rgba(60, 64, 67, 0.15);\n",
              "      fill: #174EA6;\n",
              "    }\n",
              "\n",
              "    [theme=dark] .colab-df-convert {\n",
              "      background-color: #3B4455;\n",
              "      fill: #D2E3FC;\n",
              "    }\n",
              "\n",
              "    [theme=dark] .colab-df-convert:hover {\n",
              "      background-color: #434B5C;\n",
              "      box-shadow: 0px 1px 3px 1px rgba(0, 0, 0, 0.15);\n",
              "      filter: drop-shadow(0px 1px 2px rgba(0, 0, 0, 0.3));\n",
              "      fill: #FFFFFF;\n",
              "    }\n",
              "  </style>\n",
              "\n",
              "      <script>\n",
              "        const buttonEl =\n",
              "          document.querySelector('#df-c1618b9b-ca2e-4063-9647-77c4ba03eea0 button.colab-df-convert');\n",
              "        buttonEl.style.display =\n",
              "          google.colab.kernel.accessAllowed ? 'block' : 'none';\n",
              "\n",
              "        async function convertToInteractive(key) {\n",
              "          const element = document.querySelector('#df-c1618b9b-ca2e-4063-9647-77c4ba03eea0');\n",
              "          const dataTable =\n",
              "            await google.colab.kernel.invokeFunction('convertToInteractive',\n",
              "                                                     [key], {});\n",
              "          if (!dataTable) return;\n",
              "\n",
              "          const docLinkHtml = 'Like what you see? Visit the ' +\n",
              "            '<a target=\"_blank\" href=https://colab.research.google.com/notebooks/data_table.ipynb>data table notebook</a>'\n",
              "            + ' to learn more about interactive tables.';\n",
              "          element.innerHTML = '';\n",
              "          dataTable['output_type'] = 'display_data';\n",
              "          await google.colab.output.renderOutput(dataTable, element);\n",
              "          const docLink = document.createElement('div');\n",
              "          docLink.innerHTML = docLinkHtml;\n",
              "          element.appendChild(docLink);\n",
              "        }\n",
              "      </script>\n",
              "    </div>\n",
              "  </div>\n",
              "  "
            ]
          },
          "metadata": {},
          "execution_count": 11
        }
      ]
    },
    {
      "cell_type": "code",
      "source": [
        "def cleanText(readData):\n",
        "    text = re.sub('[-=+,#/\\?:;^$.@*\\\"※~&%ㆍ!』\\\\‘|\\(\\)\\[\\]\\<\\>`\\'…》❤]', '', readData)\n",
        "    return text\n",
        "\n",
        "def cleanText2(readData):\n",
        "    text = re.sub('[ㄱㄴㄷㄹㅁㅂㅅㅇㅈㅊㅋㅌㅍㅎㅃㅉㄸㄲㅆㅛㅕㅑㅐㅔㅗㅓㅏㅣㅜㅠㅡ]', '', readData)\n",
        "    return text"
      ],
      "metadata": {
        "id": "kCNi0acgTM7b"
      },
      "execution_count": 12,
      "outputs": []
    },
    {
      "cell_type": "code",
      "source": [
        "df.info()"
      ],
      "metadata": {
        "colab": {
          "base_uri": "https://localhost:8080/"
        },
        "id": "t164zDuZUlhg",
        "outputId": "7f2c2f5b-d093-4d53-f4de-dbf88f5aa232"
      },
      "execution_count": 13,
      "outputs": [
        {
          "output_type": "stream",
          "name": "stdout",
          "text": [
            "<class 'pandas.core.frame.DataFrame'>\n",
            "RangeIndex: 2240 entries, 0 to 2239\n",
            "Data columns (total 4 columns):\n",
            " #   Column  Non-Null Count  Dtype \n",
            "---  ------  --------------  ----- \n",
            " 0   star    2240 non-null   int64 \n",
            " 1   review  2214 non-null   object\n",
            " 2   length  2240 non-null   int64 \n",
            " 3   label   2240 non-null   int64 \n",
            "dtypes: int64(3), object(1)\n",
            "memory usage: 70.1+ KB\n"
          ]
        }
      ]
    },
    {
      "cell_type": "code",
      "source": [
        "df['review']=df['review'].astype('str')\n",
        "df['review'] = df['review'].apply(lambda x: x.replace('\\n',''))\n",
        "df['review'] = df['review'].apply(cleanText)\n",
        "df['review'] = df['review'].apply(cleanText2)\n",
        "df['review'] = df['review'].str.replace(\"[^ㄱ-ㅎㅏ-ㅣ가-힣 ]\",\"\")\n",
        "df['review'] = df['review'].str.replace('^ +', \"\")\n",
        "df['review'].replace('', np.nan, inplace=True)\n",
        "df = df.dropna(how = 'any')\n",
        "df['length'] = df['review'].apply(lambda x: len(x))"
      ],
      "metadata": {
        "id": "5E1EjJ2-UQGA"
      },
      "execution_count": 14,
      "outputs": []
    },
    {
      "cell_type": "code",
      "source": [
        "df2 = df.loc[0:1, :]"
      ],
      "metadata": {
        "id": "zmHOUv6Nrv_O"
      },
      "execution_count": 15,
      "outputs": []
    },
    {
      "cell_type": "code",
      "source": [
        "df2['review'] = ['어떡해하는건지 모르겠네진짜로 a....머리아파','리뷰데이터를 정제하는건! 어렵다']"
      ],
      "metadata": {
        "id": "ChICaMYZsGNj"
      },
      "execution_count": 16,
      "outputs": []
    },
    {
      "cell_type": "code",
      "source": [
        "df2"
      ],
      "metadata": {
        "colab": {
          "base_uri": "https://localhost:8080/",
          "height": 112
        },
        "id": "8e0_-SHKsdZr",
        "outputId": "209dd387-6080-4664-9e60-09ed7cd4be08"
      },
      "execution_count": 17,
      "outputs": [
        {
          "output_type": "execute_result",
          "data": {
            "text/plain": [
              "   star                     review  length  label\n",
              "0     5  어떡해하는건지 모르겠네진짜로 a....머리아파      21      1\n",
              "1     4          리뷰데이터를 정제하는건! 어렵다       6      0"
            ],
            "text/html": [
              "\n",
              "  <div id=\"df-feff3d22-4950-49da-b487-fb5e1bcb1b4f\">\n",
              "    <div class=\"colab-df-container\">\n",
              "      <div>\n",
              "<style scoped>\n",
              "    .dataframe tbody tr th:only-of-type {\n",
              "        vertical-align: middle;\n",
              "    }\n",
              "\n",
              "    .dataframe tbody tr th {\n",
              "        vertical-align: top;\n",
              "    }\n",
              "\n",
              "    .dataframe thead th {\n",
              "        text-align: right;\n",
              "    }\n",
              "</style>\n",
              "<table border=\"1\" class=\"dataframe\">\n",
              "  <thead>\n",
              "    <tr style=\"text-align: right;\">\n",
              "      <th></th>\n",
              "      <th>star</th>\n",
              "      <th>review</th>\n",
              "      <th>length</th>\n",
              "      <th>label</th>\n",
              "    </tr>\n",
              "  </thead>\n",
              "  <tbody>\n",
              "    <tr>\n",
              "      <th>0</th>\n",
              "      <td>5</td>\n",
              "      <td>어떡해하는건지 모르겠네진짜로 a....머리아파</td>\n",
              "      <td>21</td>\n",
              "      <td>1</td>\n",
              "    </tr>\n",
              "    <tr>\n",
              "      <th>1</th>\n",
              "      <td>4</td>\n",
              "      <td>리뷰데이터를 정제하는건! 어렵다</td>\n",
              "      <td>6</td>\n",
              "      <td>0</td>\n",
              "    </tr>\n",
              "  </tbody>\n",
              "</table>\n",
              "</div>\n",
              "      <button class=\"colab-df-convert\" onclick=\"convertToInteractive('df-feff3d22-4950-49da-b487-fb5e1bcb1b4f')\"\n",
              "              title=\"Convert this dataframe to an interactive table.\"\n",
              "              style=\"display:none;\">\n",
              "        \n",
              "  <svg xmlns=\"http://www.w3.org/2000/svg\" height=\"24px\"viewBox=\"0 0 24 24\"\n",
              "       width=\"24px\">\n",
              "    <path d=\"M0 0h24v24H0V0z\" fill=\"none\"/>\n",
              "    <path d=\"M18.56 5.44l.94 2.06.94-2.06 2.06-.94-2.06-.94-.94-2.06-.94 2.06-2.06.94zm-11 1L8.5 8.5l.94-2.06 2.06-.94-2.06-.94L8.5 2.5l-.94 2.06-2.06.94zm10 10l.94 2.06.94-2.06 2.06-.94-2.06-.94-.94-2.06-.94 2.06-2.06.94z\"/><path d=\"M17.41 7.96l-1.37-1.37c-.4-.4-.92-.59-1.43-.59-.52 0-1.04.2-1.43.59L10.3 9.45l-7.72 7.72c-.78.78-.78 2.05 0 2.83L4 21.41c.39.39.9.59 1.41.59.51 0 1.02-.2 1.41-.59l7.78-7.78 2.81-2.81c.8-.78.8-2.07 0-2.86zM5.41 20L4 18.59l7.72-7.72 1.47 1.35L5.41 20z\"/>\n",
              "  </svg>\n",
              "      </button>\n",
              "      \n",
              "  <style>\n",
              "    .colab-df-container {\n",
              "      display:flex;\n",
              "      flex-wrap:wrap;\n",
              "      gap: 12px;\n",
              "    }\n",
              "\n",
              "    .colab-df-convert {\n",
              "      background-color: #E8F0FE;\n",
              "      border: none;\n",
              "      border-radius: 50%;\n",
              "      cursor: pointer;\n",
              "      display: none;\n",
              "      fill: #1967D2;\n",
              "      height: 32px;\n",
              "      padding: 0 0 0 0;\n",
              "      width: 32px;\n",
              "    }\n",
              "\n",
              "    .colab-df-convert:hover {\n",
              "      background-color: #E2EBFA;\n",
              "      box-shadow: 0px 1px 2px rgba(60, 64, 67, 0.3), 0px 1px 3px 1px rgba(60, 64, 67, 0.15);\n",
              "      fill: #174EA6;\n",
              "    }\n",
              "\n",
              "    [theme=dark] .colab-df-convert {\n",
              "      background-color: #3B4455;\n",
              "      fill: #D2E3FC;\n",
              "    }\n",
              "\n",
              "    [theme=dark] .colab-df-convert:hover {\n",
              "      background-color: #434B5C;\n",
              "      box-shadow: 0px 1px 3px 1px rgba(0, 0, 0, 0.15);\n",
              "      filter: drop-shadow(0px 1px 2px rgba(0, 0, 0, 0.3));\n",
              "      fill: #FFFFFF;\n",
              "    }\n",
              "  </style>\n",
              "\n",
              "      <script>\n",
              "        const buttonEl =\n",
              "          document.querySelector('#df-feff3d22-4950-49da-b487-fb5e1bcb1b4f button.colab-df-convert');\n",
              "        buttonEl.style.display =\n",
              "          google.colab.kernel.accessAllowed ? 'block' : 'none';\n",
              "\n",
              "        async function convertToInteractive(key) {\n",
              "          const element = document.querySelector('#df-feff3d22-4950-49da-b487-fb5e1bcb1b4f');\n",
              "          const dataTable =\n",
              "            await google.colab.kernel.invokeFunction('convertToInteractive',\n",
              "                                                     [key], {});\n",
              "          if (!dataTable) return;\n",
              "\n",
              "          const docLinkHtml = 'Like what you see? Visit the ' +\n",
              "            '<a target=\"_blank\" href=https://colab.research.google.com/notebooks/data_table.ipynb>data table notebook</a>'\n",
              "            + ' to learn more about interactive tables.';\n",
              "          element.innerHTML = '';\n",
              "          dataTable['output_type'] = 'display_data';\n",
              "          await google.colab.output.renderOutput(dataTable, element);\n",
              "          const docLink = document.createElement('div');\n",
              "          docLink.innerHTML = docLinkHtml;\n",
              "          element.appendChild(docLink);\n",
              "        }\n",
              "      </script>\n",
              "    </div>\n",
              "  </div>\n",
              "  "
            ]
          },
          "metadata": {},
          "execution_count": 17
        }
      ]
    },
    {
      "cell_type": "code",
      "source": [
        "df2['review']=df2['review'].astype('str')\n",
        "df2['review'] = df2['review'].apply(lambda x: x.replace('\\n',''))\n",
        "df2['review'] = df2['review'].apply(cleanText)\n",
        "df2['review'] = df2['review'].apply(cleanText2)\n",
        "df2['review'] = df2['review'].str.replace(\"[^ㄱ-ㅎㅏ-ㅣ가-힣 ]\",\"\")\n",
        "df2['review'] = df2['review'].str.replace('^ +', \"\")\n",
        "df2['review'].replace('', np.nan, inplace=True)\n",
        "df2 = df2.dropna(how = 'any')\n",
        "df2['length'] = df2['review'].apply(lambda x: len(x))"
      ],
      "metadata": {
        "id": "rlVVEoYLs3Wi"
      },
      "execution_count": 18,
      "outputs": []
    },
    {
      "cell_type": "code",
      "source": [
        "df2"
      ],
      "metadata": {
        "colab": {
          "base_uri": "https://localhost:8080/",
          "height": 112
        },
        "id": "Hk5qjYmbs56m",
        "outputId": "65ab68dd-fc2b-4148-e661-bc57501cec46"
      },
      "execution_count": 19,
      "outputs": [
        {
          "output_type": "execute_result",
          "data": {
            "text/plain": [
              "   star                review  length  label\n",
              "0     5  어떡해하는건지 모르겠네진짜로 머리아파      20      1\n",
              "1     4      리뷰데이터를 정제하는건 어렵다      16      0"
            ],
            "text/html": [
              "\n",
              "  <div id=\"df-39821728-bd24-4538-9dff-05a34c380dca\">\n",
              "    <div class=\"colab-df-container\">\n",
              "      <div>\n",
              "<style scoped>\n",
              "    .dataframe tbody tr th:only-of-type {\n",
              "        vertical-align: middle;\n",
              "    }\n",
              "\n",
              "    .dataframe tbody tr th {\n",
              "        vertical-align: top;\n",
              "    }\n",
              "\n",
              "    .dataframe thead th {\n",
              "        text-align: right;\n",
              "    }\n",
              "</style>\n",
              "<table border=\"1\" class=\"dataframe\">\n",
              "  <thead>\n",
              "    <tr style=\"text-align: right;\">\n",
              "      <th></th>\n",
              "      <th>star</th>\n",
              "      <th>review</th>\n",
              "      <th>length</th>\n",
              "      <th>label</th>\n",
              "    </tr>\n",
              "  </thead>\n",
              "  <tbody>\n",
              "    <tr>\n",
              "      <th>0</th>\n",
              "      <td>5</td>\n",
              "      <td>어떡해하는건지 모르겠네진짜로 머리아파</td>\n",
              "      <td>20</td>\n",
              "      <td>1</td>\n",
              "    </tr>\n",
              "    <tr>\n",
              "      <th>1</th>\n",
              "      <td>4</td>\n",
              "      <td>리뷰데이터를 정제하는건 어렵다</td>\n",
              "      <td>16</td>\n",
              "      <td>0</td>\n",
              "    </tr>\n",
              "  </tbody>\n",
              "</table>\n",
              "</div>\n",
              "      <button class=\"colab-df-convert\" onclick=\"convertToInteractive('df-39821728-bd24-4538-9dff-05a34c380dca')\"\n",
              "              title=\"Convert this dataframe to an interactive table.\"\n",
              "              style=\"display:none;\">\n",
              "        \n",
              "  <svg xmlns=\"http://www.w3.org/2000/svg\" height=\"24px\"viewBox=\"0 0 24 24\"\n",
              "       width=\"24px\">\n",
              "    <path d=\"M0 0h24v24H0V0z\" fill=\"none\"/>\n",
              "    <path d=\"M18.56 5.44l.94 2.06.94-2.06 2.06-.94-2.06-.94-.94-2.06-.94 2.06-2.06.94zm-11 1L8.5 8.5l.94-2.06 2.06-.94-2.06-.94L8.5 2.5l-.94 2.06-2.06.94zm10 10l.94 2.06.94-2.06 2.06-.94-2.06-.94-.94-2.06-.94 2.06-2.06.94z\"/><path d=\"M17.41 7.96l-1.37-1.37c-.4-.4-.92-.59-1.43-.59-.52 0-1.04.2-1.43.59L10.3 9.45l-7.72 7.72c-.78.78-.78 2.05 0 2.83L4 21.41c.39.39.9.59 1.41.59.51 0 1.02-.2 1.41-.59l7.78-7.78 2.81-2.81c.8-.78.8-2.07 0-2.86zM5.41 20L4 18.59l7.72-7.72 1.47 1.35L5.41 20z\"/>\n",
              "  </svg>\n",
              "      </button>\n",
              "      \n",
              "  <style>\n",
              "    .colab-df-container {\n",
              "      display:flex;\n",
              "      flex-wrap:wrap;\n",
              "      gap: 12px;\n",
              "    }\n",
              "\n",
              "    .colab-df-convert {\n",
              "      background-color: #E8F0FE;\n",
              "      border: none;\n",
              "      border-radius: 50%;\n",
              "      cursor: pointer;\n",
              "      display: none;\n",
              "      fill: #1967D2;\n",
              "      height: 32px;\n",
              "      padding: 0 0 0 0;\n",
              "      width: 32px;\n",
              "    }\n",
              "\n",
              "    .colab-df-convert:hover {\n",
              "      background-color: #E2EBFA;\n",
              "      box-shadow: 0px 1px 2px rgba(60, 64, 67, 0.3), 0px 1px 3px 1px rgba(60, 64, 67, 0.15);\n",
              "      fill: #174EA6;\n",
              "    }\n",
              "\n",
              "    [theme=dark] .colab-df-convert {\n",
              "      background-color: #3B4455;\n",
              "      fill: #D2E3FC;\n",
              "    }\n",
              "\n",
              "    [theme=dark] .colab-df-convert:hover {\n",
              "      background-color: #434B5C;\n",
              "      box-shadow: 0px 1px 3px 1px rgba(0, 0, 0, 0.15);\n",
              "      filter: drop-shadow(0px 1px 2px rgba(0, 0, 0, 0.3));\n",
              "      fill: #FFFFFF;\n",
              "    }\n",
              "  </style>\n",
              "\n",
              "      <script>\n",
              "        const buttonEl =\n",
              "          document.querySelector('#df-39821728-bd24-4538-9dff-05a34c380dca button.colab-df-convert');\n",
              "        buttonEl.style.display =\n",
              "          google.colab.kernel.accessAllowed ? 'block' : 'none';\n",
              "\n",
              "        async function convertToInteractive(key) {\n",
              "          const element = document.querySelector('#df-39821728-bd24-4538-9dff-05a34c380dca');\n",
              "          const dataTable =\n",
              "            await google.colab.kernel.invokeFunction('convertToInteractive',\n",
              "                                                     [key], {});\n",
              "          if (!dataTable) return;\n",
              "\n",
              "          const docLinkHtml = 'Like what you see? Visit the ' +\n",
              "            '<a target=\"_blank\" href=https://colab.research.google.com/notebooks/data_table.ipynb>data table notebook</a>'\n",
              "            + ' to learn more about interactive tables.';\n",
              "          element.innerHTML = '';\n",
              "          dataTable['output_type'] = 'display_data';\n",
              "          await google.colab.output.renderOutput(dataTable, element);\n",
              "          const docLink = document.createElement('div');\n",
              "          docLink.innerHTML = docLinkHtml;\n",
              "          element.appendChild(docLink);\n",
              "        }\n",
              "      </script>\n",
              "    </div>\n",
              "  </div>\n",
              "  "
            ]
          },
          "metadata": {},
          "execution_count": 19
        }
      ]
    },
    {
      "cell_type": "code",
      "source": [
        "%cd /content/drive/MyDrive/colab/py-hanspell-master/py-hanspell-master\n",
        "\n",
        "!python setup.py install"
      ],
      "metadata": {
        "colab": {
          "base_uri": "https://localhost:8080/"
        },
        "id": "X6WL29anVO78",
        "outputId": "54a2bf75-d465-4696-9365-5e81c9a00e53"
      },
      "execution_count": 20,
      "outputs": [
        {
          "output_type": "stream",
          "name": "stdout",
          "text": [
            "/content/drive/MyDrive/colab/py-hanspell-master/py-hanspell-master\n",
            "/usr/local/lib/python3.9/dist-packages/setuptools/dist.py:697: UserWarning: Usage of dash-separated 'description-file' will not be supported in future versions. Please use the underscore name 'description_file' instead\n",
            "  warnings.warn(\n",
            "running install\n",
            "running bdist_egg\n",
            "running egg_info\n",
            "writing py_hanspell.egg-info/PKG-INFO\n",
            "writing dependency_links to py_hanspell.egg-info/dependency_links.txt\n",
            "writing requirements to py_hanspell.egg-info/requires.txt\n",
            "writing top-level names to py_hanspell.egg-info/top_level.txt\n",
            "reading manifest file 'py_hanspell.egg-info/SOURCES.txt'\n",
            "adding license file 'LICENSE'\n",
            "writing manifest file 'py_hanspell.egg-info/SOURCES.txt'\n",
            "installing library code to build/bdist.linux-x86_64/egg\n",
            "running install_lib\n",
            "running build_py\n",
            "creating build/bdist.linux-x86_64/egg\n",
            "creating build/bdist.linux-x86_64/egg/hanspell\n",
            "copying build/lib/hanspell/spell_checker.py -> build/bdist.linux-x86_64/egg/hanspell\n",
            "copying build/lib/hanspell/constants.py -> build/bdist.linux-x86_64/egg/hanspell\n",
            "copying build/lib/hanspell/__init__.py -> build/bdist.linux-x86_64/egg/hanspell\n",
            "copying build/lib/hanspell/response.py -> build/bdist.linux-x86_64/egg/hanspell\n",
            "byte-compiling build/bdist.linux-x86_64/egg/hanspell/spell_checker.py to spell_checker.cpython-39.pyc\n",
            "byte-compiling build/bdist.linux-x86_64/egg/hanspell/constants.py to constants.cpython-39.pyc\n",
            "byte-compiling build/bdist.linux-x86_64/egg/hanspell/__init__.py to __init__.cpython-39.pyc\n",
            "byte-compiling build/bdist.linux-x86_64/egg/hanspell/response.py to response.cpython-39.pyc\n",
            "creating build/bdist.linux-x86_64/egg/EGG-INFO\n",
            "copying py_hanspell.egg-info/PKG-INFO -> build/bdist.linux-x86_64/egg/EGG-INFO\n",
            "copying py_hanspell.egg-info/SOURCES.txt -> build/bdist.linux-x86_64/egg/EGG-INFO\n",
            "copying py_hanspell.egg-info/dependency_links.txt -> build/bdist.linux-x86_64/egg/EGG-INFO\n",
            "copying py_hanspell.egg-info/requires.txt -> build/bdist.linux-x86_64/egg/EGG-INFO\n",
            "copying py_hanspell.egg-info/top_level.txt -> build/bdist.linux-x86_64/egg/EGG-INFO\n",
            "zip_safe flag not set; analyzing archive contents...\n",
            "creating 'dist/py_hanspell-1.1-py3.9.egg' and adding 'build/bdist.linux-x86_64/egg' to it\n",
            "removing 'build/bdist.linux-x86_64/egg' (and everything under it)\n",
            "Processing py_hanspell-1.1-py3.9.egg\n",
            "Copying py_hanspell-1.1-py3.9.egg to /usr/local/lib/python3.9/dist-packages\n",
            "Adding py-hanspell 1.1 to easy-install.pth file\n",
            "\n",
            "Installed /usr/local/lib/python3.9/dist-packages/py_hanspell-1.1-py3.9.egg\n",
            "Processing dependencies for py-hanspell==1.1\n",
            "Searching for requests==2.25.1\n",
            "Best match: requests 2.25.1\n",
            "Adding requests 2.25.1 to easy-install.pth file\n",
            "\n",
            "Using /usr/local/lib/python3.9/dist-packages\n",
            "Searching for certifi==2022.12.7\n",
            "Best match: certifi 2022.12.7\n",
            "Adding certifi 2022.12.7 to easy-install.pth file\n",
            "\n",
            "Using /usr/local/lib/python3.9/dist-packages\n",
            "Searching for chardet==4.0.0\n",
            "Best match: chardet 4.0.0\n",
            "Adding chardet 4.0.0 to easy-install.pth file\n",
            "Installing chardetect script to /usr/local/bin\n",
            "\n",
            "Using /usr/local/lib/python3.9/dist-packages\n",
            "Searching for idna==2.10\n",
            "Best match: idna 2.10\n",
            "Adding idna 2.10 to easy-install.pth file\n",
            "\n",
            "Using /usr/local/lib/python3.9/dist-packages\n",
            "Searching for urllib3==1.26.14\n",
            "Best match: urllib3 1.26.14\n",
            "Adding urllib3 1.26.14 to easy-install.pth file\n",
            "\n",
            "Using /usr/local/lib/python3.9/dist-packages\n",
            "Finished processing dependencies for py-hanspell==1.1\n"
          ]
        }
      ]
    },
    {
      "cell_type": "code",
      "source": [
        "from hanspell import spell_checker\n",
        "def spell_check(document):\n",
        "    result = spell_checker.check(document)\n",
        "    return result.checked"
      ],
      "metadata": {
        "id": "_GcA6fXiVStr"
      },
      "execution_count": 21,
      "outputs": []
    },
    {
      "cell_type": "code",
      "source": [
        "df2['review_spell_check'] = df2['review'].apply(spell_check)"
      ],
      "metadata": {
        "id": "tW9CQ786tE3O"
      },
      "execution_count": 22,
      "outputs": []
    },
    {
      "cell_type": "code",
      "source": [
        "df2"
      ],
      "metadata": {
        "colab": {
          "base_uri": "https://localhost:8080/",
          "height": 112
        },
        "id": "KYOkVN-OtHR1",
        "outputId": "cac4e44b-13d9-44fb-9622-9c033846abd2"
      },
      "execution_count": 23,
      "outputs": [
        {
          "output_type": "execute_result",
          "data": {
            "text/plain": [
              "   star                review  length  label        review_spell_check\n",
              "0     5  어떡해하는건지 모르겠네진짜로 머리아파      20      1  어떻게 하는 건지 모르겠네 진짜로 머리 아파\n",
              "1     4      리뷰데이터를 정제하는건 어렵다      16      0        리뷰 데이터를 정제하는 건 어렵다"
            ],
            "text/html": [
              "\n",
              "  <div id=\"df-20409dff-10ae-4bb7-a2e4-a6bc867e164d\">\n",
              "    <div class=\"colab-df-container\">\n",
              "      <div>\n",
              "<style scoped>\n",
              "    .dataframe tbody tr th:only-of-type {\n",
              "        vertical-align: middle;\n",
              "    }\n",
              "\n",
              "    .dataframe tbody tr th {\n",
              "        vertical-align: top;\n",
              "    }\n",
              "\n",
              "    .dataframe thead th {\n",
              "        text-align: right;\n",
              "    }\n",
              "</style>\n",
              "<table border=\"1\" class=\"dataframe\">\n",
              "  <thead>\n",
              "    <tr style=\"text-align: right;\">\n",
              "      <th></th>\n",
              "      <th>star</th>\n",
              "      <th>review</th>\n",
              "      <th>length</th>\n",
              "      <th>label</th>\n",
              "      <th>review_spell_check</th>\n",
              "    </tr>\n",
              "  </thead>\n",
              "  <tbody>\n",
              "    <tr>\n",
              "      <th>0</th>\n",
              "      <td>5</td>\n",
              "      <td>어떡해하는건지 모르겠네진짜로 머리아파</td>\n",
              "      <td>20</td>\n",
              "      <td>1</td>\n",
              "      <td>어떻게 하는 건지 모르겠네 진짜로 머리 아파</td>\n",
              "    </tr>\n",
              "    <tr>\n",
              "      <th>1</th>\n",
              "      <td>4</td>\n",
              "      <td>리뷰데이터를 정제하는건 어렵다</td>\n",
              "      <td>16</td>\n",
              "      <td>0</td>\n",
              "      <td>리뷰 데이터를 정제하는 건 어렵다</td>\n",
              "    </tr>\n",
              "  </tbody>\n",
              "</table>\n",
              "</div>\n",
              "      <button class=\"colab-df-convert\" onclick=\"convertToInteractive('df-20409dff-10ae-4bb7-a2e4-a6bc867e164d')\"\n",
              "              title=\"Convert this dataframe to an interactive table.\"\n",
              "              style=\"display:none;\">\n",
              "        \n",
              "  <svg xmlns=\"http://www.w3.org/2000/svg\" height=\"24px\"viewBox=\"0 0 24 24\"\n",
              "       width=\"24px\">\n",
              "    <path d=\"M0 0h24v24H0V0z\" fill=\"none\"/>\n",
              "    <path d=\"M18.56 5.44l.94 2.06.94-2.06 2.06-.94-2.06-.94-.94-2.06-.94 2.06-2.06.94zm-11 1L8.5 8.5l.94-2.06 2.06-.94-2.06-.94L8.5 2.5l-.94 2.06-2.06.94zm10 10l.94 2.06.94-2.06 2.06-.94-2.06-.94-.94-2.06-.94 2.06-2.06.94z\"/><path d=\"M17.41 7.96l-1.37-1.37c-.4-.4-.92-.59-1.43-.59-.52 0-1.04.2-1.43.59L10.3 9.45l-7.72 7.72c-.78.78-.78 2.05 0 2.83L4 21.41c.39.39.9.59 1.41.59.51 0 1.02-.2 1.41-.59l7.78-7.78 2.81-2.81c.8-.78.8-2.07 0-2.86zM5.41 20L4 18.59l7.72-7.72 1.47 1.35L5.41 20z\"/>\n",
              "  </svg>\n",
              "      </button>\n",
              "      \n",
              "  <style>\n",
              "    .colab-df-container {\n",
              "      display:flex;\n",
              "      flex-wrap:wrap;\n",
              "      gap: 12px;\n",
              "    }\n",
              "\n",
              "    .colab-df-convert {\n",
              "      background-color: #E8F0FE;\n",
              "      border: none;\n",
              "      border-radius: 50%;\n",
              "      cursor: pointer;\n",
              "      display: none;\n",
              "      fill: #1967D2;\n",
              "      height: 32px;\n",
              "      padding: 0 0 0 0;\n",
              "      width: 32px;\n",
              "    }\n",
              "\n",
              "    .colab-df-convert:hover {\n",
              "      background-color: #E2EBFA;\n",
              "      box-shadow: 0px 1px 2px rgba(60, 64, 67, 0.3), 0px 1px 3px 1px rgba(60, 64, 67, 0.15);\n",
              "      fill: #174EA6;\n",
              "    }\n",
              "\n",
              "    [theme=dark] .colab-df-convert {\n",
              "      background-color: #3B4455;\n",
              "      fill: #D2E3FC;\n",
              "    }\n",
              "\n",
              "    [theme=dark] .colab-df-convert:hover {\n",
              "      background-color: #434B5C;\n",
              "      box-shadow: 0px 1px 3px 1px rgba(0, 0, 0, 0.15);\n",
              "      filter: drop-shadow(0px 1px 2px rgba(0, 0, 0, 0.3));\n",
              "      fill: #FFFFFF;\n",
              "    }\n",
              "  </style>\n",
              "\n",
              "      <script>\n",
              "        const buttonEl =\n",
              "          document.querySelector('#df-20409dff-10ae-4bb7-a2e4-a6bc867e164d button.colab-df-convert');\n",
              "        buttonEl.style.display =\n",
              "          google.colab.kernel.accessAllowed ? 'block' : 'none';\n",
              "\n",
              "        async function convertToInteractive(key) {\n",
              "          const element = document.querySelector('#df-20409dff-10ae-4bb7-a2e4-a6bc867e164d');\n",
              "          const dataTable =\n",
              "            await google.colab.kernel.invokeFunction('convertToInteractive',\n",
              "                                                     [key], {});\n",
              "          if (!dataTable) return;\n",
              "\n",
              "          const docLinkHtml = 'Like what you see? Visit the ' +\n",
              "            '<a target=\"_blank\" href=https://colab.research.google.com/notebooks/data_table.ipynb>data table notebook</a>'\n",
              "            + ' to learn more about interactive tables.';\n",
              "          element.innerHTML = '';\n",
              "          dataTable['output_type'] = 'display_data';\n",
              "          await google.colab.output.renderOutput(dataTable, element);\n",
              "          const docLink = document.createElement('div');\n",
              "          docLink.innerHTML = docLinkHtml;\n",
              "          element.appendChild(docLink);\n",
              "        }\n",
              "      </script>\n",
              "    </div>\n",
              "  </div>\n",
              "  "
            ]
          },
          "metadata": {},
          "execution_count": 23
        }
      ]
    },
    {
      "cell_type": "code",
      "source": [
        "new = []\n",
        "for sentence in tqdm(df2['review_spell_check']):\n",
        "    tokenized_sentence = okt.morphs(sentence, stem=True, norm = True) # 토큰화\n",
        "    stopwords_removed_sentence = [word for word in tokenized_sentence if not word in stopwords] # 불용어 제거\n",
        "    new.append(stopwords_removed_sentence)"
      ],
      "metadata": {
        "colab": {
          "base_uri": "https://localhost:8080/"
        },
        "id": "pYFmJAIE48md",
        "outputId": "3b020554-680e-4366-cbb6-90636f64fcd0"
      },
      "execution_count": 116,
      "outputs": [
        {
          "output_type": "stream",
          "name": "stderr",
          "text": [
            "100%|██████████| 2/2 [00:00<00:00, 280.01it/s]\n"
          ]
        }
      ]
    },
    {
      "cell_type": "code",
      "source": [
        "new"
      ],
      "metadata": {
        "colab": {
          "base_uri": "https://localhost:8080/"
        },
        "id": "YcNYshGr5AuX",
        "outputId": "47f80da5-095a-4232-9113-06582d9211d0"
      },
      "execution_count": 117,
      "outputs": [
        {
          "output_type": "execute_result",
          "data": {
            "text/plain": [
              "[['어떻다', '하다', '건지다', '모르다', '진짜', '로', '머리', '아프다'],\n",
              " ['리뷰', '데이터', '를', '정제', '하다', '건', '어렵다']]"
            ]
          },
          "metadata": {},
          "execution_count": 117
        }
      ]
    },
    {
      "cell_type": "code",
      "source": [
        "df['review']=df['review'].astype('str')\n",
        "df['review_spell_check'] = df['review'].apply(spell_check)"
      ],
      "metadata": {
        "id": "iof7p273VGO6"
      },
      "execution_count": 24,
      "outputs": []
    },
    {
      "cell_type": "code",
      "source": [
        "# konlpy, Mecab 형태소 분석기 설치 스크립트 실행\n",
        "!curl -s https://raw.githubusercontent.com/teddylee777/machine-learning/master/99-Misc/01-Colab/mecab-colab.sh | bash"
      ],
      "metadata": {
        "id": "DRC46a6xVmIh"
      },
      "execution_count": null,
      "outputs": []
    },
    {
      "cell_type": "code",
      "source": [
        "from collections import Counter\n",
        "from konlpy.tag import Okt, Mecab\n",
        "\n",
        "okt = Okt()"
      ],
      "metadata": {
        "id": "j_yzhHAiWSa0"
      },
      "execution_count": 26,
      "outputs": []
    },
    {
      "cell_type": "code",
      "source": [
        "stopwords = pd.read_csv(\"https://raw.githubusercontent.com/yoonkt200/FastCampusDataset/master/korean_stopwords.txt\").values.tolist()\n"
      ],
      "metadata": {
        "id": "g2-x_w6MVvT1"
      },
      "execution_count": 27,
      "outputs": []
    },
    {
      "cell_type": "code",
      "source": [
        "import joblib\n",
        "import numpy as np\n",
        "from sklearn.model_selection import train_test_split"
      ],
      "metadata": {
        "id": "Z6U7K53Eb94t"
      },
      "execution_count": 30,
      "outputs": []
    },
    {
      "cell_type": "code",
      "source": [
        "train, test = train_test_split(df,test_size=0.2, random_state=42)"
      ],
      "metadata": {
        "id": "gUljO_xQfLyC"
      },
      "execution_count": 31,
      "outputs": []
    },
    {
      "cell_type": "code",
      "source": [
        "X_train = []\n",
        "for sentence in tqdm(train['review_spell_check']):\n",
        "    tokenized_sentence = okt.morphs(sentence, stem=True, norm = True) # 토큰화\n",
        "    stopwords_removed_sentence = [word for word in tokenized_sentence if not word in stopwords] # 불용어 제거\n",
        "    X_train.append(stopwords_removed_sentence)"
      ],
      "metadata": {
        "colab": {
          "base_uri": "https://localhost:8080/"
        },
        "id": "cR62YrHLvXaR",
        "outputId": "ac8b648c-8bd7-4e30-c8dd-da661d6d8a80"
      },
      "execution_count": 118,
      "outputs": [
        {
          "output_type": "stream",
          "name": "stderr",
          "text": [
            "100%|██████████| 1764/1764 [00:15<00:00, 115.18it/s]\n"
          ]
        }
      ]
    },
    {
      "cell_type": "code",
      "source": [
        "print(X_train[:3])"
      ],
      "metadata": {
        "colab": {
          "base_uri": "https://localhost:8080/"
        },
        "id": "bT8SLflpvY07",
        "outputId": "5ec632a9-d8ae-4c52-dc74-a8b4efceb6b0"
      },
      "execution_count": 33,
      "outputs": [
        {
          "output_type": "stream",
          "name": "stdout",
          "text": [
            "[['좋다'], ['방이', '생각', '보다', '작다'], ['좋다']]\n"
          ]
        }
      ]
    },
    {
      "cell_type": "code",
      "source": [
        "hotel_stopwords = ['호텔', '도']\n",
        "for word in hotel_stopwords:\n",
        "    stopwords.append(word)"
      ],
      "metadata": {
        "id": "QsRNaSWlYp7x"
      },
      "execution_count": 119,
      "outputs": []
    },
    {
      "cell_type": "code",
      "source": [
        "X_train = []\n",
        "for sentence in tqdm(train['review_spell_check']):\n",
        "    tokenized_sentence = okt.morphs(sentence, stem=True, norm = True) # 토큰화\n",
        "    stopwords_removed_sentence = [word for word in tokenized_sentence if not word in stopwords] # 불용어 제거\n",
        "    X_train.append(stopwords_removed_sentence)"
      ],
      "metadata": {
        "colab": {
          "base_uri": "https://localhost:8080/"
        },
        "id": "7sNguNOuWW6O",
        "outputId": "6f8cf2d8-9377-4985-e348-b6d9db0dcaef"
      },
      "execution_count": 120,
      "outputs": [
        {
          "output_type": "stream",
          "name": "stderr",
          "text": [
            "100%|██████████| 1764/1764 [00:17<00:00, 102.98it/s]\n"
          ]
        }
      ]
    },
    {
      "cell_type": "code",
      "source": [
        "print(X_train[:3])"
      ],
      "metadata": {
        "colab": {
          "base_uri": "https://localhost:8080/"
        },
        "id": "4m1NLCpgXTqV",
        "outputId": "e44f7ee0-ff7f-4f1a-cbc5-6279aea00ffe"
      },
      "execution_count": 36,
      "outputs": [
        {
          "output_type": "stream",
          "name": "stdout",
          "text": [
            "[['좋다'], ['방이', '생각', '보다', '작다'], ['좋다']]\n"
          ]
        }
      ]
    },
    {
      "cell_type": "code",
      "source": [
        "X_test = []\n",
        "for sentence in tqdm(test['review']):\n",
        "    tokenized_sentence = okt.morphs(sentence, stem=True, norm = True) # 토큰화\n",
        "    stopwords_removed_sentence = [word for word in tokenized_sentence if not word in stopwords] # 불용어 제거\n",
        "    X_test.append(stopwords_removed_sentence)"
      ],
      "metadata": {
        "colab": {
          "base_uri": "https://localhost:8080/"
        },
        "id": "et2iZbExeBTi",
        "outputId": "5742fa0e-ef59-47ef-f1b3-3851c58015fb"
      },
      "execution_count": 121,
      "outputs": [
        {
          "output_type": "stream",
          "name": "stderr",
          "text": [
            "100%|██████████| 442/442 [00:05<00:00, 81.00it/s]\n"
          ]
        }
      ]
    },
    {
      "cell_type": "code",
      "source": [
        "corpus = \"\".join(df['review_spell_check'].tolist())\n",
        "corpus"
      ],
      "metadata": {
        "colab": {
          "base_uri": "https://localhost:8080/",
          "height": 294
        },
        "id": "Ey3MhC9pX3bo",
        "outputId": "a6bda828-fe1c-4f46-b2dc-a40544789a5c"
      },
      "execution_count": 112,
      "outputs": [
        {
          "output_type": "execute_result",
          "data": {
            "text/plain": [
              "'어떻게 하는 건지 모르겠네 진짜로 머리 아파리뷰 데이터를 정제하는 건 어렵다방도 깨끗하고 위치도 좋았습니다구성비도 좋고 분위기가 좋아요안녕하세요좋았어요시설이 깔끔하고 좋았어요세면대에서 하수구 냄새가 올라오고 커튼에 먼지도 좀 심해서 실망스러웠지만 대체로 만족했습니다침대 개조시간 되면 다음에 꼭 다시 방문할 예정입니다방음이 좀 약하지만 항상 잘 쉬다 갑니다 가습기도 요청드려서 키고 잤어요 방은 정말 깨끗하고 포건 했습니다 직원들 다 친절하고 조식도 깔끔하고 하나같이 신경 쓴 게 느껴집니다 맛있어요 코로나 때문에 운영 안되는 곳이 많아 아쉽네요역이랑 가까워서 좋았어요 호캉스하기 좋아요지하철역 바로 앞에 있어서 교통이 너무 좋고 좋았어요깔끔합니다엄청 깨끗하고 시 반에 갔는데도 얼리 체크인이 돼서 좋았어요괜찮았어요잘 쉬다 갑니다잘 지내다 갑니다룸 컨디션 좋고요 방음 좋고요 안 좋은 거만 참고하면 될듯합니다 작은 수건에서 찜질방 수건 냄세났어요 다른 건 싹 다 좋습니 디 더 보기처음 입실했을 때 입실시간보다 더 늦게 입실했는데도 작업 중이라 많이 당황했는데 직원분의 대처가 너무 좋았네요 하루 종일 불쾌할뻔했었는데 바로 객실 바꿔주시고 직원분들도 전체적으로 친절하시네요 추천입니다박 끊고 출근 때문에 당일로만 이용한 게 아쉬워요 생각보다 괜찮아서 놀랬어요 룸 컨디션도 좋고 컨시어지 직원분도 친절하시고 체크아웃 하면서 주위에 또 예약하려고요너무 친절하시고 깨끗하고 좋았습니다잘 쉬고 가요 옆방 문 닫힐 때 나는 소리가 조금 크게 들리긴 했지만 괜찮았어요 칫솔 머리끈은 구비되어있지 않아서 미리 챙겨가면 좋을 것 같네요굿나이트 하세요아이와 주말에  환상적인 뷰와  좋은 침대 그리고 저렴한 가격에 친절하게 깨끗하게 너무 잘 놀다가 갑니다 집에만 있어서 답답해했는데 너무 좋았어요 또 올게요 친절한 직원분들도 인상에 남고 최고였습니다 그리고 다녀가시는 손님분들 매너 있게 행동하셔야 또 다른 친절로 온다는 걸 기억하고 가시길 바라요 친절을 논하기 전에 본인들의 행실이 매너 있었는지 생각하세요 동네 마트 온 것처럼 구는 행동은 보기에 불편했어요 더 보기청결 그 자체입니다트윈 배드가 작은 거 빼고는 다 괜찮았어요쿠폰 사용해서 저렴하게 방문했습니다 룸 업그레이드도 해주시고 뷰 선택 및 욕실 타입 선택하게 해주셔서 편하게 잘 보내다 왔네요좋아요좋은 시설 기분 좋은 하루였습니다친절하고 접근성도 좋고 패키지로 잘 이용하고 왔습니다최곱니다 또 올게요호 너무 잘 머물다 갑니다 입실시간 시에 도착해서 고층 배정되냐 물었더니 흔쾌히 해주셔서 질 머물다 갑니다 뷰가 너무 맘에 듭니다좋앗씁니다여기 조식 맛있어요 위치도 좋고 편안하게 잘 쉬다 왔어요사진으로는 한강뷰인데 실제로 방은 철길이었어요 그래도 방은 깔끔하고 다른 호텔보다 넓네요아주 좋아요깔끔하고 뷰가 좋아서 만족했습니다편하게 잘 쉬고 갑니다역시 유명한 곳이라 그런지 서비스 객실 상태 다 너무 좋았어요뷰가 좋아최고의 친절함 편안함 즐거움 특히 직원분들이 친절하시고 일처리도 센스 있게 잘해주심항상 잘 있다 갑니다뷰도 좋고 전체적으로 만족합니다최고의 호캉스 침대가 이렇게 편할 수가 없음 침구도 세상 폭신하고 침구에 뭐가 좀 묻어있긴 했지만 전체적으로 편안했음그냥 괜찮아요그냥 너무너무 편히 잘 쉬다 갔어 요다음에 재방문할게요남자친구와 주년 기념으로 선택한 곳인데 체크인할 때부터 방역도 철저히 해주시고 방도 좋은 곳으로 해주셔서 예쁜 야경 보면서 도란도란 얘기도 할 수 있었어요 남자친구가 꽤나 까다로운 사람인데 너무 만족하더니 또 가자는 말에 오늘 한 번 더 갈 예정 직원분들도 친절하고 너무 좋았어요깔끔하고 좋음잘 머물다가가 요낮은 금액으로  최고입니다  이름 갔을  하더군요매우 깨끗했습니다깔끔했습니다아주 좋아요깨끗하네요괜찮습니다욕실 없는 게 좀 아쉽지만 좋아요용산역에서 도보 분 거리에 위치해 있어서 진짜 엄청 편하게 갔어요 청결도 이에서 점 뺀 이유는 창문이 없어서 그런지 먼지가 진짜 너무 많아요 대신 뷰는 엄청 좋음위치도 너무 편하고 좋고 주말에 시간 스테이하니깐 체크인도 빠르게 할 수 있어서 너무너무 좋았습니다 시체크인 시간 때 보니깐 대기 줄어 너무 길어서 시간 스테이하기를 너무 잘했다고 생각했어요남자친구 생일이라 예약했는데 업그레이드도 해주시고 역이랑 가까워서 편했어요 잘 쉬었어요 추천코로나 때문에 친구 만나서 얘기하는 것도 걱정하며 지냈는데 발열 체크 문진표까지 꼼꼼하게 해주시고 마주칠 때마다 인사도 자주 해주셔서 이용하면서 조금의 불쾌함도 없었어요 꼭 다음에 재방문 할 거예요잘 쉬었고 편했어요성급이 다르긴 하네요  편안하게 잘 묵고 갑니다 깔끔하고 좋은 굩좋아요 직원분들도 짱친절두말할 것도 없이 최고였습니다한강뷰가 아니라 좀 아쉬웠지만 좋았어요겡장히 만족해성금이라 친절하고 시설도 깔끔하니 좋구먼요역시 노보텔 룸 컨디션도 좋고 직원 모두 친절하였습니다 주차장이 좁은 건지 주차를 외부 주차장에 해야 했던 것은 조금 아쉬움질시다 갑니다코로나라 시설 많이 이용 못한 게 아쉽네요 잘 쉬다 갑니다정말 깔끔하고 용산역 바로 옆이라서 접근성도 용이했어요  고급스럽고 아늑한 느낌이라 특별한 기분도 낼 수 있었어요 코로나로 인해 많이 어려우실 텐데도 호텔 멋지게 관리해주셔서 감사합니다 재방문의 사 프로에요너무 좋았어요 깔끔하고 침대도 푹신 잘 쉬다 갑니다너무 좋아요여자친구랑 좋은 시간 보내고 갑니다 주차장이 좁은 게 조금 아쉽네요교통짱 청결짱 친절짱뷰 아쉬워요 너무 안락하고 좋아요돈만 호크 패키지로 왔음 방과 시설은 나름 괜찮음 패키지가 킹스 베케이션에서 스테이크가 공짜로 제공되는 거라 물론 어느 정도 예상은 했었지만 정말 스테이크 질기고 너무 맛없음 킹스 베케이션 서버들도 기본 서비스가 부족함객실도 깨끗하고 직원분 들고 친절하십니다 뷰도 좋아요한강뷰 너무 더웠어요  선풍기 틀어도 너무 더웠어요너무 좋았습니다킹스 베케이션 음식도 기대 이상이었고 시설도 좋았습니다 호캉스 제대로 즐기고 갑니다다 좋았는데 역에서 층으로 바로 들어가는 곳으로 못 들어가서 아쉬웠어요 깨끗했는데 전 사람이 사용한 것 같은 강화유리 붙이고 남은 비닐 이게 남아있어서 그냥 웃었어요 나머지는 다 좋았어요 더 보기숙소가 깔끔해서 좋습니다역시나 좋았습니다 서울 중심이라 이동하기도 편리했네요시 체크인 패키지는 고층 배정이 안될 수 있어요 야경 기대하고 갔는데 아이파크만 보이고 별로였어요 야경 때문에 가실 분은 스위트룸으로 하시길숙소 청결도가 조금 아쉬웠습니다 아무래도 창문이 없어서 그런지 먼지도 많고 들어가자마자 머리카락이 있어서 좀 아쉬웠어요  청소하시는 분들 고생 많으시지만 조금 더 신경 써주시면 좋겠네요좋아요 나무 좋습니다호텔 인테리어 깔끔하고 이쁩니다너무 좋았습니다굿굿굿굿최고의 시간이었습니다완전 굿굿 한강변 야경은 아주 굿입니다 지금 이용해야 언제 이용하겠습니까서비스도 좋고 구성비 좋았어요너무 좋았어요아이파크몰과 연결되어있어서 좋았고요 한강뷰는 아이파크몰 뷰였지만 전망은 트여서 좋았어요 객실 넓고 청소상태 양호했습니다마약의 침대에요 굿용산역에 인접해서 위치도 좋고 룸 컨디션도 좋았어요좋은 날 좋은 곳에 방문하여 좋았습니다 잘 쉬고 가요역시 성잘 쉬다가 요좋았습니다호캉스에 최고입니다다시 가고 싶을 만큼 괜찮았어요너무 친절해요만족합니다가격 대비 매우 만족했습니다 프런트에 계시는 분은 친절하시지만 다른 라인에 계신 분들은 그냥 그렇네요 객실은 깨끗하지만 서비스적인 면에서는 킹덤에 일하고 계신 분들이 제일 친절하시네요 잘 놀다 갑니다잘 쉬다가 요 쏘쏘했네요위치도 좋고 다 너무 맘에 들었어요 또 가고 싶어요후기에 하수구 냄새나고 객실 청소가 잘 되어있지 않다고 하여 많이 걱정했었는데 괜찮았습니다  한강뷰를 받았는데  한강뷰보다는 씨티뷰로 달라고 하는 게 좋을 것 같아요  한강뷰는 공사장 뷰입니다  그리고 룸서비스 꼭 시켜드세옹 특히 닭고기 카레  두 번이나 시켜 먹었어요 넘나 마쓋방이 넓고 해가 잘 들어와서 좋아요 숙박 대전이라는 좋은 기회가 생겨 다녀왔는데 너무 만족스럽네요 나중에도 이용할 거예요 침대가 꽤 높은 편이지만 매트릭스가 너무 편안하고 좋았어요 수영장은 코로나 때문에 못 이용한 게 아쉽네요 코로나가 얼른 끝나서 상시 이용할 수 있으면 좋겠네요 객실 깨끗하고 좋아요역시 성급은 다르구나 하고 느낄 수 있는 만큼의 친절함 깔끔함이 너무 좋았습니다 용산역 번 출구와 연결되어있어서 이동하기에도 너무 편했어요 치맥 세트도 같이 있는 상품이었는데 치킨 엄청 부드럽고 맛있었어요 특가대전으로 아주 잘 다녀왔습니다너무 편하고 좋았습니다좋아요 오정말 좋았어요 넓고 서비스도 모두 만족조식도 좋고 깔끔했습니다드래건 시티 노보텔입니다 이곳이 서비스가 엉망이면 호텔망하겠죠잘 쉬다 갑니다 종종 좋은 패키지 상품 내면 좋을 것 같네요 피트니스센터 등 코로나로 인한 휴관은 아쉽네요좋아요 깔끔해요굿입니다체크인 체크아웃은 생각보다 괜찮았어요  친절함에 감동받고 고객을 위하는 곳이라고 느껴졌어요 뷰는 당연히 좋았고요 다만 드라이기가 좀 망가졌는데 급하게 사용했습니다뷰는 별로였지만 체크인이 늦었고 엄청 비싼 방이 아니었으니까 어쩔 수 없다고 생각해요 침구가 너무 좋아서 오랜만에 꿀잠 잤어요 아이파크몰도 가깝고 포장마차촌 가서 한잔하고 들어오니 딱 좋았어요 또 가고 싶어요 최고입니다더운 거 빼곤 역시 성급좋았어요정말 좋아요구성비 최고 아이파크도 있고 너무 좋아요깨끗하고 좋아요즐거웠어요정말 좋았음역시 노보텔이네요용산에 올 때마다 숙박하는데 깨끗하고 좋아요좋습니다객실이 좀 건조했지만 좋았어요스위트 가보고 첨 왔는데 괜찮네요 노보텔 너무 좋아 여 침대 푹신푹신아주 좋음  조식은 안 먹음 별로 같음편안하게 쉬다 가요잘 쉬었다가 요뷰는 무조건 시티뷰 추천합니다너무 좋았어요조식도 맛있고 룸 상태도 너무 좋았습니다 트윈베드가 싱글 침대가 개입니다 트윈 싱글로 알고 계시는 분들은 참고하세요뷰는 별로지만 쾌적합니다 화장실 좁아요예약 날짜가 잘못돼서 물 건너갔지만 환불도 안 된다 하네요 기분이 상당히 안 좋습니다 그래도 제 잘못이니 어쩔 수 없죠 뭐친절하고 깨끗해요좋았어요 성급은 다르네요좋아요 잘 쉬고 갑니다아이파크몰 베리굿너무 깨끗하고 좋았어요여자친구와 기념일을 축하하러 갔는데 성금답게 아주 만족스러웠습니다좋아요 근데 흡연실이 멀어서 좀 불편하고 코로나 때문에 정문만 개방된 것 빼곤 좋았어요깔끔하고 좋아요항상 좋은 기억으로 남네요숙박 대전 쿠폰 받아서 저렴한 가격에 육아에 지친 아기 엄마 호캉스 시켜줬네 요식음 쿠폰도 유용하게 잘 써서 아주 구성비 좋은 호캉스 보냈습니다 노보텔은 위치도 좋고 깔끔하고 늘 만족입니다 더 보기부대시설은 아쉽지만 조식은 짱잘 쉬다 갑니다친절하시고 너무 좋았습니다성급 치고는 약간 아쉬웠지만 시설이나 편의성은 좋아요 편의점도 층에 있고 꽤 큽니다 하루 묵기 좋아요 시 체크인 시 체크아웃 했는데 넘넘 좋아요층까진 뷰가 그렇게 좋은 건 아닌 거 같아요 좋았습니다좋아요 짱짱만족합니다푹 쉬다가 요 메가바이트 치맥 괜찮았습니다용산역이랑 이어져 있어서 교통도 편리하고 호텔 안에 웬만한 거 다 있어서 편해요위치 청결 친절 다 좋았어요 광주 갈일 있으면 여기 또 갈 거예요용산 아이파크몰 걸어서 분 거리에 있고 좋았어요깨끗한 숙소 좋은 지리적 위치번 눌러도 프런트 연결 안 됨 치약 칫솔 면도기 머리끈 이런 거 다 없음 창문 없어서 환기 불가해서 먼지가 너무 날려라 힘듦위치도 좋고 시설도 좋고 다음에 또 방문하고 싶은 곳입니다좋습니다 노보텔좋아요 교통도 편리하고 깔끔해서 좋네요좋았습니다무료로 방도 업그레이드해주시고 잘 쉬고 갑니다 노보텔 구성비 최고입니다좋네요 깔끔하고 위치도 좋아서 호캉스하기 좋았어요최악 침대 너무 불편하고 체크아웃할 때 직원 너무 불친절일단 청결하고 깨끗하고 위치가 좋아요청결하고 서비스도 만족해요아주아주 만족스럽다층 라운지가 너무 좋아요깔끔하고 좋습니다 서비스도 아주 좋습니다 방이 좁긴 했으나 친절하고 좋았음만족합니다편하게 쉬다 왔습니다좋았어요너무 잘 쉬다 갑니다 전반적으로 만족했습니다깔끔해 요요전체 평 높은 평점과 후기 및 가격대를 보고 구성비 기대했으나 전체적으로 기대 이하 방음이 진짜 최악 리버뷰 차라리 말을 말지 서비스 친절도 코로나로 인한 철저한 방역은 준수해야 하는 건 맞으나 제대로 안내도 되어있지 않고 들어가서 갈팡질팡하다가 서류 적는 거 물어보니 안 내 호텔 직원이 아닌 무슨 영화관 티켓 소개하는 직원 같은 자세 시설 편의성 역과 가까워서 좋음 그게 다임 아이파크몰 그뿐더 보기좋았습니다용산역에서 아주 가깝고 구름다리로 호텔 건물까지 연결되어 있음 주차시설도 넓음 인근에 레스토랑이나 부대시설도 좋음 호텔 층에서 버킷 수령하는 패키지였는데 시까지만 주문받는다며 설명 듣고 시분에 바로 주문하려 했더니 거절당함 마상 더 보기최고의 서비스입니다 내 집처럼 편안한 침구분위기와 야경이 너무 예뻤던 숙소에 요직원분들도 친절하시고 주변에 편의시설이 많아서 좋았습니다 침대랑 화장실 샤워실도 깔끔했고요 기회가 된다면 다음에 또 방문하고 싶네요가격 대비  그냥 그럼잘 쉬다 갑니다깨끗하고 좋아요전반적 서비스 상피트니스센터 가장 만족했어요시설은 좋지만 어수선하고 외진 곳에 있음 가격 저렴 근처 조금 밤에 무서움구성비 최고 서비스도 좋았고 룸 컨디션도 좋았어요저는 잘 쉬다 가요 음식도 좋았어요 욕조 배정이 안돼서 아쉽다깔끔하고 좋았어요용산 아이파크와 연결돼있어 편리하고 좋았습니다직원분들도 친절하시고 위치도 좋고 복도 향도 좋고 객실 청결하고 좋아요침대짱짱맨좋습미닫깔끔하고 쾌적하고 룸 컨디션 좋고 최고예요깔끔하고 친절하고 생각보다 커서 좋았어요너무 잘 쉬다가 요재방문했는데 무엇보다 깨끗하고 불편성이 전혀 없어 좋았어요침대가 정말 푹신하고 좋았습니다 다음에도 이용할게요깨끗하고 좋았어요젛앗습다시설 깔끔하고 맘에 들었어요좋았습니다기대 안 하고 가서 너무 좋았어요 가성비갑성급호텔이 아닐까패키지가 너무 알차고 좋습니다 서비스도 너무너무 좋아요 또 가고 싶어요깔끔하고 좋아요요 근래 묵었던 곳 중 제일 좋았어요 진짜 너무 편하게 쉬다 갑니다시간 패키지로 잘 이용했어요 항상 체크아웃 시간 때문에 늦잠 못 자는 게 아쉬웠는데 오후 시 퇴실이라 알람 안 맞추고 편하게 쉬었습니다 감사합니다 또 이용할게요방에 야경을 보고 너무 좋네요좋았습니다 서비스 와인은 테이크아웃 비추에요 정말 볼품없이 줍니다편하게 잘 쉬고 왔습니다뷰에 살짝 실망 창문 없어서인지 답답하고 건조했어요그냥 호텔이에요건조함후기 보고 기대하고 간 곳 위생 대실망 창가에 패브릭 소파는 얼룩이 너무 많아서 진짜 최악 더러움 짐 풀고 발견한 터라  컴플 안 하고 가운 깔고 이용함 햇빛들 때는 허옇게 더러운 얼룩들이 다 비침 커버 씌워서 투숙객 바뀔 때마다 바꿔주면 좋을 것 같음 일부러 일주일 전부터 뷰 좋은 곡 달라 했는데 용산역 뒤 허허벌판 노지 뷰 감사하네요 밤에 매우 깜깜 서랍에 있는 하얀 머그잔은 뭘로 닦았는지 짧은 머리카락 먼지가 붙어있어서 사용 안 함 어메니티도  손가락만 해서 두 사람이 시 쓰기 부족해서 요청해야 한 돈 더 내서 스위트룸이나 레지던스 면 좀 다르려나 하는 뭔가 억울한 느낌으로 놀다 옴  뷔페는 주말이라 사람 엄청 많은데 위생장갑 이용 안 해서 찝찝 음식 뜨고 앉을 때마다 알아서 본인이 소독해야 함 위생장갑 쓰레기 때문인 듯 개인적으로 주변 편의시설 직원분들 서비스만 좋았음 더 보기위치가 정말 좋고 서비스 청결도 다 좋습니다좋았습니다 또 가고 싶어요시설도 너무 좋았지만 방에서 하수구 냄새가 나서 조금 아쉽웠어요그냥 그래요깨끗하고 좋아요굿입니다깨끗하고 좋았어요 다만 바에서 스테이크와 인 먹는 패키지로 신청했은데 스테이크가 너무 맛이 없었어요 요건 비추예요용산중 최고 숙소좋아요너무너무 좋았어요편하게 잘 쉬었습니다잘 쉬다가 왔습니다너무 깔끔했습니다굿군입니다좋아요 깨끗깨끗하고 조용합니다깔끔하고 뷰도 좋아요직원분들 정말 친절하세요주차공간이 점점 부족해져서 건물 밖 임시주차장에 주차해야 되는 것 말고는 다 좋았어요뷰는 알고 있어서 크게 기대 안 했어요 친구들이랑 호캉스 하려고 커넥팅 되는 룸으로 봤고 시간 스테 이소 넉넉하고 충분하게 쉬다가 왔어요 룸 스타일이 달라야 커넥팅리 되더라고요 같이 받은 맥주 쿠폰으로도 잘 먹고 잘 쉬었어요 다만 배달하거나 인근에 편의점이나 카페가 없어서 아쉬웠네요 너무 건조해요 객실너무 깨끗하고 좋았어요 담에도 꼭 다시 가고 싶은 호텔감사합니다뷰는 진짜 별로인데 숙소 자체는 좋습니다편안하고 조용하여 아주 좋았어요아주 만족스러웠습니다기념일 기념차 방문했고 깨끗하고 좋았어요너무 좋아요좋아요 또 오고 싶어요최고입니다조식도 맛있고 직원분들도 친절하시고 편히 쉬다 갑니다교통이랑 서비스 등 만족해요방도 깔끔하고 쾌적해서 좋았습니다 무엇보다 직원분들이 친절해서 좋았어요 이어져있는 옆 건물에 편의점도 있어서 편리합니다가격 대비 정말 만족하고 갑니다서비스 친절도가 매우 좋았습니다 피트니스센터는 크진 않지만 운동에 필요한 기구가 대부분 갖춰있어 좋았습니다 편의점이 시간 운영되고 있어 시간 구애 없이 시설을 이용할 수 있었습니다 룸 컨디션 또한 매우 좋았습니다이비스보다 역시 넓네요 근데 칫솔 치약이 없어요빠른 체크인 좋았음안락과 청결네 알겠습니다매번 가는 곳졸업요 오오깔끔합니다용산역 바로 앞이라 접근성이 아주 좋아요체크인 시간 늦추고 가격 다운먼저 한강뷰 주신다고 해서 기대했는데  한강이 저 멀리 콩알만큼 보이더라고요 뷰는 정말 최악이었습니다 시티 부가 나을 듯해요다음에도 이용할 예정입니다 깔끔하고 완전 굿좋았어요용산 아이파크와 은근 멀어서 왔다 갔다 하기가 부담스러웠음 객실은 쏘 쏘깨끗하고 좋았어요좋습니다 성급 호텔 이 정도 가설 비면 좋네요좋아요오어어엉좋아 시설도 깨끗하고 위치도 좋고 야경도 좋았습니다구성비 너무 좋아요 오래 있을 수 있었던 게 최고인 것 같습니다 다음에도 또 갈게요시간 패키지 좋음 그런데 체크인 시간을 늦추고 가격 다운로드하면 더 좋을 듯저녁에 음식 데워 달라고 해서 친절하게 데워주시고 감사합니다 그런데 발레에 대한 제대로 된 가격 언급도 안 해주시고 괜한 돈만 나갔네요좋습니다객실에 먼지 너무 많아요 자는데 세면대에서 하수구 냄새 올라와서 너무 힘들었어요 객실문 밑이 왜 뻥 뚫려있나요 말소리 발자국 소리 다 들리고 다 보여요역 가까이 있어서 좋았어요 바로 옆 이마트도 있어요역시 괜히 성급이 아니었습니다 푹 잘 쉬다 갑니다잘 쉬다 감잘 쉬다 갑니다그냥 출장 시 나쁘지 않음너무 좋았습니다좋음다만 객실 침대 머리 쪽 아래 매트리스에서 시큼한 냄새가 올라왔음직원분들 친절하고 좋았습니다수영장 분만 사용할 수 있는 것만 빼면 다 좋았어요깔끔하고 너무 좋아요객실도 업그레이드해주시고 친절한 응대에 좋은 시설 잘 이용하고 푹 쉬다 갑니다잘 쉬다 갑니다편안한 곳한강 뷰러면서 어디가 한강뷰 그냥 공사장뷰던데객실 바꾸기 귀찮아서 그냥 이용했어요 풍경만 빼면 객실은 그냥 무난했음 침대 푹신하고 좋았어요 층에서 디너 먹었는데 맛없었어요 더 보기정말 체고 여자친구가 너무 좋아해요룸 업그레이드도 해주셔서 너무 좋았습니다깨끗하고 좋아요질쉬다 갑니다뷰가 최고에욤깔끔하고 가격도 적당하고 좋습니다방도 넓고 룸 컨디션 최고너무 좋아요 물놀이고 하규 최고깔끔하고 좋았어요좋아요좋아요 굿뷰도 적당히 마음에 들고 잘 쉬었다 갑니다덕분에 편안하게 쉬다가 갑니다훌륭합니다깨끗하고 좋았습니다 늦게 체크아웃 할 수 있는 걸로 예약해서 서두르지 않고 느긋하게 다음날까지 쉬다 나올 수 있어서 좋았어요추석 연휴 기간에 이용했는데 친절하고 좋았습니다항상 쾌적하게 이용하고 있습니다항상 이용할 때마다 친절하고 깨끗해서 너무 좋아요항상 이용할 때마다 친절하고 깨끗해서 너무 좋아요너무너무 좋았어요 좋습니다시간 패키지 너무 좋아요 다음에 또 오고 싶네요 잘 쉬다 갑니다정말 좋았어요 또 갈 거예요너무 좋아요 시설도연휴 마지막에 편히 쉬었다 왔습니다항상 단골로 이용합니다 최고입니다너무 좋았습니다아주 좋았습니다 식사도 맛있었어요좋았어요 너무 잘 지내고 잘 먹었어요너무 좋았습니다갈 때마다 너무 만족합니다잘 썼습니다좋았습니다정말 대한민국 최악의 성급 호텔 이에요 진심으로 여  어린애들이 그냥 가격 싸서 오는 곧 정말 후회해요 서비스 개판 아무것도 준비되어 있지 않고편히 쉬다 갑니다또 오고 싶어요킹스 베케이션 테이블 고정이 안돼서 흔들림 티슈 가져다 달랬더니 안 가져다줌 계산할 때 이야기했더니 바빠서 그랬다고 한 시간이 시 시쯤 테이블 테이블 테이블 있었음 직원 명 정도 있었으면 바쁘기는 개뿔 다신 안 갈 예정 와인 잔 안 씻어져 있어서 얼룩짐 베개에서 쉰내 남 먼지가 많아서 재채기 계속함 침대 위  안됨 테이블에 스탠드 작동 안 됨 혹시 나 해서 침대 밑 보니 쓰레기 있음 깔끔 떠는 성격 아니에요 더 보기일 기념으로 노보텔 시간 패키지를 다녀왔습니다 그랜드 머큐어 앰배서더를 두 번 가보기도 했고 그래서 이번엔 노보텔을 선택했는데 생각보다 한강도 보이고 그래서인지 뷰도 괜찮았고 야경 뷰 룸 컨디션도 좋았습니다 직원분들도 친절하셨어요 공청기 대여도 해주시고 수건 추가 요청에 로봇이 가져다주는 게 엄청 신기하고 귀엽다만 생각보다 수영장이 너무 작아서 많이 아쉬웠어요 그래도 이용할 수 있어서 다행이었다는 걸로 위안 삼았습니다 다음엔 노보텔 스위트 가보려고요 더 보기시간 패키지로 여유 있게 호캉스 즐기고 갑니다 단 방음이 안되는 점이 아쉬웠습니다숙소 방음이 잘 안된 거 빼곤 좋았습니다 옆방 쿵쿵 소리가 너무 크게 들림객실 인테리어는 깔끔하고 좋았는데 창문이 안 열성인지 먼지가 너무너무너무 많았어요  이불 들쳐내는 순간 먼지가 계속 날려서 눈에 보일 정도  침대는 푹신해서 좋았습니다칸타 푸스코너무 깨끗하고 좋았어요 정말 모든 게 완벽했던 하루였어요 편의적이고 현대적인 부대시설 서비스 모든 것 포함이요잘 썼습니다체크인했던 날 수영장이 안 열어서 아쉬웠지만 나머지는 다 괜찮았어요 특히 스카이 킹덤  너무 맛있었음 킹스 베케이션 분위기도 좋았고요침대가 너무너무 좋았어요편하고 좋았습니다친절하시고 다 좋았습니다용산역이랑도 가깝고 아이파크몰에서 놀 것도 많이 위에 라운지도 좋았어요용산 최고의 숙소입니다언제나 최고를 자랑하는 곳다 완벽했습니다 굿입니다깨끗합니다좋은 추억 많이 만들고 갑니다수영장 안내가 제대로 안돼서 이용을 못했어요 일요일엔 시까지면 일요일 체크인할 경우 사용을 못 하는 건데 체크인할 때 안내를 제대로 안 해줘서 조금 아쉽네요 위치는 좋았습니다 잘 쉬었습니다숙소 다 좋은데 환기할 수 있는 창문이 없어서 아쉽네요 그리고 티브이가 인터넷 가 아니라서 영화 같은 거 못 봤습니다 그런 점은 아쉬워요 조식 단품이긴 했는데 충분히 양도 많고 맛있었습니다괜찮았어요너무 깔끔하고 편했어요 로봇이 하우스키핑 하는데 신기했음비싼 덴 다르네요 깔끔하고 구성비 좋았습니다 다만 칫솔 치약 등이 없는 게 조금 아쉬웠어요좋네요 역시 추천합니다좋습니 자편하게 잘 쉬다 왔습니다깔끔하고 로비도 멋집니다수영장 주말만 가능하다 해서 일월로 갔는데 일요일 오후 시까지라고 해서 수영장 이용도 못했네요 방은 왜 이렇게 먼지가 많은지 청소 대충 하시는 거 같아요 리모컨이나 이런데 디테일한 곳에서는 청소가 좀 미흡한데 큰 틀에서는 만족합니다완벽합니다코로나 때문에 부대시설 이용 못해서 아쉽지만 다른 모든 것이 완벽했어요 또 가고 싶어요야경도 예쁘고 룸 컨디션도 좋고 스카이 킹덤 바비큐 패키지도 너무 만족스러웠어요 다만 코로나 때문에 수영장 이용에 대해 유선문의드렸을 땐 이용 가능하다고 하셔놓고 체크인 때는 불가하다고 하시길래 조금 어이가 없었네요 결국 컴플레인을 거니 그랜드 머큐어 수영장을 이용할 수 있게 해주시긴 했는데 다음부턴 아예 상세 설명에 수영장 및 피트니스 이용불가라고 표시해주셨으면 좋겠네요조식 패키지였는데 코로나로 조식 뷔페 이용 못하고 단품이었던 점이 아쉽네요 룸 컨디션은 괜찮은데 세면대와 침대가 붙어있어서 그런지 처음에 조금 꿉꿉한 느낌이 있었습니다 운동시설은 코로나로 인해 그랜드 머큐어 시설 이용해서 매우 좋았습니다 전반적으로 만족스러우나 서비스적인 측면에서 직원분들께 어떤 것들은 요청하거나 문의하면 매번 야 놀 자에서 예약했다는 것을 강조하며 약간 무시하는 느낌을 받았어요 청결하고 친절하십니다 잘 쉬다 갑니다너무 좋아요정말 좋은 하루였습니다노보텔 그냥 말해 뭐 해요 오성급 호텔 굿입니다 아주 잘 잤어요좋았습니다좋았어요패키지로 이용했는데 너무 좋았네요 가격 대비 너무 좋았어요 방도 깨끗하고 잘 머물다 갑니다창문 밖으로 보이는 것도 예쁘고 룸도 좋았어요 코로나에 대한 대비도 잘 되어있고 시설도 너무 좋았습니다 다만 배정받은 방의 야경은 기대 안 하셔도 될 것 같아요깔끔하고 청결한 객실 상태에 만족합니다코로나로 킹스 베케이션 못 가서 더 리본에서 패키지를 즐겼는데 역시 한강뷰가 예술이네요 객실 침대는 많이 작았지만 나머지는 너무 좋았어요좋아요 객실 깔끔해요룸 컨디션 좋음 청결도 좋음 담엔 스위트로 높은층달락햇으나 구층 줘서 좀 그건 그랫음담에또올의향잇음더보기침대가 너무붎아주 좋습니다 최고예요달에 한 번 정도 이용하는데 객실 청소가 잘 안 돼있어 방을 바꿨습니다편하고 좋아요 침대도 푹신하고 다만 테이블이 좀 크면 어떨까 의자도 개 더 있으면 좋을 거 같아요너무 좋았어요너무 좋아요친절하고 깨끗하고 좋았습니다들어가자마자 머리카락이 있었지만 온수가 잘 나오고 편안합니다 코로나로 인해 호텔 말고는 이용할 곳이 거의 없었어요 하지만 주변 아이파크 몰이 있고 객실은 만족했습니다 시간 스테이가 최대 강점인 것 같아요동대문도 가봤었는데 거기가 훨씬 좋았고 서비스도 별로였어요 방도 생각보다 좁았고 화장실도 별로였어요 이 돈 주고 갈 바에는 그냥 좋은 모텔을 가는 게 나을 것 같아요만족합니침대에서 조금 냄새가 나고 치약 칫솔이 없다는 게 아쉬웠는데 서비스랑 다른 건 다 조아서 용 재방문 의사 꼭 어메니티 확인해서 가세용 스카이비치에서 이용하고 싶었는데 코로나여서 실내에서 진행된 것도 나쁘지 않았어요완전 푹 쉬고 갑니다 쩔어용잘 쉬다 갑니다 추천드려요생일날 너무 편안하게 지낼 수 있어서 좋았어요 패키지로 함께 있는 스카이 비치가 너무 좋았어요너무 잘 쉬었어요잘 놀고 감다깔끔한데 뷰가 살짝 아쉬웠습니다호캉스 보내다 갑니다항상 편하게 이용하고 있습니다항상 편하게 이용하고 있습니다항상 완벽한 곳바비큐 패키지 비추감사합니다깔끔하고 정말 좋았습니다 만족합니다너무 좋았습니다쾌적하고 편히 하게 이용했습니다코로나 때문에 부대시설 못 쓴 게 아쉽네요 나머지는 만족편리한 위치깨끗했어요가격 대비 너무 좋았어요정말 좋네요깔끔하고 좋아요지금 누워서 글 쓰는 중 겁나 잘 쉬는 중코로나 때문에 부가시설 이용 못했지만 만족스러워요용산역 출구와 붙어있어 접근이 용이하고 차량으로 방문해도 편합니다 건물 층 편의점이 들어와있어 간단한 간식 음료 구매하기 좋습니다 룸 컨디션도 만족스러웠지만 화장실과 샤워실 수건걸이가 있다면 더 좋을 것 같았습니다깔끔하고 예뻤어요최고예요잘 쉬다 갑니다깨끗하고 너무 좋아요친절하십니다다 괜찮았는데 방에 쿠션들은 아예 빨래를 안 하시는 건지 냄새가 좀 나요좋고  편리합니다룸서비스도 좋고 객실 깔끔해서 좋았어요너무 좋았어요 스카이비치 음식도 좋았어요 토시살이랑 그 피스타치오 주시는데 정말 맛있고 치즈도 계속 먹을 수 있어서 좋았습니다 아쉬운 것이 있다면 뷰가 너무너무 아쉬워요  방청을 썼는데 용산역발전 안 된 땅 저 멀리 한강대교 원효대교가 작게 보이더라고요 뭐 알고 가서 그러려니 했는데 석양을 그래도 스카이비치 가면 볼 수 있을 거라 생까했는데 아예 한강도 안 보이더라고요   진짜 그 좋은 옥상에서 남산도 안 보이고 그래서 아쉬웠어요 토시살 진짜 맛있었어요 제일 좋았건 뷰가 스카이비치 가는 엘리베이터 안이었우요다 먹고 숙소가면서 봤는데 이쁘더라고요 더 보기객실은 깔끔하고 직원분들도 친절하고 좋았는데 스카이 비치는 아쉬움이 많았어요 코로나 때문인지 모르겠지만 사람이 없다고 조명도 제대로 키지도 않고 음식도 별로이고 눈치 보여서 제대로 먹지도 소칫솔을 꼭 챙겨가세요 방 컨디션은 전반적으로 좋습니다 어머니 티가 살짝 안 좋은 게 흠입니다깨끗하고 좋아요코로나 너무 싫어요 다시 가야죠최고의 호텔입니다괜히 성급 호텔이 아니네요 친절한 서비스부터 맛있는까지 너무 만족스러웠고 다음에 가능하면 또 방문하고 싶습니다깨끗했어요깨끗하고 좋아요깨끗하고 좋았어요너무 좋습니다너무 좋아요 돈 있으면 매주가 고품물어보니 주니어 스위트 정도 되어야 한강이나 남산타워 뷰 가능이네요 참고하세요침대가 정말 좋았어요 잘 쉬었습니다호캉스 굿굿친구랑 호캉스했는데 너무너무 좋았어요 청결도 내부 구비 품도 좋았습니다 칫솔치약은 구비되어 잇지 않으니 다들 챙겨가셔요 창문에 옆호실 앞이 보여서 쪼끔 당황스럽긴 했어요침대가 푹신푹신하고 정말 좋았어요 층으로 배정받았는데 뷰는 별로였어요 고층에 배정된 스위트로 가야 뷰는 보장될 것 같습니다 밤늦게 냉장고 쪽에서 이상한 소리가 나서 로비로 연락했더니 바로 와서 해결해주더라고요 친절하고 서비스는 만족입니다 코로나로 부대시설 일부를 이용하지 못했던 건 아쉬워요 그래도 편히 잘 놀다 갑니다 더 보기용산역 바로 옆이라 교통도 편하고 넓고 최고예요깔끔하고 좋았습니다드래건 시티 노보텔 검색 후 첫 번째 영상 채널에 영상으로 올렸습니다코로나 땜에 망설였지만 오히려 조용하고 좋았네요 차분히 쉬다오고 호텔 컨디션도 괜찮은 듯친절하고 굿루프탑도 깔끔하고 방도 전망 좋습니다편하고 좋아요깨끗하고 좋았어요 코로나만 아니었으면 수영장 이용했을 텐데 아쉽네요 잠잠해지면 또 이용해야겠어요너무 깔끔하고 너무 친절해서 너무 좋았습니다용산 들릴 때마다 오는 것 같아요 너무 좋아요시설도 너무 고급 지고 침대도 마약 침대 같습니다 패키지가 코로나로 인해 뷔페식에서 서방식으로 바뀐 건 아쉬웠지만 맛있게 잘 먹었고요 피트니스센터도 필요한 기구는 다 있는 느낌이라 만족스러웠습니다 랫 풀다운 없는 게 조오 오금은 아쉬웠네요 직원분들도 친절하셔서 편하게 쉬고 갑니다여러분 제 말 믿고 시간 스테이하세요호캉스란 이런 것일까 생각했어요 매트리스 좋아서 시간 자도 한 시간 잔 느낌코로나 때문에 피트니스 이용하지 못한 것과 약간의 베개 먼지 날림을 제외하고는 맘에 들었어요다 좋았는데 코로나 때문에 아이파크몰로 연결되는 통로가 폐쇄되어서 좀 불편했네요 하지만 코로나로 인한 거여서 충분히 이해합니다 잘 묶다 갑니다좋았습니다체크인부터 체크아웃까지 너무 친절하게 응대해주셔서 정말 편하게 푹 쉬다 가요 또 방문할 거예요자주 갑니다매우 좋았습니다깨끗하고 좋아요깨끗하고 좋았어요 남산 뷰도 좋았고 잘 쉬다 왔습니다더 이상 말이 필요 없을 정도로 만족하였습니다 코로나로 고생이 많으신데 건강 유의하시고 다음에 다시 뵙겠습니다 감사합니다좋아요 역시나 호텔 무료룸 업그레이드도 해주시고 서비스는 말이 필요 없죠 욕실이 약간 냄새나는 거 말곤 좋습니다너무 좋았어요 자주 이용할 것 같아요용산 위치 너무 편하고 쾌적했어요 층 편의점도 좋고 근처에 이마트 있는 것도 좋고 침구 최고이틀 동안 잘 쉬다 갑니다 시간 패키지 너무 사기 아닌가요 요즘 같은 시기에 아주 딱이에요 호텔에서만 머물면서 안전하게 잘 놀았습니다 객실도 생각보다 넓고 침구도 푹신푹신 너무 좋네요 즐거운 시간이었어요접근성은 좋으나 용산역과 연결통로가 막혀 안타까움매우 깔끔하고 위치적으로도 좋았습니다첫 호캉스 성공적입니다 잘 쉬다 갑니다시간 서비스도  로봇 서비스도 객실 상태도 너무 좋았습니다호캉스 잘 보내고 갑니다편안히 쉬고 가요시간으로 호캉스 제대로 즐겼어요시설도 매우 깨끗하고 침구류가 너무 마음에 들어 요다음에 또 이용 하고 싶네요하루 즐겁게 보냈습니다잘 쉬다가요 바비큐 패키지 고기 맛있어요 침구 푹신 뽀송 프런트 여직원분 친절 담에 또 올게요좋았다 너무늘 잘 쉬고 가요 깨끗하고 접근성 좋고 조용하고룸이나 접근성은 좋은데 편의 시설이나그저 그래요너무 좋았습니다 밤에 잘 잤어요코로나 때문에 조식 뷔페를 먹을 수 없어서 아쉬웠어요 성급 치고 시설이 그다지 좋은 거 같진 않네요즐거웠습니다위치성 숙소 컨디션 모두 만족합니다 다만 별이 빠진 이유는 층에서 파는 음식이 너무 하기 때문이에요  치킨을 시켜 먹었는데 만 원이 넘는 비싼 금액에  못 미치는 이제껏 먹은 치킨 중에 최악이었습니다 두껍고 딱딱한 속이 누런 튀김옷에 치킨은 한 조각씩 먹고 감자튀김만 먹고 나왔네요  생맥 잔 치킨 한 마리 해서 만 원 돈이었는데요 흑 그리고 커피는 네스프레소 커피 머신 기계로 내리는 것 같았는데 제가 제대로 본 건가요 만족스러운 숙소를 못 따라오는 판매 음식들인 것 같네요 체크인할 때 안내해주셨던 남자 직원분 너무 엉망이었어요 저희가 물어보는 말도 중간에 자르고 조식 포함 객실인데 조식 빼고 안내해주려고 하고 이건 그 직원뿐만이 아니라 호텔을 이용하면서 만났던 직원분들 십중팔구가 성의가 없고 불친절한 느낌을 받았습니다 근데 제일 엉망이고 실망스러웠던 건 조식 그 자체였네요 분명 체크인 시 조식 설명할 때 레스토랑 단품 메뉴를 고를 수 있는 것처럼 말해줬는데 아침에 레스토랑 올라가 보니 저렇게 주네요 조식 뷔페가 한솥도시락급으로 변신 성급 호텔에서 차선책으로 내놓은 조식 수준이 이따위라니 너무 실망스럽고 기분이 나빴어요 후식으로 과일도 주긴 했는데 과일도 좀 오래된 것처럼 질이 안 좋았어요 조식 퀄리티가 좋다고 해서 예약한 호텔인데 아무리 변수가 있었다지만 이딴 식으로 음식이 나오다니 같이 갔던 친구한테 민망했고 친구도 여기 같은 곳은 처음 본다고 호캉스 기분 다 망쳤다고 그랬고요 두 번 다시 올일 없을 것 같습니다 수고하세요 더 보기깔끔하게 좋습니다체크인할 때 줄을 서서 기다려서 했어요 번호표 등을 나눠줬다면 좋았을 텐데 아쉬웠네요 그리고 스카이비치 때문에 예약한 건데 비가 와서 대체한 레스토랑 정말 형편없었어요 고기는 미리 구워놔서 질겼고 움식 가짓수도 너무 없었고 이래저래 실망이었어요깨끗하고 친절하고 수영장 무료로 사용기는 하고 또 이용할 의향 있어요시설 좋네요시설 좋네요항상 편하게 애용하고 있습니다항상 편하게 애용하고 있습니다좋았어요  깔끔하고 가족들이랑 잘 쉬다 왔습니다 객실이 깨끗하고 좋았어요무엇보다 주변에 편의시설이 가까워서 좋았고요 카펫 바닥이 아니 것도 좋습니다침대가 너무 좋아요 방도 쾌적하고 다만 아쉬운 건 욕실이 조금  물때 끼듯이 샤워호스에 있더라고요또 방문합니다좋았습니다행복한 후 캉스침대가 엄청 편해요아이 파크뷰라서 좀 아쉬웠지만 전체적으로 만족좋았어요정말 편하고 주변에 용산 아이파크랑 연결돼 있어서 비 안 맞고 매우 좋음시설 청소상태  굿이요최곱니다  코로나 잠잠해지면 또 갈 예정좋아요 호캉스로 다녀왔는데 정말 편안하게 잘 쉬다 왔습니다 코로나 재확산으로 스카이비치 비비큐는 정상 운영이 아닌 플레이트 서빙을 받았긴 하지만 만족할만한 저녁식사였어요 침구는 깨끗했고 룸 컨디션도 최상이었습니다 뷰도 아이파크몰과 한강뷰가 동시에 가능한 룸으로 배정받았고 요다음 기념일에도 방문하려 합니다깨끗해요쇼핑과 음식 모두 최고였습니다아주 나이스너무 좋아서 하루 더 있고 싶었어 요다음엔 스위트로 가보려고요 쉬는 날이어서 그런지 사람이 좀 많긴 했어요 체크인 체크아웃할 때 조금씩 기다려야 하는 시간이 있어요너무 좋았습니다 시설도 깨끗하고 수영장 헬스장도 이용이 좋았습니다 그렇지만 수영장은 동대문점에 비해서 좀 좁네요호캉스 다녀왔습니다 휴가철이라 그런지 사람이 엄청 많더라고요 객실이 생각보다 작았지만 깔끔하고 좋았어요 룸서비스도 맛있었지만 구성이 좀 더 다채로우면 좋을 거 같아요결혼 전 생일 선물 너무 좋았어 요담에 또 방문하려고요용산역  접근성이  너무  좋아요객실 컨디션 편의성 모두 만족합니다 다만 층 로비에서의 스카이비치 이용안내와 스카이비치 입구에서의 안내가 달라서 번은 왔다 갔다 한 것이 조금 아쉬웠어요 로비에서는 바우처 얘기가 없었습니다 예약 담당 데스크 직원은 아니었습니다시설은 좋고 창가 쪽 먼지는 많아요방은 좀 좁고요 비가 와서 스카이비치를 잘 이용을 못해서 아쉽네요 위치도 좋고 깔끔해서 좋았습니다 수영장은 작은 실내 수영장입니다용산역이랑 가까워서 좋고 직원분들도 친절하시고 시설도 좋았습니다토 터나님청소 부분은 좀 더 신경 써야 할 부분이 있는데 아이파크 몰이랑 연결되어있어서 너무 편하고 교통도 편해요 직원분들도 너무 친절하시고 침대도 너무 편해요 푹 쉬다가 가요아주 좋아요 잘 쉬다 갑니다메가바이트 치킨도 맛있고 괜히 성 호텔이 아니네요침대가 폭신하고 좋았어요 전반적인 시설 깔끔하고 괜찮았습니다 다만 우는 가격 대비 분명 메뉴 개선이 필요합니다편하게 잘 쉬다 왔습니다숙소가 너무 좋고 깨끗했어요 용산역이랑 가까워서 쇼핑하기도 좋고 실내 수영장과 루프탑 수영장 모두 즐겁게 이용하고 왔어요역시 믿고 가는 노보텔입니다깔끔하고 서비스 응대 속도도 빠른 편입니다깨끗했어요다음번에도 이용할 예정입니다좋았습니다좋아요 단 저녁 뷔페는 쏘 쏘성급 호텔이라 그런지 전반적으로 다 좋았습니다 용산역에서 호텔이 바로 연결되어있고 직원분들도 친절하셨습니다 카운터에서 이용권을 까먹고 안 챙겨주셔서 로봇으로 보내주신 게 너무 인상 깊었어요 객실 상태도 좋았으나 눈에 잘 안 보이는 쪽에 머리카락이 보였지만 그 정도는 충분히 이해가므로 패스 대신 호텔에 있는 킹스 베케이션 쪽으로 가는 길에 대한 설명이 조금 모자랐던 거 같습니다 그것 빼곤 모두 완전 만족 총점 좀 더 보기청소상태 사진 참고하세요 침대가 가볍게 쓰윽 밀리는데도 이 상태라 기겁했습니다가격 좋고 시설 좋고 직원분들 친절하고 호텔에서 놀기 딱 좋습았습니다구슥슥슥좋았습니다괜찮았음 시설이 쾌적했음 음식은 별로였음 비 와서 실내서 먹었는데 아주 그냥 그랬어요아주 좋습니다잘 쉬다 갑니다최고예요 다시 방문할게요쾌적하고 좋았습니다좋았습니다용산에서 즐거운 하룻밤 잘 보냈어요위치도 좋고 야경도 좋고 시설도 깨끗하고 좋았어요성수기라서 인원이 매우 많았습니다일단 위치가 편하고 편의시설이 잘 갖춰있어 좋네요 서비스도 친절하고요전반적으로 만족하고 갑니다용산역에서 바로 접근할 수 있어서 뚜벅이 여행자에게도 완전히 만족할 수 있는 호텔이었습니다 해외여행 못 가는 이 시기에 호캉스로 여행 느낌 낼 수 있어서 좋았습니다호텔 전체적으로 깨끗하고 편의시설 등이 좋았습니다비품관리 부족너무 좋은 호캉스였습니다서비스 직원 친절도 시설 편의성 교통 접근성 등 여러 면에서 참 탁월하고 불편함이 없었습니다 다만 바닥인지 이불에서인지 약간 고린내 하수구 냄새가 났어요 총평 참 좋았습니다깨끗하고 직원분들도 친절하시고 침대도 푹신푹신하고 호캉스 제대로 즐겼습니다주변 인프라 쩔고 역이랑 연결되어 있는 게 너무 편했습니다사람이 많아서 체크인에 시간이 좀 오래 걸렸지만 괜찮아요엄청 좋아요구성비 최고입니다호캉스하기 좋았어요 숙소 시설이랑 컨디션 다 좋았습니다 주말이랑 체크인 체크아웃 전부 기다려야 했지만  어쩔 수 없는 거니 이해합니다 루프탑 패키지인데 날씨로 이용 못한 건 너무 아쉬워요시설은 좋았으나 솔직히 수영장은 목욕탕 냉탕 느낌 루프탑 바비큐는 메뉴는 몇 가지 없었으나 고기 맛있음 비 와서 중간에 실내로 옮겼는데 한참 동안 음식 안 나오고 나온 것도 노마 플래터 먹는 일 절대 없게 하세요지하철과 가까워서 좋습니다뷰 괜찮고 위치 접근성 좋아요 다만 청소 상태가 불만족깔끔하고 아이파크몰 가까워서 접근성 최고이고 조식도 장맛이요 강추강추 또 올 거예요꽤 괜찮았습니다편히 잘 쉬다가요 또 가고 싶네요 욕조 있는 방원해서 낮은 층으로 배정받았는데 신청해서 층에서 그나마 좋은 뷰실 컨 보고 가요 수영장은 작긴 한데 사람 몰리는 시간 피해 가서 잘 놀았어요 더 보기좋았어요 수영장이 작긴 했는데 사람들 몰릴 시간 피해 가서 잘 놀았네요 또 가고 싶어요너무 깔끔하고 만족스러웠습니다편안했어요좋았어요 수영장 바비큐완벽했던 호캉스침대가 작았지만 진짜 너무 즐거운 호캉스였습니다좋았습니다너무 깔끔하고 만족합니다이번에는 무난했어요노보텔 최고편하게 잘 쉬다 갑니다좋음집 앞에 위치하고 있는 드래건 시티 노보텔에 아침 날씨가 좋아 당일 예약을 하고 떠났습니다 비록 풀 발하면서 비가 쏟아지기 시작하여 예약하고 간 야외수영장을 이용하진 못했지만 문은 열었지만 아기 감기 걸릴까 봐 이용 안 함 일주일 안에 사용하면 된다는 쿠폰 연장을 받고 실내 수영장에 가서 놀았습니다 코로나로 인해 두 시간씩 끊어서 수영장을 이용하게 하였고 야외수영장 패키지는 시 체크인이 가능하여 사람이 적은 시간대에 실내수영장을 사용할 수 있어 좋았습니다 룸서비스로 점심과 아침 식사를 해결했는데 음식이 맛있고 아이도 잘 먹어 좋았습니다 저녁은 층에 위치한 데 가서 먹었는데 역시 맛있고 깔끔했습니다 테이블 간 거리도 넓어 비교적 안전하게 식사할 수 있었네요 호캉스 떠나실 분들에게 적극 추천합니다 더 보기용산역에서 바로 이어지는 통로가 있어서 도보로 분이면 호텔에 도착합니다 다만 체크인 시 줄이 엄청 길어서 분 정도 일찍 와야 합니다 호텔 내 객실은 매우 깨끗하고 침구류 또한 완벽합니다 하지만 환기가 되지 않는다는 점 욕실과 화장실 위에 문이 뚫려있다는 점은 조금 아쉬웠습니다 신발장도 따로 없습니다 하지만 완벽한 룸서비스 직원분들 친절도 구성비 면에서는 최고의 성급 호텔입니다자주 오는 곳이에요 정말 좋음 근데 이번에는 가족단위로 많이 와서 그런지 옆방 아이들이 너무 시끄러워서 문의했더니 방 바꿔줬어요위치도 좋고 친절하시고 좋았습니다스카이비치 디너 패키지로 다녀왔는데 음식이 맛은 좋으나 인원 대비 양이 다소 부족했습니다 특히 뷔페인데 고기 구워주시는 직원도 한 명에 불판도 하나이다 보니 줄도 오래서 고 고기를 여유 있게 먹지 못하는 불편함은 다소 아쉬웠습니다수영장 사람 많은데 믈 다 튀면서 수영하는 몰상식한 사람들 땜에 힘들었습니다 직원분들께서 제지를 안 하시더라고요 정말 수영만 하려고 오는 일반적인 수영장도 아니고 애들 데리고 가볍게 놀려는 수영장인데 좀 그랬어요좋아요 근데 바비큐는 그냥 그래요  맛있긴 한데 비가 와서 실내에서 먹고 음식 메뉴가 적었어요구성비 호캉스로 딱 좋아요잘 쉬었다 갑니다잘 쉬었다 갑니다흠 구성비가 높다고 하던데 그냥 딱 오성급 호텔 중에 이 가격에 이 품질 이런 느낌이었어요 기본적으로 미니바가 부실했고 룸서비스는 한 시간도 넘어서 올라왔고 게다가 취침 공간과 화장실 샤워실 부스가 완벽히 구분 안 됐던 건 진짜 부족했던 거 같아요잘 쉬다가 요 깔끔하고 좋음아주 만족너무 재밌었고 서비스도 좋았어요삭쓰리로 검색하다 스카이비치 때문에 숙박 예약했으나 비가 계속 오는 바람에 제대로 놀지 못해 아쉬웠어요 직원들은 너무 친절하시고 배려해 주셔서 그나마 다행이었고요 워낙 건물이 넓다 보니 스카이비치 가는 층 엘베가 독립적으로 되어 있어서 수영복 입고 로비를 지나기 쑥스러웠는데 층에서 내려 층으로 가서 층 엘베 이용하시면 나을듯합니다 더 보기너무 좋아요 이 옹위치 정말 좋아요 숙소도 깨끗하고 시티 부도 괜찮아요 칫솔은 없어서 미리 가져갔고요 나머지 물품들은 편하게 사용했어요 킹스 베케이션도 음식 맛있어요 음악소리가 커서 오래 머물기는 힘들지만 뷰가 좋아요 또 이용 하고 싶습니다호캉스하기 최고예요 더 보기조아욯너무 좋았습니다좋았어요 하나부터 열까지 다 맘에 들었어요 다음에 또 올게요여기 좋아요 조식도 맛있고  가격도 좋아서 잘 놀다 갑니다성수기 피해서 가면 진짜 기분 좋게 머무를 수 있을 것 같아요 샴푸 보디워시는 있는데 칫솔 치약은 가져가세요잘 놀다 갑니다일 년에도 몇 번을 갈 만큼 애정 하는 호텔이어요 용산역이랑 연결되어 있어 지방에서 올라오기도 편하고 여러 가지 편의시설 접근성도 좋네요 이번엔 룸에서 전화하고 층 바에서 픽업하는 이만 이천 원에 치킨과 감자튀김 생맥 전 세트로 야식 야무지게 먹고 잤네요좋군요재밌게 놀다가 가용호텔 깔끔하고 너무 좋아요 침대가 대박 푹신푹신 잠이 솔솔 옵니다교통 편리해서 좋아요좋아요 방도 이쁘고요교통 편의성부터 정말로 잘 쉬고 잘 먹다가 왔습니다깔끔하고 잘 쉬다 갑니다평소에 가보고 싶었는데 특가 나와서 가봤어요 가장 큰 장점은 바깥 날씨 상관없이 실내 이동만으로도 이마트 등 주요 시설에 갈 수 있단 점이었습니다 단점이라 해야 할지 모르겠으나 일회용품 사용을 줄이기 위해 칫솔치약 등 일부 어메니티는 없는 상태에요 따로 챙겨가셔요좋았습니다깨끗하고 좋아요성금인데 말해 뭐 하나요 좋죠 뭐 더 바라면 욕심쟁이죠생각했던 것보다 주변에 걸어가서 갈 곳도 있고 호텔 안에 편의점 있는 게 좋고 침대가 진짜 일어나기 힘들 정도로 너무 푸근해요아주 좋네요너무 좋아요성급 호텔답게 최고입니다아주 좋아요전체적으로 성급 호텔이라 부대시설도 너무 좋고 조식도 진짜 맛있어요 뷰도 좋았고요 방도 깨끗하고 조용하고 너무 맘에 듭니다 다음에는 더 좋은 방 묵고 싶네요성금보다는 비즈니스호텔 같은 느낌이 강했고 시티 부나 리버뷰나 뷰는 다 별로였어요 용산역이랑 연결되어있어서 좋고 깨끗하고 수영장 잘 이용했습니다좋았습니다좋았습니다좋았습니다좋았습니다호캉스로 이만한 게 없어 좋았습니다깨끗하고 좋았다꺄끗하고 너무 좋아요전체적으로 호캉스하기엔 너무 좋았어요깔끔하고 침대 좋아요소파가 조금 더럽고 수압이 약했어요 하지만 그것만 빼면 방 컨디션은 너무 좋아요 잘 쉬다가요호캉스하기 좋았습니다주위에 아이파크몰도 있고 호캉스하기 최고였어요좋았습니다좋아요 오어아쉬운 점이  성수기 때 체크인이 거의 시반 시여서 루프탑 수영장 이용불가 실내수영장은 애들로 꽉꽉좋았습니다너무 좋고 최고의 날이었습니다굿붓 오세요습해서 그런지 침구에서 약간 냄새나는 거 빼곤 다 좋네요완벽했어요깨끗하게 잘 이용했습니다룸서비스 너무 좋았습니다저번에 한 번 왔다가 길도 편하고 침대도 너무 편해서 두 번째 왔다 갑니다  다음에 또 올게요국내에서 이보다 더 괜찮은 호텔은 찾기 힘들 거 같네요 만족했습니다물놀이 없어도 주변에 가볼 곳 많아 좋아요좋았습니다스카이비치에 가니 휴양지 온 느낌이었어요침구류가 고급 지고 청결상태 좋아서 편히 잘 쉬었습니다 다만 주차 공간이 좀 부족해서 주차하는데 애들 좀 먹긴 했네요 암튼 구성비 좋은 곳이라고 생각됩니다룸 컨디션 좋고 용산역 아이파크몰과 연결되어 있어서 먹는 거 노는 거 밖에 나갈 일이 없었네요 호캉스간다면 다음에도 다시 이용할 것 같습니다라운지 바 가는 길이 어려웠고 냉장고가 안 시원해요층에서 묵었는데 전반적으론 마음에 들었어요 시설도 깨끗했고 직원분들도 친절했고 층에 편의점 있는 것도 좋았어요 뷰는 조금 아쉬웠어요좋았습니다 성급 호텔은 첨인데 뷰도 좋고 만족해요 다만 안 보이는 커튼 구석에 먼지가 좀 있는 게 아쉬웠어요  성이라 너무 기대해서 그렇지 신경 쓰이진 않았습니다저녁에 입실 후 에어컨을 도로 맞춰놓고 쉬고 있는데 새벽에도 계속 땀이 날  정도로 더워서 문제가 있나 하고 카운터에 문의를 했습니다 모처럼 쉬는 날이라 시원하게 쉬고 싶어서 돈 내고 쉬러 간 것인데 돌아오는 말은 확인해보니 호텔 측에서 문제가 있어서 에어컨이 시원하지 않았던 것이고 거기에 대한 보상으로 제시한 것이 레이트 체크아웃을 시켜주겠다 했습니다 저는 오전 시경에 퇴실을 해야 해서 필요 없는 조건이었고 그 사실을 호텔 측에도 전달했었습니다 또한 오전 시쯤에 방을 바꿔준다는 조건을 제시하는 호텔 측의 대처 방식이 매우 불쾌했습니다  그리고 샤워실 또한 게시한 사진과 같이 샤워호스에 검은 곰팡이 같은 것들이 끼어있어서 청결하지도 않았습니다 성 급이라길래 편하게 쉴 수 있겠다 생각했었는데 오히려 다녀온 뒤로 너무 불쾌하네요 비싼 돈 내고 덥게 있다가 샤워실도 부을 청결하고 좋지 않은 추억 가져갑니다 더 보기일단 딱 들어갔을 때부터 직원분들 모두 친절하게 하나부터 알려주셔서 무리 없이 숙소까지 갔습니다 계속 서있으면 아무래도 컨디션을 컨트롤하기 힘드실 텐데도 불구하고 항상 웃는 얼굴과 나긋나긋한 목소리로 응대해주셔서 너무 인상 깊이 남습니다 뷰는 딱히 좋은 곳은 아니라서 사진은 안 찍었습니다 조식은 간이 너무 세지 않아서 만족스럽게 먹었습니다 특히 두유 같은 경우 아침에 먹으면 보통 속이 안 좋아지는데 여기 건 깔끔하게 넘어가서 놀랬습니다 피트니스도 이용했는데 기구들이 청결하고 정리도 아주 잘되어 있어서 너무 좋았습니다 다만 뿌리는 소독제를 놔주셔서 사용 전후에 뿌리고 사용하면 좋을 것 같아요 그리고 다 좋은데 아쉬웠던 점은 칫솔이 비치되지 않아서 층까지 가지러 가야 한다는 점 가져다주시게 되면 원 부과 또 취사가 안된다는 점  너무 아쉬웠어요 그것 외에는 다 만족해요  다음 휴가 때도 여기로 예약할 것 같네요 더 보기숙소도 깔끔하고 다 좋은데 스카이  뷔페 구성이 메뉴 종류가 적고 맛도 아쉬웠습니다 토시살 맛있었는데 수급이 잘 안돼서 줄을 계속 섰어야 했어요 메뉴에 스파게티 대신에 생뚱 맞게 짜파구리가 나오더군요 가격 대비 너무 음식 단가를 낮추려는 게 아닌가 생각이 드네요 그래도 인테리어나 분위기는 좋았습니다 패키지가 아니면 재방문은 안 할 것 같습니다좋아요 오오호텔 안에서만 쉬기엔 적당 호텔 주위는 좀 한산하고 아이파크몰은 생각보다 멀어서 한번 온 걸로 만족합니다 재방문 의사는 없어요 더 보기구성비 좋아요호텔 근처 몰도 가깝고 좋습니다항상 편하고 쾌적하게 이용하고 있어요깔끔하고 좋습니다편하게 놀다 왔어요서비스 너무 좋고 성급 호텔답게 고급 지다너무 좋았습니다수영장에서 놀기 좋았고요 특히 객실도 깨끗하고 침대가 아주 좋아요 덕분에 꿀잠 잤네요 이번 여름내에 다시 갈 거예요또 가고 싶어요 너무 좋아요좋아요 특히 룸서비스도 맛있네요 자주 올 듯패키지로 아주 잘 이용하고 왔습니다 직원분들 친절하고 용산역에서 가기도 편하고 시설도 잘 이용하고 편히 쉬고 왔어요 바비큐는 우천으로 실내에서 이용했지만 맛은 좋았습니다너무 깨끗하고 좋았네요직원분들이 너무 친절하셔서 머무르는 동안 너무 편했습니다 객실 뷰도 너무 좋고 쾌적했습니다 스카이비치도 이용했는데 다소 좁아서 약간 아쉬웠던 거 빼고는 만족했습니다잘 쉬다가 떠납니다서머 패키지라는 거 음료는 층에서 받을 수 있는데 테이크아웃하지 마세요 맥주 양 적고 탄산은 캔 줌 프리메라 종 샘플 세트 주고 꽃무늬 인쇄된 종이 일회용 접시랑 컵 줍니다 굳이 서머 패키지는 할 필요 없어요 시설이랑 친절은 하지만 패키지는 추천하지 않아요 그냥 숙박은 추천평범했어요깔끔하고 친절하고 좋은데  방 내 먼지가 좀 있어요 소파도 얼룩진 곳도 많아요조 아예조아요조조아좋았어요 생일파티하러 친구들이랑 호캉스 즐기러 갔는데 코로나 예방도 철저하게 하고 믿고 편하게 즐기고 왔습니다좋았습니다뷰는 아이파크몰 뷰였지만 방이 너무 편안하고 좋았습니다서울에 여러 호텔 중에서 요번 여기 호텔은 만족도가 정말 높네요수영장이 좁지만 그 외에는 다 좋아요좋아요 오 오오잘 쉬다 갑니다좋았어요  침대가 미쳤네요침대도 너무 푹신하고 에어컨도 잘 작동돼서 편히 쉬었습니다 수영장도 사람 없어서 여유롭게 이용하고 좋은 추억 만들다 갑니다호텔은 좋았지만 제가 머무르는 기간 동안에 중석식이 안된다는 점 숙박이에 사우나 수영장 등 부대시설 이용이 안된다는 사실을 예약 시에 미리 고지하지 않은 점 그리고 트윈은 전망이 없다는 걸 고지하지 않은 점은 아쉽네요킹스 베케이션 패키지로 다녀옴 주말에 가서 그런지 아이 동반한 투숙객들은 많았던 기억 시 분쯤 얼리 체크인 가능한가 물어봤는데 가능하여 도착하자마자 체크인 분만에 해서 매우 편리하였다 얼리체크인 한 만큼 층수는 낮았으나 일찍 체크인해서 노 상관 객실도 깨끗하고 코로나 방역도 철저히 하고 있는듯해서 기분 좋게 놀다 갑니다 층에 편의점도 매우 편리하게 이용 가능 더 보기일단 너무너무 만족하고 왔어요 사진을 찍었었는데 없어져서 못 올리지만 너무 좋았습니다 제일 만족했던 부분은 침대가 너무 좋았어요 한번 들어가면 못 나오겠더라고 용 다음에 또 방문할게요 더 보기깨끗하고 편하고 좋았어요 바비큐 패키지도 구성비 훌륭하였고 킹스 베케이션 또한 너무 좋았네요 푸드 익스체인지도 훌륭했습니다루프탑 바비큐가 맛있었습니다여기는 그냥 최고이에요 진짜최고의 호캉스였습니다너무 좋았어요편안하고 깨끗해서 좋아요구우우우우우웃바비큐 파티는 정말 좋았어요 분위기도 좋고 고층 주시려고 하는 것도 감사하고 깨끗하고 다 좋았어요정말 좋았습니다코로나로 인해 출입문 통제로 정문만 이용 가능하고 엘리베이터 카드키 인식이 잘 안돼서 조금 불편했어요 객실 내에 칫솔 치약이 구비되어 있지 않고 냉장고 미지근해요 전체적으로 깨끗하고 침대가 푹신푹신해서 너무 좋았어요 침대 맛 집이에요깨끗합니다깔끔하고 좋았음아주아주아주아주 좋았습니다 특히 소파가 최고였네요언제나 최고첫 번째는 주차 때문에 힘들었지만 두 번째인 이번엔 주차도 한적했고 전부 너무 좋았아요 아늑하게 잘 쉬다 왔습니다객실도 깨끗하고 좋았어요잘 쉬다 갑니다호캉스 제대로 즐기고 왔어요 좋아요방은 의외로 작습니다 하지만 굉장히 청결한데다만 책상도 많이 작고 벽지가 조금 깹니다프런트 직원 일부가 싹수가 없으셨어요 공격적인 말투 고치세요엠버서더 프리메라 견본품 사용하기 좋아요역에서 가까워서 너무 좋았지만 주변에 뭐가 없어서 나가서 먹기는 힘들었어요  수영장이 생각보다 작더라고요너무 대만족너무 좋았어요 또 방문할게요식사 괜찮아요깨끗하고 교통 편리하고 좋았습니다 시간 패키지도 굿친절했으니 코로나로 인해  먼 종이를 들고 다니면서 입장하는 게 불편했음  미리 설명을 제대로 해줬으면 왔다 갔다 안 했을 듯 헬스장 가는 대 종이 들고 암튼 그 외에는 만족했네요항상 기분 좋게 시간 보내고 가요 다음엔 한강 보이는 곳이었으면 해요편히 있다 갑니다  용산역 바로 옆이고 뷰는 소소였습니다스카이비치 바베튜 패키지 최고였어요 호캉스하기 좋은 호텔이요위치도 좋고 방도 좋고 호캉스 하기 좋아요 바로 앞에 아이파크몰까지 연결되어 있어서 가기도 쉽고성급을 이 가격에 이용할 수 있다니 말이 필요 없는 최고의 숙소입니다싼 가격은 아니지만 너무너무 만족했습니다  또 갈 것 같아요 역시 성호텔 호캉스는 짱 점순이에겐 조식 미포함 패키지가 최고였던 거로친구들과 그냥 안에서 놀고 쉬자 가볍게 생각하고 간 호캉스였는데 방에서 남산타워 보이는 거 보고 깜짝 놀랐어요  뷰도 나름 남산 보여서 괜찮았어요 수영복 다 챙겨갔는데 수영장 안 하는 날이어서 너무 아쉽긴 했지만  그래도 친구들 모두 만족하는 호캉스였어요용산역에서 내리면 바로 연결되어있고 좋아요 그리고 외관도 저녁에 보면 웅장하니 엄청 예쁩니다 이 더 보기수영장에서 서비스  그 아래 스카이라운지 서비스  이것저것 다 안되고 정말 별로예요 그냥 비싼 모텔이라 생각하시고 오시면 됩니다너무 좋았어요서비스 좋고 친구들과 머물 거라서 두 곳을 예약했는데 밤사이 문이 열리더라고요 덕분에 한방은 갓처럼 즐겁게 지내고 용산 역도 가까워서 편리했는데 저희가 편의점을 못 찾았는지 편의점을 못 갔어요 그런 점엔 저희가 멍청했던지라 아쉬웠지만 호텔은 침대 푹신해서 잘 잤고 즐겁게 보냈습니다용산역이랑도 잘 이어져 있고 주차도 편해 보이고 다 좋은데 코로나 때문인지 제한이 좀 있어서 많이 아쉬웠어요 그래도 로비도 깨끗하고 서비스도 친절해서 좀 편하게 지냈습니다쾌적하고 시원함사람이 너무 많아서 다 좋았으나 엘리베이터 타는데 어려움이 있었습니다 아즈 좋아요뷰가 좀 아쉽고 편하게 쉬다 갑니다깔끔하고 좋았습니다비비큐 패키지였는데 룸 컨디션도 좋았어요 비비큐도 나름 괜찮았고 실내수영장엔 아기들이 너무 많아 몸만 담갔네요  아쉽지만 잘 쉬었다 갑니다침대도 푹신하고 잘 쉬다 갑니다바닥에 코털이 있어요굿굿굿굿굿깔끔하고 좋았어요객실 청소 잘 안 하시나 봐요 머리카락 잔뜩 있고 실내수영장 로커 운영 안 해서 조금 불편하고 스카이비치 루프탑풀 물 진짜 진짜 더러워요 녹조 끼여 있고 먼지벌레 머리카락 잔뜩 둥둥 떠다녀요 성급 호텔 맞는지 의심스러운 컨디션입니다 더 보기숙소 청소가 제대로 안다 어서 체크인하자마자 욕실과 세면대 아래 및 침대에서 머리카락들을 여럿 보았어요 성급 치고 정말 안 믿기는 객실 청소 상태에 놀랐습니다 나머지는 다 좋았는데요 코로나라고 실내수영장 라커룸이 이용 안되는 중인 게 그런 것치고는 한 물에서 다 같이 노는 수영장은 운영 중인 게 의아했어요할 거면 같이라고 안 할 거면 둘 다 하지 말지로 커 없어서 매우 불편하니 객실에서 수영복 입고 다 준비 끝내고 가운 입고 가면 돼요 더 보기투숙객들이 많았어요호텔 내부는 그냥 그렇지만 시설이나 서비스가 좋아요로비도 객실도 멋있고 깔끔 좋아요좋습니다감사합니다청결하고 좋아요 역시 성급 호텔역에서 가까움왜 성급 호텔 노래 부르는지 알 거 같습니다 여자친구랑 호캉스 제대로 즐기고 왔습니다 호캉스하러 갔었는데 푹 잘 쉬었습니다청결했어요이번에 수영장도 같이 패키지로 이용했는데 코로나로 인한 수영장 운영시간 빼고는 언제나 후회 없네요친절한 직원분들과 꼼꼼한 코로나 발열 체크가 인상 깊었고 다만 침대에 푹 앉으니  먼지가 막 날리던 게 아쉬웠어요 시 체크인해서 잠깐 들어갔는데 옆방에 청소 중이신지 벽을 몇 번 치는 것 때문에 놀랐던 거 빼면 다 좋았습니다프리메라 견본품 너무 좋습니다항상 후회 없는 선택입니다진짜 최고입니다다음에 또 오고 싶은 곳너무 좋아요 오좋았습니다객실보다는 시설 이용하는데 좋더라고요 음식도 맛있고 분위기 좋아요침대 이불 간지러워요 방 냄새도 났어요  완벽했어요 다만 용산역 연결 층 통로가 폐쇄되어있어서 그쪽으로 넘어가기가 너무 수고스러웠네요노보텔 다 좋았어요 그런데 패키지 상품 중에 킹스 베케이션에서는 햄버거만 먹는 거 추천합니다가끔 가는데 좋습니다화장실이 오픈되어있어요뷰도 좋고 좋았어요 다음에 또 이용하도록 하겠습니다다시 올 수는 없을 것 같아요 카드키를 찍어야만 층수에 맞춰 갈 수 있는 엘리베이터 칫솔치약 유료상품이라는 미리 층에서 설명을 해주었더라 첨 고객은 엄청 불편할 것 같아요 설명 없이는 칫솔치약도 미리 얘기해줬음 체크인할 때 천 원에  구매하지  비싸게 천 원 주고 구매하지 않았을 거고 진짜 늦게 갖다 주심요 죄송하지만 다시는 오고 싶지 않았어요 엘베만 분 넘게 왔다 갔다 탄 거 생각하면  별 하나도 아까워요위치는 정말 좋아요 용산역 아이파크몰 코앞이에요 다만 객실에 있는 사이드 테이블 다리 한쪽 고무가 빠져서 테이블이 흔들려서 와인 잔 와장창 깨지고 밤중이라 청소기는 못 돌린다 하셔서 그거 땜에 한밤중에 객실 옮겼고요 옮긴 객실은 침대 위 간접 등이 고장 나서 계속 깜박거려서 꺼놓고 구비되어 있는 와인잔은 두 개 사이즈가 다르더라고요 프런트에 전화해보니 그럴 수 있다고 하더라고요 기본적으로 와인을 둘이 마실 때 잔을 다른 크기로 마시진 않을 텐데 여러모로 기분 안 좋게 자고 왔네요 재방문 의사는 없습니다 더 보기귿코로나 때문이지만 정문으로 만 다녀야 되는 살짝 불편했어요스카이비치 한가해서 놀기 좋았어요 룸 컨디션도 좋고  잘 즐기다 왔어요객실도 넓고 고층에서 보는 야경도 좋고 침구류도 푹신하고 다 좋았어요 다음에는 호텔을 더 잘 이용하고 싶네요체크인이 너무 오래 걸린 것 빼고는 괜찮았습니다지하철이랑  가까웠음 그런데 주변에 진짜 뭐 없어서 그냥 호텔에만 있는 게 좋을 거 같았어요 그래도 깔끔하고 직원분들이 친절해서 마음에 들었습니다 다음에도 이용하고 싶어요아주 편하고 맛있는 바비큐  멋있는 뷰와 함께 편하게 쉬다 갑니다침대가 너무 편해서 진짜 잠 잘 자고 왔네요 아이파크몰에서 식사 및 쇼핑 가능한 게 제일 좋았어요 편하고 전망 좋고 패키지로 가격 착하고 최고입니다 편하게 쉬었어요 바우처로 킹스 베케이션에서 음료 마셨는데 그게 정말 좋았어요 다음에 또 이용할래요 완전 추천행복해서 여 뷰도 너무 좋고 수영장도 좋고 친절하고 너무 좋았어요 칫솔은 객실에 없고 층에서 받아와야 해요호캉스 베리굿친절하고 깨끗하고 좋았어요바비큐 패키지 생각보다 먹을 건 없어서 거의 맥주만 마셨어요 근데 음식 앞에서는 마스크를 하거나 말을 하지 않아야 하는데 그런 게 잘 지켜지지 않아서 조금 찝찝했네요 객실은 깔끔하고 편했습니다용산역에서 위치도 정말 가깝고 다들 친절하셨어요 객실도 청결하고 좋았어요 수영장은 무료라서 그런지 그냥 동네 수영장 느낌이었어요 룸서비스가 안되는 건 아쉬웠지만 그래도 재미있게 놀다 왔습니다 구성비 진짜 좋은 거 같아요친절하고 좋았어요너무 좋았습니다좋아요 깔끔하고 루프탑 사람 없어서 좋았어요 날도 좋고 굿굿 잘 머물다 갑니다용산역에서 가까워서 좋고 수영장도 작지만 딱 좋았을 룸 컨디션도 괜찮은 편조은 곳조은 곳가끔 오지만 늘 좋습니다잘 쉬다 갑니다서울 가면 여기만 가야겠어요 구성비 최고말해 뭐 합니까 깨끗한 성급은 진리죠깨끗한 객실패키지로 예약하고 다녀왔어요  전날 비가 너무 많이 와서 걱정했는데 다행히 비가 안 와서 다행이었어요 하지만 비가 와서 너무 춥 직원분들이 타월을 주셔서 다들 두르고 있었네요 음식 가짓수는 저는 대했던 것보다 많아서 구성비 대비 나쁘지 않다고 생각했는데 음식이 식은 게 많아서 좀 아쉬웠어요 날이 추워서 그런 것도 있겠지만 객실은 언제나 만족스럽고 침대 침구 다 좋아요 비비큐 포함 좋은 패키지로 편히 쉬다 갑니다직원들 서비스와 친절함은 물론이고 얼음 요청을 번 했는데도 친절히 가져다주셨어요 시설도 깨끗하고 직원들 마스크 착용으로 인해 안심하고 놀다 왔습니다너무너무 좋았습니다 강추 드려요좋았습니다정답게 완벽했어요 수영장은 조금 실망했어요 좋았어요 뷰도좋았습니다호텔 깔끔하고 좋았어요 서비스도 친절하셨습니다 칫솔 일회용이 제공되니 문의해보세요 편히 쉬다가 갑니다너무 좋습니다잘 쉬다가 갑니다  굿 잘썻어욭처음 숙소 들어갔을 때 방에 누가 마시던 물이 있어서 바로 인포에 문의하니 빠르게 방 이동시켜 주셔서 편했고 전체적인 시설에 모두 만족했습니다잘 머물다 가요체크인 절차가 불편했지만 만족도는 좋았습니다정말 좋았습니다좋았습니다성금인 만큼 깨끗하고 좋아요아주 좋았어요 구성비 짱침대가 푹신해서  편안한 잠자리가 되어  기분이 좋았습니다청결해요또 가고 싶을 정도로 너무 좋아요스케줄만 없었으면 하루 더 지네고 싶은 곳 여고생 여대생 딸들 셋과 엄마가 하기 좋은 여행 낮 시 도착해서 싹쓸이가 출현했던 스카이 비취에서 물놀이 모래놀이 사진 정말 잘 나옴 호텔 네 깔끔한 편의점 도보 분 거리 아이파크에서 식사와 쇼핑 체크아웃 하기 전 실내수영장도 좋았어요 알차게 보낸 박일 굿도 보기씨 입장 스카이비치 패키지 이용 체크인은 시였지만 로비에 가방 맞기고 야외수영장 이용층 편의점 저녁에 드레콘킹덤야경인근에 아이파크  볼거리 먹을거리 괜찮은 여행이었어요 더 보기직원도 친절하고 객실도 깨끗합니다객실도 깨끗하고 호캉스 짱언제나 좋았어요좋았습니다지금 가라 두 번가라명성만큼 최고네요조은 곳 오조은곳잏너무 좋은데 여름이라 체크인 한 시간 기다렸어요 정말 편하고 좋았습니다 호캉스 제대로 보낸 것 같습니다바비큐는 옥상에 보는 조망 말고는 좀 숙소는 좋습니다 잘 쉬다 왔네요좋고 친절해요편하게 쉬다 왔습니다전자월드 뷰지만 좋았어요 괜히 성급이 아닌 듯  아 근데 신발을 놓고 왔네요  흐어엉 제 부주의라 어쩔 수 없지 망  잘 쉬다 왔어요좋았어요너무 잘 머물다 갑니다시간 패키지 참 좋네요 여유롭고 방도 깨끗했습니다 약간 방음 안 되는 것 같기는 해요일단 역과 바로 연결되어 있었던 부분은 정말 좋았고요 들어와서 안내가 빨랐지만 룸서비스나 레스토랑 등 안되는 게 더 많았고 다 일찍 닫아서 식사하기가 어려웠습니다 그리고 후기에 먼지가 많다는 얘기가 있었는데 진짜 많긴 해요 화장실 조명에서 보니 뭐가 눈처럼 내리던데요 객실이 많은 건 알겠지만 청결관리 좀 해주셨으면 좋겠습니다룸서비스가 가지 안된다고 하더라고요 그것 말곤 너무 좋았어요 스카이 킹덤 비비큐는 음식은 별로이고 뷰는 굳재방문인데 사람이 너무 많더라고요 체크인 항 때친절하고 깔끔하고 좋았습니다 조만간 또 방문 예정입니다깨끗하고 아주 좋았어요서비스 친절도 사람이 많았는데 빠른 체크인에 안내도 글까지 써주시며 꼼꼼히 체크해주셨으면 박이라 점심시간 전에 청소 요청하고 체크인 시간쯤으로 맞춰 왔는데 그때 청소 진행 중이셨음 그래서 별개 숙소 객실 청결 도대 체적으로 깔끔하고 내부는 참 좋았으나 외부 창문이 깔끔하지 않아 뷰를 볼 때 찝찝함이 남음 그래서 별개 시설 편의 성당 이용해보진 않았지만 전체적으로 깔끔하고 좋았음 특별히 흠잡을 게 없음 별개 교통 위치 접근 성역과 연결된 부분이 막혀있어 교통은 별로인 것 같음 자차 이용하지 않으면 다니기 불편함 불편함을 느낄 수 있어 별개 더 보기좋네요 친절하고 깔끔함좋았습니다너무 좋았습니다 뷰도 남산이 보이는 뷰였고 침실도 깨끗하고 아침에 택시도 바로 앞에 있어서 편했습니다너무 좋았습니다 뷰도 남산이 보이는 뷰였고 침실도 깨끗하고 아침에 택시도 바로 앞에 있어서 편했습니다매우 좋아요 조식 짱짱깔끔하고 좋아요비데 고장 성 우기고 있네 차라리 모텔이 낫지정말 좋아요 맥주 무제한인데 버드가 엄청 맛있었어요 날씨도 선선하고 객실도 좋았어요교통이 좋고 깨끗합니다 일부 직원이 불친절하여서 그 점만 개선이 된다면 좋을 것 같아요맘먹고좋은호텔에서 묵어봤는데 최고였습니다접근성도 좋고 객실도 만족합니다 다음에 또 이용 하고 싶네요뷰가 아주 좋았습니다침대는 너무 편했지만 체크인할 때 불을 어떻게 끄고 키는지는 직접 설명해주셨으면 좋겠네요 그리고 특가 상품이라 그런지 엘리베이터 근처로 방을 배정해주신 건 좀 그렇네요객실이 깨끗하고 뷰도 좋았어요 잘 머물다 갑니다방은 청결하고 침구류도 정말 푹신푹신해서 잘 잤는데 비비큐 뷔페가 생각보다 먹을 것이 많이 없고 맛이 별로였어요 짜파구리가 제일 맛있었네요좋음 너무 좋아요최고입니다실내 가 쾌적하고 잘 시티뷰 도 나쁘지 않았습니다 공기 청정 패키지를 하면 뿌리는 거 주는데 괜찮더라고요숙소 쾌적하고 깔끔해서 좋았어요 다만 물이 너무 졸졸 나와서 씻는 데 오래 걸려요깨끗하고 좋았습니다 바퀴벌레가 한 마리 나왔지만 다행히 한방에 잡고 잘 잤습니다침대 좋고 뷰는 랜덤인 듯 층이었는데 오전 내내 공사해서 정말 시끄러움깔끔하고 너무 좋아요깨끗하고 좋아요역시는 역시입니다너무 좋았습니다 다음번 의미 있는 날에 한 번 더 방문할게요아주 좋아요됴아용좋아요 용용숙소가 깔끔했고 저는 자차를 이용했지만 용산역 이랑 가까워서 교통 편도 좋은 거 같습니다 아이파크몰 이마트 전자랜드 용문시장 등 가까워서 걸어서 다녀오기 편했어요 조식 포함이 아니라서 따로 조식을 이용했지만 엄청 은 아니지만 나름 괜찮았고 시간 패키지 이용했는데 박일 여행한 기분이었습니다편하게 쉬다가 왔습니다역시 너무 쾌적하고 침대 짱 푹신아주 좋아요깨끗했어요성급 서비스는 없어요 직원들 저질 서비스 어떡해 성급 단 건지수험생이라 방음이 중요했는데 나쁘지 않았습니다부모님이 좋아하셨다주변에 아이파크몰도 있고 너무 편리했어요항상 잘 보내고 가요코로나로 역에서 바로 연결된 층 입구가 막혀있었는데 바로 내려가는 길이 있었는데 안내 표지판이 없어 돌아감 그리고 사람이 많아서 체크인 시 번호표를 직원에게 직접 받고 기다려야 함 명씩 부르는데 그럼 그때 가서 또 줄 서고 체크인해야 함 다음날 시경 체크아웃 시에도 마찬가지로 줄 섬 가장 최악인 건 엘리베이터 고층에 묶었는데 정말 매 층마다 멈추고 사람 꽉 차서 만 원 표시가  뜨고 나서야 안 멈추고 바로 내려감 그게 층이었음  그전까지 층마다 섰어도  못 탄 사람도 많았는데 표정이 한결같 또군 그럼 그렇지 하고 포기한 표정임 다신 안 갈 듯 더 보기저렴하고 깔끔잘 쉬다가 요깨끗하고 시설도 좋네요 수영장 좋아요좋았어 요요요친절하고 깔끔하고 편안하게 하루 묵었습니다 주차도 대 추가로 신청해주셔서 감사했습니다좋았습니다아주 좋습니다너무너무너무 좋았어요전망도 너무 잘 보이고 밤에도 너무 예쁘고 직원분들도 너무 친절해서 좋았어요 엘리베이터에서 불쾌한 말을 들어서 기분 나쁘지만 화났던 기분도 다 풀릴 만큼 서비스에 만족했습니다가끔 이용하는 곳인데 뷰가 정말 좋고 시설도 깨끗합니다위치가 너무 좋아요  상당히 훌륭한 위치체크인하는데 직원분들이 좀 우왕좌왕  조식은 별로예요 그 돈으로 밤에 치맥 시켜드시는 게 이득 조식 뷔페 커피는 쓰지 않고 맛있더라고요 객실 책상 위에 랑 연결되는   포트 있습니다 덱스나 크롬 캐스트처럼 미러링 기기 쓰시는 분들은 가져가서 꽂으시면 될 거 같아요 와인 잔 있길래 층에서 조각 케이크 하나 층 씨유에서 작은 와인 하나 사서 가볍게 생일파티했습니다 씨유에 와인 많아요좋아요아주 좋았습니다서울에서 이 금액으로 이렇게 즐길 수 있었는지에 대한 만족도는 정말 큽니다 하지만 내부 쿠션 중 하나가 얼룩이 있어서 아쉬웠어요좋아요최고였어요방도 넓고 깔끔해  좋아요매번 갈 때마다 좋아요너무 좋았어요너무 좋았어요 시설도 깨끗하고 성급은 다르네요좋아요 다음에도 또 이용할 거 같아요매번 잘 쉬다 가요 피트니스도 좋습니다좋아요 좋아요 아주 좋습니다 근데 침대가 너무 높아욬뷔페가 주말만 돼서 아쉬웠지만 전반적으로 좋어잘 쉬다 갑니다새로 생긴지 얼마 안 되어서 깨끗해요시설 좋고요 편안하게 쉬고 갑니다편안하고 이불 침대가 특히 깊은 숙면에 도움 되었습니다시설도 깨끗하고 재미 썼습니다잘 쉬다 갑니다층에 편의점 있어서 편해요항상 쾌적하게 이용하고 있습니다항상 쾌적하게 이용하고 있습니다정말 좋았어요  다음에 또 갈게요역시 좋았습니둥편하게 잘 쉬다 왔습니다좋습니다 근데 칫솔 없고 면도기는 따로 구매해야 해요주만에 다시 다녀왔지만 너무 좋았습니다 서비스나 청결도 도 매우 우수하고 코로나 때문에도 걱정이었는데 방역소독을 잘하고 있는 것 같아요 방도 업그레이드해주셔서 덕분에 잘 놀다 갑니다괜찮았어요좋았습니다매달 한 번씩 가는 중 대 박스만족합니다침대가 너무 푹신했어요 꿀잠 자고 가네요 조식도 구성비 대비 아주 좋았어요 서울 여행 다니기엔 위치도 최적화인 게 아주아주 잘 쉬다 갑니다 다음에 또 갈게요서울시내 정말 좋은 호텔 같아요역시는 역시 좋네요착한 가격 호캉스다시 가고 싶은 곳침대가 너무 포근해서 좋았어요 친절하시고 잘 쉬다 갑니다침구가 너무 좋아서 푹 잤어요시설 굳 친절 굳 모든 게 완벽서비스와 객실은 너무너무 좋았는데 뭐 사러 잠깐 나가려면 용산역까지 쭉 걸어야 한다는 게 다른 건 다 좋았습니다조아요조아아좋았습니다용산역 가까이 있는 건 좋았지만 뷰가 시티 뷰러 영 꽝이었고 객실도 생각보다 작고 화장실도 작고 신라스테이가 훨씬 나았네요꼼지락 패키지 잘 숙박했습니다 룸 컨디션 가격 대비 좋았어요다음에도 꼭 갈 거 같네요 대응도 좋고 뷰도 좋아요좋아요역시 성급은 다르네 요번째 방문인데 요번 방이 훨씬 좋네요 헬스장도 잘 이용했고 담에는 수영장도 이용해보고 싶네요깔끔하고 좋았습니다 조용해서 잘 쉴 수 있었어요역시 이름값합니다두 번째 방문이지만 두말할 것 없이 별 개이불 수건 뭐하나 빠지는 거 없이 너무 좋아요 계속 가는 중입니다좋은 시간 보냈습니다 재방문 의사 있음이용하기도 편리하고 아늑하게 쉴 수 있어서 좋아요오징어 말리기 좋은 곳좋았습니다만족합니다여자친구가 좋아하네요완벽했습니다싸고 가 성비 좋습니다좋아요 너무 좋아요좋네요 구성비 갑입니다그냥 그래요체크인하는 사람이 너무 많아서 깜짝 놀랐습니다 지리적 이점으로 인한 현상 같네요 방은 쾌적했고 편의점이 있어 좋았습니다 서비스도 좋았습니다객실 화장실 배수로가 처음부터 막혀있어 계속 물이 고였어요 화장실 불을 끄는 법을 몰라 프런트로 확인 부탁했는데 직원도 잘 몰라서 설명이 오래 걸렸어요 주차장이 두 건물이 연결되어있어 대리기사님이 운전해주셔서 처음 가보는 저로선 잘 몰라 옆 건물 이비스 건물 주차장에 주차를 했고 본 건물로 걸어가는 게 너무 멀고 귀찮았어요그레이트 해요너무 좋았어요 깨끗하고깔끔합니다럭셔리함 아주 좋음서비스는 좋았으나 어메니티가 별로였어요직원분들도 너무 친절하고 다시 가고 싶은 호텔이네요 슈페리어 더블을 예약했는데 뷰가 저층 밖에 없어서 더 좋은 고층으로 업그레이드해주셔서 너무 좋았습니다 지금 가격도 비싸지 않아서 용산 쪽으로 숙소 잡으면 여기만큼 좋은 가격에 좋은 곳 잡을 수 없을 거 같습니다 여기 강추야경은 조금 아쉬웠는데 좋았어요구우우우웃복합 쇼핑몰 지하철역과 붙어 있어서 좋았습니다많이 만족스럽습니다올 때마다 좋음편하게 쉬고 왔습니다항상 편안하고 쾌적하게 이용하고 있습니다항상 편안하고 쾌적하게 이용하고 있습니다매우 친절하고 방 또한 넓고 깨끗했습니다 부대시설도 좋아서 호캉스 또 오고 싶어요 수영장 물 온도도 적당하고 푸드 익스체인지는 랍스터가 생각보다 작았으나 만족스러웠습니다객실도 넓고 쾌적하고 너무 좋았어요 조식도 맛있습니다 딱 한 가지 아쉬운 점은 변기 수압이 너무 낮은 것 같아요 너무 잘 막히네요사전 요청사항 잘 들어주셨고 직원분들 모두 친절하셔서 편안히 잘 쉬다 왔습니다깔끔하고 좋아유박일로 호캉스 다녀왔는데 친절하시고 청결해서 좋았네요 용산역에서 가까워서 편의성도 좋았고 저녁에는 아이파크몰 가서 저녁 먹고 쇼핑하다 왔어요 단 수영장은 한 타임만 입장 가능깨끗하고 좋아요 체크인 체크아웃 시간엔 붐벼요평일에 시간 숙박했는데  좋았습니다최고예요 두 번째 방문 좋은 가격에 호캉스 노하요다소 뷰는 다르지만 교통 편이 편리해서 좋았네요 시설은 말할 것도 없고요좃았습니다잘 쉬가 갑니다가져갔던 위스키를 마시려고 샷 잔 좀 올려달라고 했더니 위스키 시켜야만 잔을 준다고 하는 호텔은 처음 봤어요 심지어 식사랑 맥주 주문했는데도요 박 잘 머물렀지만 서비스 개선되었으면 하는 바람입니다다음에 꼭 다시 오고 싶어요최고예요 오 오아주 좋습니다기념일 맞이하여 갔는데도 기대 이상으로 만족깨끗해서 좋았어요 호텔 침구는 폭신폭신 역 바로 근처라 편의성도 좋고 조식은 맛있었지만 가격 대비 조금 아쉬웠습니다호텔이 엄청 큽니다호캉스는 여기 어때믿을만한 방역 때문에 성급 호텔 중 찾다가 묵었어요 트윈객실 싱글 침대가 정말 작아서 놀랐지만 그래도 추가 비용 없이 인이 묵을 수 있어 만족했네요 키 작은 인이 소파 이용 어메니티도 너무 작고 성금이라기엔 살짝 부족한 점들이 있지만 구성비 좋다고 생각해요갈 때마다 편안하게 지내다 옵니다좋아요 다음에 또 오고 싶어요 타르트도 장맛여태 묵었던 국내 호텔 중에 손에 꼽을 정도로 만족했던 호텔입니다 너무 편안하게 푹 쉬다 갑니다 다음에 용산에 볼일 있다면 또 묵고 싶은 호텔이에요 강추강추침대 많이 불편해서 소파에서 잤습니다 그리고 방음이 문제인지 모르겠지만 계속 휴대폰 진동소리 같은 게 자꾸 들려서 신경 쓰였네요친절하고 깔끔하고 아늑하고 연인과 행복한 시간 보냈습니다한강뷰 트윈룸은 모두 욕조 타입이라고 했어요 더블룸은 화장실과 샤워부스가 따로 있고 그 문은 미러로 되어있는데 트윈룸은 욕조 쪽에 샤워커튼이 있고 화장실 문은 미러 아니고 욕실 전체를 미닫이로 닫게끔 되어있었어요 세면대 쪽 미닫이는 괜찮았는데 입구 쪽 미닫이 나무 문이 뻑뻑해서 열고 닫기가 쉽지 않았어요 새벽에 착오가 있었는지 직원이 문을 열었어요 서로 놀랐는데 실수하셨다고 문을 이중으로 잠그고 자야겠어요 대로변에 위치한 강남 쪽 유명한 호텔들 보다 조용하고 룸이 커서 늘 이용합니다 패키지 이벤트 많이 개발해주세요 더 보기만족합니다만족합니다최고  또 갈 거예요항상 쾌적하고 편하게 애용하고 있습니다다 좋았지만 화장실이 좀 아쉽수영장이 약간 작아서 아쉽지만 그거 빼고 다 좋음역시 다릅니다 침대부터 푹신함이 아주 좋습니다예상 적립 포인트역시 정말 좋았습니다교통 좋고 친절한데 가끔 청소 이슈가 있네요서비스가 진짜 최고예요 정말 사소한 부탁 하나하나 진지하게 들어주시고 최대한 답변해주시는 모습에 감동받았습니다 비싸고 유명한 호텔 보다 시설도 좋고 경치도 좋고 서비스도 좋아서 너무 행복했습니다 기회가 된다면 꼭 다시 방문하고 싶은 곳입니다라마다가 라마다 함용산역이랑 가까워서 접근성이 좋았습니다 주말에 손님이 생각보다 너무 많아서 로비가 복작복작했습니다 주로 방안에만 있었는데 호캉스하기는 답답하지 않고 좋았습니다깔끔하고 좋았어요 근데 주말이라 뷰 변경은 못한 게 아쉽네요깨끗하고 침대가 특히 좋았습니다너무 편하고 졸음요모든 게 다 좋은데 두 가지가 불편했습니다  칫솔치약이 객실에 없는 점 대중교통 시설에서 조금 거리가 있는 점 칫솔 치약 객실 이 구비는 반드시 개선이 필요해 보입니다 나머진 좋았어요깔끔하고 좋았어요좋아요 아주매우 좋아요좋아요 좋아직원들도 친절하고 객실도 깨끗하고 편하게 잘 쉬다 왔습니다편하게 휴식하기 좋아요시설도 깨끗하고 즐겁게 지내다 갑니다서울시내에서 호캉스 좋았어요잘 쉬다 갑니다너무 친절하셔서 편하게 잘 쉬었습니다 재방문 의사 있고요 조식도 너무 좋았습니다특가 할인해서 다녀왔는데 깔끔하고 서비스도 좋았어요 근데 주변에 뭐 먹을 데가 없어서 좀 아쉬웠네요 그거 빼고는 다 만족이요너무 좋았습니다깨끗하고 좋아요전처적으로 깨끗하고 조식도 좋았습니다 하지만 주말이라 사람이 너무 많았어요 체크인 대기 분 깨끗하고 친절해서 좋았습니다조식 맛있어요깨끗하고 좋아요좋아요구성비 너무 좋았어요짱짱 좋아요직원분들 너무 친절하고 서비스도 괜찮고 조식 맛 굿편히 쉬다 왔어요편히 쉬다 갑니다안 좋은 점이 없었어요 룸 컨디션 훌륭하고 침대도 너무 편해요  헬스장도 기구 종류가 많고 깨끗하고 좋아요 아 그리고 스카이 킹덤도 미쳤어요넘조하요전체적으로 만족 예약 이외의 부분은 조금 비싸네요호텔 내부도 깨끗하고 경치도 너무 좋습니다잘 머물다 갑니다나쁘지 않았어요바로 옆에 인터파크 몰 있어서 밥 먹으러 나가기 좋고 편의점은 층에 겁나 큰 거 있어서 좋고 담날 시에 체크아웃에서 이미 무조건 점임좋습니다역시 호캉스는 최고예요 전망도 나쁘지 않았고 흡연구역이 먼 것 빼면 전체적으로 만족했어요교통 인접성은 좋지만 주변에 뭐가 너무 없어서 아쉽습니다 성급에 하기엔 다소 부족한 점도 있지만 직원분들이 친절하고 시설도 깨끗합니다전광도 좋고 식용 얼음도 리필해주시고 너무 편하게 머물다 갑니다좋았어요아주 깔끔하고 정말 좋아요생각보다 방이 넓었어요진짜 좋습니다좋아요 하지만 조식 먹을 때 마스크 안 쓴 사람이 너무 많아요편하게 쉬다 갑니다아주 굿입니다 짱너무 좋았습니다깔끔하고 편하게 쉬다 왔습니다역도 가깝고 좋았습니다 체크인하고 들어가서 카드키를 안 넣은 상태로 옷 갈아입는 중이었는데 관리자분인지 모를 관계자분이 벨도 안 누르고 카드키가 안 넣어져있다고 문을 열고 들어오려고 하셔서 너무 당황했습니다 시작부터 그래서 기분이 좋진 않았습니다 그 이외에는 다 너무 좋았습니다 그리고 하나 요청사항은 샴푸 린스 크기가 너무 작습니다 나머지 교통 직원분들 친절 룸 상태 다 너무 좋았습니다좋아요 오 오좋음 깔끔서울 갈 때마다 여기만 가요침대 밑에 너무 더러워요 쓰레기가 모여있네요호텔 자체는 매우 좋고 침구류 등은 훌륭하고 직원들은 친절함 하지만 수영장 이용 이후 어린아이와 아기 몸에서 발진이 발생한 상태임 오전 시에 이용해서 더러워진 상태가 아님에도 불구하고 발진이 심하게 일어난 상황이라 위생상의 문제가 있다고 보임직원분들 친절 침대 너무 편해서 기절함 조식도 맛있음 한강 보면서 너무 잘 쉬고 와요항상 편안하고 쾌적하게 이용하고 있습니다전채적으로 좋음만족스럽습니다좋았습니다 조식도 굿역시 노보텔입니다 뷰도 너무 좋고 깨끗하고 좋네요객실 층수가 많아서 엘리베이터 이용하기가 너무 불편하고 객실 금액에 비해 일회용품이 비치되어 있지 않아 불편했습니다 가격도 비쌉니다늘 최고죠조식도 맛있었고 서비스는 많이 이용을 안 해서 잘 모르겠지만 주변에 있을 건 다 있고 호텔 안에서만도 많은 걸 해결할 수 있어서 좋았습니다 방도 편하고 아늑하고 좋았어요 샤워를 욕조에서 한 게 조금 불편하긴 했네요 전체적으로 만족했습니다 더 보기깔끔하고 매우 좋았습니다 여태 간 곳 중 가장 좋았어요 방음이 조금 안 죄는 것 같긴 한데 그거 말고는 깔끔하고 침대 너무 좋고 다 좋았습니다뷰도 너무 좋았고 다음에 또 오고 싶어요성 급다운 성급편하게 쉬다가요가격 대비 괜찮아요갈 때마다 만족합니다성급 호텔답게 서비스 직원들의 친절도가 최고입니다 룸컨디션도 좋고 주차장도 넓고 무료라 좋네요편안하게 잘 쉬다 갑니다좋아요 방이 너무 좋아요자주 이용하는 곳입니다전반적인 교통 편의성 측면은 최고 주차장이나 역도 가까워서 여행 가기에는 편함 하지만 다른 성급 호텔과 비교했을 때의 대우는 부족한 편 호텔 냉장고도 너무 미지근함넘넘 좋아요너무 좋아요 성급 호텔을 이 가격에 이용하다니 최곱니다좋앗습니자서울 가면 항상 여기만 가요 친절하고 깔끔하고 좋아요친절하고 깔끔하고 좋아요잘 쉬고 왔어요두 번째 방문 살 아들 생일 축하직원분들 친절하시고 시설도 좋네요침대도 좋고 깨끗했습니다역시 좋아요사람이 생각보다 무척 많아서 놀랐습니다 조식은 종류가 많지 않습니다 룸 컨디션 조망 등은 더할 나위 없습니다 전체적으로 만족하였습니다 재방문의 사 있습니다 더 보기깨끗하고 좋음모든 것이 만족깨끗하고 굿좋았습니다뷰도 좋고 룸 컨디션도 최고였습니다좋아요 코로나 방역 철저함침대 맛 집이라는 말이 있던데 왜 그런지 알겠네요 침대에 근이완제 발라논줄 완전히 구름이에요댄과 아이비 왔다 감깔끔하고 좋았어요신분확인을 카드 개로하는 이유를 모르겠음좋았어요 다만 샤워부스에 머리카락이 있었던 거만 빼면요좋은 곳에서 잘 있다 갔습니다믿고 가는 그곳룸 컨디션도 좋고 룸서비스 가격도 합리적이어서 좋았네요데스크 여성분이 너무 예뻐요  그리고 너무나 좋고 시설 룸 컨디션 객실 업그레이드 등등 빠진 곳이 없어요 괜찮아요새로 생긴 지 얼마 안 되어서 그런지 매우 깨끗너무너무 좋아요 깨끗하고 조용하고 직원들이 친절해요아주 훌륭했고 다음에 또 방문하겠습니다진짜 편하고 근처에 영화관도 있고 몰도 크게 있어서 실내로 돌아다니기 좋았어요좋아요욕조랑 샤워기같이 있는 것 빼고 최고네요 이름값하네요좋았어요 수영장도 사람 없어서 좋았습니다 깨끗하고 아주 좋음 다만 칫솔 치약 같은 일회용품은 챙겨가세요갈 때마다 느끼지만 깨끗하고 주차도 편하고 좋아요정말 좋아요흠잡을 데가 없습니다항상 친절하고 침대가 편해요침대 너무 편하고 항상 친절해서 좋아요가도 가도 좋은 곳입니다왜 비품이 없어요직원분들 친절하시고 깨끗하고 좋아요 잘 쉬다 왔습니다좋지만 좀 아쉬운 것도 있음 구석에 먼지가 있음직원 일부는 불친절 더 보기우주만큼 좋아요폰 충전기는 객실의 없어서 카운터에서 맡겨야 하고 칫솔도 객실에 없어서 카운터에서 받아 간 점이 불편했어요 하지만 뷰랑 객실의 청결도는 좋네요너무 좋아요지낼 때마다 아주 편하고 좋아요 잘 쉬다 갑니다호캉스 제대로 즐겼습니다 뷰도 좋고 침대도 편안했습니다 조식은 종류는 다양했지만 크게 기억에 남지는 않았어요감사합니다역시 노보텔이네요 전부 좋았어요 무지 좋고 자주 이용하는 곳입니다방도 크고 전망도 너무 좋아요굿웃 입니당호텔 분위기나 냄새가 너무 깔끔하고 좋았어요용산역에 걸어서 오분 최고의 위치에 시설도 깔끔하고 좋어요 호캉스라구 안에서 데이트하는데 같이 뭐 먹을 땐 좀 탁자가 작고 소파 앞에 둘 공간이 안돼 작아서 아쉬워요체크인할 때 직원분께서 친절하셔서 너무 좋았고 수영장이 원래는 계속 이용이 가능했는데 하루에 한 번밖에 이용을 못한다네요 그 뒤로는 추가요금이 붙습니다 이 점만 빼면 잘 놀고 잘 쉬고 왔어요깔끔하고 다음에 또 오고 싶네요컨시어지 분들도 너무 친절했고 밤 컨디션도 너무 좋았어요만족합니다조식 먹었는데 너무 맛있었어요 만족 만족직원 엄청 친절함 방음 빼곤 만족호캉스하기 너무 좋은 위치와 호텔이었습니다 층에 편의점도 있어 편의성도 좋고 직원들 친절하고 코로나 때문에 걱정이었는데 방역 및 예방도 철저히 하고 있더라고요 잘 쉬다가 왔습니다청결상태 및 서비스 너무 좋아서 다음에도 꼭 다시 방문하겠습니다깨끗하고 좋았어요굳안개껴거아쉽좋은 호텔에서 편히 잘 쉬다 갑니다괜히 성급이 아닌 것 같아요아주 좋아요정말 괜찮고 다 좋았고 시설도 다 마음에 들었는데 저희 객실만 그런 건지 모르겠는데 샤워실 배수가 잘 안됐습니다 그거 한 가지가 아쉬웠어요 더 보기아주 좋아요 시어 지분도 잘해주시고 시설도 좋고 조식도 맛나요 또 올래요 더 보기친절하고 깨끗해서 좋았습니다 깨끗하고 깔끔합니다용산역 번 출구와 바로 연결되어 있어서 비가 오는 날씨임에도 불구하고 우산 없이 호텔까지 갈 수 있었습니다 때문에 아이파크몰 이용도 편리하고 혼자 시간 보내기 좋았습니다편히 잘 쉬었습니다좋았습니다성급치고 가격이 매우 싸서 좋았습니다잘 쉬다 갑니다서비스 좋아요아주 좋았습니다 잘 쉬다 가요방이 너무 깔끔하고 좋았어요휴일이라 그런지 체크인하기 너무 힘들었어요 너무너무 좋았어요아주종흡니다좋았습니다뷰도 좋고 룸 컨디션도 좋습니다뚜렷한 임팩트 없는 호텔노보텔도 이비스도 용산에서 일 있을 때마다 가는데 아주 좋아요 조식은 가격 대비 평범합니다성금이라 그런지 전체적으로 너무 맘에 들었습니다언제나 이용하는 호텔이에요 직원들은 친절하고 룸은 깔끔합니다 코로나 때문에 부대시설 이용이 제한된다는 점은 단점이네요성급 호텔답게 직원들은 친절하고 빠르게 처리되어서 좋았어요 코로나 때문에 부대시설을 이용하기 힘들었던 점이 단점으로 볼 수 있어요좋았습니다아주 깨끗해요잘 쉬고 갑니다굿굿 좋아요 편히 쉬다가요 오침대 맛 집이에요 꿀잠객실 상태 직원 서비스는 다 만족인데 다만 편의점이나 다른 편의시설을 찾을만한 안내표지가 조금 부족 한갓 같잇어요 편의점도 후기 보고 찾아갔던 게 조금 아쉽네요휴일 시작이라 체크인이 늦어져서 조금 불편했지만 다른 부분은 훌륭했습니다뷰도 너무 예쁘고 침구며 모든 비품 깨끗하고 좋았습니다 너무 좋았습니다널찍하고 깔끔하네요깨끗하고 좋아요갈 때마다 좋아요좋아서 여러 번 왔습니다좋은 시설 친절한 서비스 만족합니다편하게 쉬다 갑니다좋았습니다구성비 좋아요 좋아요 좋아친절하시고 구성비도 괜찮았어요친절하고 깨끗함노보텔 용산 최고호캉스 잘 하다가 가요조용하고 뷰가 좋아요 조식도 맛나고 친절해요 창문은 없지만 쾌적해요 침대도 폭신하고 연휴라 만실이었다는데 사람 엄청 많았고 대기표 받고 줄 서서 체크인 체크아웃 했어요 전날 마리나베이도 그랬었는데깔끔하고 너무 좋아요연휴라 체크인하려는 사람들이 많아 대기를 오래 했습니다  객실은 깨끗했고 직원분들도 친절했습니다 다음 연휴에도 가고 싶습니다노보텔 엠버서더 서울 용산 서비스 청결도 편의성 접근성 다 만족하고 담에도 또 이용 하고 싶네요유료 서비스가 많은 건 아쉽지만 가격 대비 좋습니다슈페리어룸 묵었어요 성급답게 잘 쉬고 왔어요 층에서 치킨에 맥주잔 프로모션하는데 치킨 엄청 맛나요 치킨 맛 집이랑 조식 맛 집입니다잘 머물다가 요너무 좋은 기분으로 잘 머물다 가용너무 좋았어요 정말 잘 쉬고 가요아주 고급지규 좋네요그냥 그랬어요 구성비는 별로였고 조식은 괜찮았어요잘 쉬다 갑니다 조식 정말 좋았어요너무 좋았습니다 깔끔하고요코로나 관리 시설 전부 좋았어요창문이 없어 환기가 안된다는 점이 아쉽지만 다음번에 또 오고 싶네요좋아요만족합니다편히 잘 놀다 갑니다용산역 인접하고 건물 내 편의점이 있어서 매우 편리하네요잘 쉬다 갑니다조식이 맛있어요역시 너무 좋아요 저렴하게 이용해서 더 좋았네요 불편했던 건 편의점이 좀 멀다는 것과 주변에 즐길 거리가 많지 않고 조금 걸어야 하는 점이에요 다른 건 완벽합니다 침구 너무 좋아요스위트인데 이 가격대 거의 없죠 룸서비스도 정말 맛있었습니다좋았어요 다음에도생각보다 내부는 그렇게 뛰어나지는 않았고 외관에 비해서 하지만 이용하는데 불편함은 크게 없었습니다 야경은 생각보다 너무 뭐가 없더라고요 저녁에 근처에 갈 마땅한 술집도 많지 않고 아이파크 몰이 있어서 그나마 다행이에요 잘 이용했습니다 더 보기최고의 시설과 교통 재방문 무조건 십니다그냥 나쁘지 않았음매번 가요 진짜 좋음시설도 서비스도 너무 좋지만 무엇보다 위치가 좋아서 교통이 참 편리해요  짱 최고입니다 패키지로 저렴히까지변기가 번이나 막혀 매우 불편했습니다일단 용산역과 연결되어 있어서 너무 편리했습니다 객실은 청결했고 코로나도 굉장히 꼼꼼하게 체크하시는 것 같더라고요 편의시설이 많이 휴관 중이라 조금 아쉬웠으나 너무 잘 쉬고 왔습니다깔끔하고 친절해요침대 컨디션이 굉장히 좋더라고요 오래간만에 꿀잠 자고 왔습니다침대 맛 집 죽여요잘 쉬다 갑니다친절했고 객실 청결했으나 창문이 없어서 온도를 낮출 방법이 없었어요 에어컨이 아직이어서 밤에 샤워하고 머리 말리고 나니 더워서 고생했어요한강뷰이긴 했으나 용산역이 더 잘 보였습니다  별로 차이 없을 줄 알았는데 그냥 좀 더 주고 스위트 갈 걸 싶었습니다 여하튼 편히 잘 쉬었고 침대가 좋네요 꿀잠 잤어요 다만 이불 펄럭이면 먼지가 좀 날렸습니다위치가 좋아서 서울 놀러 갈 때마다 자주 잡아요 조식도 깔끔하고 친절해서 좋더라고요 가격이 조금 비싼 게 흠이지만 자주 이용할 거 같아요 아쉬운 건  엘베 바로 앞 방이라 쪼금 아침에 시끄럽더라고요너무 좋아요 부대시설 이용 못하는 게 아쉽지만 침대콕 너무 좋네요잘 갔다 왔어요좋은 장소에서 좋은 시간 보냈습니다후기들 보면 더럽다 건조하다 이러는데 그런 거 전혀 없고 에어컨 이런 거 작동 너무 잘되고 한가지 그렇다면 와이파이가 등록이 잘 안됩니다 그리고 방음이 그렇게 잘 되는 편은 아닙니다 가격 대비는 굿아주 좋아요좋음요 오오시설 자체는 좋았지만 근처 편의점이라든지 밥집이 없어서 그게 좀 안 좋았습니다깔끔하고 너무 좋았어요좋아요 만족합니다 어매가 너무 작아요깔끔하고 좋았어요매우 좋았습니다 재방문의 사 있습니다너무 좋아요 최고좋아요 좋어요호에 묵었는데 아무것도 없는 야경 너무 좋았어요 남편이랑 저랑 다른 세상 온 느낌을 님 편은 신라호텔 보다 좋다네요대만족이니 꼭 가십쇼정말 좋았던 기억조아여 조아여잘 쉬다 갑니다서비스 청결 시설 모두 만족합니다기대한 만큼 좋았습니다깨끗하고 좋아요 다만 침실이랑 세면대랑 오픈형이라서 세면대 냄새가 좀 올라와요 하지만 로비에 전화해서 공기청정기 올려달라고 여쭤보시면 올려주신답니다 공기청정기도 정말 좋아요 그리고 침구류 마약입니다 배게 침대 너무 편하고 좋아요모든 게 완벽했던 곳 뷰 위치 서비스 청결청결 완벽했고 정말 힐링하고 왔어요너무 친절하시고 깔끔하면서 뷰도 너무 좋았습니다비데가 문제가 있어 객실을 교체한 거 제외하고는 대체로 만족스러웠습니다좋아요깔끔하고 좋았어요좋았습니다침대가 정말 푹신하네요칫솔 면도기 비치되어 있지 않아요 체크인 시 프런트에서 받아 가세요좋았습니다좋습니다 좋아요감사합니다언제나 가도 좋음편하게 잘 쉬었습니다룸 업글 좋았습니다 편의점이랑 흡연구역이 멀어서 좀 불편한 섯 빼곤 완벽했어요깔끔하고 친절합니다굿굿굿긋궁너무 친절하시고 좋았어요 좋았습니다생각보다 방이 작고 겉에서 보는 거에 비해 안에서 보는 뷰가 별로였어요 하지만 깔끔하고 등급에 맞는 서비스에 편하게 쉬다 왔습니다정말 좋네요좋았습니다다 좋은데 화장실에서 하수구 냄새가매우 좋았습니다뷰가 좋아서 또 한 번 오고 싶네요깨끗하고 쾌적합니다 굿역시 노보텔 크는코로나로 부대시설 이용이 불가했지만 접근성 좋고 전반적으로 깔끔했어요 객실 냉방이 잘 안되는 점은 좀 불편했습니다야경 뷰 최고  칫솔폼클로션만  챙겨오세요서울 여행 와서 이렇게 높은 등급의 숙소는 처음 이용해보는 거 같아요 코로나로 부대시설 제한에 이용할 수 없었지만 직원분들도 친절하시고 주변에 할 수 있는 것들이 많이 있어서 좋았습니다가 자 좋았던 부분은 역시 숙소 내부였어요 깨끗함은 물론이고 인테리어 또한 섬세하게 신경 쓴 부분에 오래 기억에 남을 거 같습니다 다음에 서울에 또 오게 되면 또 이용 하고 싶어요 더 보기친전하고 좋았어요좋아요 좋아요저녁에 와인 바스켓이 필요해서 부탁드렸더니 얼음 넣어서 주시고 엄청 친절하셨어요급하게 당일예약하고 간 건데 만족스러웠습니다좋은 곳이에요요즘  코로나 때문에 문제가 많은 편인데   직원들 마스크 착용과 손 소독제  비치는 좋습니다  다만  편의점 가는 길 안내 표지판 있으면 좋겠네요정말 깨끗하게 편안하게 보내 다 왔어요만족합니다침대 너무 좋았고 깨끗했어요 방음도 잘 되고 푹 쉬다 갑니다여터깔끔하고 좋네요대중교통로가 서울에서 박을 할 때 최고의 입지 비록 번 출구에서 조금 걷기는 해야 하지만 이어지는 길이 매우 깔끔하게 잘 되어있음 문제는 편의 시설이 너무 가까워서 주변에서만 놀게 된다 그리고 층에 씨유 있으니 그곳에서 간단한 음식과 물 사는 것 추천숙소 깨끗하고 너무 좋았습니다 잘 묵고 갑니다잘 쉬다 갑니다두 번째 방문입니다 깔끔하고 조용하고 좋습니다좋아요 좋아깨끗합니다층에 편의점 있다는 게 너무 좋아요내부도 깨끗하고 친절했어요 대만족좋았습니다조용히 호캉스 하기에 딱 좋아요좋습니다 위치는 별 하나 빼고 깨끗했습니다좋아요 어옹너무너무 좋아요깨끗하고 너무 좋아요청결하고 침대도 푹신하고 저렴한 가격에 다녀온 거 같아요역과 가까워 매우 편하고 시설도 새 거라 좋았습니다용산 근처에 마트도 있고 한강도 가까워서 이용해봤는데 침대가 진짜 편해서 꿀잠 잤어요 어메니티도 좋고 다리미도 있고 여러모로 출장을 원하는 사람들한테도 조용히 머물기 좋은 곳인 것 같아요 다만 가끔 밖에서 조금 떠드는 소리도 잘 들리더라고요 방음이 그렇게 잘 되는 것 같진 않았습니다깔끔하고 넓어요잘 쉬다 갑니다코로나 때문에 경험 못 해본 것도 있었지만 시설도 괜찮고 서비스도 좋았어요 무엇보다 너무 깨끗해서 너무 만족스러웠습니다 호캉스 즐기러 다녀왔습니다 정말 깨끗하고 넓어서 힐링 됐고 조식도 맛있고 정말 좋았습니다분위기 대박이에요 최고의 호텔임 조식도 너무 잘 먹었어요역시 성금이라 그런지 정말 깨끗했고 한강뷰 방 주셔서 뷰도 좋았습니다 로비도 세련됐고 시설 모두 좋았습니다 직원분들도 모두 친절하셔서 기분 좋게 잘 머물다 갑니다코로나로 인해서 걱정했는데 발열 체크도 철저하게 하고 검진표도 작성해서 안심되었어요세면대랑 샤워실 분리되어 있어서 좋았어요 전망도 좋고 침대 맛 집에 친절하게 응대해주셔서 너무 좋은 시간이었습니다 용산역이라 접근성도 좋아요 호캉스하기에 딱이었습니다 하나 제일 아쉬웠던 건 창문이 없고 방 온도가 너무 높아서 더워요 그거 좀 힘들었습니다진짜 최고의 호텔  빵 온도 설정이 따로 안 되는 거 외에는 완벽해요 시간 날 때마다 오고 싶어요조에 여어 우어구성비 좋고 딸기 케이크 진짜 맛있었음잘 쉬고 갑니다역시  최고예요너무 좋아요 층이었는데 너무 만족하고 갑니다성급 호텔에 걸맞게 별개 드립니다급하게 잡은 건데 직원도 친절하고 너무 편안하게 잘 쉬다 갑니다편하게 잘 쉬었습니다주변에 맛 집도 많고 야경도 좋습니다 최고시티 부도 좋고 깔끔해요 조식도 맛있습니다편안하게 쉬었습니다깨끗하고 좋아요조식이 좀 아깝긴 한데 그래도 좋았어요 침대 짱푹싄나의 최고의 숙소 감사합니다숙소 방음이 너무 안 좋아요출구 입구를 하나로 두고 열 검사를 꼼꼼히 하는 모습에 마음이 그나마 놓이더라고요  특별한 날이라 큰맘 먹고 간 건데 방콕해서 잘 쉬다 왔습니다 방이 깔끔하고 시설이 다 새것 같아요좋았습니다주위에 구경거리나 할만한 곳이 없지만 호텔 자체는 좋았음 객실 서비스도 좋고 전 직원이 친절하고 쾌적함청소상태가 약간 불량합니다더운데 에어컨이 안 나와요호텔답게 친절하고 룸 업그레이드도 해주셔서 너무 감사했는데 업그레이드된 방에 있는 세면대에서 계속 하수구 냄새가 올라와서 방 전체에 퍼졌어요 처음엔 몰랐는데 나갔다 들어오니까 확 느껴지고 세면대에서 세수하거나 세면대 쓸 때마다 냄새 올라와서 고약했어요너무 좋았어요잘 묵고 갑니다 좋습니다잘 묵고 갑니다 좋아요좋아요 좋아객실이 좀 덥고 건조하긴 했지만 하루 잘 묵고 왔습니다번째 방문 역시나 항상 꿀잠입니다 침굺에서성급  평점을 믿고 예약했습니다 한강 뷰로 업그레이드도 해준다기에 신났습니다 코로나 때문에 꼼꼼하게 열 체크도 하고 주의하는 모습도 방치 꽂고 시간 정돈 행복했던 것 같아요 아니 근데 이 봄날에도 호캉스하는 이유가 뭡니까 특별한 하루 평소보다 쾌적하고 편하게 쉬고 싶어서가 아닐까요 코로나로 조심스러웠던 건지 고장이 났던 건지 내 알 바 아니지만 그럴 작정이었으면 미리 공지를 해주던가 최소한 땀은 안 나게 해줘야죠 보이지도 않는 한강뷰 그까짓 거 목 빼가면서 물 같은 거 보이긴 한다며 풍선 불며 긍정적인 우리였는데 성급 호텔에서 선풍기에 의존해가며 최악의 생일 보냈습니다 도에서 온도가 내려가길 참다 참다 두 번 문의했더니 에어컨 가동을 전체적으로 하지 않는다는 대답만 돌아오더라고요 환풍이 된다 한들 창문도 안 열리는 방에서 종일 그 온도로 있기가 참 두 명이서 그 공간에서 움직이지도 않고 뒤척이다 다음날 서둘러 나왔습니다 그것 빼곤 따뜻한 조명이며 물 온도 다 괜찮았어 더 보기좋았어요너무 졸았습니다성 맞네요 너무 좋았습니다 특히 위치적으로 대만족이었습니다 조식 포함이었는데 조식을 즐기지 못한 게 아쉬울 따름입니다감사합니다객실도 깔끔하고 직원분들도 친절하네요코로나 때문에 중앙 문의로만 출입해야 돼서 조금 불편하긴 하지만 발열 체크 문진 표 작성 등등 최소한의 조치를 하고 있는 것 같아서 좋았습니다 룸컨디션 룸서비스 맛도 좋았고요방이 좀 덥긴 했어요너무 좋아요 깨끗하고 깔끔하고 접근성도 좋고 코로나 때문에 입실 전 호텔 입구에서부터 검사 철저히 해서 좋았습니다 재방문 의사 프로입니다룸서비스 최고남자친구 생일이라 식사하고 가까운 호텔 찾다가 예약했는데 가격도 싸고 짱짱 깔끔하고 침대 맛 집입니다 꿀잠 잤음 층이었는데 야경도 이뻤음 미쳤다 이 가격에 여기 오는 거는 미친 거예요다 좋네요 푹 쉬다가 요만족합니다전체적으로 훌륭함 꼭대기 층 술집도 분위기 좋음완벽했던 호텔이에요역시 성 급이더라고요 시설도 좋고 침대도 폭신하고 풍경도 좋았어요  음식도 너무 맛있고요잘 묵고 갑니다 최고였어요서비스도 친절하시고 주차장도 넓고 시설도 최고입니다코로나 때문에 서울 못 가게 되어서 지인한테 박권 선물했는데 엄청 좋아하더라고요좋았습니다정말 좋아요 룸에서 힐링하고 수영장 가서 재밌게 놀았어요 조식은 먹을게 많아서 좋았지만 기대했던 쌀국수가 맛이 없었어요방도 생각보다 크고 전망도 남산타워 보이는 야경이 있어서 좋았습니다너무 좋아요너무 편하고 좋았습니다서울 출장 때 묵었는데 용산이라 위치도 좋고 모든 면에서 만족했습니다 조용하고 쾌적했는데 생각보다 한강이 멀게 보이더라고요항상 좋습니다정말 좋았습니다좋아요 맛있는 것도 있고너무 좋아요정말 만족해요 가성 지갑입니다성 급다웠어요 친절하고 깔끔하고 아쉬운 걸 굳이 꼽자면 열 수 있는 창문이 없다는 것 그래도 큰 창과 야경은 끝내줬습니다  아아 아주 좋아요아주 훌륭한 방 컨디션이었습니다좋았어요이비스보다 약간 넓어요 한강 쪽 뷰가 더 좋은 것 같아요 좀 더 쓰셔서 스위트로 가셔요조식은 역시 여기만 한 곳이 없죠 잘 쉬다 갑니다룸서비스도 맛있고 편하고 좋았어요 다만 전망이 기대 이하로 배정 주셔서 용산역 뷰깨끗하고 편의점도 안에 있어 편하게 잘 묵다 갑니다노보텔 괜찮았는데편의점이랑 가까워서 좋아요시설 친절 게다가 코로나 관련 체크까지 완벽합니다 잘 쉬다가 가요모든 면에서 최고맘에듷어요깨끗하고 좋았습니다시설도 좋았고 미역국도 데워서 달라고 부탁드린 것도 다 들어주셔서 좋아음다만 방음이위치도 너무 좋고요 깔끔한 것은 물론 편의시설도 매우 좋았습니다 재방문 의사입니다모든 부분에서 완벽오성급은 역시 다르네요좋습니다생일 겸 호캉스 했어요 수영장에서 수영도 하고 맛있는 것도 먹고 생일파티도 하고 다음날 조식도 먹고 너무 행복한 박 일 이였어요 또 갈 거예요 더 보기좋습니다 친절하고 방도 좋고 조용하고호텔 중에서 깨끗하고 전망 좋은 몇 안 되는 곳좋았습니다친절하시고 숙소도 좋았습니다현재 출입구 제한이 있어 용산 아이파크몰에서 호텔로 넘어갈 때 조금 불편하긴 하지만 그 점 빼곤 영화관을 비롯해서 근처에서 해결 가능한 부분들이 많아 좋네요 종종 연박 숙박했는데 호텔 청결이나 서비스도 언제나 만족하고 갑니다재방문 의사가 매우 있습니다 침구세트가 너무 편하더라고요아주 만족합니다깔끔하고 침구류가 좋아요 푹 잠너무 좋네요매우 만족스러웠습니다시티뷰 보면서 즐거운 시간 보냈습니다 용산역 번 출구로 나가야 편해요 참고하세요좋았습니다성은 뭔가 다르긴 하네요깔끔하고 좋았습니다칫솔을 안주네요서울이 잘 보여요최고입니다 좋아요깨끗하고 좋아요잘 쉬고 갑니다최고입니다편안하고 좋았습니다작년에도 호캉스 이곳으로 갔는데 좋아서 갔어요 근데 푸드 익스체인지는 질적으로 떨어져서 이제 안가를 갓 같아요구성비 최고바닥 청소가 살짝 지저분했어요 그게 좀 아쉽습니다푸드 익스체인지에서 밥 먹으려고 했는데 코로나 때문에 휴업하는 거 빼곤 다 좋았어요 친절하고 야경도 예뻐요 침대가 진짜 푹신하고 편안해요 만족스러워요좋았습니다객실도 넓고 고층으로 배정해주셔서 뷰도 너무 좋았어요사람이 많았고 인테리어가 취향이 아닌 거 빼고는 다 좋았습니다좋습니다 깨끗좋아요 침구가 특히  또 올게요정말 좋았습니다최고였습니다청결하고 좋아요깨끗하고 좋았습니다 코로나 안심돼요일찍 예약해서 그런가 룸 업그레이드 받아서 잘 쉬다가 왔네요 또 방문하고픈 숙소였습니다좋았어요다 좋고 친절합니다아늑하고 좋습니다전체적인 서비스가 너무 좋았습니다역에서 가까이 있고 숙소는 항상 깨끗하고 청결해서 좋아요깔끔했고 편안하게 숙박했습니다만족했어요항상 호캉스 하러 자주 가던 곳  좋아요 잘 묵고 갑니다항상 잘 이용합니다진짜 최고의 호텔 야경 보면 행복이 이거지진짜 좋아요 대해 박 자주 감좋아요너무 친절하고 숙소도 너무 좋았습니다시티뷰 고층 배정해주셨는데 너무 좋았어요화장실에서 하수구 냄새가 좀 올라왔던 거 빼고는 호캉스하기 최고의 구성비 호텔입니다역시 성급가보고 싶었던 곳인데 너무 좋았어요그냥 최고였습니다 괜히 성급 호텔이 아님 사이즈도 업해주음식당이나 기타 부대시설이 부족해서 아쉽지만 그래도 성급 호텔좋아요머리카락이 하나 발견됐던 거 빼고는 모든 게 완벽했습니다 특가로 가서 너무 좋았네요 다음에 또 오고 싶어요체코인전에 열 체크도 하고 깔끔하고 따뜻하고 직원들의 친절한 응대도 모두 좋았어요 최고네요역시 오성급 잘 쉬다 갑니다좋았습니다깨끗하고 편안했습니다 잘 쉬다 갑니다잘 쉬다 갑니다좋았어요역시 좋아좋았어요가기엔 자차 아니면 힘들 것 같았어요 그리고 칫솔 치약도 다 돈으로 내야 하더라고요 불편한 감도 없잖아 있었지만 나름 재밌게 놀다 왔습니다역시 성급 호캉스 즐기러 갔다가 힐링 왕창하고 왔어요 친절함은 물론 너무 깨끗하고 모든 시설이 좋아요구성비 좋아요구성비 좋았습니다깔끔했어요좋았습니다정말 좋습니다 침대개푹했어여평일에 가서 구성비 좋게 잘 놀다 왔어요 깔끔하고 친절한  직원분들 배려로 잘 싀다 왔습니다좋아요 다만 날이 점점 더워지는데 에어컨도 안돼서 공기청정기를 선풍기 삼아 썼어요깔끔하니 좋아요위치도 너무 좋았고 객실 상태도 깔끔했습니다 피부가 건조해서 체크인할 때 가습기 요청했는데 바로 갖다 주셨어요항상 갈 때마다 너무 좋습니다역 근처라 소음 걱정했는데 정말 조용하고 편안히 쉬다 왔어요 베딩도 너무 훌륭했고 타월도 좋았는데 단 하나 슬리퍼가 좀 많이 미끄러워서 바닥에 조금만 물기가 있어도 크게 넘어질 수 있을 것 같아 슬리퍼 교체를 하심 좋을 것 같아요 그거 빼곤 다 좋았어요객실 넓고 아늑하고 좋아요완전 푹 쉬고 가요좋았습니다서비스가 정말 친절했고 편리했습니다 무엇보다 가격 대비 정말 만족스러웠습니다 시설과 룸은 매우 깔끔하고 널찍했는데 침구에는 먼지가 좀 있었던 거 같습니다서비스 친절 위치 교통은 다 좋았으나 방음이 조금 덜 되는 거 같습니다 엘리베이터 앞 객실이었는데 소리가 좀 들리더군요룸 컨디션도 좋고 시설도 깔끔하네요처음으로 가본 호텔 친절하시고 청결하고 수영장과 헬스장도 좋았어요유어 테이스트 패키지로 박했습니다 정말 최고였습니다 호텔 안에서 모든 게 다 가능해요 용산역까지 연결되어 있어 영화 보러 가기도 편하네요 체크인 이후로 바깥에 나가지를 못했네요 서비스야 말할 것도 없고요 룸 컨디션도 최고였어요 저희는 한강 조망이었는데 개인적으로는 시티 부가 더 나을 것 같아요최고였습니다잘 쉬었습니다창문이 안 열려서 너무 답답했어요  그거 빼고는 만 족 잘 쉬다 갑니다청결하고 좋았습니다완전 접근성도 좋도 시설도 좋고 또 오고 싶네요아주 좋습니다 괜히 노보텔이 아니네요성이니 말이 필요 없다 단점은 치약 칫솔이 없다깨끗하고 친절하고 좋았습니다정말 최고 말이 필요 없는 괜히 성급은 성급이 아님바이러스 불안감을 안고 아이랑 함께 둘이 떠난 호캉스는 주차장 입구부터 체온 체크하면서 맘이 놓이기 시작 체크인 때도 체온 체크 손소독제 세정 등 너무 한산해서 미안할 정도 룸 업그레이드도 해주셔서 좋은 전망에서 잘 쉬고 왔어요 수영장 전세 낸 듯 평일엔 일박하더라도 횟수 제한 없이 이용 가능해서 실컷 물놀이하고 무뚝뚝한 사춘기 아이 너무 좋았다고 해서 뿌듯했어요코로나 때문에 모든 여행 일정이 취소돼서 우울했는데 앰배서더에서 너무 좋은 시간 보내고 갑니다 수영장이랑 헬스장 너무 좋았고 잘 놀다가 요성급 호텔답게 너무 좋아요 추천늘 방문하는데 너무 친절하고 깔끔한 곳깨끗하고 너무너무 좋아요구성비 최고의 성급 호텔괜찮았어요 깔끔하고서비스와 가격 모두 마음에 쏙 드네요  호캉스 강추입니다완벽하고 좋았습니다코로나 때문에 걱정했는데 꼼꼼히 검열 후 체크인 진행해줘서  성금이구나 느꼈어요 전반적으로 방도 깔끔하고 좋았습니다 칫솔이 없어서 한 개당 천원 주고 샀네요 남산타워 뷰라고 룸 받아서 들어갔는데 남산타워는 아주아주 멀리 보이고 바로 앞 뷰는 별로였어요 전반적으로 무난하니 괜찮았습니다너무 좋다 아아화장실이 좀 아쉬웠어요아내와 함께 묶었는데 깨끗해서 좋아하더라고요친구와 손님이  미국에서 놀러 와서 예약해 줬는데 너무 마음에 들어 하였습니다좋아요 좋아역시 오성급답게 분위기도 좋고 서비스도 좋네요 다만 리모컨과 와인 오프너가 준비되어있지 않아서 직원분께서 왔다 갔다 고생하셨어요  감사합니다굿회용 칫솔 등 회용품 없으니 준비하세요높은 층으로 업그레이드해주셔서 더 좋은 뷰를 볼 수 있었고 호텔 위치도 너무 좋았어요 잘 쉬다 갑니다 조식 대박 꼭 먹 삼숙소 너무 좋았어요 그리고 체온검사랑 기타 위생도 잘 되어있어서 잘 쉬다 갔습니다친절하시고 좋았네요깨끗하고 좋아요매우 좋았어요성인데 말할게 더 있나요 회용 칫솔치약이 없다는 게 아쉽지만 너무 좋았습니다하수구에서 조금 냄새가 나지만 전반적으로 깨끗하고 좋아요직원분들도 친절하시고 안내도 세세하게 다 해주시네요 코로나도 신경 써서 입구에 카메라 위치해있는 거며 마음 편히 지내다 왔네요 큰 티브이와 큰 침대 정말 너무 좋았어요 게다가 너무 깔끔해서 또 좋았고요 방음도 좋았고 엘리베이터 바로 앞 옆쪽 룸이었는데도 복도 소음도 안 들렸어요 네 번 다섯 번이라도 더 오고 싶네요 더 보기편히 쉬다 갑니다저렴하게 예약해서 좋았습니다굿만족합니다구성비 좋아요깔끔하고 침구가 좋았습니다비싸긴 해도 진짜 최고용산역까지 도보로 분 밖에 걸리지 않아 이동이 매우 용이하고 시설도 깔끔했습니다위치 청결 룸 컨디션 서비스 뭐하나 빠지는 게 없네요 잘 머물렀습니다잘 머물다가 요층 룸으로 배려해주셔서 연박 정말 편하게 힐링하다 다녀왔습니다 욕실이 조금 작고 화장실이 방음이 안되는 건 좀 아쉬웠던 부분이네요시설도 깨끗하고 직원분들도 친절했던 거 같네요가격 대비 매우 좋음아주 좋았습니다규모만큼 청결도 및 객실 뷰도 좋고 좋습니다 다만 위치가 전자상가 옆이라 주변 구경 할게 없는 게 조금 아쉽지만  다른 장점이 훨씬 많네요 좋아요방이 생각보다 작았어요너무 좋아요침대 진짜 좋아요 편히 쉬다 갑니다호텔 너무 편하고 제가 갔던 곳 중에선 젤 맘에 들었음좋았었어요좋았어요노보텔 계열은 구성비가 좋아 객실이 다른 호텔 대비 가격도 좋고 방 평수도 좀 나오는 편이에요항상 좋습니다조식 별로인 거 빼면 다 좋았어요좋았습니다잘 쉬다 갑니다항상 만족하며 머무릅니다 폭신한 침구는 역시 최고예요굿굿굿굿궁성금답게 서비스나 청결 친절 빠지지 않네요 덕분에 와이프에게 점수 좀 땄네요뭔가 그냥 올 때마다 기분 좋은 곳다 좋은데 저층 배정이라서 좀 많이 실망호캉스로 좋아요폐렴 때문인지 가격도 저렴했고 엘베 바로 앞방 줘서 시끄러웠는데 바꿔달라고 하니까 좋은 방 주셔서 잘 쉬었습니다비싼 만큼 침대도 좋고 하루의 피로가 싹침구 야경 청결 좋아요 조식은 솔직히 굳이 그 돈이면 그냥 맛있는 음식점 가시거나 사드세요 서비스는 좋지만 편리하진 않아요 전자레인지 이용하려면 일층까지 갖고 가서 직원에게 부탁해야 해요 다음에 가게 되면 조식 빼고 가려고요주차 등록하냐고 물어보지 않은 점과 중국인들이 많았던 거 빼고는 다 만족코로나도 잘 대처하는듯해요좋아요 방역 확실 헬스장 좋고 굿굿깨끗해요 좋고너무 좋았어요 생필품은 챙겨갑시다잘 쉬었다 갑니다너무 친절하고 편하게 머물다 갔습니다 기념일에 갔는데 서비스도 너무 좋았고 바우처와 음료 포함이어서 더 좋았네요  코로나 바이러스 때문에 열도 재고 문진표도 작성해야 해서 체크인이 오래 걸리긴 했지만 그만큼 꼼꼼하게 관리해주셔서 감사했어요 이태원 종로 등 위치도 가깝고 아주 잘 이용하다 왔습니다역시나 너무 깔끔하고 좋네요깔끔하고 아주 좋았습니다 다만 너무 건조했어요시설 서비스 위치 모든 게 완벽했어요정말 편안하게 잘 쉬고 왔어요 깨끗하고 좋아요역시 좋은 데는 달라요 다음에 또 오고 싶어요 잘 쉬다 갑니다좋았는데다만 아침에 조금 늦게 갔더니 조식을 웨이팅 하는 현상이항상 느끼는 거지만 화장실이 조금 불편한 거 빼고 다 좋아요  룸서비스도 맛있어요너무 좋았습니다조금 좁았지만 정말 좋았어요좋았습니다시설도 깨끗하고 침대도 푹신해서 정말 꿀잠 잤어요최고였습니다와 환상이에요용산역에서 가깝고 좋아요깔끔하고 좋았습니다아 좋아요시설도 깨끗하고 침구도 편했어요 수영복을 못 챙겨갔던 게 너무 아쉽네요 용산역 바로 근처여서 이용하기 좋았어요아이파크몰 있어서 놀기도 좋았고 방에 머리카락 몇 개 있던 거 빼고는 다 만족합니다친절하고 좋은데 방안에 환기가 되지 않아 답답했음    화장실 휀더 안 돌아가고  팬도 더럽고 그 부분에서는 빵점잘 쉬다 갑니다룸 컨디션 친절 교통편 다 좋네 요다음에 기회 되면 방문의 사 있습니다아늑하고 좋아요 대신 추웠어요 하지만 나중에 더워지더라고요 부끄부끄매번 갔던 곳인데 데일리나 인터파크에서 예약 시 같은 타입인데도 층수 등 훨씬 좋은 곳으로 배정 근데야 놀 자에서 첨으로 숙박 예약했더니 층 배정되어 있질 않나 여하튼 헐이었을 일단 항의하여 고층 배정이었는데도 룸 컨디션 꽝 대체 티브이 브라운관에 흠집 난다고 비닐을 붙여놨음 이번엔 정말 아니 올지 다였어요면도기 칫솔 치약은 없으니 챙겨가셔야 돼요 조식도 맛있고 청결하고 너무 만족해요약간의 담배 냄새 그 외에 조식 시설 다 만족했음 수압 약간 약함역시 호텔 클래스가 있더군요호텔 중 가장 좋아하는 곧 넓고 쾌적하고 뷰 좋고 매일매일 이용하고픈 곳화장실이 살짝 애매했지만 다 좋았어요전망도 좋았고 서비스도 친절하고 객실도 깨끗하고 위치도 좋았어요 최고입니다너무 좋았어요 깨끗하고 침대 편안하고 아늑하고 역에서 이어져서 굳굳노력을 포함한 패키지가 성비가 매우 우수했습니다시설 모든 것이 좋다 하지만 칫솔은 꼭 사도록너무 많이 가서 내 집 같은 너무 편하고 좋다잘 쉬다 갑니다 깔끔하네요너무 좋았어요수영장 옷 갈아입는 곳이 좁습니다 그거 빼고는 시설도 깨끗하고 좋습니다 서울에서 어디든가 기 좋서비스가 부담스러울 정도로 너무 좋고 위치도 정말 좋은 곳에 있어서 즐거운 시간 보냈습니다 객실도 정말 청결했어요 담에도 이용할 거 같아요다 좋은데 맞은편 객실의 애들 떠드는 소리가 계속 들리더군요 늦은 시간이라 자겠지 자겠지 하고 참았는데 방음이 철저하지 않은 구조라면 방 배정 시 가족 단위는 좀 더 신경 써주세요좋은 호텔입니다숙소 너무 좋아요 남산 뷰로 했는데 남산 뷰도 나름 괜찮네요 근데 숙소 내 물품이 유료인 게 너무 많아서 잘 보고 사용해야겠어요교통 짱짱호텔 좋아요좋았습니다룸 컨디션도 나쁘지 않고 교통도 편리했습니다깨끗합니다괜찮아요 흐굳잡이에요모든 게 완벽했어요 다 좋은데 조식은 조금 아쉽네요명불허전입니다깔끔하고 좋았어요시설과 직원들 친절하고 룸 컨디션도 좋아요정말 좋아요최고였습니다 잘 쉬다 갑니다깔끔하고 서비스가 좋았어요용산역 뷰였지만 교통이나 접근성은 최고였어요 편의점 있어서 편리하긴 했어요힐링하고 갑니다좋았어요깔끔하고 친절했습니다 주변에 영화관이나 쇼핑몰도 있어서 여러 가지로 좋은 곳이었던 것 같습니다좋습니다   방이 조금  작은 느낌은 있었지만  믿고 가는 곳이에요 항상룸 컨디션 너무 좋고 다들 친절하셨어요 다만 토요일이라 그런지 외국인도 많고 사람이 많아서 좀 복잡했네요 그래도 잘 쉬다 갑니다침대도 너무 좋고 방도 좋고 조식도 맛남 접근성 좋음좋아요  서비스도 좋고 호캉스하러갔는데 완전 푹 쉬고 왔습니다친절하고 깨끗하고 좋았어요용산역 주변 먹거리와 피겨 레고 구경거리가 많고 숙소에 구비되어 있는 커피도 맛있고 깔끔하고 다 좋았습니다 다만 화장실 비데가 터치가 잘 안되어 아쉽네요항상 좋아요매우 건조해서 가습기 필요함시설도 깔끔하고 교통도 좋았어요쇼핑과 휴식을 편하게 즐길 수 있었는데요 상품설명이 좀 더 있으면 좋았겠다고 생각합니다 예를 들면 라운리이용권을 함께 구입하는 것이 좋다는 등서비스는 정말 친절역시 엄청난 곳이에요오늘도 잘 쉬다 갑니다조식이 맛있어요 수영장에 아무도 없어서 재밌게 놀았어요룸 컨디션  디너 뷔페 헬스장 전부 맘에 들었다숙소도 깨끗했고 어메니티 향도 좋았어요 편의점이 건물 안에 있어서 편했습니다전체적으로 만족스러웠습니다방도 예상보다 넓고 좋았어요워낙 후기가 좋아서 기대감을 가지고 방문했습니다 역시 많은 사람들의 후기처럼 친절하고 깨끗하고 편리하고 좋았네요 조식도 훌륭했습니다성급 호텔답게 청결은 물론 서비스도 최상이었습니다 리버뷰가 생각보다 별로여서 시티뷰쪽으로 변경 요청드렸더니 직접 와서 변경 도와주시고 조식도 끝내주게 맛있었네요대박  좋습니다    많은  추억  쌓고  갑니다너무 좋아요크리스마스라 복잡했지만 좋았어요크리스마스라 좀 대기하고 키 받았어요 방은 깨끗하고 야경도 괜찮았어요편하게 머물다 갑니다좋았어요 완전전체적으로 깔끔하고 역이랑 붙어있어서 찾아가기도 쉬웠어요 침대 정말 좋아요깔끔하고 좋았습니다성급 호텔은 다르다는 걸  가보면 이해됩니다벌써 번째 투숙 너무너무 좋아요 자주 이용하는데 좋아요정말 좋았어요  이곳에서 프러포즈도 받았어요깨끗하고 편리함연말에 잘 쉬고 왔습니다좋았어요만족합니다좋았습니다엄청 좋습니다좋은데 코인 빨래방 같은 내부 시설이 없어서 조금 아쉬웠어요매우 깔끔했고 편의점도 있었고 층수도 높은 곳 주셔서 너무 좋게 갔다 왔어요좋습니다 괜히 성급이 아니에요생각보다 넓었고 뷰도 좋았으면 깔끔했고 조용했다깔끔했습니다가격 대비 비싼 것 같았으나 괜찮았습니다 잘 쉬다가 요접근성 좋고 수영장 이용 만족도 좋습니다성급 호텔인데 말할 게 있나요 좋습니다정말 정말 프런트 직원분 진짜 너무너무너무 친절하셔서 입실하기도 전에 진짜 마음 편히 퇴실까지 너무 잘 있다 왔어요 외국인분들 진짜 엄청 많은데 서로 해피뉴이어 인사도 하고 정말 행복했어요시설 좋고 깨끗하고 호텔다운 직원 서비스 만족합니다청소가 제대로 안 되어있었어요  누가 입던 옷이 그대로노보텔은 항상 좋아요 청결도가 조금 아쉬운 면이 있었네요너무 좋아요 늘너무 좋았어요좋은 시간이었습니다뭐 말할 필요 있나요 뷰도 좋고 딱 좋아요편하고 깨끗하고 넓어서 자주 애용해요 직원들이 다 친절합니다 완전히 만족스러워요역시 드래건 시티너무 좋았어요 모든 게 만족 또 가고 싶어요한강뷰 쪽으로 잡아주셨는데 한강이 멀어서 안 보이지만 그래도 운치 있었어요어플에 있는 사진보다 뷰는 좋진 않았어요 칫솔 구매해야 하는 거 말고는 청결하고 좋았네요최곱니다 최고성급 호텔좋았습니다깨끗하고 다른 성급 객실보다 좀 넓어 보여서 좋고 한강뷰 선택하면 정말 빌딩도 보여서 분위기 있어요 직원분이 친절합니다 룸서비스도 좋고 발레도 좋고 또 자주 올 것 같아요너무 좋았어요쾌적하고 좋아요모든 게 정말 좋았어요서울에서 머문 호텔 중 가장 좋았습니다너무 좋았어요깨끗하고 좋았어요다 좋았어요 후후 근데 스위트호텔이랑 나눠져있어서 조심해야 해요좋았습니다잘 쉬다 갑니다크리스마스 호캉스했어요깨끗햇고 친절하고 좋았어요 용산역이랑 연결되어있어서 밥 먹으러 나가기도 편했어요 크리스마스에 수영장에 사람 너무 많아서 그건 아쉬웠어요 그리고 조식이 기대에 비해 아쉬웠던 점 빼고는 다 좋았어요 더 보기용산 역하고 가까워서 너무 좋았어요 뷰도 좋았고 다들 친절하셨어요 좋은 하루 보내다 갑니다성수기라 사람 기다리는 것만 제외하면 굿너무 좋았어요 직원들 다들 너무 친했습니다방음 진짜 안되는 거 빼곤 무난해요객실 방음이 잘 안되어서 시끄러웠던 거 빼곤 다 좋았어요 룸서비스도 가격 대비 훌륭해너무 좋았어요친절하고 깨끗해요역시 좋은 값합니다 다들 너무 친절하셨고 편의시설도 좋았어요 다만 편의점 칫솔이 다 나가서가 글로 양치했어요 여유분 정도 더 쟁여두었으면 아무튼 방도 좋고 분위기도 좋고 다 좋았습니다 더 보기굳굳구룯굳 가심비너무 좋고 편안했습니다 잘 머물다 갑니다편하게 쉬다 왔어요넘좋앗오요깨끗하고 좋았습니다숙소도 깨끗하고 너무 좋아요친구들이랑 호캉스로 다녀왔어요 쿠폰 써서 저렴하게 예약할 수 있어서 좋았어요 용산역이랑 이어져있어서 접근성도 좋고 맛있는 거 사가 가기도 편했어요 엑스트라 베드 추가했는데 해주시는 직원분들도 너무 친절해서 기분 좋게 있다가 왔어요 다음에 또 오고 싶어요여러모로 좋았어요조어여 오오엘리베이터 증설 필요뷰가 한강 쪽인데  살짝 아쉬웠어요객실도 청결하고 조식도 너무 좋았어요너무나 좋았습니다역시 성 급이네요 교통뿐만 아니라 바로 아이파크 몰이 연결되어 있어 쇼핑과 문화 등 다양한 활동을 쉽게 접할 수 있고 호텔 청결도 또한 여태껏 가본 곳 중 제일 으뜸이었습니다 다음에도 방문할 계획이 있습니다난방 조절이 잘 안돼서 좀 아쉬웠어요깨끗하고 좋아요깨끗하고 쾌적하여 숙박하기 정말 좋았습니다 또한 접근성도 좋아 편하게 이동할 수 있었으며 직원분들께서도 다들 친절하셔서 기분 좋게 머물다 갈 수 있었습니다호텔이랑 용산역이랑 이어져있어서 좋았고 침대도 너무 푹신하고 좋아서 완전 꿀잠 잤어요방은 전 크고 좋아요 층 킹스 베케이션 강추전체적으로 괜찮았습니다힐링으로 채고네요조식 저녁 다 먹었는데 진짜 맛있었습니다 아쉽다면 방음이 잘 안되는 거 같아요 나머지는 진짜 최고입니다좋았어요 너무밥도 맛있고 좋았음좋았고 깔끔해요너무 깔끔하고 좋았어요침구 진짜 편해요너무 좋았어요너무 좋았어요 또 갈게요다 좋은데 욕실이 너무 좁아요방도 넓고 깨끗하고 좋았습니다 다만 성금인데 욕조가 없어서 아쉬웠네요직원분들 너무 친절하고 룸서비스도 엄청 맛있었어요 모든 게 완벽해요전망이 좋았음너무 깔끔하고 최고였어요  다음에 또 방문할게요배우 만족합니다 별개청결 접근성 친절함 모든 게 다 좋았는데 너무 건조해서 죽을 거 같았습니다깔끔하고 편안하게 잘 쉬었습니다룸 컨디션도 좋고 직원분들도 친절하셔서 기분 좋게 머물렀습니다프런트도 친절하고 용산역이랑도 가까워서 너무 좋았어요뷰는 별로그냥 보통좋았습니다너무 좋았어요 용산역 바로 앞이라서 일단 교통이 엄청 편리했고요 어디 멀리 안 나가도 근처 아이파크몰에서 충분히 놀 수 있어요 로비 들어갔을 때부터 너무 예쁘고 좋았어요 숙소도 깨끗하고 청결하네요역시 값어치를 하는 것 같아요차량 없이 방문하였는데 찾기 쉬웠어요 아무 문제없이 편안하게 쉬다 왔습니다고층 한강뷰 좋았습니다모녀의 호캉스로 행복한 하루였습니다 머물렀던 날이 하필 공기가 너무 나빠서 탁 트인 뷰를 못 본 게 조금 아쉬워 요다음엔 공기 좋은 날 멋진 노을 뷰를 보고 싶네요 재 예약 의사 있습니다 더 보기넘고 좋아요넘넘 좋았습니다친절하고 객실 컨디션 매우 좋아요  사진은 멀리 나왔는데 남산타워도 가깝게 잘 보이고 단점이라면 화장실 문 위에 가 뚫려있다는 점 사전 요청으로 씨티뷰 고층 요청했는데 반영해주셔서 잘 지내다 왔습니다야경도 좋고 침대도 좋고 다들 너무 친절하고 좋았습니다 용산역 가까워서 좋았어요정말 친절했다좋아요 침대 뽀송뽀송역시 노보텔 시설 좋고 뷰도 좋았던 호텔입니다둘이 묵기 좋고 편의점도 돼있고 주차도 편리해서 좋아요호텔 직원분들도 너무 친절하고 뷰도 좋고 침대도 좋았어요 욕실이 조금 좁은 건 아주 아쉬웠어요 부대시설도 좋고 고급스러워서 기뻤습니다계속 있고 싶을 정도로 좋아요 길은 너무 막히네요외국인들 마 나서 엘베 서비스 이상하고 별로임 엘베 느려터짐깨끗하고 전망 좋고 아주 꿀잠 잦아요전에 좋아서 이번에 또성급 호텔답게 깨끗하고 서비스 좋고 조식도 맛있었어요 뷰도 멋있었고 담에 또 가고 싶어요박할 수밖에 없는돈 많이 벌어야겠네요추가요금 내고 업그레이드했습니다 야 놀 자엔 이그제큐티브 룸이 없어서 아쉽네요좋았습니다침대가 아주 개꿀깔끔하고 좋았어요 재방문 의사 있음아주 좋아요방도 깔끔하고 직원들도 칠 절하고 만족스러웠습니다두 번째 방문인데 청결하고 침구류도 푹신해서 좋았네요 잘 쉬다 갑니다일요일 숙박하였는데 조금 일찍 도착해도 기다림 없이 체크인해주시고 방도 업그레이드돼서 매우 만족스럽습니다 난방을 틀다 보니 방이 건조해져서 가습기를 요청했는데 바로 가져다주셔서 좋고 저녁은 층에 있는 푸드 익스체인지에 가서 먹었는데 완전 취향 저격이었습니다용산역에서 엄청 가깝고 시설도 엄청 고급 지고 깨끗했습니다 여러 번 가고 싶은 곳위치도 좋은데 주변에 음식점이 없어서 아쉬워요깨끗하고 좋았어요깨끗하고 좋았어요 아쉬운 건 배달하면 받으러 아래까지 내려가서 받아야 해요아주 좋아요침대 맛 집이에요위치 친절도 서비스 모두 최상입니다 다만 일회용 칫솔이 없어서 구비되어있는 칫솔을 사기에는 너무 비싸네요 미리 공지하면 좋을듯합니다 감사합니다 더 보기너무 좋았습니다좋았습니다잘 쉬다 갑니다좋았습니다역시 성호텔은 정말 좋네요시설 좋고  룸사 리즈도 좋아요침대 짱 크고 넓고 푹신하고 너무 좋았어요교통 접근성도 좋고 친절했습니다완벽한 호텔입니다와 도와도 좋네요만족 헙니다강추 강추 또 추천합니다 두 달 전쯤에도 한번 왔다가 너무 좋아서 이번에 또 다녀왔는데 역시나 좋았어요 침구도 좋았고 무엇보다 전체적으로 정말 깔끔했어요 밤 되니 뷰도 이쁘고 너무 좋더라고요 잘 쉬다 갑니다호텔인데도 불구하고 택시 서비스나 충전기 서비스가 없는 점은 좀 아쉬웠습니다좋았습니다룸 업그레이드도 해주셔서 너무 좋았어요모든 내용이 다 좋았습니다모든 게 다 완벽합니다 위치도 좋고 안에 객실도 깔끔하고 층에 편의점도 있고 서비스 좋고 모든 게 다 좋아요교통 접근성도 너무 좋았고요 깨끗했어요 수영장에 생각보다 사람이 많았지만 그래도 재미있었고 용산역이랑도 걸어서 분 편의점도 건물에 바로 있어서 너무 좋았고 요 근데 뭐 살 거 있으면 조금 걸어서 이마트가 서 사 오는 게 사요 더 보기서비스도 좋고 방 정말 좋아요 오성급 호텔답게 친절하고 깔끔하네요너무 편하게 있다 왔어요 아이파크몰과 가깝고 호텔 내 편의점도 있고 침대가 많이 편하고 야경도 좋아요다 좋았어요 대신 불꽃놀이 보시려면 노보텔 스위트요 층이어서 아쉬웠어요서울시내 불꽃놀이  관람 가능 최고입니다언제 가도 친절하고 컨디션 좋은 룸깨끗해요구성비 좋은 노보텔 욕조가 없는 건 아쉬웠지만 침대가 최고예요너무 좋아요 교통 시설 청결 서비스 다 대만족입니다룸 컨디션 좋아요생각보다 룸 컨디션 정말 좋아요시설이 깨끗했어요역시나 좋습니다좋아안어요방이 생각보다 컸고 편의점이 한 건물에 있어서 편했어요호캉스였슴다역이랑 가까워서 이동도 편하고 시설도 깨끗하고 항상 올 때마다 매우 만족합니다야근할 때 종종 이용합니다 쾌적하고 룸서비스 갈비탕 소고기 버거 핵존맛 추천 어메니티는 별로 꼭 본인의 것들을 챙겨 가세요다 좋았는데 체크인할 때 조금 불편했어요 더 블로 예약했는데 트윈룸밖에 없다고 아니면 다른 방과 문 하나 사이로 두고 있는 방 밖에 없다고 하더라고요 선착순으로 체크인이 되는 걸 알고는 있지만 적어도 문 하나 사이로 두고 있는 방이 될 수도 있다고 고지를 따로 표기를 해두던가 해주셨어야 하는 거 아니냐고 조금 불편하다고 말했더니 그제서야 원래 일반 더블룸으로 체크인을 해주시던데 그럼 처음부터 있었던 방이였다는 건데 계속 체크인을 하고 들어와서도 기분이 별로 좋지 않더라고요 가끔 힐링하러 종종 가는 노보텔인데 이번에는 너무 실망스러웠네요  방 배치 시스템이나 처음 고지하는 그런 시스템을 개선할 필요가 있다고 봅니다  하지만 룸 컨디션도 너무 좋고 편의도 좋아 또 갈 생각은 있습니다 더 보기깨끗했습니다항상 가는 서울 휴양지좋아요 담엔 스위트 이용해보고 싶어요 근데 층에 있는 메가 바인드가  거기 직원들 너무 불친절해요  호텔 전체적인 분위기에서 확 깨는 친절도였습니다 얼음 넣어달라고 하는데 앞에서도 훤히 보이는 그릇들이 쌓인 싱크대 속에서 꺼내서는 대충 물로 헹구고 얼음 넣어주는 것까진 그래 바쁘니까 이해 사실 바쁘지도 않았음 손님  응대가 너무 부족하네요  다른 직원들은 다 친절한 거 같아요야경이 진짜 좋아요용산 주변에 할 건 없지만 숙소 자체는 완벽특급호텔답게 모든 것이 깨끗하고 정리되어있습니다뭐 말할 것도 없네요 역시는 역시입니다 귯어러러어나우유여러모로 너무 좋았습니다 짱짱너무 깔끔하고 좋았습니다깔끔하고 좋았어요만족스러웠습니다 친절했고요 뷰도 좋았어요만족했어요너무 좋아서 주 연속 다녀왔다 직원분들도 진짜 친절하시고 위치도 좋고 룸 컨디션도 만족스럽다매우 좋은 호텔 푸드 익스체인지 가격 보고 화들짝했지만 퀄리티는 그만큼 좋음서울 올 때마다 항상 들리는데 좋습니다 한강 뷰도 좋아요위치도 좋아요좋습니다 모든 것이 마음에 들었어요좋았습니다잘 쉬다가 갑니다비싼 만큼 역시 좋군요 깔끔함 화장실 분리가 잘 되어있음 더 좋겠어요침대가 만 원어치 다했네요너무 좋아서 다음 주에 또 오자며 직원분들도 정말 친절하시고 룸 컨디션도 너무 좋았어요 앞으로 서울 호캉스를 요기로항상 무난한 곳임일단 깔끔하고 근처 아이파크몰 연결된 점이 좋았음 실내서도 라운지 바 및 레스토랑 등 편의시설이 많아 작은 소도시 같아서 매우 굿 아쉬운 점은 전처 레스토랑에 대한 정보가 좀 더 나왔으면 한다  또한 치약 칫솔 별도 원 구매는 좀 하하고급스러운 분위기 친절함 깨끗한 시설 모두 마음에 듭니다또 가고 싶은 곳좋은 곳입니다뭐 말이 필요 없습니다 좋아요중국인 호텔 같았음 구성비 최고의 호텔이 아닌가 싶습니다 아이들과 한 번씩 와서 쉬었다가 기 너무 좋아요 아이파크몰과도 연결되어 있는 것도 큰 메리트가 있는 것 같고요 다음에 또 방문하겠습니다시설과 침구 친절이 최고너무 좋았어요좋았어요 근데 생각보다 한강뷰가 너무너무 까진 아니라 아쉬웠고 주변에 볼 것도 없어서 아쉬웠지만 호텔 자체는 깨끗하고 호캉스 즐기기 너므너므조앗긔침대가 진짜 편하고 역 가깝고 호캉스로는최고인듯하네요 여기가 제일 싸서 여기서 했음 이벤트 많이 해주세요 더 보기좋아요 좋아요생각보다 너무너무 좋았어요너무 편안하고 안락하게 잘 쉬고 갑니다너무 친절하고 청결해서 너무 좋았네요 중국인이 많은 것 빼고 최고였어요칫솔 샤워 스펀지가 없었던 게 아쉬웠지만 그 점을 제외하곤 정말 괜찮습니다조식도 맛있고 너무 좋았어요모든 시설물들이 청결하고 잘 정돈된 느낌이었습니다 피트니스센터 수영장 등 부대시설도 훌륭했어요잘 쉬다 갑니다 아 아이시설도 깨끗하고 조식이 정말 정말 맛있었어요 다음에 또 가고 싶어요너무 좋았어요 직원분들 하나같이 다 친절하시고  감사합니다 행복한 호캉스 보내다 가요진짜 짱짱맨이었습니다용산역이랑 이어져있어서 자주 이용함 그러다 보니 외국인도 많음 환경보호를 위해 칫솔치약이 없다는데 핑계 같음룸이 넓은 편이 아니긴 하지만 적당하고 야경도 좋고 깔끔해서 너무 좋았어요 수영장이 좁아서 아쉬웠지만 그래도 잘 쉬고 놀다 갑니다좋았어요 정말친절하고 깨끗해요친절하고 깨끗해요교통도 좋고 위치도 좋고 너무 좋았습니다 다시 한번 꼭 가고 싶네요 특히 조식이 아주 좋았습니다좋은 경험이었습니다그냥 더할 나위 없이 최고였습니다교통도 편리하고 서비스도 너무 좋았습니다 숙소에서 스카이 풀 이동거리는 멀었지만 전용 엘리베이터가 있어서 복잡하지 않아서 너무 좋았어요깨끗하고 친절하고더할 나위 없었다대체적으로 신축 호텔이기도 하고 워낙 유명하기도 해서 만족스럽습니다 서비스에서 약간 아쉬운 부분이 있었지만 큰 문제는 아니라 언급하지 않겠습니다아이파크 몰이랑 가까워서 좋았고 후기 중에 길 찾기 어렵다고 해서 걱정했는데 찾기 쉬워요 친절하시고 체크인을 빨리한 것도 아니었는데 층으로 배치해주셔서 기분 좋았어요러브호캉스 패키지라 씨지브이 알라 메종 델리 만 원권 메가바이트 팥빙수권 받았어요델리만원권은 못 쓰고 나와서 아쉽긴 하지만 쾌적한 곳에서 잘 쉬었다가요 알라 메종 델리랑 와인 앤 다인이랑 달라요 칫솔 꼭 챙기세요 그리고 불 끄고 켜는 건 전화기로 냉장고가 안 시원해요 음료나 술 미리 사지 마세요 바우처 개다 카페 사용이라고 생각하시고 사용하심 좋아요 알라 메종 와인 앤드 다인은 네이버 예약 또는 투숙객 할인 퍼 된대요 더 보기너모 좋아요 짱짱맨  여기서 놀면 저세상 텐션침구가 아주 좋아요 스시 익스프레스 뷔페도 맛있어요 빠질 것 없는 곳이고요 대신 창문이 바로 외부와 직결 테라스 없음이라 비 맞을 때 빗소리가 적나라합니다 전 빗소리가 좋아서 반대로 맘에 들었네요호캉스하러 갔는데 숙소도 깔끔하고 직원분들도 친절했습니다 세면 부분에서는 칫솔 치약이 없어서 챙겨가야 되는 점 체크인이 조금 늦는 점 외에 모든 면에서 만족스러웠습니다호캉스로 박을 보냈습니다 용산역과 이어져 교통은 말할 것도 없고요 아이파크몰까지 바로 이어져 쇼핑하며 시간 보내기 너무 좋았습니다 자차 이용했는데 주차장도 널찍해서 편리했어요 생각보단 룸이 작은 편이긴 했지만 침구도 너무 편했고 청소도 잘해주셔서 푹 쉬다 왔습니다 단 수영장은 그냥 가족탕 느낌에요 레일도 없고 규모도 작아서 실망 조금 했습니다 이른 아침저녁시간은 좀 나으려나요 드래건 시티 쾌적하고 좋았습니다 더 보기방이 좁다믿고 항상 편하게 쉬다 옵니다 감사합니다체크인이 너무 불편함 몰리는 시간에 가면 정말 사람이 많음 그냥 객실임너무너무 좋았어요 용산역과 가까워서 시설 이용하기도 좋고 시설도 좋았어 오오랜만에 호캉스 쉬러 왔는데 좋은 기운 받아 갑니다시설 좋네요접근성 짱시설이랑 접근성이 너무 좋네요 아이파크몰에서 시간 보내기도 좋습니다 다만 용산역 앞 공사장 터가 너무 휑해서 야경은 별로예요 한강뷰 기대는 마시길전체적으로 맘에 들고 너무 편안하네요 용산 아이파크 몰이랑도 바로 연결되어 잇고 그런데 냉장고가 많이 시원했으면 좋겠고 친환경으로 인해 일회용 칫솔 및 보디 타월 등  일회용품이 객실에 없다는 것을 가지고 와야 된다는 것을 공지해놨으면 좋겠어요 나머지는 정말굳굳프런트 직원분들 모두 친절하고 주변에 편의 시설도 잘 갖춰져 있어 좋았습니다좋아요 채널이 별로 없어서 조금 아쉬웠어요좋았어요 위치도 좋아요갈 때마다 조아서 꼬갈꺼에요으리으리해요 그런데 수영장은 진짜 박 터집니다뷰도 좋고 깔끔하고 좋아요건물 어마어마해요  룸 컨디션 좋고 직원들 매우 친절  수영장 횟수 제한이 아쉬웠어요호텔 세 개가 붙어있어서 헷갈렸지만 위치도 좋고 좋았어요확실한 건 숙소 분위기랑 시설 친절은 좋았습니다 안에도 생각보다는 작지만 숙박하는 데는 전혀 문제없었습니다 단점은 딱 하나 취향마다 다를 수 있지만 창문이 없다는 게 너무 힘들었다 답답하고 밖 공기도 작은 창문이라도 있으면 좋았는데 그게 딱 하나 단점임 창문 하나도 없고 통유리임 더 보기너무너무 좋았어요용산역에서 가장 근접하고 아이파크몰과 연결되어있어 저녁에 나가기 편하고 아주 좋았어요 직원분들도 너무 친절하셨고 무엇보다 수영장과 헬스장 이용 및 샤워 부대시설도 잘 갖춰있어서 정말 편한 호캉스였습니다룸 컨디션 좋았어요정말 깨끗하고 좋았어요 또 가고 싶어요정말 괜찮았습니다재방문하고 싶어요 만족합니다좋아요위치가 좋아서 자주 가게 됩니다깨끗해서 좋았어요깨끗하고 지하철역이랑 가깝고 마트 쇼핑할 곳도 바로 근처고 편의시설 모두 안에 있고 좋았어요 벽지 빼고 정말 잘 놀다 갑니다 서비스도 좋고 깨끗하고 만족 만족깨끗하고 좋았어요짜증 친절했어요가격 대비 시설 위치 좋아요그냥 정말 좋았다교통 근접성과 조식은 훌륭했습니다전체적으로 만족했습니다처음에 딱 갔는데 체크인해주는 직원분도 친절하였고 방도 업그레이드해줘서 좋은 침대에서 푹 잤습니다 야경도 좋았고 티브이가 커서 정말 좋았음 다음에도 이용해야지좋아요  재방문 의사 있음최고예요 최고직원들이 로봇 같음깔끔합니다침대 편하고 좋아요 객실이 넓은 편은 아니지만 전체적으로 화이트톤이라 밝은 분위기 직원분들도 친절하시고 집 앞인데 기분 낼 겸 그냥 하루 자고 왔습니다좋았어요여기 정말 좋아요객실 청소도 처음처럼 정말 깨끗하게 해주시고 룸서비스 음식도 입맛에 딱 맞았습니다 무엇보다도 호텔리어 직원분들이 친절하셔서 좋았습니다 호텔은 노보텔 앰배서더 용산만 이용해야겠습니다입구 찾기가 좀 어렵긴 했지만 그건 제가 길치라서 인 것 같았고 전반적으로 다 좋아요한강뷰도 좋고 객실도 깨끗하고 좋았습니다객실 청결 상태 좋고 서울 시내 호텔들이 주차장 이용하기 조금 불편한 편인 거에 비해 아주 편하게 차량하고 주차장 이용 가능해서 좋았네요너무 깨끗하고 접근성도 좋고 다 좋았습니다방은 괜찮았고 라운지가 괜찮음전반적으로 괜찮았으나 뷰가 아쉬웠습니다생각보다 좋아요좋았어욯깨끗하고 좋아요조아요오옹조앗어용만족했어요좋았어요좋았습니다아주 좋았음아주 좋아요좋아요노보텔 그리 좋은 기억은 없었는데 드래건 시티는 프런트 직원분들부터 호텔 내에 직원분들 마주칠 때마다 모두 친절했어요 시설과 접근성 좋아 재방문 의사 있습니다 친전하고 깨끗해요좋은데 방음이 많이 아쉬워요좋았습니다매번 옵니다 너무 좋아서조이욯호다시 방문하고 싶은 호캉스 호텔수영장 한적하고 좋았어요일단 접근성도 너무 좋고 성급 호텔에 걸맞게 서비스도 너무 좋았어요 다만 노보텔 스위트가 아니라 야경은 기대하는 것보다는 예쁘진 않았어요 예쁜 야경 보려면 무조건 스위트 가야 할 것 같아요 그래도 만족했답니다다른 거 다 좋았는데 수영장에 있던 관리인 불친절해서 기분 상했네요너무나 좋은 추억을 만들 수 있었어요 생각지도 못했는데 룸도 업그레이드해주셔서 정말 푹 쉬다 왔네요깨끗하고 좋았어요아이파크 몰이 이어져서 너무 편했고요 수영장 이용할 수 있어서 너무 좋았습니다 다 좋아요 아쉬운 점은 폰이랑 티브이랑 연결해서 넷플 보려 했는데  티브이라 안된다네요 삼성 티브이 있는 방만 된다는데 어떤 방에 어떤 티브이가 있는지는 랜덤인듯합니다아주아주아주아주 좋아요너무 좋았어요 잘 쉬다 갑니다조금 아쉬운 것들도 있지만 나름 괜찮아요서비스 친절도  항상 웃는 얼굴로 응대해주시고 짐을 보관한다든지 하는 요청사항도 신속하게 처리해주십니다 케이크 냉장보관도 도와주셨습니다 숙소 객실 청결도 깨끗하고 흠잡을 데 없습니다 시설 편의성 용산역에서 실내 통로로 이동 가능하여 비가 오는 날씨에도 우산 없이 이동했습니다 체크인 후 쉬다가 용산 아이맥스 관람까지 완벽했습니다 비품 용품 만족도 기본적으로 잘 갖추어져 있습니다 첫 솔 치약은 없다고 하여 미리 챙겨갔어요 타월도 넉넉합니다 야경도 정말 멋집니다  강추합니다 더 보기얼리버드로 예약해서 가격도 저렴하고 위치도 좋고 호캉스하기 좋아요좋았습니다방 넓고 깔끔해요 주차 공간도 많고 만족 조식은 쏘 쏘구성비 좋은 호텔입니다 위치도 좋고요 잘 쉬다 갑니다접근성 좋고 서비스도 좋습니다조식도 맛있고 친절하고 호캉스 즐기기에 최고네요좋습니다 깔끔하고 객실 향기가 너무 좋아요 조금 늦게 체크아웃 요청드렸더니 흔쾌히 시간 이후에 체크아웃 할 수 있게 해주셨어요호텔 직원분들께서 아주 친절하시고 선뜻 나서서 도와주시려고 하셔서 대우받는 기분이 들고 정말로 좋았습니다 호텔 내부도 굉장히 깨끗하고 난방이 진짜로 잘 돼요 창틀 먼지마저도 보이지 않을 정도로 깨끗해서 감동받았습니다 나중에 또 호캉스 즐기러 오려고요너무너무 감사합니다조식도 맛있고 침구 상태가 좋았습니다너무너무 좋게 놉주위에 부대시설이 많아 이용하기 좋았어요위치 시설 모두 좋았습니다 직원분들이 친절하세요다 좋긴 한데 중국인 너무 많음나름 좋습니다이비스보단 전망은 덜하네요좋았습니다서울의 중간이라 어디를 가도 가까워요 깔끔하고 좋습니다너무너무 감사합니다좋아요 이불도 깨끗하고 직원도 친절하고좋았다고 봐요방음이 잘 안되는 게 흠이네요깨끗하고 직원이 정말 친절합니다깔끔하고 좋았어요처음 이용했는데 서비스가 정말 좋았습니다 방도 좋았고 친구랑 추억도 쌓고 왔어요 감사합니다늦은 시간 체크인 체크인 접수하는 직원은 차량은 가져왔는지 물어보지도 않고 객실 들어가서 칫솔이 없어 전화했더니 프런트에서 안내 못 받으셨냐 되물어보고 물어보기는 개뿔 아 프런트 고객 응대 정말 별로였음좋아요 좋아요 좋아요 좋아요너무 좋았습니다 특히 조식 너무 맛있네요이비스에 묵어보고 이번에 노보텔 이용해봤는데 훨씬 좋네요 위치도 좋고 직원분이 너무 친절하셔서 좋았습니다 잘 쉬다 갑니다잘 쉬다 갑니다깔끔하고 뷰가 좋았으며 아이파크 몰이 가까워서 좋았습니다매우 좋습니다수영장이 너무 작고 아이들이 많았다는 것만 제외하면 괜찮았어요 용산역이랑 연결도 되어있어 이동도 편리했습니다좋았습니다좋았어요노보텔 굳일단 용산역에서 매우 가까워서 좋았습니다 게다가 실내 통로로 반으로도 갈 수 있어서 더 좋았어요 우산이 없는 상태에서 잠깐 비가 왔었는데 전혀 걱정 없었습니다 호텔 층에 편의점도 있고 객실 내부도 매우 매우 깔끔했습니다 다만 침대에 먼지가 좀 있었던 게 흠이네요 다음에도 자주 방문할 예정입니다깨끗하고 역이랑 연결되어있어서 너무 편했습니다 욕조가 없어 쪼금 아쉬웠지만 너무너무 좋았어요 또 이용하고 싶어요굿굿굿굿둣깔끔하고 편하게 쉬었습니다정말 좋았어요 방도 널찍하고 침대도 폭신하고만족합니다종이요 외직접 가기 전에 너무 헷갈렸어요 제가 헷갈린 부분 정리해드립니다 드래건 시티에 호텔이 개로 뜨죠 순서가 이비스 노보텔 스위트 순입니다 뒤로 갈수록 좋은 호텔이에요 노보텔은 성급 이구용 진짜 완전 진심 개 좋아요  최대 층인가까지가 노보텔이고 그 위부터는 스위트로 알고 있어요 층 언저리도 뷰가 충분히 괜찮습니다 다만 리버뷰는 넓은 공사장 공터 저 너머에 강이 있어서 기대하시는 만큼은 아니에요 시티 부는 모르겠어요  호캉스 여기 강추합니다 더 보기깔끔하니 좋아요객실 깨끗하고 침대가 좋았습니다 야경 역시 좋았고요 뷔페 별도고 결제하고 사용했고 금액도 비싸지만 만족은 그 이상입니다깔끔하고 편해요정말 좋아요좋아요조아 어요  뷰도우리 객실만 그런 건지 모르겠지만 난방이 너무 앤 돼요 시설팀도 왔다 갔는데 온도가 안 올라가서 방 바꾸기도 귀찮고 해서 그냥 잤어요 나머진 다 좋아요객실은 깨끗하고 좋았어요 호텔 근처에 아이파크 몰이 있어서 구경하고 시간 보내기도 좋아요너무 좋았어요잘 쉬고 갑니다최고였어요좋았습니다아주 좋아요인기 많아서 갔는데 사람이 나무 많아서 체크인이 오래 걸려서 불편했어요구성비로 잘 놀았어요위치도 좋고  깨끗하고 좋아요편안하고 좋았습니다정말 좋았어요정말 좋아어요결혼식 근처라 이용하게 됐는데 시설도 깔끔하고  용산 아이파크 몰하고 연결돼있어서 너무 좋았어요 직원분이 너무 친절하셨습니다정말 깔끔했어요좋았습니다괜찮았어요너무너무 좋았습니다남산 뷰러 조금 아쉽기는 한데 잘 쉬었습니다좋아요다 좋은데 엘리베이터가 불편했어요객실이 깨끗하고 남자친구랑 호캉스하기 좋았어요 사람들이 친절했어요 근데 칫솔 꼭 챙겨가세요 칫솔이 없어요 그냥 엄청 좋아요좋아요 좋아요깨끗하고 친절합니다토요일이라 체크인에 시간이 많이 걸리긴 했지만 항상 이용할 때마다 쾌적하고 편안합니다좋은 시설에서 잘 이용하고 갑니다신규 호텔이기도 해서 다 좋은데 공조기 이상으로 직원이 올라와서 점검을 했었는데 원래 호텔은 그래요라고 짜증 내는 거 보고 좀 황당한 기분이 들더군요 나 호텔 처음이니  메이드 직원분도 공조기 이상하다고 프런트에 연락해준다고 하시던데 원래 호텔이 그런 건지 직원 마인드가 개판인 건지 모르겠네요 여하튼 박 했고 시설 좋고 조용하고 쉬기에는 좋네요 위치가 좋다고는 하나 식사나 볼거리는 아이파크몰까지 가야 해서 좀 멀어요 더 보기침대가 푹신함깨끗하고 좋아요 최고입니다좋은 가격에 좋은 추억 만들고 왔습니다 응대도 좋았고요 또 방문할게요너무 좋았습니다체크인 도움 주시는 분들도 친절 객실도 꽤 넓었고 샤워 공간 변기 세면대가 전부 따로 있어서 좋았다 수건도 깨끗했고 어메니티 품질도 이 정도면 좋다 층 배정받아서 뷰도 좋았고 닌텐도 스위치를 하기에 티브이도 너무 좋았다 침대 이불 최고 엄청 편하고 따뜻하다 비염이 심해서 히터 트는 걸 싫어하는데 이불이 따숩어서 따뜻하게 잤다 푸드 익스체인지는 쏘 쏘 음식 채워지는 시간도 늦고 제공하는 샴페인은 미지근 돈 조금 더 보태서 신라나 롯데나 워프 다녀오는 편이 그냥 호텔에서 모든 걸 해결하기에 적당한 정도 편의점도 층에 위치해있어서 좋으나 사람이 너무 많아서 편의점 한 개 더 있었으면 더 보기좋았습니다직원분들도 친절하셨고 뷔페나 객실도 좋았습니다 다음에 스위트로 이용해보고 싶네요깔끔하고 좋습니다한강뷰라고 했는데 또르르 보이긴 했어요 시설 깔끔 조식 맛나고 좋았어요최근에 지어진 건물이라 모든 게 정말 최고였습니다또 가고 싶네요깔끔해서 좋아요너무 좋아요좋아요 오용친절했습니다깔끔하고 뷰가 좋습니다 새벽에 갔는데 체크인이 원활하게 진행되지 않아 피곤한 상태로 분 정도 기다렸습니다 이 외에는 모든 게 만족입니다좋아요너무 좋아요 또 가고 싶어요또 가고 싶어요 좋았어요시설도 너무 좋고 직원분들도 친절하고 좋아요좋았습니다너무 좋았습니다너무 좋았습니다좋았어요 칫솔 별도 구매원 일회용품 스킨로션 등은 없기 때문에 챙겨가야 해요아주 만족했어요아주 만족했어요좋은 곳이네요오래 머물기는 비싸지만 야경 이쁨발레 서비스 최악 다른 부분은 진짜 좋았어요 데스크 분들 특히 너무 친절하심 위치도 좋고 재미있게 놀았으나 마지막 발레가 다 망쳤네요사람이 너무 많아서 퇴실하기 어려운 거 빼곤 만족깨끗해서 좋았어요좋은 추억 만들고 갑니다특별한 곳에서 특별한 하루를 불편 없이 맞이하게 해주셔서 감사해요너무 좋습니다 호캉스 하기 딱 좋아요야경이 훌륭합니다오로라 인 더시티로 했더니 너무 좋았어요전체적으로 만족합니다인천공항에서 전철 탈 수 있어서 좋았고요 직원들도 친절하고 객실 상태가 깨끗하고 잠도 푹 잘 수 있어서 좋았어요 신기한 거는 침대 옆 태블릿 그걸로 조명 객실온도 설정 가능 다음에 한 번 더 오고 싶네요 가격대가 좀 비싸기는 하지만 더 보기시설 좋아요 그런데 직원들 친절도는 별로였네요 호텔이면 어느 정도 서비스를 기대하고 가는 것인데 표정이 별로였어요패키지 너무 좋아요생각보단 별로좋아요 좋았습니다인테리어 괜찮습니다역이랑 연결되어있고 깔끔하여 좋았습니다최근에 지어진 건물이라 깔끔하고 깨끗했음 호텔 안에 부대시설들도 있어서 호캉스하기 안성맞춤이었음깨끗하고 재방문 의사 있습니다깔끔하고 좋았습니다 다음에도 또 이용 하고 싶네요굿굿굿굿굿호텔은 좋았습니다 접근성이 좀 떨어지고 주변에 편의시설이 없어서 불편합니다너무 깔끔하고 침대 거 편안했습니다체크인한다고 기다리는 줄이 좀 길었으나 시기 상 어쩔 수 없었다고 생각합니다 뷰는 한강뷰나 남산 뷰나 둘 다 한강과 남산이 잘 보이는 건 아닙니다 위치는 아이파크나 용산역 통해서 갈 수 있고 도보로 분이면 도착합니다 아이파크 이마트에서 음식 사갈 수 있는 것은 좋은 것 같습니다 층에 편의점이 하나 있는데 하나만 있어서 그런지 사람이 아주 많습니다 그 점만 불편했고 청결이나 방은 깔끔하니 좋았습니다개 좋아요정말 최고예요청결하고 다 좋았습니다역시 특급호텔답네요인테리어가 너무 멋지고 객실 뷰도 환상적이네요 객실도 엄청 깔끔해서 좋은 추억 만들고 갑니다침대 너무너무 마음에 들어요 푹 잤어요 객실 안도 청결하고 히터 틀었음에도 불구하고 공기가 쾌적했어요 단지 체크아웃할 때 엘리베이터 탑승이 힘들었어요서울 여행하기 위해 머물기 좋음체크인이 너무 오래 걸렸어요  줄이 기네요전체적으로 깔끔하고 친절하고 좋았습니다 방도 가격 대비 다른 호텔들에 비해 컸어요 체크아웃 해주시는 분 조금 딱딱하셨던 거랑 소파 뒤 뭉친 먼지 덩어리 몇 개 있던 것 때문에 별 하나씩 뺐어요 위치는 용산역이랑 이어져 있어서 몰 이용하기 좋았고 교통도 편했어요 생긴지 얼마 안 됐는지 시설도 좋았고요위치가 아주운 좋게 자리가 남아서 이용해봤는데 청결하고 커서 너무 좋았어요 층에 편의점이 있던 게 진짜 편했던 것 같아요깨끗하고 좋았는데 풀 부킹으로 인해 체크인하는데  한 시간 넘게 기다리고   엘베 스도 사람이 터져나가고  편의점은 하나라 경쟁이 치열했네요 방도 따듯하고 디너 음식도 괜찮았어요 수영장은 크지는 않지만 온수라 기분 좋게 수영하고 쉬기에 좋았습니다다른 사람이 사용하던 어메니티가 비치되어 있고 객실 냄새가 심해서 룸 교체했는데 교체 한 곳에도 침대 밑에 전 사람이 신던 슬리퍼 한 짝이 들어가 있고 욕실 벽타일에 어메니티 뜯은 스티커가 덕지덕지 붙어있네요 차라리 며칠 전 이용했던 이비스가 더 깨끗하고 좋았어요시설도 깔끔하고 좋았어요야경 굿 조명 스위치 찾느라 힘들었는데 전화기에 있음용산역 접근성도 편했고 방도 깨끗하고 좋았습니다야 놀자 덕분에 저렴하게 고급스럽게 놀다 왔습니다이곳에서 정말 좋아하는 사람과 평생 잊지 못할 추억 만들었어요시티 뷰러 아쉬웠어요귯굿귯굿 좋네요 서비스도또 가고 싶어요 정말 좋았어요깔끔하고 친절함깔끔하고 좋았어요 조식 맛있음정말 깔끔하고 좋습니다만족합니다감사합니다새 호텔이라 깨끗하고 좋아요 주변에 아모레퍼시픽 빌딩이 생겨서 더 좋네요편하게 머물다 갑니다어메니티 중에서 칫솔 치약은 구입하셔야 해요좋았어요깨끗하고 좋았습니다잘 쉬다 갑니다 근데 전경 안 좋은 곳으로 배정해줘서 좀 짜증 났었습니다야경이 생각보다 별로였어요좋아요잘 쉬다 왔습니다나름 깔끔했음넘나리 좋았습니다 위치도 좋았고 객실도 너무 깔끔했어요신축이라 여타 전반적인 환경은 깔끔하고 좋다 하나 칫솔 사용 후 금액 지불은 사전에 얘기를 듣지 못해 당혹스러웠다용산역에서 이어지는 데다가 드래건 시티 내 위치하여 접근성 완전 편리깔끔해서 쉬기 좋았어요 호텔 내에 편의점이 있어 편했습니다수영장이 아담한데 사람이 많지 않아서 놀기 괜찮았어요 극성수기에 착한 가격에 잘 놀다 왔네요좋았습니다너무너무 좋아요청결 친절 식사도 굿구성비 정말 좋아요좋긴 좋네요깔끔하고 좋았어요수영장 난리도 아님역시 좋아요성수기라 체크인까지 좀 오래 걸렸지만 괜찮았습니다휴가철이긴 했지만 체크인 시 도착해서 시 넘어 방 키 받았음 기다릴 곳도 없고접근성이 너무너무 좋아서 다시 가게 될 것 같아요 수영장에 사람 많은 게 좀 아쉬웠지만 시설도 깨끗해서 좋았습니다 무엇보다 정말 친절하셔서 묵는 내내 기분이 좋았어요체크인도 바로 해주시고 편하게 잘 지냈습니다 수영장에 사람이 많긴 했습니다기대 이상으로 좋았습니다 먼저 용산역에서 바로 연결되는 드래건 시티에 위치하였고 룸 컨디션이 바로 옆 이비스보다 좋았습니다 저는 오후 시 분쯤 도착하여 체크인하였는데 다행히 많이 기다리지는 않았습니다 주변에 추천할 만한 호텔이에요평일이라 북적거리지 않았어요 편하게 호캉스 즐기다 왔습니다 스카이 비치는 주말에 다시 가는 걸로신축이라 깔끔하고 좋아요깨끗하고 편의점 있어서 편했어요깨끗하고 쾌적합니다좋았어요위치적을 보면 참 괜찮은데 주위에 식당이나 그런 건 없네요 술집 가려면 좀좋습니다수영장이 번잡해요 직원분들 친절하고 객실 깔끔하고 너무 좋습니다 다만 수영장 기다 하고 가셨다가는 실망할 수 있습니다 수영장 패키지로 갔는데 수영장이 너무 작고 사람들이 너무 많아서 이용 못했습니다 모자 대여해준다고 했는데 수량이 별로 없어서 대여 못 받았어요 한강뷰라고 했는데 층에 배정받아서 한강이 엄청 쪼금 간신히 보인 거 말고는 위치성이나 친절도 청결도 모두 훌륭합니다수영장이 있어서 너무 좋았어요혼자서 좋은 시간 보내기 좋았어요특급 호텔 중에서도 구성비가 괜찮은 호텔인데 패키지로 다녀와서 더 좋았습니다 시설 서비스 다 매우 훌륭했지만 요즘 같은 호캉스 시즌엔 사람이 몰려서 수영장이나 시설 이용이 좀 어려울 수 있으니 그 점 고려하셔서 예약하시는 것이 좋을 것 같습니다패키지 서비스도 좋고 룸 컨디션도 좋아서 잘 묵고 갑니다 날이 더워서 호텔에서 제대로 쉬다 가네요여러 후기에 나와있는 것처럼 체크인은 좀 오래 걸리긴 하지만 대기시설을 따로 마련해 줘서 괜찮았습니다 방 개 예약했는데 직원분이 센스 있게 방끼리 연결되는 커넥팅 룸으로 주셔서 가족들이랑 편하게 묵었네요평일에 갔는데 체크인하는 데만 한 시간 이상 걸리는 곳을 처음이었어요 대기표 받고 대기장소에서 지루하게 기다리고 쉬러 간 건데 더 피곤했던 기억 키 겨우 받고 방 들어갔는데 티브이는 중국 말로 설정되어 있고 우리나라 호텔 아닌가요 방음도 잘 안되고 복도에 사람들 소리 다 들려요 위치만 좋은 거 같네요시설은 깨끗하고 좋습니다 다만 주말에 사람이 많아 체크인하는데 한 시간 넘게 기다렸네요 성수기 체크인 대기 시간 실화입니다위치 시설 청결 다 좋았어요 그런데 시반에 체크인할 때 체크인 줄이 어마어마하게 길었어요 바로 못하고 다른데 들렀다 시에 왔는데도 줄이 있었다는 붐빌 때 더 직원들을 배치한다든지 했으면 좋을 거 같아요 바로 입실을 못하는 더 보기너무 깔끔하고 좋았습니다좋아요 좋아요정말 좋아요좋음 좋음 또 갈 거임좋아요좋아요 너무너무체크인이 오래 걸려요위치랑 방도 깨끗하고 좋네요깨끗하고 침대 너무 좋아요 다음에 또 이용할 거예요위치 서비스룸 컨디션인 테리어 다 좋았는데 방음에 취약했어요 주말이라 가족단위 많이 와서 수영장은 가득이었고요 막 타임에 들어가려고 해서인지 락스 냄새 넘나 심했어요'"
            ],
            "application/vnd.google.colaboratory.intrinsic+json": {
              "type": "string"
            }
          },
          "metadata": {},
          "execution_count": 112
        }
      ]
    },
    {
      "cell_type": "code",
      "source": [
        "nouns = okt.nouns(corpus)\n",
        "print(nouns)"
      ],
      "metadata": {
        "colab": {
          "base_uri": "https://localhost:8080/"
        },
        "id": "BTI92F2PYVGc",
        "outputId": "10d4a245-9df8-4290-ee13-8b9be34c5bc4"
      },
      "execution_count": 113,
      "outputs": [
        {
          "output_type": "stream",
          "name": "stdout",
          "text": [
            "['진짜', '머리', '리뷰', '데이터', '정제', '건', '다방', '위치', '비도', '분위기', '시설', '세면대', '하수', '구', '냄새', '커튼', '먼지', '좀', '실망', '대체로', '침대', '개조', '시간', '다음', '꼭', '다시', '방문', '예정', '방음', '좀', '항상', '쉬', '가습기', '요청', '키', '방', '정말', '포건', '직원', '조식', '신경', '게', '코로나', '때문', '운영', '곳', '요역', '호캉스', '지하철역', '바로', '앞', '교통', '시', '반', '체크', '쉬', '갑', '다룸', '컨디션', '방음', '안', '거만', '참고', '수건', '찜질방', '수건', '다른', '건', '싹', '습', '디', '더', '보기', '처음', '입실', '때', '입실', '시간', '더', '입실', '작업', '중이', '당황', '직원', '대처', '하루', '종일', '바로', '객실', '직원', '전체', '추천', '박', '출근', '때문', '일로', '이용', '게', '생각', '룸', '컨디션', '컨시어', '직원', '체크아웃', '주위', '또', '예약', '쉬', '가요', '옆방', '문', '때', '나', '소리', '조금', '크게', '칫솔', '머리', '끈', '구비', '미리', '것', '굿나이트', '아이', '주말', '환상', '뷰', '침대', '가격', '집', '또', '직원', '인상', '남고', '최고', '손님', '매너', '행동', '또', '다른', '친절', '걸', '기억', '친절', '논', '전', '본인', '행실', '매너', '생각', '동네', '마트', '온', '것', '구', '행동', '보기', '더', '보기', '청결', '그', '자체', '다트', '윈', '배드', '거', '쿠폰', '사용', '방문', '룸', '업그레이드', '해주시', '뷰', '선택', '및', '욕실', '타입', '선택', '시설', '기분', '하루', '접근성', '패키지', '이용', '최', '또', '요호', '입실', '시간', '시', '도착', '고층', '배정', '질', '뷰', '맘', '듭니', '여기', '조식', '위치', '쉬', '사진', '한강', '뷰', '실제', '방', '철길', '방', '다른', '호텔', '아주', '뷰', '쉬', '역시', '곳', '서비스', '객실', '상태', '뷰', '최고', '편안함', '즐거움', '직원', '처리', '센스', '심항', '뷰', '전체', '최고', '호캉스', '침대', '수가', '침구', '세상', '폭', '신하', '침구', '뭐', '좀', '전체', '그냥', '그냥', '쉬', '요다음', '재', '방문', '남자친구', '주년', '기념', '선택', '곳', '체크', '때', '방역', '해주시', '방도', '곳', '야경', '얘기', '수', '남자친구', '꽤', '사람', '또', '말', '오늘', '번', '더', '예정', '직원', '낮', '금액', '최고', '이름', '매우', '아주', '욕실', '게', '좀', '용산역', '도보', '분', '거리', '위치', '진짜', '청결', '이', '점', '이유', '창문', '먼지', '진짜', '대신', '뷰', '위치', '주말', '시간', '스테이', '체크', '인도', '수', '체크', '시간', '때', '보', '대기', '시간', '스테이', '생각', '남자친구', '생일', '예약', '업그레이드', '해주시', '역', '추천', '코로나', '때문', '친구', '얘기', '것', '걱정', '발열', '체크', '진표', '해주시', '때', '인사', '자주', '이용', '조금', '꼭', '다음', '재', '방문', '거', '급', '묵고', '굩좋아', '직원', '친절', '말', '것', '최고', '한강', '뷰', '좀', '겡', '성금', '시설', '역시', '노보텔', '룸', '컨디션', '직원', '모두', '주차장', '주차', '외부', '주차장', '것', '조금', '아쉬움', '질시', '코로나', '시설', '이용', '못', '게', '쉬', '정말', '용산역', '바로', '옆', '접근성', '느낌', '기분', '낼', '수', '코로나', '텐데', '호텔', '관리', '재', '방문', '사', '프로', '침대', '쉬', '여자친구', '시간', '주차장', '게', '조금', '교통', '청결', '친절', '뷰', '돈', '호크', '패키지', '방과', '시설', '나름', '패키지', '킹스', '베케', '션', '스테이크', '공짜', '제공', '거', '정도', '예상', '정말', '스테이크', '질', '기고', '킹스', '베케', '션', '서버', '기본', '서비스', '부족함', '객실', '직원', '뷰', '한강', '뷰', '선풍기', '킹스', '베케', '션', '음식', '기대', '이상', '시설', '호캉스', '제대로', '역', '층', '바로', '곳', '못', '전', '사람', '사용', '것', '강화유리', '붙이', '비닐', '이', '그냥', '나머지', '더', '보기', '숙소', '역시', '서울', '중심', '이동', '요시', '체크', '패키지', '고층', '배정', '수', '야경', '아이파크', '보이', '별로', '야경', '때문', '분', '스위트룸', '숙소', '청결', '도', '조금', '창문', '먼지', '머리카락', '좀', '청소', '고생', '조금', '더', '신경', '나무', '호텔', '인테리어', '굿굿굿굿', '최고', '시간', '완전', '굿굿', '강변', '야경', '아주', '굿', '지금', '이용', '언제', '이용', '서비스', '성비', '아이파크몰', '연결', '한강', '뷰', '아이파크몰', '뷰', '전망', '객실', '청소', '상태', '양호', '마약', '침대', '굿', '용산역', '인접', '위치', '룸', '컨디션', '날', '곳', '방문', '쉬', '가요', '역시', '성', '요', '호', '캉스', '최고', '만큼', '가격', '대비', '매우', '프런트', '분', '다른', '라인', '분', '그냥', '객실', '서비스', '면', '킹덤', '일', '분', '제일', '요', '위치', '맘', '또', '후기', '하수', '구', '냄새', '객실', '청소', '걱정', '한강', '뷰', '한강', '뷰', '씨티', '뷰', '달라', '게', '것', '한강', '뷰', '사장', '뷰', '룸서비스', '꼭', '옹', '닭고기', '카레', '두', '번', '마쓋방', '해', '숙박', '대전', '기회', '나중', '이용', '거', '침대', '꽤', '편이', '매트릭스', '수영장', '코로나', '때문', '못', '이용', '게', '코로나', '얼른', '상시', '이용', '수', '객실', '역시', '급', '수', '용산역', '번', '출구', '연결', '이동', '치맥', '세트', '상품', '치킨', '특', '대전', '아주', '정말', '서비스', '모두', '만족', '식도', '드래건', '시티', '노보텔', '곳', '서비스', '엉망', '호텔', '쉬', '종종', '패키지', '상품', '내면', '것', '피트니스', '센터', '등', '코로나', '관', '굿', '체크', '체크아웃', '생각', '감동', '고객', '위', '곳', '뷰', '다만', '드라이기', '좀', '사용', '뷰', '별로', '체크', '방이', '수', '생각', '침구', '만', '꿀잠', '아이파크몰', '포장마차', '촌', '한잔', '또', '최고', '거', '역시', '급', '정말', '성비', '최고', '아이파크', '정말', '역시', '노보텔', '용산', '때', '숙박', '객실', '좀', '스', '위트', '노보텔', '여', '침대', '아주', '조식', '안', '먹음', '별로', '쉬', '가요', '뷰', '무조건', '시티', '뷰', '추천', '조식', '룸', '상태', '트윈베드', '싱글', '침대', '개입', '니', '트윈', '싱글', '알', '분', '참고', '뷰', '별로', '화장실', '예약', '날짜', '물', '환불', '안', '기분', '안', '제', '잘못', '수', '뭐', '급', '쉬', '아이파크몰', '베리', '굿', '여자친구', '기념일', '축하', '성금', '답', '아주', '흡연실', '좀', '코로나', '때문', '정문', '개방', '것', '항상', '기억', '숙박', '대전', '쿠폰', '가격', '육아', '아기', '엄마', '호캉스', '식음', '쿠폰', '아주', '성비', '호캉스', '노보텔', '위치', '늘', '만족', '더', '보기', '부대', '시설', '조식', '쉬', '급', '약간', '시설', '편의', '성은', '편의점', '층', '꽤', '하루', '시', '체크', '시', '체크아웃', '층', '뷰', '건', '거', '푹', '요', '메가바이트', '치맥', '용산역', '교통', '호텔', '안', '거', '위치', '청결', '친절', '광주', '일', '여기', '또', '거', '용산', '아이파크몰', '분', '거리', '숙소', '지리', '위치', '번', '프런트', '연결', '안', '치약', '칫솔', '면도기', '머리', '끈', '거', '창문', '환기', '먼지', '위치', '시설', '다음', '또', '방문', '곳', '노보텔', '교통', '무료', '방도', '업그레이드', '쉬', '노보텔', '성비', '최고', '위치', '호캉스', '최악', '침대', '체크아웃', '때', '직원', '불친절', '일단', '위치', '서비스', '층', '라운지', '서비스', '아주', '방이', '쉬', '쉬', '전반', '요요', '전체', '평', '평점', '후기', '및', '가격', '보고', '성비', '전체', '기대', '이하', '방음', '진짜', '최악', '리버', '뷰', '차라리', '말', '말', '서비스', '친절', '코로나', '방역', '준수', '건', '제대로', '안내', '갈팡질팡', '서류', '거', '안', '내', '호텔', '직원', '무슨', '영화관', '티켓', '소개', '직원', '자세', '시설', '편의', '역', '그게', '다임', '아이파크몰', '뿐더', '보기', '용산역', '아주', '구름다리', '호텔', '건물', '연결', '주차', '시설', '인근', '레스토랑', '부대', '시설', '호텔', '층', '버킷', '수령', '패키지', '시', '주문', '설명', '분', '바로', '주문', '거절', '마상', '더', '보기', '최고', '서비스', '내', '집', '침구', '분위기', '야경', '숙소', '직원', '주변', '편의', '시설', '침대', '화장실', '샤워실', '기회', '다음', '또', '방문', '가격', '대비', '그냥', '쉬', '전반', '서비스', '상', '피트니스', '센터', '가장', '시설', '외진', '곳', '가격', '저렴', '근처', '조금', '밤', '무서움', '성비', '최고', '서비스', '룸', '컨디션', '저', '쉬', '가요', '음식', '욕조', '배정', '용산', '아이파크', '연결', '직원', '위치', '복도', '향', '객실', '침대', '짱짱맨', '습', '룸', '컨디션', '최고', '생각', '커서', '재', '방문', '무엇', '불편', '전혀', '침대', '정말', '다음', '이용', '젛앗습', '시설', '맘', '기대', '안', '가성', '비갑', '급', '호텔', '패키지', '서비스', '또', '요요', '근래', '곳', '중', '제일', '진짜', '쉬', '시간', '패키지', '이용', '항상', '체크아웃', '시간', '때문', '늦잠', '못', '게', '오후', '시', '퇴실', '알람', '안', '또', '이용', '방', '야경', '보고', '서비스', '와인', '테이크아웃', '정말', '볼품', '쉬', '뷰', '살짝', '실망', '창문', '인지', '그냥', '호텔', '후기', '보고', '간', '곳', '위생', '실망', '창가', '패', '브릭', '소파', '얼룩', '진짜', '최악', '더러', '움', '짐', '풀', '발견', '터', '컴', '안', '가운', '이용', '함', '햇빛', '때', '허옇', '얼룩', '커버', '투숙', '객', '때', '것', '일부러', '일주일', '전', '뷰', '곡', '달라', '용산역', '뒤', '허허벌판', '노지', '뷰', '밤', '매우', '깜깜', '서랍', '머그잔', '뭘', '머리카락', '먼지', '사용', '안', '함', '어메니티', '손가락', '두', '사람', '시', '쓰기', '요청', '돈', '더', '스위트룸', '레지던스', '면', '좀', '뭔가', '느낌', '옴', '뷔페', '주말', '사람', '위생', '장갑', '이용', '안', '음식', '때', '본인', '소독', '함', '위생', '장갑', '쓰레기', '때문', '듯', '개인', '주변', '편의', '시설', '직원', '서비스', '더', '보기', '위치', '정말', '서비스', '청결', '또', '시설', '방', '하수', '구', '냄새', '조금', '웠', '그냥', '굿', '다만', '바', '스테이크', '인', '패키지', '신청', '스테이크', '맛', '요건', '용산', '최고', '숙소', '굿', '깨끗', '뷰', '직원', '정말', '주차공간', '점점', '건물', '밖', '임시', '주차장', '주차', '것', '뷰', '알', '크게', '기대', '안', '친구', '호캉스', '커넥팅', '룸', '시간', '스테', '소', '룸', '스타일', '달라', '커넥팅리', '맥주', '쿠폰', '다만', '배달', '거나', '인근', '편의점', '카페', '객실', '담', '꼭', '다시', '호텔', '뷰', '진짜', '별로', '숙소', '자체', '아주', '아주', '기념일', '기념', '차', '방문', '또', '최고', '조식', '직원', '쉬', '교통', '서비스', '등', '방도', '무엇', '직원', '옆', '건물', '편의점', '가격', '대비', '정말', '서비스', '친절', '도', '매우', '피트니스', '센터', '운동', '기구', '대부분', '편의점', '시간', '운영', '시간', '구애', '시설', '이용', '수', '룸', '컨디션', '또한', '매우', '이비', '스', '역시', '칫솔', '치약', '체크', '안락', '청결', '매번', '곳', '졸업', '오오', '용산역', '바로', '앞', '접근성', '아주', '체크', '시간', '가격', '다운', '먼저', '한강', '뷰', '한강', '저', '멀리', '콩알', '뷰', '정말', '최악', '시티', '부가', '듯', '요다음', '이용', '예정', '완전', '굿', '용산', '아이파크', '은근', '객실', '급', '호텔', '이', '정도', '가설', '비', '시설', '위치', '야경', '성비', '수', '게', '최고', '것', '다음', '또', '시간', '패키지', '체크', '시간', '가격', '다운로드', '더', '듯', '저녁', '음식', '달라', '발레', '대한', '제대로', '가격', '언급', '안', '해주시', '괜', '돈', '객실', '먼지', '세면대', '하수', '구', '냄새', '객실', '문', '밑', '왜', '뻥', '말소리', '발자국', '소리', '요역', '가까이', '바로', '옆', '이마트', '역시', '급', '푹', '쉬', '쉬', '쉬', '그냥', '출장', '시', '다만', '객실', '침대', '머리', '쪽', '아래', '매트리스', '냄새', '직원', '수영장', '분만', '사용', '수', '것', '객실', '업그레이드', '응대', '시설', '이용', '푹', '쉬', '쉬', '곳', '한강', '뷰러면', '어디가', '한강', '뷰', '그냥', '사장', '뷰', '던데', '객실', '그냥', '이용', '풍경', '객실', '그냥', '무난', '침대', '층', '디너', '더', '보기', '정말', '체고', '여자친구', '룸', '업그레이드', '질쉬', '뷰', '최고', '욤', '가격', '방도', '룸', '컨디션', '최고', '물놀이', '하규', '최고', '굿뷰', '마음', '덕분', '체크아웃', '수', '걸', '예약', '다음', '날', '쉬', '수', '추석', '연휴', '기간', '이용', '항상', '이용', '항상', '이용', '때', '항상', '이용', '때', '시간', '패키지', '다음', '또', '쉬', '정말', '또', '거', '시설', '연휴', '마지막', '항상', '단골', '이용', '최고', '아주', '식사', '때', '정말', '대한민국', '최악', '급', '호텔', '진심', '여', '애', '그냥', '가격', '곧', '정말', '후회', '서비스', '개판', '것', '준비', '쉬', '또', '킹스', '베케', '션', '테이블', '고정', '티슈', '안', '계산', '때', '이야기', '시간', '시', '쯤', '테이블', '테이블', '테이블', '직원', '명', '정도', '개뿔', '안', '예정', '와인', '잔', '안', '베개', '쉰내', '남', '먼지', '재채기', '계속', '함', '침대', '위', '테이블', '스탠드', '작동', '안', '혹시', '나', '침대', '밑', '쓰레기', '성격', '더', '보기', '일', '기념', '노보텔', '시간', '패키지', '그랜드', '머', '큐어', '앰배서더', '두', '번', '이번', '노보텔', '선택', '생각', '한강', '보이', '래서', '뷰', '야경', '뷰', '룸', '컨디션', '직원', '청기', '대여', '해주시', '수건', '추가', '요청', '로봇', '게', '생각', '수영장', '이용', '수', '다행', '걸', '위안', '다음', '노보텔', '스위트', '더', '보기', '시간', '패키지', '여유', '호캉스', '단', '방음', '점', '숙소', '방음', '거', '옆방', '소리', '크게', '객실', '인테리어', '창문', '안', '열성', '먼지', '이불', '순간', '먼지', '계속', '눈', '정도', '침대', '칸타', '푸스', '코너', '무', '정말', '모든', '게', '하루', '편의', '현대', '부대', '시설', '서비스', '모든', '것', '포함', '체크', '날', '수영장', '안', '나머지', '스카이', '킹덤', '킹스', '베케', '션', '분위기', '침대', '용산역', '도', '아이파크몰', '놀', '것', '위', '라운지', '용산', '최고', '숙소', '최고', '자랑', '곳', '굿', '추억', '수영장', '안내', '제대로', '이용', '일요일', '시', '면', '일요일', '체크', '경우', '사용', '못', '체크', '때', '안내', '제대로', '안', '조금', '위치', '숙소', '환기', '수', '창문', '티브이', '인터넷', '영화', '거', '못', '점', '조식', '품', '양도', '로봇', '하우스', '키핑', '덴', '성비', '다만', '칫솔', '치약', '등', '게', '조금', '역시', '추천', '습', '자', '쉬', '로비', '수영장', '주말', '일월', '일요일', '오후', '시', '수영장', '이용도', '방', '왜', '먼지', '청소', '대충', '거', '리모컨', '디테일', '곳', '청소', '좀', '틀', '코로나', '때문', '부대', '시설', '이용', '다른', '모든', '것', '또', '야경', '룸', '컨디션', '스카이', '킹덤', '바비큐', '패키지', '다만', '코로나', '때문', '수영장', '이용', '대해', '유선', '문의', '땐', '이용', '체크', '때', '조금', '어이', '컴', '플레인', '그랜드', '머', '큐어', '수영장', '이용', '수', '다음', '아예', '상세', '설명', '수영장', '및', '피트니스', '이용', '불가', '표시', '조식', '패키지', '코로나', '조식', '뷔페', '이용', '못', '품', '점', '룸', '컨디션', '세면대', '침대', '처음', '조금', '느낌', '운동', '시설', '코로나', '그랜드', '머', '큐어', '시설', '이용', '매우', '전반', '서비스', '측면', '직원', '것', '요청', '거나', '문의', '매번', '놀', '자', '예약', '것', '강조', '약간', '무시', '느낌', '쉬', '정말', '하루', '노보텔', '그냥', '말', '뭐', '해', '오성', '호텔', '굿', '아주', '패키지', '이용', '가격', '대비', '방도', '창문', '밖', '것', '룸', '코로나', '대한', '대비', '시설', '다만', '배정', '방', '야경', '기대', '안', '것', '객실', '상태', '코로나', '킹스', '베케', '션', '못', '더', '리본', '패키지', '역시', '한강', '뷰', '예술', '요', '객실', '침대', '나머지', '객실', '룸', '컨디션', '청결', '담', '스위트', '높은층달락햇으', '층', '좀', '랫음담', '또', '의향', '더보', '기침', '붎', '아주', '최고', '달', '번', '정도', '이용', '객실', '청소', '안', '방', '침대', '다만', '테이블', '좀', '의자', '개', '더', '거', '머리카락', '온수', '코로나', '호텔', '이용', '곳', '거의', '주변', '아이파크', '몰이', '객실', '시간', '스테이', '최대', '강점', '것', '동대문', '거기', '서비스', '별로', '방도', '생각', '화장실', '별로', '이', '돈', '바', '그냥', '모텔', '게', '것', '침대', '조금', '냄새', '치약', '칫솔', '게', '서비스', '다른', '건', '용', '재', '방문', '의사', '꼭', '어메니티', '확인', '스카이', '비치', '이용', '코로나', '실내', '진행', '것', '완전', '푹', '쉬', '쉬', '추천', '생일', '날', '수', '패키지', '스카이', '비치', '뷰', '살짝', '호', '캉스', '항상', '이용', '항상', '이용', '항상', '곳', '바비큐', '패키지', '정말', '이용', '코로나', '때문', '부대', '시설', '못', '게', '나머지', '만족', '위치', '가격', '대비', '정말', '지금', '글', '중', '중', '코로나', '때문', '부가', '시설', '이용', '용산역', '출구', '접근', '차량', '방문', '건물', '층', '편의점', '간식', '음료', '구매', '룸', '컨디션', '화장실', '샤워실', '수건', '걸이', '더', '것', '최고', '쉬', '방', '쿠션', '아예', '빨래', '안', '냄새', '좀', '나', '룸서비스', '객실', '스카이', '비치', '음식', '토시', '살이', '그', '피스타치오', '정말', '치즈', '계속', '수', '것', '뷰', '방청', '용산역', '발전', '안', '땅', '저', '멀리', '한강대교', '원효대교', '뭐', '알', '석양', '스카이', '비치', '가면', '볼', '수', '거', '생', '아예', '한강', '안', '진짜', '그', '옥상', '남산', '안', '보이', '토시', '살', '진짜', '제일', '뷰', '스카이', '비치', '엘리베이터', '숙소', '가면', '더', '보기', '객실', '직원', '스카이', '아쉬움', '코로나', '때문', '사람', '조명도', '제대로', '키', '지도', '음식', '별로', '눈치', '보', '제대로', '칫솔', '꼭', '방', '컨디션', '전반', '어머니', '티', '살짝', '안', '게', '흠', '코로나', '다시', '가야', '최고', '호텔', '급', '호텔', '서비스', '다음', '또', '방문', '돈', '주가', '고품', '주니어', '스위트', '정도', '한강', '남산타워', '뷰', '가능', '요', '참고', '침대', '정말', '호', '캉스', '굿굿', '친구', '호', '캉스', '청결', '내부', '구비', '칫솔', '치약', '구비', '창문', '옆', '호실', '앞', '보', '쪼끔', '당황', '침대', '정말', '층', '배정', '뷰', '별로', '고층', '배정', '스위트', '가야', '뷰', '보장', '것', '냉장고', '쪽', '소리', '로비', '연락', '바로', '해결', '서비스', '만족', '코로나', '부대', '시설', '일부', '이용', '건', '더', '보기', '용산역', '바로', '옆', '교통', '최고', '드래건', '시티', '노보텔', '검색', '후', '첫', '영상', '채널', '영상', '코로나', '땜', '오히려', '호텔', '컨디션', '듯', '굿', '루프', '탑', '방도', '전망', '코로나', '수영장', '이용', '또', '이용', '용산', '때', '것', '시설', '고급', '지고', '침대', '마약', '침대', '패키지', '코로나', '뷔페', '방식', '건', '피트니스', '센터', '기구', '느낌', '랫', '풀', '다운', '게', '조오', '오금', '직원', '쉬', '여러분', '제', '말', '시간', '스테이', '요호', '캉스', '란', '것', '생각', '매트리스', '시간', '자도', '시간', '잔', '느낌', '코로나', '때문', '피트니스', '이용', '못', '것', '약간', '베개', '먼지', '날림', '제외', '맘', '어요', '코로나', '때문', '아이파크몰', '연결', '통로', '폐쇄', '좀', '코로나', '거여', '이해', '체크', '체크아웃', '응대', '정말', '푹', '쉬', '가요', '또', '방문', '거', '자주', '매우', '남산', '뷰', '쉬', '더', '이상', '말', '필요', '정도', '코로나', '고생', '데', '건강', '유의', '다음', '다시', '역시', '호텔', '무료', '룸', '업그레이드', '해주시', '서비스', '말', '필요', '욕실', '약간', '냄새', '나', '거', '자주', '이용', '것', '용산', '위치', '층', '편의점', '근처', '이마트', '것', '침구', '최고', '이틀', '동안', '쉬', '시간', '패키지', '사기', '요즘', '시기', '아주', '호텔', '객실', '생각', '침구', '시간', '접근성', '용산역', '연결', '통로', '움', '매우', '위치', '첫', '호캉스', '성공', '쉬', '시간', '서비스', '로봇', '서비스', '객실', '상태', '호', '캉스', '쉬', '가요', '시간', '호캉스', '제대로', '시설', '매우', '침구', '류', '마음', '요다음', '또', '이용', '하루', '바비큐', '패키지', '고기', '침구', '뽀송', '프런트', '여직원', '친절', '담', '또', '늘', '쉬', '가요', '접근성', '룸', '접근성', '편의', '시설', '밤', '코로나', '때문', '조식', '뷔페', '수', '급', '시설', '그다지', '거', '위치', '숙소', '컨디션', '모두', '다만', '별', '이유', '층', '음식', '때문', '치킨', '만', '원', '금액', '못', '이제껏', '치킨', '중', '최악', '누런', '튀김', '옷', '치킨', '조각', '감자', '튀김', '생맥', '잔', '치킨', '마리', '만', '원', '돈', '커피', '네스프레소', '커피', '머신', '기계로', '것', '제', '제대로', '건가', '숙소', '못', '판매', '음식', '것', '체크', '때', '안내', '남자', '직원', '엉망', '저희', '말', '중간', '조식', '포함', '객실', '조식', '안내', '이건', '그', '직원', '호텔', '이용', '직원', '십중팔구', '성의', '느낌', '제일', '엉망', '실망', '건', '조식', '그', '자체', '분명', '체크', '시', '조식', '설명', '때', '레스토랑', '품', '메뉴', '수', '것', '말', '아침', '레스토랑', '주네', '조식', '뷔페', '한솥', '도시락', '변신', '급', '호텔', '차선', '책', '조식', '수준', '따위', '실망', '기분', '후식', '과일', '과일', '좀', '것', '질', '안', '조식', '퀄리티', '예약', '호텔', '변수', '식', '음식', '친구', '친구', '여기', '곳', '처음', '호캉스', '기분', '두', '번', '다시', '일', '것', '수고', '더', '보기', '체크', '때', '줄', '서서', '번호', '표', '등', '스카이', '비치', '때문', '예약', '비', '대체', '레스토랑', '정말', '형편', '고기', '미리', '질', '움', '가짓수', '실망', '수영장', '무료', '용기', '또', '이용', '의향', '시설', '시설', '항상', '애용', '항상', '애용', '가족', '쉬', '객실', '무엇', '주변', '편의', '시설', '카펫', '바닥', '것', '침대', '방도', '다만', '건', '욕실', '조금', '물때', '샤워', '호스', '또', '방문', '후', '캉', '대가', '아이', '파크', '뷰', '좀', '전체', '만족', '정말', '주변', '용산', '아이파크', '연결', '비', '안', '매우', '시설', '청소', '상태', '굿', '최', '코로나', '또', '예정', '호캉스', '정말', '쉬', '코로나', '재', '확산', '스카이', '비치', '비비큐', '정상', '운영', '플레이', '트', '서빙', '저녁식사', '침구', '룸', '컨디션', '최상', '뷰', '아이파크몰', '한강', '뷰', '동시', '룸', '배정', '요다음', '기념일', '방문', '쇼핑', '음식', '모두', '최고', '아주', '나이스', '하루', '더', '요다음', '스위트', '날', '사람', '좀', '체크', '체크아웃', '때', '시간', '시설', '수영장', '헬스장', '이용', '수영장', '동대문', '점', '비', '좀', '요호', '캉스', '휴가', '철', '사람', '객실', '생각', '룸서비스', '구성', '좀', '더', '채', '로우', '거', '결혼', '전', '생일', '선물', '요담', '또', '방문', '용산역', '접근성', '객실', '컨디션', '편의', '모두', '다만', '층', '로비', '스카이', '비치', '이용', '안내', '스카이', '비치', '입구', '안내', '달라', '번은', '것', '조금', '로비', '바', '처', '얘기', '예약', '담당', '데스크', '직원', '시설', '창가', '쪽', '먼지', '방', '좀', '비', '스카이', '비치', '이용', '위치', '수영장', '실내', '수영장', '용산역', '직원', '시설', '토', '터나', '청소', '부분', '좀', '더', '신경', '부분', '아이파크', '몰이', '연결', '교통', '직원', '침대', '푹', '가요', '아주', '쉬', '메가바이트', '치킨', '성', '호텔', '침대', '폭', '신하', '전반', '시설', '다만', '가격', '대비', '분명', '메뉴', '개선', '쉬', '숙소', '용산역', '쇼핑', '실내', '수영장', '루프', '탑', '수영장', '모두', '이용', '역시', '노보텔', '서비스', '응대', '속도', '편입', '니', '다음', '번', '이용', '예정', '단', '저녁', '뷔페', '급', '호텔', '전반', '용산역', '호텔', '바로', '연결', '직원', '카운터', '이용권', '안', '로봇', '게', '인상', '객실', '상태', '눈', '안', '쪽', '머리카락', '그', '정도', '이해', '패스', '대신', '호텔', '킹스', '베케', '션', '쪽', '길', '대한', '설명', '조금', '거', '그것', '모두', '완전', '만족', '점', '좀', '더', '보기', '청소', '상태', '사진', '참고', '침대', '쓰윽', '이', '상태', '기겁', '가격', '시설', '직원', '호텔', '습았습니', '좋았습', '시설', '음식', '별로', '비', '실내', '아주', '그냥', '아주', '쉬', '최고', '다시', '방문', '용산', '하룻밤', '위치', '야경', '시설', '수기', '인원', '매우', '일단', '위치', '편의', '시설', '서비스', '전반', '용산역', '바로', '접근', '수', '뚜벅', '여행자', '수', '호텔', '해외여행', '못', '이', '시기', '호캉스', '여행', '느낌', '낼', '수', '호텔', '전체', '편의', '시설', '등', '비품', '관리', '부족', '호', '캉스', '서비스', '직원', '친절', '시설', '편의', '교통', '접근성', '등', '여러', '면', '다만', '바닥', '이불', '인지', '약간', '고린내', '하수', '구', '냄새', '평', '직원', '침대', '호캉스', '제대로', '주변', '인프라', '역', '연결', '게', '사람', '체크', '시간', '좀', '성비', '최고', '호', '캉스', '숙소', '시설', '컨디션', '주말', '체크', '체크아웃', '전부', '수', '이해', '루프', '탑', '패키지', '날씨', '이용', '못', '건', '시설', '수영장', '목욕탕', '냉탕', '느낌', '루프', '탑', '바비큐', '메뉴', '몇', '가지', '고기', '비', '중간', '실내', '한참', '동안', '음식', '안', '것', '노마', '플래터', '일', '절대', '지하철', '뷰', '위치', '접근성', '다만', '청소', '상태', '불만족', '아이파크몰', '접근성', '최고', '조식', '장맛', '강', '추강', '추', '또', '거', '꽤', '또', '욕조', '방원', '층', '배정', '신청', '층', '뷰실', '컨', '보고', '가요', '수영장', '사람', '시간', '피해', '더', '보기', '수영장', '사람', '시간', '피해', '또', '수영장', '바비큐', '호캉', '대가', '진짜', '호', '캉스', '이번', '무난', '노보텔', '최고', '쉬', '집', '앞', '위치', '드래건', '시티', '노보텔', '아침', '날씨', '당일', '예약', '비록', '풀', '발', '비', '시작', '예약', '간', '야외', '수영장', '이용', '문', '아기', '감기', '이용', '안', '함', '일주일', '안', '사용', '쿠폰', '연장', '실내', '수영장', '코로나', '두', '시간', '수영장', '이용', '야외', '수영장', '패키지', '시', '체크', '사람', '시간대', '실내수영장', '사용', '수', '룸서비스', '점심', '아침', '식사', '해결', '음식', '아이', '저녁', '층', '위치', '데', '역시', '테이블', '간', '거리', '비교', '식사', '수', '호캉스', '분', '적극', '추천', '더', '보기', '용산역', '바로', '통로', '도보', '호텔', '도착', '다만', '체크', '시', '분', '정도', '일찍', '호텔', '내', '객실', '매우', '침구', '류', '또한', '환기', '점', '욕실', '화장실', '위', '문', '점', '조금', '신발장', '룸서비스', '직원', '친절', '성비', '면', '최고', '급', '호텔', '자주', '곳', '정말', '이번', '가족', '위로', '옆방', '아이', '문의', '방', '위치', '스카이', '비치', '디너', '패키지', '음식', '맛', '인원', '대비', '양', '다소', '뷔페', '고기', '직원', '명', '불', '판도', '하나', '줄', '래서', '고', '고기', '여유', '다소', '수영장', '사람', '믈', '수영', '사람', '땜', '직원', '제지', '안', '정말', '수영', '일반', '수영장', '애', '데리', '수영장', '좀', '바비큐', '그냥', '비', '실내', '음식', '메뉴', '요구', '성비', '호캉스', '흠', '성비', '그냥', '오성', '호텔', '중', '이', '가격', '이', '품질', '기본', '미니바', '룸서비스', '시간', '게다가', '취침', '공간', '화장실', '샤워실', '부스', '구분', '안', '건', '진짜', '거', '요', '아주', '만족', '서비스', '삭', '검색', '스카이', '비치', '때문', '숙박', '예약', '비', '계속', '바람', '제대로', '직원', '배려', '다행', '워낙', '건물', '스카이', '비치', '층', '엘베', '독립', '수영복', '로비', '층', '층', '층', '엘베', '이용', '더', '보기', '이', '옹', '위치', '정말', '숙소', '시티', '부도', '칫솔', '미리', '나머지', '물품', '사용', '킹스', '베케', '션', '음식', '음악', '소리', '커서', '뷰', '또', '이용', '호', '캉스', '최고', '더', '보기', '욯', '하나', '열', '맘', '다음', '또', '여기', '조식', '가격', '수기', '피해', '가면', '진짜', '기분', '수', '것', '샴푸', '보디', '워시', '칫솔', '치약', '일', '년', '몇', '번', '만큼', '애정', '호텔', '어요', '용산역', '연결', '지방', '여러', '가지', '편의', '시설', '접근성', '이번', '룸', '층', '바', '픽업', '이천', '원', '치킨', '감자', '튀김', '생맥', '전', '세트', '야식', '가용', '호텔', '침대', '대박', '잠', '솔솔', '교통', '방도', '교통', '편의', '쉬', '쉬', '평소', '특', '가장', '장점', '바깥', '날씨', '실내', '이동', '이마트', '등', '주요', '시설', '수', '점', '단점', '일회용품', '사용', '위해', '칫솔', '치약', '등', '일부', '어메니티', '상태', '성금', '말', '뭐', '하나요', '뭐', '더', '욕심', '생각', '것', '주변', '곳도', '호텔', '안', '편의점', '게', '침대', '진짜', '정도', '아주', '급', '호텔', '답', '최고', '전체', '급', '호텔', '부대', '시설', '조식', '진짜', '뷰', '방도', '맘', '듭니', '다음', '더', '방', '묵고', '성금', '비즈니스', '호텔', '느낌', '시티', '부', '리버', '뷰', '뷰', '별로', '용산역', '연결', '수영장', '이용', '호', '캉스', '이만', '게', '꺄끗', '전체', '호캉스', '침대', '소파', '조금', '수압', '그것', '방', '컨디션', '요호', '캉스', '주위', '아이파크몰', '호캉스', '최고', '오어', '점', '수기', '때', '체크', '거의', '시반', '시', '루프', '탑', '수영장', '이용', '불가', '실내수영장', '애', '최고', '굿붓', '침구', '약간', '냄새', '나', '거', '이용', '룸서비스', '저번', '번', '침대', '두', '다음', '또', '국내', '이보', '더', '호텔', '찾기', '거', '물놀이', '주변', '곳', '스카이', '비치', '휴양지', '온', '침구', '류', '고급', '지고', '청결', '상태', '다만', '주차', '공간', '좀', '주차', '애', '좀', '성비', '곳', '생각', '다룸', '컨디션', '용산역', '아이파크몰', '연결', '거', '노', '거', '호캉스간다', '다음', '다시', '이용', '것', '라운지', '바', '길이', '냉장고', '안', '층', '전반', '마음', '시설', '직원', '층', '편의점', '것', '뷰', '조금', '급', '호텔', '첨', '뷰', '다만', '안', '커튼', '구석', '먼지', '좀', '게', '성', '신경', '저녁', '입실', '후', '에어컨', '도로', '쉬', '새벽', '계속', '땀', '날', '정도', '문제', '카운터', '문의', '모처럼', '날', '쉬', '돈', '간', '것', '말', '확인', '호텔', '측', '문제', '에어컨', '것', '거기', '대한', '보상', '제시', '것', '레이', '트', '체크아웃', '저', '오전', '시경', '퇴실', '필요', '조건', '그', '사실', '호텔', '측', '전달', '또한', '오전', '쯤', '방', '조건', '제시', '호텔', '측', '대처', '방식', '매우', '샤워실', '또한', '게시', '사진', '샤워', '호스', '곰팡이', '것', '성', '급', '수', '생각', '오히려', '뒤', '돈', '샤워실', '추억', '더', '보기', '일단', '때', '직원', '모두', '하나', '무리', '숙소', '계속', '컨디션', '컨트롤', '텐데', '불구', '항상', '얼굴', '목소리', '응대', '인상', '깊이', '뷰', '곳', '사진', '안', '조식', '간이', '세지', '만족', '두유', '경우', '아침', '보통', '안', '여기', '건', '피트니스', '이용', '기구', '정리', '아주', '다만', '소독제', '사용', '전후', '뿌리', '사용', '것', '점', '칫솔', '비치', '층', '가야', '점', '원', '부과', '또', '취사', '점', '그것', '외', '다음', '휴가', '때', '여기', '예약', '것', '더', '보기', '숙소', '스카이', '뷔페', '구성', '메뉴', '종류', '맛', '토시', '살', '수급', '줄', '계속', '메뉴', '스파게티', '대신', '생뚱', '짜파구리', '가격', '대비', '음식', '단가', '게', '생각', '드네', '인테리어', '분위기', '패키지', '재', '방문', '안', '것', '오오', '호텔', '안', '쉬기', '적당', '호텔', '주위', '좀', '아이파크몰', '생각', '한번', '온', '걸', '재', '방문', '의사', '더', '보기', '성비', '호텔', '근처', '항상', '이용', '서비스', '급', '호텔', '답', '고급', '지다', '수영장', '객실', '침대', '아주', '덕분', '꿀잠', '이번', '여름내', '다시', '거', '또', '룸서비스', '자주', '듯', '패키지', '아주', '이용', '직원', '용산역', '가기', '시설', '이용', '쉬', '바비큐', '우천', '실내', '이용', '맛', '직원', '동안', '객실', '뷰', '스카이', '비치', '이용', '다소', '약간', '거', '서머', '패키지', '거', '음료', '층', '수', '테이크아웃', '맥주', '양', '탄산', '캔', '줌', '프리', '메라', '종', '샘플', '세트', '꽃', '무늬', '인쇄', '종이', '일회용', '접시', '컵', '굳이', '서머', '패키지', '필요', '시설', '친절', '패키지', '추천', '그냥', '숙박', '추천', '방', '내', '먼지', '좀', '소파', '곳도', '요조', '아예', '조조', '생일', '파티', '친구', '호캉스', '코로나', '예방', '뷰', '아이파크몰', '뷰', '방이', '서울', '여러', '호텔', '중', '번', '여기', '호텔', '만족도', '정말', '수영', '그', '외', '오', '쉬', '침대', '침대', '에어컨', '작동', '수영장', '사람', '이용', '추억', '호텔', '제', '기간', '동안', '중석', '식이', '점', '숙박', '사우나', '수영장', '등', '부대', '시설', '이용', '사실', '예약', '시', '미리', '고지', '점', '트윈', '전망', '걸', '고지', '점', '킹스', '베케', '션', '패키지', '주말', '아이', '동반', '투숙', '객', '기억', '시', '분', '체크', '도착', '자마자', '체크', '분만', '매우', '체크', '만큼', '층수', '일찍', '체크', '노', '상관', '객실', '코로나', '방역', '기분', '층', '편의점', '매우', '이용', '가능', '더', '보기', '일단', '사진', '못', '제일', '부분', '침대', '한번', '못', '더', '용', '다음', '또', '방문', '더', '보기', '바비큐', '패키지', '성비', '킹스', '베케', '션', '또한', '푸드', '익스', '체인지', '루프', '탑', '바비큐', '그냥', '최고', '진짜', '최고', '호', '캉스', '요구', '웃', '바비큐', '파티', '정말', '분위기', '고층', '것', '정말', '코로나', '출입문', '통제', '정문', '이용', '엘리베이터', '카드', '키', '인식', '조금', '객실', '내', '칫솔', '치약', '구비', '냉장고', '전체', '침대', '침대', '맛', '집', '소파', '최고', '최고', '첫', '번', '주차', '때문', '두', '번', '이번', '주차', '전부', '쉬', '객실', '쉬', '호', '캉스', '제대로', '방', '책상', '작고', '벽지', '조금', '다프', '런트', '직원', '일부', '싹수', '공격', '말투', '엠버', '프리', '메라', '견본', '품', '사용', '역', '주변', '뭐', '먹기', '수영장', '생각', '만족', '또', '방문', '식사', '교통', '시간', '패키지', '굿', '코로나', '종이', '입장', '게', '미리', '설명', '제대로', '안', '듯', '헬스장', '종이', '그', '외', '항상', '기분', '시간', '가요', '다음', '한강', '곳', '해', '용산역', '바로', '옆', '뷰', '소', '스카이', '비치', '바베튜', '패키지', '최고', '호캉스', '호텔', '위치', '방도', '호캉스', '바로', '앞', '아이파크몰', '연결', '가기', '고성', '이', '가격', '이용', '수', '말', '필요', '최고', '숙소', '가격', '또', '것', '역시', '호텔', '호캉스', '짱', '점', '순이', '조식', '포함', '패키지', '최고', '거', '친구', '그냥', '안', '생각', '간', '호', '캉스', '방', '남산타워', '거', '보고', '깜짝', '뷰', '나름', '남산', '보', '수영복', '수영장', '안', '날', '친구', '모두', '호', '캉스', '용산역', '바로', '연결', '외관', '저녁', '웅장', '이', '더', '보기', '수영장', '서비스', '그', '아래', '스카이', '라운지', '서비스', '것', '것', '정말', '별로', '그냥', '모텔', '생각', '오시', '서비스', '친구', '거', '두', '곳', '예약', '밤사이', '문', '덕분', '방', '갓', '용산', '역도', '저희', '편의점', '못', '편의점', '못', '점', '저희', '호텔', '침대', '용산역', '도', '주차', '보이', '코로나', '때문', '제한', '좀', '로비', '서비스', '좀', '사람', '엘리베이터', '어려움', '뷰', '좀', '쉬', '비비큐', '패키지', '룸', '컨디션', '비비큐', '나름', '실내수영장', '아기', '몸', '침대', '쉬', '바닥', '코털', '굿굿굿굿굿', '객실', '청소', '안', '머리카락', '잔뜩', '실내수영장', '로커', '운영', '안', '조금', '스카이', '비치', '루프', '탑풀', '물', '진짜', '진짜', '녹조', '끼', '먼지', '벌레', '머리카락', '잔뜩', '둥둥', '급', '호텔', '컨디션', '더', '보기', '숙소', '청소', '제대로', '어서', '체크', '욕실', '세면대', '아래', '및', '침대', '머리카락', '여럿', '급', '정말', '안', '객실', '청소', '상태', '나머지', '코로나', '실내수영장', '라커룸', '이용', '중인', '게', '것', '물', '노', '수영장', '운영', '중인', '게', '의아', '거', '안', '거', '둘', '말', '지로', '매우', '객실', '수영복', '준비', '가운', '가면', '더', '보기', '투숙', '객', '호텔', '내부', '그냥', '시설', '서비스', '로비', '객실', '역시', '급', '호텔', '역', '움왜', '급', '호텔', '노래', '알', '거', '여자친구', '호캉스', '제대로', '호캉스', '푹', '이번', '수영장', '패키지', '이용', '코로나', '수영장', '운영', '시간', '후회', '직원', '코로나', '발열', '체크', '인상', '다만', '침대', '푹', '먼지', '막', '게', '시', '체크', '잠깐', '옆방', '청소', '중이', '신지', '벽', '몇', '번', '것', '때문', '거', '프리', '메라', '견본', '품', '항상', '후회', '선택', '진짜', '최고', '다음', '또', '곳', '오', '객실', '시설', '이용', '음식', '분위기', '침대', '이불', '방', '냄새', '다만', '용산역', '연결', '층', '통로', '폐쇄', '쪽', '수고', '노보텔', '패키지', '상품', '중', '킹스', '베케', '션', '햄버거', '거', '추천', '가끔', '화장실', '오픈', '뷰', '다음', '또', '이용', '다시', '수', '것', '카드', '키', '층수', '수', '엘리베이터', '칫솔', '치약', '유료', '상품', '미리', '층', '설명', '고객', '것', '설명', '칫솔', '치약', '미리', '얘기', '체크', '때', '천', '원', '구매', '천', '원', '구매', '진짜', '주심', '엘베', '분', '거', '생각', '별', '하나', '위치', '정말', '용산역', '아이파크몰', '코앞', '다만', '객실', '사이드', '테이블', '다리', '한쪽', '고무', '테이블', '와인', '잔', '밤중', '청소기', '못', '그거', '땜', '한밤중', '객실', '객실', '침대', '위', '간접', '등', '고장', '계속', '깜박', '거려', '구비', '와인잔', '두', '개', '사이즈', '프런트', '전화', '수', '기본', '와인', '둘', '때', '잔', '다른', '크기', '모로', '기분', '안', '자고', '재', '방문', '의사', '더', '보기', '귿', '코로나', '때문', '정문', '만', '살짝', '스카이', '비치', '룸', '컨디션', '객실', '고층', '야경', '침구', '류', '다음', '호텔', '더', '이용', '체크', '것', '지하철', '주변', '진짜', '뭐', '그냥', '호텔', '게', '거', '직원', '마음', '다음', '이용', '아주', '바비큐', '뷰', '쉬', '침대', '진짜', '잠', '자고', '아이파크몰', '식사', '및', '쇼핑', '게', '제일', '전망', '패키지', '가격', '최고', '바', '처', '킹스', '베케', '션', '음료', '그게', '정말', '다음', '또', '이용', '완전', '추천', '여', '뷰', '수영장', '칫솔', '객실', '층', '해', '요호', '캉스', '베리', '굿', '바비큐', '패키지', '생각', '건', '거의', '맥주', '음식', '앞', '마스크', '거나', '말', '게', '조금', '객실', '용산역', '위치', '정말', '객실', '수영장', '무료', '그냥', '동네', '수영장', '룸서비스', '건', '성비', '진짜', '거', '루프', '탑', '사람', '날', '굿굿', '용산역', '수영장', '작', '룸', '컨디션', '편', '곳', '곳', '가끔', '오지', '늘', '쉬', '서울', '가면', '여기', '성비', '최고', '뭐', '합', '급', '진리', '객실', '패키지', '예약', '전날', '비', '걱정', '비', '안', '다행', '비', '직원', '타월', '음식', '가짓수', '저', '것', '성비', '대비', '생각', '음식', '게', '좀', '날', '것', '객실', '침대', '침구', '비비큐', '포함', '패키지', '쉬', '직원', '서비스', '얼음', '요청', '번', '시설', '직원', '마스크', '착용', '안심', '강추', '정답', '수영장', '조금', '뷰', '호텔', '서비스', '칫솔', '일회용', '제공', '문의', '굿', '잘썻어욭', '처음', '숙소', '때', '방', '누가', '물이', '바로', '인포', '문의', '방', '이동', '전체', '시설', '모두', '가요', '체크', '절차', '만족도', '정말', '성금', '만큼', '아주', '성비', '침대', '잠자리', '기분', '또', '정도', '스케줄', '하루', '더', '지네', '곳', '여고생', '여대생', '딸', '셋', '엄마', '여행', '낮', '시', '도착', '싹', '출현', '스카이', '비취', '물놀이', '모래', '사진', '정말', '호텔', '네', '편의점', '도보', '분', '거리', '아이파크', '식사', '쇼핑', '체크아웃', '전', '실내수영장', '박일', '굿', '보기', '입장', '스카이', '비치', '패키지', '이용', '체크', '시', '로비', '가방', '야외', '수영장', '이용', '층', '편의점', '저녁', '드', '레콘', '킹덤', '인근', '아이파크', '볼거리', '여행', '더', '보기', '직원', '객실', '객실', '호캉스', '제나', '지금', '가라', '두', '번가', '명성', '최고', '요', '곳', '오', '곳잏', '여름', '체크', '시간', '정말', '호캉스', '제대로', '것', '바비큐', '옥상', '망', '좀', '숙소', '쉬', '쉬', '전자', '월드', '뷰', '급', '듯', '신발', '제', '부주의', '수', '망', '쉬', '시간', '패키지', '여유', '방도', '약간', '방음', '안', '것', '해', '일단', '역', '바로', '연결', '부분', '정말', '안내', '룸서비스', '레스토랑', '등', '게', '더', '일찍', '식사', '후기', '먼지', '얘기', '진짜', '해', '화장실', '조명', '뭐', '눈', '객실', '건', '청결', '관리', '좀', '룸서비스', '가지', '그것', '스카이', '킹덤', '비비큐', '음식', '별로', '뷰', '재', '방문', '사람', '체크', '항', '때', '조만간', '또', '방문', '예정', '아주', '서비스', '친절', '사람', '체크', '안내', '글', '체크', '박', '점심시간', '전', '청소', '요청', '체크', '시간', '그때', '청소', '진행', '중이', '셨음', '별개', '숙소', '객실', '청결', '도', '체적', '내부', '외부', '창문', '뷰', '볼', '때', '별개', '시설', '편의', '성당', '이용', '전체', '게', '별개', '교통', '위치', '접근', '성역', '연결', '부분', '교통', '별로', '것', '자차', '이용', '수', '별개', '더', '보기', '뷰', '남산', '뷰', '침실', '아침', '택시', '바로', '앞', '뷰', '남산', '뷰', '침실', '아침', '택시', '바로', '앞', '매우', '조식', '비데', '고장', '성', '우기', '차라리', '모텔', '낫', '정말', '맥주', '무제한', '버드', '날씨', '선선', '객실', '교통', '일부', '직원', '그', '점', '개선', '것', '맘', '호텔', '최고', '접근성', '객실', '다음', '또', '이용', '뷰', '아주', '침대', '체크', '때', '불', '키', '직접', '설명', '특', '상품', '엘리베이터', '근처', '방', '배정', '건', '좀', '객실', '뷰', '갑', '다방', '침구', '류', '정말', '비비큐', '뷔페', '생각', '것', '맛', '별로', '짜파구리', '제일', '최고', '시티', '뷰', '도', '공기', '청정', '패키지', '거', '숙소', '다만', '물이', '졸졸', '데', '바퀴벌레', '마리', '방', '잡고', '침대', '뷰', '랜덤', '듯', '층', '오전', '내내', '공사', '정말', '움', '역시', '역시', '다음', '번', '의미', '날', '번', '더', '방문', '아주', '됴', '용', '용용', '숙소', '저', '자차', '이용', '용산역', '교통', '편도', '거', '아이파크몰', '이마트', '전자랜드', '용문', '시장', '등', '조식', '포함', '조식', '이용', '은', '나름', '시간', '패키지', '이용', '박일', '여행', '기분', '역시', '침대', '짱', '아주', '급', '서비스', '직원', '질', '서비스', '급', '단', '수험생', '방음', '부모님', '주변', '아이파크몰', '항상', '가요', '코로나', '역', '바로', '연결', '층', '입구', '바로', '길이', '안내', '표지판', '사람', '체크', '시', '번호', '표', '직원', '직접', '함', '명', '그때', '또', '줄', '서고', '체크', '함', '다음', '날', '시경', '체크아웃', '시', '마찬가지', '줄', '섬', '가장', '최악', '건', '엘리베이터', '고층', '정말', '매', '층', '사람', '꽉', '차서', '만', '원', '표시', '안', '바로', '그게', '층', '전', '층', '못', '사람', '표정', '또', '포기', '표정', '임', '안', '듯', '더', '보기', '요', '시설', '수영장', '요요', '하루', '주차', '추가', '신청', '아주', '전망', '보이', '밤', '직원', '엘리베이터', '말', '기분', '기분', '만큼', '서비스', '가끔', '이용', '곳', '뷰', '정말', '시설', '위치', '위치', '체크', '직원', '좀', '우왕좌왕', '조식', '별로', '그', '돈', '밤', '치맥', '게', '이득', '조식', '뷔페', '커피', '객실', '책상', '위', '연결', '포트', '덱스', '크롬', '캐스트', '미러링', '기기', '쓰시', '분', '거', '와인', '잔', '층', '조각', '케이크', '하나', '층', '씨유', '와인', '하나', '사서', '생일', '파티', '씨유', '와인', '아주', '서울', '이', '금액', '수', '대한', '만족도', '정말', '내부', '쿠션', '중', '하나', '얼룩', '최고', '방도', '매번', '때', '시설', '급', '다음', '또', '이용', '거', '매번', '쉬', '가요', '피트니스', '아주', '침대', '욬', '뷔페', '주말', '전반', '쉬', '얼마', '안', '시설', '쉬', '이불', '침대', '숙면', '도움', '시설', '재미', '쉬', '층', '편의점', '항상', '이용', '항상', '이용', '정말', '다음', '또', '역시', '습', '둥', '쉬', '칫솔', '면도기', '구매', '해', '주', '다시', '서비스', '청결', '도', '매우', '코로나', '때문', '걱정', '방역', '소독', '것', '방도', '업그레이드', '덕분', '매달', '번', '중', '박스', '침대', '꿀잠', '자고', '조식', '성비', '대비', '아주', '서울', '여행', '기', '위치', '최적화', '게', '쉬', '다음', '또', '시내', '정말', '호텔', '역시', '역시', '가격', '호', '캉스', '다시', '곳', '침대', '쉬', '침구', '푹', '시설', '친절', '모든', '게', '완벽', '서비스', '객실', '뭐', '잠깐', '용산역', '쭉', '게', '다른', '건', '요조', '아아', '용산역', '가까이', '건', '뷰', '시티', '뷰러', '영', '꽝', '객실', '생각', '작고', '화장실', '작고', '신라', '스테이', '꼼지락', '패키지', '숙박', '룸', '컨디션', '가격', '대비', '다음', '꼭', '거', '대응', '뷰', '역시', '급', '요', '방문', '번', '방이', '헬스장', '이용', '담', '수영장', '이용', '수', '역시', '이름', '값', '방문', '말', '것', '별', '개', '이불', '수건', '뭐', '하나', '거', '계속', '중', '시간', '재', '방문', '의사', '이용', '기도', '수', '오징어', '곳', '여자친구', '성비', '성비', '갑', '다그', '체크', '사람', '깜짝', '지리', '이점', '현상', '방', '편의점', '서비스', '객실', '화장실', '배수로', '처음', '계속', '물이', '화장실', '불', '법', '프런트로', '확인', '부탁', '직원', '설명', '주차장', '두', '건물', '연결', '대리', '기사', '운전', '처음', '로선', '옆', '건물', '이비', '스', '건물', '주차장', '주차', '건물', '게', '그레이', '트', '해', '럭셔리', '함', '아주', '서비스', '어메니티', '별로', '직원', '다시', '호텔', '요', '슈', '페리', '더블', '예약', '뷰', '층', '더', '고층', '업그레이드', '지금', '가격', '용산', '쪽', '숙소', '여기', '가격', '곳', '잡', '수', '거', '여기', '강추', '야경', '조금', '요구', '웃', '복합', '쇼핑몰', '지하철역', '때', '쉬', '항상', '이용', '항상', '이용', '매우', '방', '또한', '부대', '시설', '호캉스', '또', '수영장', '물', '온도', '푸드', '익스', '체인지', '랍스터', '생각', '객실', '조식', '가지', '점', '변기', '수압', '것', '사전', '요청', '사항', '직원', '모두', '쉬', '유박', '일로', '호캉스', '용산역', '편의', '성도', '저녁', '아이파크몰', '저녁', '쇼핑', '단', '수영장', '타임', '입장', '가능', '체크', '체크아웃', '시간', '평일', '시간', '숙박', '최고', '두', '방문', '가격', '호캉스', '다소', '뷰', '교통', '편이', '시설', '말', '것', '좃았습', '쉬', '위스키', '샷', '잔', '좀', '달라', '위스키', '잔', '호텔', '처음', '심지어', '식사', '맥주', '주문', '요', '박', '서비스', '개선', '바람', '다음', '꼭', '다시', '최고', '오', '기념일', '맞이', '기대', '이상', '만족', '호텔', '침구', '폭', '폭신', '역', '바로', '근처', '편의', '성도', '조식', '가격', '대비', '조금', '호텔', '호', '캉스', '여기', '방역', '때문', '급', '호텔', '중', '트윈', '객실', '싱글', '침대', '정말', '추가', '비용', '인', '묵', '수', '키', '인', '소파', '이용', '어메니티', '작고', '성금', '살짝', '점', '성비', '생각', '때', '다음', '또', '타르트', '장맛', '여태', '국내', '호텔', '중', '손', '꼽', '정도', '호텔', '푹', '쉬', '다음', '용산', '볼일', '또', '묵고', '호텔', '강', '추강', '추', '침대', '소파', '방음', '문제', '계속', '휴대폰', '진동', '소리', '게', '자꾸', '신경', '연인', '시간', '한강', '뷰', '트윈룸', '모두', '욕조', '타입', '더', '블룸', '화장실', '샤워', '부스', '그', '문', '미러', '트윈룸', '욕조', '쪽', '샤워', '커튼', '화장실', '문', '미러', '욕실', '전체', '미닫이', '세면대', '쪽', '미닫이', '입구', '쪽', '미닫이', '나무', '문', '뻑뻑', '새벽', '착오', '직원', '문', '서로', '실수', '문', '이중', '대로', '변', '위치', '강남', '쪽', '호텔', '룸', '커서', '늘', '이용', '패키지', '이벤트', '개발', '더', '보기', '최고', '또', '거', '항상', '애용', '화장실', '좀', '수영', '약간', '그거', '역시', '침대', '아주', '예상', '적립', '포인트', '역시', '정말', '교통', '가끔', '청소', '이슈', '서비스', '진짜', '최고', '정말', '부탁', '하나', '하나', '최대한', '답변', '모습', '감동', '호텔', '시설', '경치', '서비스', '기회', '꼭', '다시', '방문', '곳', '라마', '다가', '라마', '함', '용산역', '접근성', '주말', '손님', '생각', '로비', '주로', '방안', '호캉스', '주말', '뷰', '변경', '못', '게', '침대', '졸음', '모든', '게', '두', '가지', '칫솔', '치약', '객실', '점', '대중교통', '시설', '조금', '거리', '점', '칫솔', '치약', '객실', '이', '구비', '반드시', '개선', '나머진', '아주', '매우', '직원', '객실', '쉬', '휴식', '시설', '서울', '시내', '호캉스', '쉬', '재', '방문', '의사', '조식', '특', '할인', '서비스', '주변', '뭐', '데', '좀', '그거', '만족', '처', '조식', '주말', '사람', '체크', '대기', '분', '조식', '성비', '짱짱', '직원', '서비스', '조식', '맛', '굿', '쉬', '쉬', '점', '룸', '컨디션', '침대', '헬스장', '기구', '종류', '스카이', '킹덤', '전체', '만족', '예약', '이외', '부분', '조금', '호텔', '내부', '경치', '바로', '옆', '인터파크', '밥', '편의점', '층', '거', '담날', '시', '체크아웃', '무조건', '점임', '역시', '호캉스', '최고', '전망', '흡연', '구역', '것', '전체', '교통', '인접', '성은', '주변', '뭐', '급', '다소', '점도', '직원', '시설', '전광', '식용', '얼음', '리필', '해주시', '아주', '정말', '생각', '방이', '진짜', '조식', '때', '마스크', '안', '사람', '쉬', '아주', '굿', '무', '쉬', '역도', '체크', '카드', '키', '안', '상태', '옷', '중', '관리자', '관계자', '벨', '안', '카드', '키', '안', '문', '당황', '시작', '기분', '그', '이외', '하나', '요청', '사항', '샴푸', '린스', '크기', '나머지', '교통', '직원', '친절', '룸', '상태', '오', '오', '서울', '때', '여기', '가요', '침대', '밑', '쓰레기', '호텔', '자체', '매우', '침구', '류', '등', '직원', '수영장', '이용', '이후', '아기', '몸', '발진', '발생', '상태', '임', '오전', '시', '이용', '상태', '불구', '발진', '상황', '위생', '상의', '문제', '보임', '직원', '친절', '침대', '기절', '함', '조식', '한강', '쉬', '항상', '이용', '전채', '조식', '굿', '역시', '노보텔', '뷰', '객실', '층', '수가', '엘리베이터', '이용', '객실', '금액', '일회용품', '비치', '가격', '늘', '최고', '식도', '서비스', '이용', '안', '주변', '건', '호텔', '안', '걸', '해결', '수', '방도', '샤워', '욕조', '게', '조금', '전체', '더', '보기', '매우', '여태', '간', '곳', '중', '가장', '방음', '조금', '안', '죄', '것', '그거', '침대', '뷰', '다음', '또', '요성', '급', '다운', '급', '가격', '대비', '때', '급', '호텔', '답', '서비스', '직원', '친절', '도', '최고', '룸', '컨디션', '주차장', '무료', '쉬', '방이', '자주', '이용', '곳', '전반', '교통', '편의', '측면', '최고', '주차장', '역도', '여행', '가기', '다른', '급', '호텔', '비교', '때', '대우', '편', '호텔', '냉장고', '급', '호텔', '이', '가격', '이용', '최', '습', '가면', '항상', '여기', '가요', '쉬', '방문', '살', '아들', '생일', '축하', '직원', '시설', '침대', '역시', '사람', '생각', '무척', '조식', '종류', '룸', '컨디션', '망', '등', '나위', '전체', '재', '방문', '사', '더', '보기', '음모', '것', '만족', '굿', '뷰', '룸', '컨디션', '최고', '코로나', '방역', '철저함', '침대', '맛', '집', '말', '왜', '침대', '근이완제', '발라', '구름', '아이비', '감', '신분', '확인', '카드', '개', '이유', '다만', '샤워', '부스', '머리카락', '거만', '곳', '그곳룸', '컨디션', '룸서비스', '가격', '합리', '데스크', '여성', '시설', '룸', '컨디션', '객실', '업그레이드', '등등', '곳', '얼마', '안', '매우', '깨끗', '직원', '아주', '다음', '또', '방문', '진짜', '근처', '영화관', '크게', '실내', '욕조', '샤워', '기', '것', '최고', '이름', '값', '수영장', '사람', '아주', '다만', '칫솔', '치약', '일회용품', '때', '주차', '정말', '데', '항상', '침대', '침대', '항상', '가도', '가도', '곳', '왜', '비품', '직원', '쉬', '좀', '것', '구석', '먼지', '직원', '일부', '불친절', '더', '폰', '충전기', '객실', '카운터', '칫솔', '객실', '카운터', '간', '점', '뷰', '객실', '청결', '도', '때', '아주', '쉬', '호', '캉스', '제대로', '뷰', '침대', '조식', '종류', '크게', '기억', '남지', '역시', '노보텔', '요', '전부', '무지', '자주', '이용', '곳', '다방', '전망', '굿웃', '호텔', '분위기', '냄새', '용산역', '오분', '최고', '위치', '시설', '호캉스라구', '안', '데이트', '뭐', '땐', '좀', '탁자', '작고', '소파', '앞', '둘', '공간', '체크', '때', '직원', '수영장', '원래', '계속', '이용', '하루', '번', '이용', '그', '뒤', '추가', '요금', '이', '점', '쉬', '다음', '또', '컨', '시어', '분', '밤', '컨디션', '조식', '만족', '만족', '직원', '방음', '만족', '호', '캉스', '위치', '호텔', '층', '편의점', '편의', '성도', '직원', '코로나', '때문', '걱정', '방역', '및', '예방', '청결', '상태', '및', '서비스', '다음', '꼭', '다시', '방문', '안개', '호텔', '쉬', '급', '것', '아주', '정말', '시설', '마음', '저희', '객실', '샤워실', '배수', '그거', '가지', '더', '보기', '아주', '시어', '분도', '시설', '조식', '맛', '요', '또', '더', '보기', '용산역', '번', '출구', '바로', '연결', '비', '날씨', '임', '불구', '우산', '호텔', '수', '때문', '아이파크몰', '이용도', '혼자', '시간', '급', '가격', '매우', '쉬', '서비스', '아주', '쉬', '가요', '방이', '휴일', '체크', '어요', '주종', '니', '뷰', '룸', '컨디션', '임팩트', '호텔', '노보텔', '이비스', '용산', '일', '때', '아주', '조식', '가격', '대비', '성금', '전체', '맘', '이용', '호텔', '직원', '룸', '코로나', '때문', '부대', '시설', '이용', '제한', '점', '단점', '요성', '호텔', '답', '직원', '처리', '코로나', '때문', '부대', '시설', '이용', '점', '단점', '볼', '수', '아주', '쉬', '굿굿', '침대', '맛', '집', '꿀잠', '객실', '상태', '직원', '서비스', '만족', '다만', '편의점', '다른', '편의', '시설', '안내', '표지', '조금', '부족', '한갓', '편의점', '후기', '보고', '게', '조금', '휴일', '시작', '체크', '조금', '다른', '부분', '뷰', '침구', '모든', '비품', '때', '여러', '번', '시설', '서비스', '쉬', '성비', '구성', '비도', '노보텔', '용산', '최고', '호', '캉스', '가요', '뷰', '조식', '맛', '창문', '침대', '폭', '신하', '연휴', '사람', '기표', '줄', '서서', '체크', '체크아웃', '전날', '마리나', '베이', '연휴', '체크', '사람', '대기', '객실', '직원', '다음', '연휴', '노보텔', '엠버', '서울', '용산', '서비스', '청결', '편의', '접근성', '담', '또', '이용', '유료', '서비스', '건', '가격', '대비', '슈', '페리', '룸', '급답', '쉬', '층', '치킨', '맥주잔', '프로모션', '치킨', '맛', '요', '치킨', '맛', '집', '조식', '맛', '집', '무', '기분', '가용', '정말', '쉬', '가요', '아주', '고급', '규', '그냥', '성비', '별로', '조식', '쉬', '조식', '정말', '코로나', '관리', '시설', '전부', '창문', '환기', '점', '다음', '번', '또', '용산역', '인접', '건물', '내', '편의점', '매우', '쉬', '식이', '역시', '이용', '더', '건', '편의점', '좀', '것', '주변', '거리', '조금', '점', '다른', '건', '침구', '스', '위트', '이', '가격', '거의', '룸서비스', '정말', '다음', '생각', '내부', '외관', '비', '이용', '크게', '야경', '생각', '뭐', '저녁', '근처', '술집', '아이파크', '몰이', '다행', '이용', '더', '보기', '최고', '시설', '교통', '재', '방문', '무조건', '다그', '매번', '가요', '진짜', '시설', '서비스', '무엇', '위치', '교통', '짱', '최고', '패키지', '변기', '번', '매우', '일단', '용산역', '연결', '객실', '코로나', '체크', '것', '편의', '시설', '관', '중이', '조금', '쉬', '침대', '컨디션', '꿀잠', '자고', '침대', '맛', '집', '쉬', '객실', '창문', '온도', '방법', '에어컨', '밤', '샤워', '머리', '말리', '나니', '고생', '한강', '뷰', '용산역', '더', '별로', '차이', '줄', '그냥', '좀', '더', '스위트', '걸', '여하튼', '침대', '꿀잠', '다만', '이불', '먼지', '좀', '위치', '서울', '때', '자주', '조식', '가격', '조금', '게', '흠', '자주', '이용', '거', '건', '엘베', '바로', '앞', '방이', '쪼금', '아침', '부대', '시설', '이용', '게', '침대', '콕', '장소', '시간', '후기', '거', '전혀', '에어컨', '거', '작동', '한가지', '와이파이', '등록', '방음', '편', '가격', '대비', '굿', '아주', '음', '오오', '시설', '자체', '근처', '편의점', '밥집', '그게', '좀', '안', '어매', '매우', '재', '방문', '사', '최고', '것', '야경', '남편', '저', '다른', '세상', '온', '느낌', '편', '신라', '호텔', '만족', '꼭', '가십', '쇼', '정말', '기억', '여', '쉬', '서비스', '청결', '시설', '모두', '만큼', '다만', '침실', '세면대', '오픈', '세면대', '냄새', '좀', '로비', '공기청정기', '달라', '보시', '공기청정기', '정말', '침구', '류', '마약', '침대', '모든', '게', '곳', '뷰', '위치', '서비스', '청결', '청결', '정말', '힐링', '뷰', '비데', '문제', '객실', '교체', '거', '제외', '대체로', '침대', '정말', '칫솔', '면도기', '비치', '체크', '시', '프런트', '가세', '가도', '습', '다룸', '업글', '편의점', '흡연', '구역', '좀', '섯', '굿굿굿', '궁', '생각', '방이', '작고', '겉', '거', '안', '뷰', '별로', '등급', '서비스', '쉬', '정말', '화장실', '하수', '구', '냄새', '매우', '뷰', '또', '번', '굿', '역시', '노보텔', '코로나', '부대', '시설', '이용', '접근성', '전반', '객실', '냉방', '점', '좀', '야경', '뷰', '최고', '칫솔', '폼', '로션', '서울', '여행', '등급', '숙소', '처음', '이용', '거', '코로나', '부대', '시설', '제한', '이용', '수', '직원', '주변', '수', '것', '자', '부분', '역시', '숙소', '내부', '인테리어', '또한', '신경', '부분', '기억', '남', '거', '다음', '서울', '또', '또', '이용', '더', '보기', '친전', '저녁', '와인', '바스켓', '얼음', '주시', '예약', '간', '곳', '요즘', '코로나', '때문', '문제', '편', '직원', '마스크', '착용', '손', '소독제', '다만', '편의점', '길', '안내', '표지판', '정말', '침대', '방음', '푹', '쉬', '터', '대중교통', '로', '서울', '박', '때', '최고', '입지', '비록', '번', '출구', '조금', '걷기', '길이', '매우', '문제', '편의', '시설', '주변', '층', '씨유', '곳', '음식', '물', '것', '추천', '숙소', '묵고', '쉬', '방문', '층', '편의점', '게', '부도', '만족', '호캉스', '위치', '별', '하나', '어옹', '침대', '가격', '거', '요역', '매우', '시설', '새', '거', '용산', '근처', '마트', '한강', '이용', '침대', '진짜', '꿀잠', '어메니티', '다리미', '모로', '출장', '사람', '도', '곳', '것', '다만', '가끔', '밖', '조금', '소리', '방음', '것', '쉬', '코로나', '때문', '경험', '못', '것', '시설', '서비스', '무엇', '호캉스', '정말', '힐링', '조식', '정말', '분위기', '대박', '최고', '호텔', '임', '조식', '역시', '성금', '정말', '한강', '뷰', '방', '뷰', '로비', '세련', '시설', '모두', '직원', '모두', '기분', '코로나', '걱정', '발열', '체크', '검진', '표', '작성', '안심', '세면대', '샤워실', '분리', '전망', '침대', '맛', '집', '응대', '시간', '용산역', '접근성', '호캉스', '하나', '제일', '건', '창문', '방', '온도', '그거', '좀', '진짜', '최고', '호텔', '빵', '온도', '설정', '안', '거', '외', '시간', '날', '때', '요조', '우어', '성비', '딸기', '케이크', '진짜', '쉬', '역시', '최고', '층', '급', '호텔', '걸', '별개', '직원', '쉬', '주변', '맛', '집도', '야경', '최고', '시티', '부도', '조식', '식이', '좀', '침대', '짱푹싄나', '최고', '숙소', '숙소', '방음', '안', '출구', '입구', '하나로', '열', '검사', '모습', '마음', '날', '맘', '간', '방콕', '쉬', '방이', '시설', '주위', '거리', '곳', '호텔', '자체', '객실', '서비스', '전', '직원', '청소', '상태', '약간', '에어컨', '안', '호텔', '답', '룸', '업그레이드', '업그레이드', '방', '세면대', '계속', '하수', '구', '냄새', '방', '전체', '처음', '확', '세면대', '세면대', '때', '냄새', '묵고', '묵고', '객실', '좀', '하루', '묵고', '번', '방문', '역시', '항상', '꿀잠', '침굺', '서성', '평점', '예약', '한강', '뷰', '업그레이드', '코로나', '때문', '열', '체크', '주의', '모습', '방치', '시간', '정돈', '것', '이', '봄날', '호캉스하', '이유', '뭡', '하루', '평소', '쉬', '어서', '요', '코로나', '고장', '내', '알', '바', '작정', '미리', '공지', '최소한', '땀', '안', '보이지', '한강', '뷰', '그까짓', '거', '목', '물', '거', '풍선', '긍정', '우리', '급', '호텔', '선풍기', '의존', '최악', '생일', '도', '온도', '두', '번', '문의', '에어컨', '가동', '전체', '대답', '환풍', '창문', '안', '방', '종일', '그', '온도', '두', '명', '이서', '그', '공간', '뒤척', '다음', '날', '그것', '조명', '물', '온도', '더', '보기', '성', '위치', '만족', '조식', '포함', '조식', '못', '게', '따름', '객실', '직원', '코로나', '때문', '중앙', '문의', '로만', '출입', '조금', '발열', '체크', '문진', '표', '작성', '등등', '최소한', '조치', '것', '룸', '컨디션', '룸서비스', '맛', '방이', '좀', '접근성', '코로나', '때문', '입실', '전', '호텔', '입구', '검사', '재', '방문', '의사', '프로', '룸서비스', '최고', '남자친구', '생일', '식사', '호텔', '예약', '가격', '짱짱', '침대', '맛', '집', '꿀잠', '층', '야경', '이', '가격', '여기', '거', '거', '푹', '요', '전체', '꼭대기', '층', '술집', '분위기', '호텔', '역시', '성', '급', '시설', '침대', '폭', '신하', '풍경', '음식', '묵고', '최고', '서비스', '주차장', '시설', '최고', '코로나', '때문', '서울', '못', '가게', '지인', '박', '선물', '정말', '룸', '힐링', '수영장', '조식', '쌀국수', '맛', '방도', '생각', '전망', '남산타워', '야경', '서울', '출장', '때', '용산', '위치', '모든', '면', '생각', '한강', '항상', '정말', '것', '정말', '가성', '지갑', '성', '급다웠어', '걸', '굳이', '꼽자', '열', '수', '창문', '것', '창', '야경', '아아', '아주', '아주', '방', '컨디션', '이비', '스', '약간', '한강', '쪽', '뷰', '더', '것', '좀', '더', '스위트', '요조', '역시', '여기', '곳', '쉬', '룸서비스', '다만', '전망', '기대', '이하', '배정', '용산역', '뷰', '편의점', '안', '노보텔', '편의점', '시설', '친절', '게다가', '코로나', '관련', '체크', '가요', '모든', '면', '최고', '맘', '듷', '시설', '미역국', '달라', '것', '다만', '방음', '위치', '것', '편의', '시설', '매우', '재', '방문', '의사', '다모', '부분', '완벽', '오성', '역시', '생일', '겸', '호캉스', '수영장', '수영', '것', '생일', '파티', '다음', '날', '조식', '박', '일', '또', '거', '더', '보기', '방도', '호텔', '중', '전망', '몇', '안', '곳', '숙소', '현재', '출입구', '제한', '용산', '아이파크몰', '호텔', '때', '조금', '그', '점', '영화관', '비롯', '근처', '해결', '부분', '종종', '박', '숙박', '호텔', '청결', '서비스', '갑', '다재', '방문', '의사', '매우', '침구', '세트', '아주', '침구', '류', '푹', '잠', '매우', '시티', '뷰', '시간', '용산역', '번', '출구', '나가야', '참고', '성은', '뭔가', '칫솔', '안주', '서울', '최고', '쉬', '최고', '작년', '호캉스', '곳', '푸드', '익스', '체인지', '질적', '이제', '갓', '요구', '성비', '최고', '바닥', '청소', '살짝', '그게', '좀', '푸드', '익스', '체인지', '밥', '코로나', '때문', '휴업', '거', '야경', '침대', '진짜', '객실', '고층', '배정', '뷰', '사람', '인테리어', '취향', '거', '깨끗좋아', '침구', '또', '정말', '최고', '코로나', '안심', '일찍', '예약', '런가', '룸', '업그레이드', '또', '방문', '숙소', '어요', '전체', '서비스', '역', '가까이', '숙소', '항상', '숙박', '항상', '호캉스', '자주', '곳', '묵고', '항상', '이용', '진짜', '최고', '호텔', '야경', '행복', '진짜', '대해', '박', '자주', '감', '숙소', '시티', '뷰', '고층', '배정', '화장실', '하수', '구', '냄새', '좀', '거', '호캉스', '최고', '성비', '호텔', '역시', '급', '곳', '그냥', '최고', '급', '호텔', '사이즈', '업', '음식', '기타', '부대', '시설', '급', '호텔', '머리카락', '하나', '발견', '거', '모든', '게', '특가', '다음', '또', '체코', '인전', '열', '체크', '직원', '응대', '모두', '최고', '역시', '오성', '쉬', '쉬', '쉬', '역시', '가기', '자차', '것', '칫솔', '치약', '돈', '내야', '나름', '역시', '급', '호캉스', '힐링', '왕창', '모든', '시설', '성비', '성비', '정말', '침대', '평일', '성비', '직원', '배려', '싀', '다만', '날', '점점', '에어컨', '공기청정기', '선풍기', '위치', '객실', '상태', '피부', '체크', '때', '가습기', '요청', '바로', '항상', '때', '역', '근처', '소음', '걱정', '정말', '쉬', '베딩', '타월', '단', '하나', '슬리퍼', '좀', '바닥', '조금', '물기', '크게', '수', '것', '슬리퍼', '교체', '심', '것', '그거', '객실', '완전', '푹', '쉬', '가요', '서비스', '정말', '무엇', '가격', '대비', '정말', '시설', '룸', '매우', '침구', '먼지', '좀', '거', '서비스', '친절', '위치', '교통', '방음', '조금', '덜', '거', '엘리베이터', '앞', '객실', '소리', '좀', '룸', '컨디션', '시설', '처음', '호텔', '수영장', '헬스장', '유', '테', '이스트', '패키지', '정말', '최고', '호텔', '안', '모든', '게', '용산역', '연결', '영화', '가기', '체크', '이후', '바깥', '서비스', '말', '것', '룸', '컨디션', '최고', '저희', '한강', '망', '개인', '시티', '부가', '더', '것', '최고', '창문', '안', '그거', '만', '족', '쉬', '완전', '접근성', '시설', '또', '아주', '노보텔', '요성', '말', '필요', '단점', '치약', '칫솔', '정말', '최고', '말', '필요', '급', '급', '바이러스', '불안감', '안고', '아이', '둘', '호캉스', '주차장', '입구', '체온', '체크', '맘', '시작', '체크', '때', '체온', '체크', '손소독제', '정', '등', '정도', '룸', '업그레이드', '전망', '쉬', '수영장', '전세', '듯', '평일', '일박', '횟수', '제한', '이용', '실컷', '물놀이', '사춘기', '아이', '코로나', '때문', '모든', '여행', '일정', '취소', '앰배서더', '시간', '수영장', '헬스장', '요성', '호텔', '답', '추천', '늘', '방문', '곳', '성비', '최고', '급', '호텔', '서비스', '가격', '모두', '마음', '쏙', '드네', '호캉스', '강추', '코로나', '때문', '걱정', '검열', '후', '체크', '진행', '성금', '전반', '방도', '칫솔', '천원', '남산타워', '뷰', '룸', '남산타워', '멀리', '보이', '바로', '앞', '뷰', '별로', '전반', '무난', '아아', '화장실', '좀', '아내', '친구', '손님', '미국', '예약', '마음', '역시', '오성', '답', '분위기', '서비스', '다만', '리모컨', '와인', '오프너', '준비', '직원', '고생', '굿회용', '칫솔', '등', '회', '용품', '준비', '층', '업그레이드', '더', '뷰', '볼', '수', '호텔', '위치', '쉬', '조식', '대박', '꼭', '숙소', '체온', '검사', '기타', '위생', '쉬', '매우', '성', '말', '더', '회용', '칫솔', '치약', '게', '하수', '구', '조금', '냄새', '나', '전반', '직원', '안내', '코로나', '신경', '입구', '카메라', '위치', '거', '마음', '티브이', '침대', '정말', '게다가', '또', '방음', '엘리베이터', '바로', '앞', '옆쪽', '룸', '복도', '소음', '안', '네', '번', '다섯', '번', '더', '더', '보기', '쉬', '예약', '굿', '성비', '침구', '해도', '진짜', '최고', '용산역', '도보', '분', '이동', '매우', '시설', '위치', '청결', '룸', '컨디션', '서비스', '뭐', '하나', '게', '층', '룸', '배려', '박', '정말', '힐링', '욕실', '조금', '작고', '화장실', '방음', '건', '좀', '부분', '시설', '직원', '거', '가격', '대비', '매우', '아주', '규모', '청결', '및', '객실', '뷰', '다만', '위치', '전자', '상가', '옆', '주변', '구경', '게', '조금', '다른', '장점', '방이', '생각', '침대', '진짜', '쉬', '호텔', '제', '곳', '중', '젤', '맘', '노보텔', '계열', '성비', '객실', '다른', '호텔', '대비', '가격', '방', '평수', '좀', '편이', '항상', '조식', '별로', '거', '쉬', '항상', '폭', '신한', '침구', '역시', '최고', '굿굿굿굿궁', '성금', '답', '서비스', '청결', '친절', '덕분', '와이프', '점수', '좀', '뭔가', '그냥', '때', '기분', '곳', '층', '배정', '좀', '실망호캉스', '폐렴', '때문', '가격', '엘베', '바로', '앞방', '달라', '방', '만큼', '침대', '하루', '피로', '싹', '침구', '야경', '청결', '조식', '굳이', '그', '돈', '그냥', '음식점', '사드', '세', '서비스', '전자레인지', '이용', '층', '직원', '부탁', '해', '다음', '가게', '조식', '주차', '등록', '점', '중국인', '거', '만족', '코로나', '대처', '해', '방역', '확실', '헬스장', '굿굿', '생필', '기념일', '서비스', '바', '처', '음료', '포함', '더', '코로나', '바이러스', '때문', '열도', '재고', '진표', '작성', '체크', '관리', '이태원', '종로', '등', '위치', '아주', '이용', '역시', '아주', '다만', '시설', '서비스', '위치', '모든', '게', '정말', '쉬', '역시', '데', '달라', '다음', '또', '쉬', '아침', '조금', '조식', '웨이', '팅', '현상', '항상', '거지', '화장실', '조금', '거', '룸서비스', '조금', '정말', '시설', '침대', '정말', '꿀잠', '최고', '환상', '용산역', '시설', '침구', '수영복', '못', '게', '용산역', '바로', '근처', '이용', '아이파크몰', '방', '머리카락', '몇', '개', '거', '방안', '환기', '화장실', '휀더', '안', '팬', '그', '부분', '빵점', '쉬', '갑', '다룸', '컨디션', '친절', '교통', '편', '요다음', '기회', '방문', '사', '대신', '나중', '부끄부끄', '매번', '곳', '데일', '리나', '인터파크', '예약', '시', '타입', '도', '층수', '등', '곳', '배정', '데', '놀', '자', '숙박', '예약', '층', '배정', '여하튼', '일단', '항의', '고층', '배정', '룸', '컨디션', '꽝', '대체', '티브이', '브라운관', '흠집', '비닐', '이번', '정말', '면도기', '칫솔', '치약', '조식', '요약', '담배', '냄새', '그', '외', '조식', '시설', '수압', '약간', '역시', '호텔', '클래스', '호텔', '중', '가장', '곧', '뷰', '매일', '이용', '곳', '화장실', '살짝', '전망', '서비스', '객실', '위치', '최고', '침대', '역', '노력', '포함', '패키지', '성비', '매우', '시설', '모든', '것', '칫솔', '꼭', '도록', '내', '집', '쉬', '수영장', '옷', '곳', '그거', '시설', '서울', '어디', '기', '서비스', '정도', '위치', '정말', '곳', '시간', '객실', '정말', '담', '이용', '거', '요', '맞은편', '객실', '애', '소리', '계속', '시간', '방음', '구조', '라면', '방', '배정', '시', '가족', '단위', '좀', '더', '신경', '호텔', '숙소', '남산', '뷰', '남산', '뷰', '나름', '숙소', '내', '물품', '유료', '게', '보고', '사용', '교통', '짱짱', '호텔', '습', '다룸', '컨디션', '교통', '흐', '잡', '모든', '게', '조식', '조금', '명불허전', '시설', '직원', '룸', '컨디션', '정말', '최고', '쉬', '서비스', '용산역', '뷰', '교통', '접근성', '최고', '편의점', '힐링', '주변', '영화관', '쇼핑몰', '여러', '가지', '곳', '것', '방이', '조금', '느낌', '곳', '항상', '룸', '컨디션', '다만', '토요일', '외국인', '사람', '좀', '쉬', '침대', '방도', '조식', '맛남', '접근성', '서비스', '호캉스', '완전', '푹', '쉬', '용산역', '주변', '먹거리', '피겨', '레고', '거리', '숙소', '구비', '커피', '다만', '화장실', '비데', '터치', '항상', '매우', '가습기', '시설', '교통', '쇼핑', '휴식', '수', '상품', '설명', '좀', '더', '생각', '예', '이용권', '구입', '것', '등', '서비스', '정말', '친절', '역시', '곳', '오늘', '쉬', '식이', '수영장', '아무', '룸', '컨디션', '디너', '뷔페', '헬스장', '전부', '맘', '숙소', '어메니티', '향', '편의점', '건물', '안', '전체', '방도', '예상', '워낙', '후기', '대감', '가지', '방문', '역시', '사람', '후기', '조식', '급', '호텔', '답', '청결', '서비스', '최상', '리버', '뷰', '생각', '별로', '시티', '뷰쪽', '변경', '요청', '직접', '변경', '조식', '대박', '추억', '크리스마스', '크리스마스', '좀', '대기', '키', '방', '야경', '완전', '전체', '역', '침대', '정말', '급', '호텔', '걸', '이해', '벌써', '투숙', '자주', '이용', '정말', '곳', '프러포즈', '연말', '쉬', '코인', '빨래', '방', '내부', '시설', '조금', '매우', '편의점', '층', '수도', '곳', '급', '생각', '뷰', '가격', '대비', '것', '접근성', '수영장', '이용', '만족도', '급', '호텔', '말', '게', '정말', '정말', '프런트', '직원', '진짜', '입실', '전', '진짜', '마음', '퇴실', '외국인', '진짜', '서로', '해피뉴이어', '인사', '정말', '시설', '호텔', '다운', '직원', '서비스', '청소', '제대로', '안', '누가', '옷', '그대로', '노보텔', '항상', '청결', '도', '조금', '면', '늘', '시간', '뭐', '말', '필요', '뷰', '자주', '애용', '직원', '역시', '드래건', '시티', '모든', '게', '만족', '또', '한강', '뷰', '쪽', '한강', '안', '보이', '운치', '어플', '사진', '뷰', '칫솔', '구매', '거', '최', '최고', '급', '호텔', '다른', '급', '객실', '좀', '보', '한강', '뷰', '선택', '정말', '빌딩', '보', '분위기', '직원', '룸서비스', '발레', '또', '자주', '것', '모든', '게', '정말', '서울', '호텔', '중', '가장', '어요', '스', '위트', '호텔', '해', '쉬', '크리스마스', '호', '캉스', '깨끗햇', '용산역', '연결', '밥', '크리스마스', '수영장', '사람', '조식', '기대', '점', '더', '보기', '용산', '역', '뷰', '하루', '수기', '사람', '것', '제외', '굿', '직원', '방음', '진짜', '거', '무난', '객실', '방음', '거', '룸서비스', '가격', '대비', '역시', '값', '편의', '시설', '다만', '편의점', '칫솔', '글', '양치', '여유', '정도', '더', '쟁', '방도', '분위기', '더', '보기', '룯', '비', '쉬', '숙소', '친구', '호캉스', '쿠폰', '예약', '수', '용산역', '접근성', '거', '사가', '가기', '엑스트라', '베드', '추가', '해주시', '직원', '기분', '다음', '또', '모로', '조어', '오오', '엘리베이터', '증설', '필요', '뷰', '한강', '쪽', '살짝', '객실', '조식', '역시', '성', '급', '요', '교통', '바로', '아이파크', '몰이', '연결', '쇼핑', '문화', '등', '활동', '접', '수', '호텔', '청결', '또한', '여태껏', '곳', '중', '제일', '으뜸', '다음', '방문', '계획', '난방', '조절', '좀', '숙박', '정말', '또한', '접근성', '이동', '수', '직원', '서도', '기분', '수', '호텔', '용산역', '침대', '완전', '꿀잠', '방', '전', '층', '킹스', '베케', '션', '강추', '전체', '힐링', '조식', '저녁', '진짜', '방음', '거', '나머지', '진짜', '최고', '밥', '침구', '진짜', '또', '욕실', '방도', '다만', '성금', '욕조', '직원', '룸서비스', '모든', '게', '전망', '최고', '다음', '또', '방문', '배우', '별개', '청결', '접근성', '모든', '게', '죽', '거', '습', '다룸', '컨디션', '직원', '기분', '프런트', '용산역', '도', '뷰', '로그', '보통', '용산역', '바로', '앞', '일단', '교통', '어디', '멀리', '안', '근처', '아이파크몰', '놀', '수', '로비', '때', '숙소', '역시', '값어치', '것', '차량', '방문', '찾기', '아무', '문제', '쉬', '고층', '한강', '뷰', '모녀', '호캉스', '하루', '날', '하필', '공기', '탁', '뷰', '못', '게', '조금', '요다음', '공기', '날', '노을', '뷰', '보고', '재', '예약', '의사', '더', '보기', '객실', '컨디션', '매우', '사진', '멀리', '남산타워', '보이', '단점', '라면', '화장실', '문', '위', '점', '사전', '요청', '씨티', '뷰', '고층', '요청', '반영', '야경', '침대', '용산역', '정말', '침대', '역시', '노보텔', '시설', '뷰', '호텔', '둘', '편의점', '주차', '호텔', '직원', '뷰', '침대', '욕실', '조금', '건', '아주', '부대', '시설', '계속', '정도', '외국인', '마', '엘베', '서비스', '별로', '임', '엘베', '전망', '아주', '꿀잠', '요전', '이번', '또', '급', '호텔', '답', '서비스', '조식', '뷰', '담', '또', '수', '돈', '추가', '요금', '업그레이드', '놀', '자', '큐티브', '룸', '침대', '아주', '개꿀', '재', '방문', '의사', '아주', '방도', '직원', '칠', '절하', '방문', '침구', '류', '쉬', '일요일', '숙박', '조금', '일찍', '도착', '기다림', '체크', '해주시', '방도', '업그레이드', '매우', '난방', '방이', '가습기', '요청', '바로', '저녁', '층', '푸드', '익스', '체인지', '완전', '취향', '저격', '용산역', '시설', '고급', '지고', '여러', '번', '곳', '위치', '주변', '음식점', '건', '배달', '아래', '해', '아주', '침대', '맛', '집', '위치', '친절', '서비스', '모두', '최상', '다만', '일회용', '칫솔', '구비', '칫솔', '사기', '미리', '공지', '더', '보기', '쉬', '역시', '호텔', '정말', '시설', '룸사', '리즈', '침대', '짱', '교통', '접근성', '호텔', '도', '만족', '강추', '강추', '또', '추천', '두', '달', '쯤', '한번', '이번', '또', '역시', '침구', '무엇', '전체', '정말', '밤', '뷰', '쉬', '호텔', '도', '불구', '택시', '서비스', '충전기', '서비스', '점', '좀', '습', '다룸', '업그레이드', '모든', '내용', '모든', '게', '위치', '안', '객실', '층', '편의점', '서비스', '모든', '게', '교통', '접근성', '수영장', '생각', '사람', '용산역', '도', '분', '편의점', '건물', '바로', '요', '뭐', '살', '거', '조금', '이마트', '사', '게', '사', '더', '보기', '서비스', '방', '정말', '오성', '호텔', '답', '아이파크몰', '호텔', '내', '편의점', '침대', '야경', '대신', '불꽃놀이', '노보텔', '스위트', '층', '시내', '불꽃놀이', '관람', '가능', '최고', '언제', '가도', '컨디션', '룸', '성비', '노보텔', '욕조', '건', '침대', '최고', '교통', '시설', '청결', '서비스', '만족', '다룸', '컨디션', '생각', '룸', '컨디션', '정말', '시설', '역시', '방이', '생각', '편의점', '건물', '요호', '캉스였슴', '역', '이동', '시설', '항상', '때', '매우', '야근', '때', '종종', '이용', '룸서비스', '갈비탕', '소고기', '버거', '핵존맛', '추천', '어메니티', '별로', '꼭', '본인', '것', '가세', '요', '체크', '때', '조금', '더', '블', '예약', '트윈룸', '다른', '방과', '문', '하나', '사이', '방', '선착순', '체크', '걸', '문', '하나', '사이', '방이', '수도', '고지', '표기', '해', '거', '조금', '말', '제', '원래', '일반', '더', '블룸', '체크', '처음', '방이', '계속', '체크', '기분', '별로', '가끔', '힐링', '종종', '노보텔', '이번', '실망', '방', '배치', '시스템', '처음', '고지', '시스템', '개선', '필요', '룸', '컨디션', '편의', '또', '생각', '더', '보기', '항상', '서울', '휴양지', '담', '스위트', '이용', '층', '메', '바인드', '거기', '직원', '호텔', '전체', '분위기', '확', '친절', '얼음', '달라', '앞', '훤히', '그릇', '싱크대', '속', '대충', '물', '헹구', '얼음', '것', '이해', '사실', '손님', '응대', '다른', '직원', '거', '야경', '진짜', '용산', '주변', '건', '숙소', '자체', '완벽', '특급', '호텔', '답', '모든', '것', '정리', '뭐', '말', '것', '역시', '역시', '귯', '우유', '모로', '짱짱', '뷰', '주', '연속', '직원', '진짜', '위치', '룸', '컨디션', '매우', '호텔', '푸드', '익스', '체인지', '가격', '보고', '퀄리티', '서울', '때', '항상', '한강', '뷰', '위치', '모든', '것', '마음', '만큼', '역시', '화장실', '분리', '더', '침대', '만', '어치', '다음', '주', '또', '오자', '직원', '정말', '룸', '컨디션', '앞', '서울', '호캉스', '요기', '항상', '무난', '곳임', '일단', '근처', '아이파크몰', '연결', '점', '실내', '서도', '라운지', '바', '및', '레스토랑', '등', '편의', '시설', '소도시', '매우', '굿', '점', '처', '레스토랑', '대한', '정보', '좀', '더', '또한', '치약', '칫솔', '별도', '원', '구매', '좀', '하하', '분위기', '시설', '모두', '마음', '듭니다또', '곳', '곳', '뭐', '말', '필요', '중국인', '호텔', '성비', '최고', '호텔', '아이', '번', '기', '아이파크몰', '연결', '것', '메리트', '것', '다음', '또', '방문', '시설', '침구', '친절', '최고', '생각', '한강', '뷰', '주변', '볼', '것', '호텔', '자체', '호캉스', '므너므조앗긔', '침대', '진짜', '역', '호', '캉스', '최고', '듯', '여기', '제일', '여기', '이벤트', '더', '보기', '생각', '쉬', '중국인', '것', '최고', '칫솔', '샤워', '스펀지', '게', '그', '점', '제외', '곤', '정말', '식도', '모든', '시설', '정돈', '피트니스', '센터', '수영장', '등', '부대', '시설', '쉬', '아이', '시설', '조식', '정말', '정말', '다음', '또', '직원', '호캉스', '가요', '진짜', '짱짱맨', '용산역', '자주', '이용', '함', '외국인', '환경보호', '위해', '칫솔', '치약', '핑계', '같음룸', '편이', '야경', '수영장', '쉬', '정말', '교통', '위치', '다시', '한번', '꼭', '조식', '아주', '경험', '그냥', '나위', '최고', '교통', '서비스', '숙소', '스카이', '풀', '거리', '전용', '엘리베이터', '나위', '체적', '신축', '호텔', '워낙', '서비스', '약간', '부분', '문제', '언급', '아이파크', '몰이', '후기', '중', '길', '찾기', '걱정', '찾기', '체크', '것', '층', '배치', '기분', '러브', '호', '캉스', '패키지', '씨지브이', '알라', '메종', '델리', '만', '권', '메가바이트', '팥빙수', '델리', '만원', '못', '곳', '알라', '메종', '델리', '와인', '앤', '다인', '달라', '칫솔', '꼭', '불', '건', '전화기', '냉장고', '안', '음료', '술', '미리', '사지', '바', '처', '카페', '사용', '생각', '사용', '심', '알라', '메종', '와인', '앤드', '다인', '네이버', '예약', '투숙', '객', '할인', '대요', '더', '보기', '모', '짱짱맨', '여기', '세상', '텐션', '침구', '아주', '스시', '익스', '프레', '스', '뷔페', '것', '곳', '고요', '대신', '창문', '바로', '외부', '직결', '테라스', '음', '비', '때', '빗', '소리', '전', '빗', '소리', '반대', '맘', '요호', '캉스', '숙소', '직원', '세면', '부분', '칫솔', '치약', '점', '체크', '조금', '점', '외', '모든', '면', '호', '캉스', '박', '용산역', '교통', '말', '것', '아이파크몰', '바로', '쇼핑', '시간', '자차', '이용', '주차장', '생각', '룸', '침구', '청소', '푹', '쉬', '단', '수영장', '그냥', '가족', '탕', '느낌', '레일', '규모', '실망', '조금', '아침', '저녁', '시간', '좀', '요', '드래건', '시티', '더', '보기', '방이', '항상', '쉬', '체크', '시간', '가면', '정말', '사람', '그냥', '객실', '임', '용산역', '시설', '이용', '시설', '만', '호캉스', '기운', '시설', '접근성', '시설', '접근성', '아이파크몰', '시간', '다만', '용산역', '앞', '사장', '터', '휑해', '야경', '별로', '한강', '뷰', '전체', '맘', '용산', '아이파크', '몰이', '도', '바로', '연결', '냉장고', '친환경', '일회용', '칫솔', '및', '보디', '타월', '등', '일회용품', '객실', '것', '가지', '것', '공지', '나머지', '정말', '굳굳프런트', '직원', '모두', '주변', '편의', '시설', '채널', '별로', '조금', '위치', '때', '꼬', '으리', '으리', '해', '수영장', '진짜', '박', '뷰', '건물', '룸', '컨디션', '직원', '매우', '친절', '수영장', '횟수', '제한', '호텔', '세', '개', '위치', '건', '숙소', '분위기', '시설', '친절', '안', '생각', '작', '숙박', '데', '전혀', '문제', '단점', '하나', '취향', '수', '창문', '게', '밖', '공기', '창문', '그게', '하나', '단점', '임', '창문', '하나', '통', '유리', '임', '더', '보기', '용산역', '가장', '아이파크몰', '연결', '저녁', '아주', '직원', '무엇', '수영장', '헬스장', '이용', '및', '샤워', '부대', '시설', '정말', '호', '캉스', '습', '다룸', '컨디션', '정말', '또', '정말', '재', '방문', '위치', '자주', '가게', '지하철역', '마트', '쇼핑', '곳도', '바로', '근처', '편의', '시설', '모두', '안', '벽지', '정말', '서비스', '만족', '만족', '짜증', '가격', '대비', '시설', '위치', '그냥', '정말', '교통', '근접', '성과', '조식', '전체', '처음', '체크', '직원', '방도', '업그레이드', '침대', '푹', '야경', '티브이', '커서', '정말', '다음', '이용', '재', '방문', '의사', '최고', '최고', '직원', '로봇', '침대', '객실', '편', '전체', '화이트', '톤', '분위기', '직원', '집', '앞', '기분', '낼', '겸', '그냥', '하루', '자고', '여기', '정말', '객실', '청소', '처음처럼', '정말', '해주시', '룸서비스', '음식', '입맛', '무엇', '호텔리어', '직원', '호텔', '노보텔', '앰', '배서', '더', '용산', '이용', '입구', '찾기', '좀', '제', '인', '것', '전반', '한강', '뷰', '객실', '객실', '청결', '상태', '서울', '시내', '호텔', '주차장', '이용', '조금', '편', '거', '아주', '차량', '주차장', '이용', '접근성', '방', '라운지', '전반', '뷰', '생각', '욯', '옹', '아주', '아주', '노보텔', '기억', '드래건', '시티', '프런트', '직원', '호텔', '내', '직원', '때', '모두', '시설', '접근성', '재', '방문', '의사', '친전', '방음', '매번', '조이', '욯호', '다시', '방문', '호캉스', '호텔', '수영장', '일단', '접근성', '급', '호텔', '걸', '서비스', '다만', '노보텔', '스위트', '야경', '것', '야경', '무조건', '스위트', '가야', '것', '다른', '거', '수영장', '관리인', '기분', '상', '추억', '수', '생각', '지도', '룸', '업그레이드', '정말', '푹', '쉬', '아이파크', '몰이', '수영장', '이용', '수', '점', '폰', '티브이', '넷플', '티브이', '삼성', '티브이', '방만', '방', '티브이', '랜덤', '듯', '쉬', '조금', '것', '나름', '서비스', '친절', '항상', '얼굴', '응대', '짐', '보관', '요청', '사항', '처리', '케이크', '냉장', '보관', '숙소', '객실', '청결', '데', '시설', '편의', '용산역', '실내', '통로', '이동', '비', '날씨', '우산', '이동', '체크', '후', '용산', '아이맥스', '관람', '비품', '용품', '만족도', '기본', '첫', '솔', '치약', '미리', '타월', '야경', '정말', '강', '더', '보기', '버드', '예약', '가격', '위치', '호캉스', '방', '주차', '공간', '만족', '조식', '성비', '호텔', '위치', '쉬', '접근성', '서비스', '식도', '호캉스', '최고', '객실', '향기', '조금', '체크아웃', '요청', '시간', '이후', '체크아웃', '수', '호텔', '직원', '아주', '선뜻', '기분', '호텔', '내부', '난방', '진짜', '창틀', '먼지', '보이지', '정도', '감동', '나중', '또', '호캉스', '식도', '침구', '상태', '놉', '주위', '부대', '시설', '이용', '위치', '시설', '모두', '직원', '요', '중국인', '나름', '이비', '스', '전망', '서울', '중간', '어디', '가도', '이불', '직원', '방음', '게', '흠', '요', '직원', '정말', '처음', '이용', '서비스', '정말', '방도', '친구', '추억', '시간', '체크', '체크', '접수', '직원', '차량', '객실', '칫솔', '프런트', '안내', '못', '개뿔', '프런트', '고객', '응대', '정말', '별로', '조식', '이비', '스', '보고', '이번', '노보텔', '이용', '위치', '직원', '쉬', '쉬', '뷰', '아이파크', '몰이', '매우', '수영', '작고', '아이', '것', '제외', '용산역', '연결', '이동', '노보텔', '일단', '용산역', '매우', '게다가', '실내', '통로', '반', '수', '더', '우산', '상태', '잠깐', '비', '전혀', '걱정', '호텔', '층', '편의점', '객실', '내부', '매우', '매우', '다만', '침대', '먼지', '좀', '게', '흠', '요', '다음', '자주', '방문', '예정', '역', '연결', '욕조', '쪼금', '또', '이용', '굿굿굿굿둣', '정말', '방도', '침대', '폭', '신하', '종이', '외', '직접', '가기', '전', '제', '부분', '정리', '드래건', '시티', '호텔', '개', '순서', '이비', '스', '노보텔', '스위트', '순', '뒤', '갈수록', '호텔', '노보텔', '급', '용', '진짜', '완전', '진심', '개', '최대', '층', '노보텔', '그', '위', '스위트', '알', '층', '저리', '뷰', '다만', '리버', '뷰', '사장', '공터', '저', '너머', '강', '시티', '호캉스', '여기', '강', '더', '보기', '객실', '침대', '야경', '역시', '뷔페', '별도', '결제', '사용', '금액', '만족', '그', '이상', '정말', '어요', '뷰', '우리', '객실', '난방', '앤', '시설', '팀', '온도', '안', '방', '그냥', '나머진', '객실', '호텔', '근처', '아이파크', '몰이', '구경', '시간', '쉬', '최고', '아주', '인기', '사람', '나무', '체크', '성비', '위치', '정말', '정말', '결혼식', '근처', '이용', '시설', '용산', '아이파크', '연결', '직원', '정말', '남산', '뷰러', '조금', '엘리베이터', '객실', '남자친구', '호캉스', '사람', '칫솔', '꼭', '칫솔', '그냥', '토요일', '체크', '시간', '항상', '이용', '때', '시설', '이용', '신규', '호텔', '조기', '이상', '직원', '점검', '원래', '호텔', '요', '짜증', '거', '보고', '좀', '기분', '나', '호텔', '처음', '메이드', '직원', '조기', '프런트', '연락', '원래', '호텔', '직원', '마인드', '개판', '여하튼', '박', '시설', '쉬기', '위치', '하나', '식사', '볼거리', '아이파크몰', '가야', '좀', '더', '보기', '침대', '최고', '가격', '추억', '응대', '또', '방문', '체크', '도움', '주시', '분', '친절', '객실', '꽤', '샤워', '공간', '변기', '세면대', '전부', '수건', '어메니티', '품질', '이', '정도', '층', '배정', '뷰', '닌텐도', '스위치', '티브이', '침대', '이불', '최고', '비염', '히터', '걸', '이불', '따숩어', '푸드', '익스', '체인지', '음식', '시간', '제공', '샴페인', '미지', '돈', '조금', '더', '보태', '신라', '롯데', '워프', '편이', '그냥', '호텔', '모든', '걸', '해결', '정도', '편의점', '층', '위치', '사람', '편의점', '개', '더', '더', '보기', '직원', '뷔페', '객실', '다음', '스위트', '이용', '한강', '뷰', '또르르', '시설', '조식', '맛', '최근', '건물', '모든', '게', '정말', '최고', '또', '오용', '뷰', '새벽', '체크', '진행', '상태', '분', '정도', '이', '외', '모든', '게', '만족', '또', '또', '시설', '직원', '칫솔', '별도', '구매', '일회용품', '스킨로션', '등', '때문', '해', '아주', '아주', '곳', '오', '야경', '발레', '서비스', '최악', '다른', '부분', '진짜', '데스크', '심', '위치', '마지막', '발레', '사람', '퇴', '거', '만족', '추억', '곳', '하루', '불편', '맞이', '호캉스', '야경', '오로라', '인', '더시티', '전체', '인천공항', '전철', '탈', '수', '직원', '객실', '상태', '잠도', '푹', '수', '거', '침대', '옆', '태블릿', '걸', '조명', '객실', '온도', '설정', '가능', '다음', '번', '더', '가격', '대가', '좀', '더', '보기', '시설', '직원', '친절', '도', '별로', '호텔', '이면', '정도', '서비스', '것', '표정', '별로', '패키지', '생각', '별로', '인테리어', '역', '연결', '최근', '건물', '호텔', '안', '부대', '시설', '호캉스', '안성', '재', '방문', '의사', '다음', '또', '이용', '굿굿굿굿굿', '호텔', '접근성', '좀', '주변', '편의', '시설', '침대', '거', '체크', '좀', '시기', '상', '수', '생각', '뷰', '한강', '뷰', '남산', '뷰', '둘', '한강', '남산', '건', '위치', '아이파크', '용산역', '통해', '수', '도보', '도착', '아이파크', '이마트', '음식', '수', '것', '것', '층', '편의점', '하나', '하나', '사람', '아주', '그', '점', '청결', '방', '개', '정말', '최고', '역시', '특급', '호텔', '답', '인테리어', '객실', '뷰', '환상', '객실', '추억', '침대', '마음', '푹', '객실', '안도', '히터', '불구', '공기', '단지', '체크아웃', '때', '엘리베이터', '탑승', '서울', '여행', '위해', '체크', '기네', '전체', '방도', '가격', '대비', '다른', '호텔', '체크아웃', '해주시', '분', '조금', '거', '소파', '뒤', '먼지', '덩어리', '몇', '개', '것', '때문', '별', '하나', '위치', '용산역', '이용', '교통', '얼마', '안', '시설', '위치', '아주', '운', '자리', '남아', '이용', '커서', '층', '편의점', '게', '진짜', '것', '풀', '부킹', '체크', '시간', '엘베', '스', '사람', '편의점', '하나라', '경쟁', '방도', '듯', '디너', '음식', '수영장', '온수', '기분', '수영', '다른', '사람', '사용', '어메니티', '비치', '객실', '냄새', '룸', '교체', '교체', '곳', '침대', '밑', '전', '사람', '슬리퍼', '짝', '욕실', '벽', '타일', '어메니티', '스티커', '덕지덕지', '차라리', '며칠', '전', '이용', '이비스', '더', '시설', '야경', '굿', '조명', '스위치', '전화기', '용산역', '접근성', '방도', '덕분', '고급', '곳', '정말', '사람과', '평생', '추억', '시티', '뷰러', '귯굿귯', '굿', '서비스', '또', '정말', '조식', '정말', '새', '호텔', '주변', '아모레퍼시픽', '빌딩', '더', '어메니티', '중', '칫솔', '치약', '구입', '해', '쉬', '전경', '안', '곳', '배정', '좀', '짜증', '야경', '생각', '별로', '쉬', '나름', '위치', '객실', '신축', '여타', '전반', '환경', '하나', '칫솔', '사용', '후', '금액', '지불', '사전', '얘기', '용산역', '데', '다가', '드래건', '시티', '내', '위치', '접근성', '완전', '편리', '호텔', '내', '편의점', '수영', '사람', '수기', '가격', '청결', '친절', '식사', '굿', '성비', '정말', '수영장', '난리', '역시', '수기', '체크', '좀', '휴가', '철', '체크', '시', '도착', '시', '방', '키', '곳도', '접근성', '다시', '가게', '것', '수영장', '사람', '게', '좀', '시설', '무엇', '정말', '내내', '기분', '체크', '바로', '해주시', '수영장', '사람', '기대', '이상', '먼저', '용산역', '바로', '연결', '드래건', '시티', '위치', '룸', '컨디션', '바로', '옆', '이비스', '저', '오후', '시', '분', '도착', '체크', '주변', '추천', '만', '호텔', '평일', '북적', '거리', '호캉스', '스카이', '주말', '다시', '걸', '신축', '편의점', '위치', '주위', '식당', '건', '술집', '좀', '수영', '번잡', '직원', '객실', '다만', '수영장', '기', '수', '수영장', '패키지', '수영장', '작고', '사람', '이용', '모자', '대여', '수량', '별로', '대여', '못', '한강', '뷰', '층', '배정', '한강', '쪼금', '거', '위치', '친절', '청결', '모두', '수영', '혼자', '시간', '특급', '호텔', '중', '성비', '호텔', '패키지', '더', '시설', '서비스', '매우', '요즘', '호캉스', '시즌', '사람', '수영장', '시설', '이용', '좀', '수', '그', '점', '고려', '예약', '것', '것', '패키지', '서비스', '룸', '컨디션', '묵고', '날', '호텔', '제대로', '쉬', '여러', '후기', '것', '체크', '좀', '시설', '마련', '방', '개', '예약', '직원', '센스', '방', '끼리', '연결', '커넥팅', '룸', '가족', '평일', '체크', '데', '시간', '이상', '곳', '처음', '기표', '장소', '간', '더', '기억', '키', '겨우', '방', '티브이', '중국', '말로', '설정', '우리나라', '호텔', '방음', '복도', '사람', '소리', '위치', '거', '시설', '다만', '주말', '사람', '체크', '시간', '수기', '체크', '대기', '시간', '실화', '위치', '시설', '청결', '시반', '체크', '때', '체크', '바로', '못', '시', '때', '더', '직원', '배치', '거', '바로', '입실', '더', '보기', '정말', '또', '거임', '체크', '위치', '방도', '침대', '다음', '또', '이용', '거', '위치', '서비스', '룸', '컨디션', '테리어', '방음', '취약', '주말', '가족', '단위', '수영장', '가득', '막', '타임', '락스', '냄새']\n"
          ]
        }
      ]
    },
    {
      "cell_type": "code",
      "source": [
        "# print(df.isna().sum())"
      ],
      "metadata": {
        "id": "9cbxBBfnZM-e"
      },
      "execution_count": 40,
      "outputs": []
    },
    {
      "cell_type": "code",
      "source": [
        "counter = Counter(nouns)"
      ],
      "metadata": {
        "id": "2HtGB5LTYZt7"
      },
      "execution_count": 114,
      "outputs": []
    },
    {
      "cell_type": "code",
      "source": [
        "counter.most_common(10)"
      ],
      "metadata": {
        "colab": {
          "base_uri": "https://localhost:8080/"
        },
        "id": "DEoCdsRlYb3b",
        "outputId": "3f3641a5-1e1e-4e85-aab1-eb1b613795ea"
      },
      "execution_count": 115,
      "outputs": [
        {
          "output_type": "execute_result",
          "data": {
            "text/plain": [
              "[('호텔', 171),\n",
              " ('시설', 162),\n",
              " ('이용', 159),\n",
              " ('뷰', 153),\n",
              " ('쉬', 149),\n",
              " ('정말', 134),\n",
              " ('직원', 133),\n",
              " ('것', 133),\n",
              " ('객실', 122),\n",
              " ('침대', 118)]"
            ]
          },
          "metadata": {},
          "execution_count": 115
        }
      ]
    },
    {
      "cell_type": "code",
      "source": [],
      "metadata": {
        "id": "8h3LqMca4DZe"
      },
      "execution_count": null,
      "outputs": []
    },
    {
      "cell_type": "code",
      "source": [
        "# df['tokens'] = X_train"
      ],
      "metadata": {
        "id": "m_2D08IWaTKI"
      },
      "execution_count": 43,
      "outputs": []
    },
    {
      "cell_type": "code",
      "source": [
        "# df.head()"
      ],
      "metadata": {
        "id": "X7NqNP16aWyX"
      },
      "execution_count": 44,
      "outputs": []
    },
    {
      "cell_type": "code",
      "source": [
        "# stop_words = ['나','여기','무엇','그것','가','긋','가본','제','저','저희','그거','브','우리','그','큐티','쏘','슈','어디','뭐','자기','놀자','이곳','임','요방','너','그곳','거기','니티','노','이쪽','저기','호텔','곳','점','앞','시','원분','스로','도','대','플','기','그제','넥','딩','놀']\n",
        "# def getNVM_lemma(text):\n",
        "#     tokenizer = MeCab.Tagger()\n",
        "#     parsed = tokenizer.parse(text)\n",
        "#     #print(parsed)\n",
        "#     word_tag = [w for w in parsed.split(\"\\n\")] \n",
        "#     pos = []\n",
        "#     tags = [\"NNG\", \"NNP\",\"VV\",\"VA\",\"VCP\",'VCN','XR']\n",
        "   \n",
        "#     for word_ in word_tag[:-2]:\n",
        "#         word = word_.split('\\t') #['아버지', 'NNG,*,F,아버지,*,*,*,*']\n",
        "#         tag = word[1].split(\",\")  #['EC', '*', 'F', '는다', '*', '*', '*', '*']\n",
        "#         if('+' in tag[0]): #단어가 여러 형태소로 구성된 경우\n",
        "#             if ('VV' in tag[0] or 'VA' in tag[0] or 'VX' in tag[0]):\n",
        "#                 t = tag[-1].split('/')[0]\n",
        "#                 if t not in stop_words:\n",
        "#                     pos.append(t)\n",
        "#         elif ((tag[0] in tags) and (word[0] not in stop_words)):\n",
        "#             pos.append(word[0])\n",
        "#     return pos"
      ],
      "metadata": {
        "id": "2srP1n6BbP60"
      },
      "execution_count": 45,
      "outputs": []
    },
    {
      "cell_type": "code",
      "source": [
        "import konlpy\n",
        "from konlpy.tag import Komoran"
      ],
      "metadata": {
        "id": "8W3R0GpzbeWp"
      },
      "execution_count": 46,
      "outputs": []
    },
    {
      "cell_type": "code",
      "source": [
        "import MeCab"
      ],
      "metadata": {
        "id": "AYosQTcNbqXu"
      },
      "execution_count": 47,
      "outputs": []
    },
    {
      "cell_type": "code",
      "source": [
        "from sklearn.feature_extraction.text import CountVectorizer, TfidfVectorizer\n",
        "from keras.layers import Dense, Activation"
      ],
      "metadata": {
        "id": "XFJMN6CIbzrn"
      },
      "execution_count": 48,
      "outputs": []
    },
    {
      "cell_type": "code",
      "source": [
        "# cv = CountVectorizer(min_df = 0, tokenizer = getNVM_lemma , stop_words = stop_words, preprocessor = None, lowercase = False,ngram_range = (1,2))\n",
        "# dtm = cv.fit_transform(df['review'])"
      ],
      "metadata": {
        "id": "sHR3psinb1Eg"
      },
      "execution_count": 49,
      "outputs": []
    },
    {
      "cell_type": "code",
      "source": [
        "# x = dtm.toarray()\n",
        "# y = df['label']"
      ],
      "metadata": {
        "id": "od9Q_81zcBWI"
      },
      "execution_count": 50,
      "outputs": []
    },
    {
      "cell_type": "code",
      "source": [
        "# review_len = np.array(df.length).reshape(-1,1)\n",
        "# x = np.hstack((x, review_len))"
      ],
      "metadata": {
        "id": "67Fnop86cLN4"
      },
      "execution_count": 51,
      "outputs": []
    },
    {
      "cell_type": "code",
      "source": [
        "# x_train, x_test, y_train, y_test = train_test_split(x, y, test_size=0.2, random_state=42)"
      ],
      "metadata": {
        "id": "Kpl7LyKScWkY"
      },
      "execution_count": 52,
      "outputs": []
    },
    {
      "cell_type": "code",
      "source": [
        "# cv.tokenizer = None\n"
      ],
      "metadata": {
        "id": "ownEuHXLcZJE"
      },
      "execution_count": 53,
      "outputs": []
    },
    {
      "cell_type": "code",
      "source": [
        "# x_train.shape,y_train.shape, x_test.shape, y_test.shape"
      ],
      "metadata": {
        "id": "cw2Co2W3ceWG"
      },
      "execution_count": 54,
      "outputs": []
    },
    {
      "cell_type": "code",
      "source": [
        "import tensorflow as tf"
      ],
      "metadata": {
        "id": "4HtoIGNQcrEt"
      },
      "execution_count": 55,
      "outputs": []
    },
    {
      "cell_type": "code",
      "source": [
        "# model = tf.keras.models.Sequential()\n",
        "# model.add(tf.keras.layers.Dense(1,  #y자체는 열이 하나\n",
        "#           input_shape = (9999, ), #input data는 shape 크기에 맞추기\n",
        "#           activation = 'sigmoid',\n",
        "#           kernel_regularizer = tf.keras.regularizers.l1_l2(0, 0.001) #ㅣ1은 0만, l2는 0.001만 : 이때가 제일 정확도 높음\n",
        "#          ))\n",
        "# model.summary()"
      ],
      "metadata": {
        "id": "L0SFS932csBd"
      },
      "execution_count": 56,
      "outputs": []
    },
    {
      "cell_type": "code",
      "source": [
        "# model.compile(optimizer = 'adam', loss='binary_crossentropy', metrics = ['accuracy'])"
      ],
      "metadata": {
        "id": "CB8d9SIEcx9w"
      },
      "execution_count": 57,
      "outputs": []
    },
    {
      "cell_type": "code",
      "source": [
        "# model.fit(x_train, y_train.values, epochs=100, validation_split=0.1,\n",
        "#          callbacks=[tf.keras.callbacks.EarlyStopping()])"
      ],
      "metadata": {
        "id": "X7ZezLFvcysk"
      },
      "execution_count": 58,
      "outputs": []
    },
    {
      "cell_type": "code",
      "source": [
        "# model.evaluate(x_test, y_test.values, verbose=0) #손실, accuracy"
      ],
      "metadata": {
        "id": "cgqz7Gg2c5ua"
      },
      "execution_count": 59,
      "outputs": []
    },
    {
      "cell_type": "code",
      "source": [
        "# prob=model.predict(\n",
        "#     x_test,\n",
        "#     batch_size=None,\n",
        "#     verbose=0,\n",
        "#     steps=None,\n",
        "#     callbacks=None,\n",
        "#     max_queue_size=10,\n",
        "#     workers=1,\n",
        "#     use_multiprocessing=False,\n",
        "# )"
      ],
      "metadata": {
        "id": "UK3YLUt-c-FF"
      },
      "execution_count": 60,
      "outputs": []
    },
    {
      "cell_type": "code",
      "source": [
        "from sklearn.metrics import accuracy_score, confusion_matrix\n",
        "from sklearn.metrics import precision_score"
      ],
      "metadata": {
        "id": "yRJOlL5Ac-wL"
      },
      "execution_count": 61,
      "outputs": []
    },
    {
      "cell_type": "code",
      "source": [
        "# predictional = np.where(prob >= 0.5, 1, 0)\n",
        "# confusion_matrix(y_test,predictional)"
      ],
      "metadata": {
        "id": "ijLeZ14ydACT"
      },
      "execution_count": 62,
      "outputs": []
    },
    {
      "cell_type": "code",
      "source": [
        "# TN,FP,FN,TP=confusion_matrix(y_test,predictional).ravel()\n",
        "# print(TN,FP,FN,TP)"
      ],
      "metadata": {
        "id": "bv7nlqRWdE30"
      },
      "execution_count": 63,
      "outputs": []
    },
    {
      "cell_type": "code",
      "source": [
        "# print('정확도: ',accuracy_score(y_test,predictional))\n",
        "# print('정밀도: ',precision_score(y_test,predictional))"
      ],
      "metadata": {
        "id": "cgM5YnlodHhK"
      },
      "execution_count": 64,
      "outputs": []
    },
    {
      "cell_type": "code",
      "source": [
        "# prediction1 = np.where(prob >= 0.53,1,0)\n",
        "# confusion_matrix(y_test,prediction1)\n",
        "# TN,FP,FN,TP=confusion_matrix(y_test,prediction1).ravel()\n",
        "# print(TN,FP,FN,TP)"
      ],
      "metadata": {
        "id": "xzZVQJXodPyn"
      },
      "execution_count": 65,
      "outputs": []
    },
    {
      "cell_type": "code",
      "source": [
        "# print('정확도: ',accuracy_score(y_test,prediction1))\n",
        "# print('정밀도: ',precision_score(y_test,prediction1))"
      ],
      "metadata": {
        "id": "kBCdvm1QdTUB"
      },
      "execution_count": 66,
      "outputs": []
    },
    {
      "cell_type": "code",
      "source": [
        "tokenizer = Tokenizer()\n",
        "tokenizer.fit_on_texts(X_train)"
      ],
      "metadata": {
        "id": "pFJLjEsXd695"
      },
      "execution_count": 122,
      "outputs": []
    },
    {
      "cell_type": "code",
      "source": [
        "threshold = 3\n",
        "total_cnt = len(tokenizer.word_index) # 단어의 수\n",
        "rare_cnt = 0 # 등장 빈도수가 threshold보다 작은 단어의 개수를 카운트\n",
        "total_freq = 0 # 훈련 데이터의 전체 단어 빈도수 총 합\n",
        "rare_freq = 0 # 등장 빈도수가 threshold보다 작은 단어의 등장 빈도수의 총 합\n",
        "\n",
        "# 단어와 빈도수의 쌍(pair)을 key와 value로 받는다.\n",
        "for key, value in tokenizer.word_counts.items():\n",
        "    total_freq = total_freq + value\n",
        "\n",
        "    # 단어의 등장 빈도수가 threshold보다 작으면\n",
        "    if(value < threshold):\n",
        "        rare_cnt = rare_cnt + 1\n",
        "        rare_freq = rare_freq + value"
      ],
      "metadata": {
        "id": "4CyPzH3bd3zK"
      },
      "execution_count": 82,
      "outputs": []
    },
    {
      "cell_type": "code",
      "source": [
        "# print(tokenizer.word_index)"
      ],
      "metadata": {
        "id": "46qexGvDd88t"
      },
      "execution_count": 69,
      "outputs": []
    },
    {
      "cell_type": "code",
      "source": [
        "# print('단어 집합(vocabulary)의 크기 :',total_cnt)\n",
        "# print('등장 빈도가 %s번 이하인 희귀 단어의 수: %s'%(threshold - 1, rare_cnt))\n",
        "# print(\"단어 집합에서 희귀 단어의 비율:\", (rare_cnt / total_cnt)*100)\n",
        "# print(\"전체 등장 빈도에서 희귀 단어 등장 빈도 비율:\", (rare_freq / total_freq)*100)"
      ],
      "metadata": {
        "id": "S2MrdKUgeQou"
      },
      "execution_count": 70,
      "outputs": []
    },
    {
      "cell_type": "code",
      "source": [
        "# vocab_size = total_cnt - rare_cnt + 1"
      ],
      "metadata": {
        "id": "ZfI6V67Pec50"
      },
      "execution_count": 71,
      "outputs": []
    },
    {
      "cell_type": "code",
      "source": [
        "# tokenizer = Tokenizer(vocab_size) \n",
        "# tokenizer.fit_on_texts(X_train)\n",
        "# X_train = tokenizer.texts_to_sequences(X_train)\n",
        "# X_test = tokenizer.texts_to_sequences(X_test)"
      ],
      "metadata": {
        "id": "0JX7BUV1eaDZ"
      },
      "execution_count": 72,
      "outputs": []
    },
    {
      "cell_type": "code",
      "source": [
        "# print(X_train[:3])"
      ],
      "metadata": {
        "id": "zNKNPtoFefAH"
      },
      "execution_count": 73,
      "outputs": []
    },
    {
      "cell_type": "code",
      "source": [
        "# x_train, x_test = train_test_split(X_train, test_size=0.2, random_state=42)"
      ],
      "metadata": {
        "id": "_oa_N0jLelyW"
      },
      "execution_count": 74,
      "outputs": []
    },
    {
      "cell_type": "code",
      "source": [
        "drop_train = [index for index, sentence in enumerate(X_train) if len(sentence) < 1]"
      ],
      "metadata": {
        "id": "rvvbETBPe4uX"
      },
      "execution_count": 75,
      "outputs": []
    },
    {
      "cell_type": "code",
      "source": [
        "y_train = np.array(train['label'])\n",
        "y_test = np.array(test['label'])"
      ],
      "metadata": {
        "id": "ZzOxfMWqe9dZ"
      },
      "execution_count": 76,
      "outputs": []
    },
    {
      "cell_type": "code",
      "source": [
        "X_train = np.delete(X_train, drop_train, axis=0)\n",
        "y_train = np.delete(y_train, drop_train, axis=0)\n",
        "print(len(X_train))\n",
        "print(len(y_train))"
      ],
      "metadata": {
        "colab": {
          "base_uri": "https://localhost:8080/"
        },
        "id": "_1I6QvTXfiUt",
        "outputId": "816f513d-d2bd-41c7-8243-dda99aff8f5e"
      },
      "execution_count": 77,
      "outputs": [
        {
          "output_type": "stream",
          "name": "stdout",
          "text": [
            "1764\n",
            "1764\n"
          ]
        }
      ]
    },
    {
      "cell_type": "code",
      "source": [
        "print('리뷰의 최대 길이 :',max(len(review) for review in X_train))\n",
        "print('리뷰의 평균 길이 :',sum(map(len, X_train))/len(X_train))\n",
        "plt.hist([len(review) for review in X_train], bins=50)\n",
        "plt.xlabel('length of samples')\n",
        "plt.ylabel('number of samples')\n",
        "plt.show()"
      ],
      "metadata": {
        "colab": {
          "base_uri": "https://localhost:8080/",
          "height": 316
        },
        "id": "fhlTGPtafl18",
        "outputId": "4ffcad1f-76c3-46cd-e364-715435960a5b"
      },
      "execution_count": 141,
      "outputs": [
        {
          "output_type": "stream",
          "name": "stdout",
          "text": [
            "리뷰의 최대 길이 : 60\n",
            "리뷰의 평균 길이 : 60.0\n"
          ]
        },
        {
          "output_type": "display_data",
          "data": {
            "text/plain": [
              "<Figure size 432x288 with 1 Axes>"
            ],
            "image/png": "[encoded data removed]"
          },
          "metadata": {
            "needs_background": "light"
          }
        }
      ]
    },
    {
      "cell_type": "code",
      "source": [
        "def below_threshold_len(max_len, nested_list):\n",
        "  count = 0\n",
        "  for sentence in nested_list:\n",
        "    if(len(sentence) <= max_len):\n",
        "        count = count + 1\n",
        "  print('전체 샘플 중 길이가 %s 이하인 샘플의 비율: %s'%(max_len, (count / len(nested_list))*100))"
      ],
      "metadata": {
        "id": "QPI1wfh2f3jG"
      },
      "execution_count": 79,
      "outputs": []
    },
    {
      "cell_type": "code",
      "source": [
        "max_len = 60\n",
        "below_threshold_len(max_len, X_train)"
      ],
      "metadata": {
        "colab": {
          "base_uri": "https://localhost:8080/"
        },
        "id": "wQqK4FxZf4yA",
        "outputId": "07a8a248-9d32-4a7e-daf3-e8722e32803c"
      },
      "execution_count": 80,
      "outputs": [
        {
          "output_type": "stream",
          "name": "stdout",
          "text": [
            "전체 샘플 중 길이가 60 이하인 샘플의 비율: 98.07256235827666\n"
          ]
        }
      ]
    },
    {
      "cell_type": "code",
      "source": [
        "# 전체 단어 개수 중 빈도수 2이하인 단어는 제거.\n",
        "# 0번 패딩 토큰을 고려하여 + 1\n",
        "vocab_size = total_cnt - rare_cnt + 1\n",
        "print('단어 집합의 크기 :',vocab_size)"
      ],
      "metadata": {
        "colab": {
          "base_uri": "https://localhost:8080/"
        },
        "id": "DAnQ6Fa-gsSM",
        "outputId": "b7839336-3203-4d51-a925-4c63000d08dd"
      },
      "execution_count": 142,
      "outputs": [
        {
          "output_type": "stream",
          "name": "stdout",
          "text": [
            "단어 집합의 크기 : 862\n"
          ]
        }
      ]
    },
    {
      "cell_type": "code",
      "source": [
        "tokenizer = Tokenizer(vocab_size) \n",
        "tokenizer.fit_on_texts(X_train)\n",
        "X_train = tokenizer.texts_to_sequences(X_train)\n",
        "X_test = tokenizer.texts_to_sequences(X_test)"
      ],
      "metadata": {
        "id": "ktp4mYvcgwic"
      },
      "execution_count": 123,
      "outputs": []
    },
    {
      "cell_type": "code",
      "source": [
        "X_train = pad_sequences(X_train, maxlen=max_len)\n",
        "X_test = pad_sequences(X_test, maxlen=max_len)"
      ],
      "metadata": {
        "id": "wjLe7D51f7lU"
      },
      "execution_count": 124,
      "outputs": []
    },
    {
      "cell_type": "code",
      "source": [
        "X_train"
      ],
      "metadata": {
        "colab": {
          "base_uri": "https://localhost:8080/"
        },
        "id": "2BeuNcWn5vPl",
        "outputId": "d9020145-2192-4022-d806-0ee3847bb332"
      },
      "execution_count": 143,
      "outputs": [
        {
          "output_type": "execute_result",
          "data": {
            "text/plain": [
              "array([[  0,   0,   0, ...,   0,   0,   1],\n",
              "       [  0,   0,   0, ...,  87,  46, 198],\n",
              "       [  0,   0,   0, ...,   0,   0,   1],\n",
              "       ...,\n",
              "       [  0,   0,   0, ..., 247,  18,   1],\n",
              "       [  0,   0,   0, ...,  68, 142, 173],\n",
              "       [  0,   0,   0, ...,   1,  28,  36]], dtype=int32)"
            ]
          },
          "metadata": {},
          "execution_count": 143
        }
      ]
    },
    {
      "cell_type": "code",
      "source": [
        "from tensorflow.keras.layers import Embedding, Dense, LSTM\n",
        "from tensorflow.keras.models import Sequential\n",
        "from tensorflow.keras.models import load_model\n",
        "from tensorflow.keras.callbacks import EarlyStopping, ModelCheckpoint\n",
        "\n",
        "embedding_dim = 100\n",
        "hidden_units = 128\n",
        "\n",
        "model = Sequential()\n",
        "model.add(Embedding(vocab_size, embedding_dim))\n",
        "model.add(LSTM(hidden_units))\n",
        "model.add(Dense(1, activation='sigmoid'))\n",
        "\n",
        "es = EarlyStopping(monitor='val_loss', mode='min', verbose=1, patience=4)\n",
        "mc = ModelCheckpoint('best_model.h5', monitor='val_acc', mode='max', verbose=1, save_best_only=True)\n",
        "\n",
        "model.compile(optimizer='rmsprop', loss='binary_crossentropy', metrics=['acc'])\n",
        "history = model.fit(X_train, y_train, epochs=15, callbacks=[es, mc], batch_size=64, validation_split=0.2)"
      ],
      "metadata": {
        "colab": {
          "base_uri": "https://localhost:8080/"
        },
        "id": "B2dH-XMNg3ks",
        "outputId": "62681af9-4180-4668-d31e-253ec6ee0604"
      },
      "execution_count": 126,
      "outputs": [
        {
          "output_type": "stream",
          "name": "stdout",
          "text": [
            "Epoch 1/15\n",
            "22/23 [===========================>..] - ETA: 0s - loss: 0.5070 - acc: 0.8047\n",
            "Epoch 1: val_acc improved from -inf to 0.84136, saving model to best_model.h5\n",
            "23/23 [==============================] - 11s 200ms/step - loss: 0.5083 - acc: 0.8037 - val_loss: 0.5814 - val_acc: 0.8414\n",
            "Epoch 2/15\n",
            "23/23 [==============================] - ETA: 0s - loss: 0.4848 - acc: 0.8079\n",
            "Epoch 2: val_acc improved from 0.84136 to 0.84419, saving model to best_model.h5\n",
            "23/23 [==============================] - 3s 150ms/step - loss: 0.4848 - acc: 0.8079 - val_loss: 0.4481 - val_acc: 0.8442\n",
            "Epoch 3/15\n",
            "23/23 [==============================] - ETA: 0s - loss: 0.4614 - acc: 0.8122\n",
            "Epoch 3: val_acc did not improve from 0.84419\n",
            "23/23 [==============================] - 4s 182ms/step - loss: 0.4614 - acc: 0.8122 - val_loss: 0.4222 - val_acc: 0.8442\n",
            "Epoch 4/15\n",
            "23/23 [==============================] - ETA: 0s - loss: 0.4477 - acc: 0.8228\n",
            "Epoch 4: val_acc did not improve from 0.84419\n",
            "23/23 [==============================] - 5s 203ms/step - loss: 0.4477 - acc: 0.8228 - val_loss: 0.4527 - val_acc: 0.8414\n",
            "Epoch 5/15\n",
            "22/23 [===========================>..] - ETA: 0s - loss: 0.4356 - acc: 0.8253\n",
            "Epoch 5: val_acc did not improve from 0.84419\n",
            "23/23 [==============================] - 3s 144ms/step - loss: 0.4357 - acc: 0.8249 - val_loss: 0.4368 - val_acc: 0.8442\n",
            "Epoch 6/15\n",
            "22/23 [===========================>..] - ETA: 0s - loss: 0.4118 - acc: 0.8374\n",
            "Epoch 6: val_acc did not improve from 0.84419\n",
            "23/23 [==============================] - 3s 146ms/step - loss: 0.4112 - acc: 0.8377 - val_loss: 0.4731 - val_acc: 0.8442\n",
            "Epoch 7/15\n",
            "23/23 [==============================] - ETA: 0s - loss: 0.3862 - acc: 0.8441\n",
            "Epoch 7: val_acc did not improve from 0.84419\n",
            "23/23 [==============================] - 5s 203ms/step - loss: 0.3862 - acc: 0.8441 - val_loss: 0.4196 - val_acc: 0.8442\n",
            "Epoch 8/15\n",
            "23/23 [==============================] - ETA: 0s - loss: 0.3608 - acc: 0.8604\n",
            "Epoch 8: val_acc did not improve from 0.84419\n",
            "23/23 [==============================] - 6s 274ms/step - loss: 0.3608 - acc: 0.8604 - val_loss: 0.5097 - val_acc: 0.7705\n",
            "Epoch 9/15\n",
            "23/23 [==============================] - ETA: 0s - loss: 0.3464 - acc: 0.8753\n",
            "Epoch 9: val_acc did not improve from 0.84419\n",
            "23/23 [==============================] - 3s 145ms/step - loss: 0.3464 - acc: 0.8753 - val_loss: 0.6205 - val_acc: 0.6516\n",
            "Epoch 10/15\n",
            "22/23 [===========================>..] - ETA: 0s - loss: 0.3353 - acc: 0.8714\n",
            "Epoch 10: val_acc improved from 0.84419 to 0.84703, saving model to best_model.h5\n",
            "23/23 [==============================] - 4s 178ms/step - loss: 0.3347 - acc: 0.8717 - val_loss: 0.4706 - val_acc: 0.8470\n",
            "Epoch 11/15\n",
            "23/23 [==============================] - ETA: 0s - loss: 0.3069 - acc: 0.8859\n",
            "Epoch 11: val_acc did not improve from 0.84703\n",
            "23/23 [==============================] - 5s 210ms/step - loss: 0.3069 - acc: 0.8859 - val_loss: 0.5121 - val_acc: 0.8470\n",
            "Epoch 11: early stopping\n"
          ]
        }
      ]
    },
    {
      "cell_type": "code",
      "source": [
        "loaded_model = load_model('best_model.h5')\n",
        "print(\"\\n 테스트 정확도: %.4f\" % (loaded_model.evaluate(X_test, y_test)[1]))"
      ],
      "metadata": {
        "colab": {
          "base_uri": "https://localhost:8080/"
        },
        "id": "WOnq1Ow-hJuE",
        "outputId": "cb662526-6501-47fb-d2c9-0dd6a3ecade0"
      },
      "execution_count": 127,
      "outputs": [
        {
          "output_type": "stream",
          "name": "stdout",
          "text": [
            "14/14 [==============================] - 2s 72ms/step - loss: 0.4554 - acc: 0.8462\n",
            "\n",
            " 테스트 정확도: 0.8462\n"
          ]
        }
      ]
    },
    {
      "cell_type": "code",
      "source": [
        "X_train"
      ],
      "metadata": {
        "colab": {
          "base_uri": "https://localhost:8080/"
        },
        "id": "w4HkuF-I2V3x",
        "outputId": "8c3de3d2-5879-4f02-9413-5d478a9777a3"
      },
      "execution_count": 128,
      "outputs": [
        {
          "output_type": "execute_result",
          "data": {
            "text/plain": [
              "array([[  0,   0,   0, ...,   0,   0,   1],\n",
              "       [  0,   0,   0, ...,  87,  46, 198],\n",
              "       [  0,   0,   0, ...,   0,   0,   1],\n",
              "       ...,\n",
              "       [  0,   0,   0, ..., 247,  18,   1],\n",
              "       [  0,   0,   0, ...,  68, 142, 173],\n",
              "       [  0,   0,   0, ...,   1,  28,  36]], dtype=int32)"
            ]
          },
          "metadata": {},
          "execution_count": 128
        }
      ]
    },
    {
      "cell_type": "code",
      "source": [
        "y_pred = loaded_model.predict(X_test)"
      ],
      "metadata": {
        "colab": {
          "base_uri": "https://localhost:8080/"
        },
        "id": "MjtWToLRzah4",
        "outputId": "3a89ae20-e9db-4369-da6e-40e408d54beb"
      },
      "execution_count": 145,
      "outputs": [
        {
          "output_type": "stream",
          "name": "stdout",
          "text": [
            "14/14 [==============================] - 1s 35ms/step\n"
          ]
        }
      ]
    },
    {
      "cell_type": "code",
      "source": [
        "predictional = np.where(y_pred >= 0.5, 1, 0)"
      ],
      "metadata": {
        "id": "LthPdHK_7sjQ"
      },
      "execution_count": 147,
      "outputs": []
    },
    {
      "cell_type": "code",
      "source": [
        "confusion_matrix(y_test,predictional)"
      ],
      "metadata": {
        "colab": {
          "base_uri": "https://localhost:8080/"
        },
        "id": "OTLwmbMD7-bs",
        "outputId": "35e34eac-99c9-4c94-a2aa-f2e2703b42c3"
      },
      "execution_count": 148,
      "outputs": [
        {
          "output_type": "execute_result",
          "data": {
            "text/plain": [
              "array([[ 11,  65],\n",
              "       [  3, 363]])"
            ]
          },
          "metadata": {},
          "execution_count": 148
        }
      ]
    },
    {
      "cell_type": "code",
      "source": [
        "confu = confusion_matrix(y_test, predictional)\n",
        "\n",
        "plt.figure(figsize=(4, 3))\n",
        "sns.heatmap(confu, annot=True, annot_kws={'size':15}, cmap='OrRd', fmt='.10g')\n",
        "plt.title('Confusion Matrix')\n",
        "plt.show()\n"
      ],
      "metadata": {
        "colab": {
          "base_uri": "https://localhost:8080/",
          "height": 227
        },
        "id": "IYRiKEU37_4n",
        "outputId": "210ec7ac-2a93-45ee-d0b7-791b12d694a1"
      },
      "execution_count": 152,
      "outputs": [
        {
          "output_type": "display_data",
          "data": {
            "text/plain": [
              "<Figure size 288x216 with 2 Axes>"
            ],
            "image/png": "[encoded data removed]"
          },
          "metadata": {
            "needs_background": "light"
          }
        }
      ]
    },
    {
      "cell_type": "code",
      "source": [
        "predictional = np.where(y_pred >= 0.7, 1, 0)\n",
        "confu = confusion_matrix(y_test, predictional)\n",
        "\n",
        "plt.figure(figsize=(4, 3))\n",
        "sns.heatmap(confu, annot=True, annot_kws={'size':15}, cmap='OrRd', fmt='.10g')\n",
        "plt.title('Confusion Matrix')\n",
        "plt.show()"
      ],
      "metadata": {
        "colab": {
          "base_uri": "https://localhost:8080/",
          "height": 227
        },
        "id": "0cps4adD8eb5",
        "outputId": "df3f8e7e-b5e9-4e1f-8866-d7a87b98b2f6"
      },
      "execution_count": 153,
      "outputs": [
        {
          "output_type": "display_data",
          "data": {
            "text/plain": [
              "<Figure size 288x216 with 2 Axes>"
            ],
            "image/png": "[encoded data removed]"
          },
          "metadata": {
            "needs_background": "light"
          }
        }
      ]
    },
    {
      "cell_type": "code",
      "source": [
        "def sentiment_predict(new_sentence):\n",
        "  new_sentence = re.sub(r'[^ㄱ-ㅎㅏ-ㅣ가-힣 ]','', new_sentence)\n",
        "  new_sentence = okt.morphs(new_sentence, stem=True) # 토큰화\n",
        "  new_sentence = [word for word in new_sentence if not word in stopwords] # 불용어 제거\n",
        "  encoded = tokenizer.texts_to_sequences([new_sentence]) # 정수 인코딩\n",
        "  pad_new = pad_sequences(encoded, maxlen = max_len) # 패딩\n",
        "  score = float(loaded_model.predict(pad_new)) # 예측\n",
        "  if(score > 0.5):\n",
        "    print(\"{:.2f}% 확률로 별 5개 리뷰입니다.\\n\".format(score * 100))\n",
        "  else:\n",
        "    print(\"{:.2f}% 확률로 별 0~4개 리뷰입니다.\\n\".format((1 - score) * 100))"
      ],
      "metadata": {
        "id": "zTZytlbjhMHJ"
      },
      "execution_count": 137,
      "outputs": []
    },
    {
      "cell_type": "code",
      "source": [
        "sentiment_predict('뷰가 좋았는데 화장실에서 냄새가 심하게 나네요!!..')"
      ],
      "metadata": {
        "colab": {
          "base_uri": "https://localhost:8080/"
        },
        "id": "3TGNIXVshOXd",
        "outputId": "c9551f80-6d46-461b-ece5-5147206bf5cb"
      },
      "execution_count": 154,
      "outputs": [
        {
          "output_type": "stream",
          "name": "stdout",
          "text": [
            "1/1 [==============================] - 0s 37ms/step\n",
            "60.44% 확률로 별 5개 리뷰입니다.\n",
            "\n"
          ]
        }
      ]
    },
    {
      "cell_type": "code",
      "source": [
        "sentiment_predict('주위 환경이 매우 좋고 바깥 환경과 잘 어울어지는 배경입니다.')"
      ],
      "metadata": {
        "colab": {
          "base_uri": "https://localhost:8080/"
        },
        "id": "dEwVmVf7hXxq",
        "outputId": "06838288-72d2-41b9-8692-160aea1f80e5"
      },
      "execution_count": 139,
      "outputs": [
        {
          "output_type": "stream",
          "name": "stdout",
          "text": [
            "1/1 [==============================] - 0s 47ms/step\n",
            "96.54% 확률로 별 5개 리뷰입니다.\n",
            "\n"
          ]
        }
      ]
    },
    {
      "cell_type": "code",
      "source": [
        "sentiment_predict('냄새가 좀 나고, 침대가 삐걱거립니다..')"
      ],
      "metadata": {
        "colab": {
          "base_uri": "https://localhost:8080/"
        },
        "id": "tn4F_qKnh80J",
        "outputId": "3fd5061e-804f-4496-e202-21e49ed8f716"
      },
      "execution_count": 140,
      "outputs": [
        {
          "output_type": "stream",
          "name": "stdout",
          "text": [
            "1/1 [==============================] - 0s 46ms/step\n",
            "61.24% 확률로 별 0~4개 리뷰입니다.\n",
            "\n"
          ]
        }
      ]
    },
    {
      "cell_type": "code",
      "source": [
        "sentiment_predict('여길 왜온거지, 다신 안 올겁니다..')"
      ],
      "metadata": {
        "colab": {
          "base_uri": "https://localhost:8080/"
        },
        "id": "LW-h89Ts-mqC",
        "outputId": "e096e846-2595-4625-a3c1-2e3e6d48c38e"
      },
      "execution_count": 155,
      "outputs": [
        {
          "output_type": "stream",
          "name": "stdout",
          "text": [
            "1/1 [==============================] - 0s 30ms/step\n",
            "88.08% 확률로 별 5개 리뷰입니다.\n",
            "\n"
          ]
        }
      ]
    },
    {
      "cell_type": "code",
      "source": [
        "sentiment_predict('냄새나는 곳이고 오기 싫습니다 그래도 별점은 잘 줄게요..')"
      ],
      "metadata": {
        "colab": {
          "base_uri": "https://localhost:8080/"
        },
        "id": "52ORcCML_cyz",
        "outputId": "77ab9ed9-7036-4a85-d8fb-0daeb0f54d38"
      },
      "execution_count": 156,
      "outputs": [
        {
          "output_type": "stream",
          "name": "stdout",
          "text": [
            "1/1 [==============================] - 0s 30ms/step\n",
            "83.27% 확률로 별 5개 리뷰입니다.\n",
            "\n"
          ]
        }
      ]
    },
    {
      "cell_type": "code",
      "source": [
        "import plotly.io as pio\n",
        "import plotly.express as px\n",
        "import plotly.graph_objects as go\n",
        "import plotly.figure_factory as ff\n",
        "from plotly.subplots import make_subplots\n",
        "from plotly.validators.scatter.marker import SymbolValidator\n",
        "\n",
        "import numpy as np\n",
        "import pandas as pd"
      ],
      "metadata": {
        "id": "MYxcditx3FRA"
      },
      "execution_count": 109,
      "outputs": []
    }
  ]
}